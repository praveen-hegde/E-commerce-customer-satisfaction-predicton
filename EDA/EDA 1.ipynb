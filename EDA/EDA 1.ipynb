{
 "cells": [
  {
   "cell_type": "markdown",
   "metadata": {},
   "source": [
    "# CASE STUDY-1\n"
   ]
  },
  {
   "cell_type": "markdown",
   "metadata": {},
   "source": [
    "# 1. Introduction"
   ]
  },
  {
   "cell_type": "markdown",
   "metadata": {},
   "source": [
    "<h2> 1.1 Business Problem</h2>"
   ]
  },
  {
   "cell_type": "markdown",
   "metadata": {},
   "source": [
    "In the present system, the e-commerce platform will send a feedback mail to customers after the product is delivered. The customers can give ratings out of 5, also can write down some comments/reviews about the product that he/she has purchased. Using these reviews and ratings, e-commerce platform will rate the products, which helps other people to get the insights about the quality of the product. But according to seller perspective, these reviews will play crucial role to improve the business. But many times, customers would not give any ratings or reviews. How to predict the review score that a customer could give? This is the problem in e-commerce business. Also, the problem can be extended as “Is it possible to predict the review rating that a customer could give before actually he gives the rating?”. If this problem is solved, then it is also possible to predict the rating for which customer had not given any rating. In this case study, my objective is to try to solve this problem, that is Predicting the e-commerce customer satisfaction.\n",
    "\n",
    "\n",
    "For this case study, I have taken the dataset given by Olist, which is an e-commerce platform in Brazil. Olist connects small businesses all over Brazil to customers with a single contract. Olist has provided over 100k order information that were placed between 2016 to 2018. Similar to all other e-commerce platforms, Olist also send feedback form to customers after the estimated delivery date to get the reviews and ratings. Now, Olist wants to improve the business as well as provide the better service to customers by using the customer satisfaction information. For that it needs to predict the review ratings before the user will give actual ratings. So, my approach is to address this business problem using data science, which is a scientific way to solve this business problem."
   ]
  },
  {
   "cell_type": "markdown",
   "metadata": {},
   "source": [
    "<h2> 1.2 ML formulation of business problem:</h2>\n",
    "To solve the business problem using data science, it is needed to pose that problem as classical machine learning problem. First of all, since the data has target variable, it is supervised ML problem. Further we need to predict the satisfaction of customers, that is predicting the ratings. Ratings are discrete ranging from 1 to 5. Hence it is a multi-class classification problem. We have 5 class labels, So, we can treat the problem as 5-class classification ML problem.\n",
    "Our goal is to predict the rating before the user give the rating/review. Hence, we should not consider data regarding review message, comments, etc as features.\n",
    "\n",
    "\n",
    "<h2> 1.3 Business constraints:</h2>\n",
    "\n",
    "    - There is no strict low latency requirement. But model should not take too much time for predicting, Since we should get the prediction before the user give.\n",
    "    \n",
    "    - Low ratings like 1,2,3 are very important with respect to business improvement. So, misclassification of low ratings would cost loss of customers. Hence misclassifications are crucial.\n",
    "    \n",
    "    - Since low ratings are crucial, if we get the interpretations of the output, that will be better."
   ]
  },
  {
   "cell_type": "markdown",
   "metadata": {},
   "source": [
    "<h2> 1.4 Performance Metrics: (possible)</h2>\n",
    "\n",
    "- Multi-class confusion matrix\n",
    "- Micro F1 score\n",
    "- Precision Recall curve for each class\n",
    "- Multi-class log loss\n",
    "- Balanced accuracy score"
   ]
  },
  {
   "cell_type": "markdown",
   "metadata": {},
   "source": [
    "<h2> 1.5 Research-Papers/Solutions/Architectures/Kernels </h2>\n",
    "\n",
    "- Existing solution: https://www.kaggle.com/andresionek/predicting-customer-satisfaction\n",
    "- Repeat buyer prediction for e-commerce https://www.kdd.org/kdd2016/papers/files/adf0160-liuA.pdf\n",
    "- LightGBM Classifier: https://papers.nips.cc/paper/2017/file/6449f44a102fde848669bdd9eb6b76fa-Paper.pdf\n",
    "- SMOTE technique: https://arxiv.org/pdf/1106.1813.pdf\n",
    "- Blog on undersampling, oversampling, SMOTE, ensemble models: https://xang1234.github.io/louvain/\n",
    "- https://imbalanced-learn.org/stable/references/generated/imblearn.over_sampling.SMOTE.html\n",
    "- https://machinelearningmastery.com/random-oversampling-and-undersampling-for-imbalanced-classification/\n",
    "- https://towardsdatascience.com/using-data-science-to-predict-negative-customer-reviews-2abbdfbf3d82"
   ]
  },
  {
   "cell_type": "code",
   "execution_count": null,
   "metadata": {},
   "outputs": [],
   "source": []
  },
  {
   "cell_type": "markdown",
   "metadata": {},
   "source": [
    "<h1> 2. Exploratory Data Analysis</h1>"
   ]
  },
  {
   "cell_type": "code",
   "execution_count": 1,
   "metadata": {
    "id": "6REffGz68aeU"
   },
   "outputs": [],
   "source": [
    "import pandas as pd\n",
    "import numpy as np\n",
    "import matplotlib.pyplot as plt\n",
    "import seaborn as sns \n",
    "import plotly.express as px\n",
    "import folium\n",
    "\n",
    "import datetime"
   ]
  },
  {
   "cell_type": "markdown",
   "metadata": {},
   "source": [
    "<h2> 2.1 Loading the data files</h2>"
   ]
  },
  {
   "cell_type": "code",
   "execution_count": 2,
   "metadata": {
    "id": "QqCdQWOK8aeX"
   },
   "outputs": [],
   "source": [
    "#loading all csv files\n",
    "customer     = pd.read_csv(\"olist_customers_dataset.csv\")\n",
    "geo_location = pd.read_csv(\"olist_geolocation_dataset.csv\")\n",
    "items        = pd.read_csv(\"olist_order_items_dataset.csv\")\n",
    "payments     = pd.read_csv(\"olist_order_payments_dataset.csv\")\n",
    "reviews      = pd.read_csv(\"olist_order_reviews_dataset.csv\")\n",
    "orders       = pd.read_csv(\"olist_orders_dataset.csv\")\n",
    "products     = pd.read_csv(\"olist_products_dataset.csv\")\n",
    "sellers      = pd.read_csv(\"olist_sellers_dataset.csv\")\n",
    "translation  = pd.read_csv(\"product_category_name_translation.csv\")\n"
   ]
  },
  {
   "cell_type": "code",
   "execution_count": 3,
   "metadata": {},
   "outputs": [],
   "source": [
    "def overview(dataframe):\n",
    "    \"\"\"This function will return the overview of the dataframe\"\"\"\n",
    "    \n",
    "    print(\"Shape of the dataframe is : {}\".format(dataframe.shape))\n",
    "    print(\"**\"*30)\n",
    "    print(\"Information about features : \",dataframe.info())\n",
    "    print(\"**\"*30)\n",
    "    print(\"Total number of null values : \\n \",dataframe.isnull().sum())\n",
    "    print(\"**\"*30)\n",
    "    \n",
    "    return dataframe.head(3)"
   ]
  },
  {
   "cell_type": "markdown",
   "metadata": {},
   "source": [
    "## 2.2 Overview of all data"
   ]
  },
  {
   "cell_type": "code",
   "execution_count": 4,
   "metadata": {},
   "outputs": [
    {
     "name": "stdout",
     "output_type": "stream",
     "text": [
      "Shape of the dataframe is : (99441, 5)\n",
      "************************************************************\n",
      "<class 'pandas.core.frame.DataFrame'>\n",
      "RangeIndex: 99441 entries, 0 to 99440\n",
      "Data columns (total 5 columns):\n",
      " #   Column                    Non-Null Count  Dtype \n",
      "---  ------                    --------------  ----- \n",
      " 0   customer_id               99441 non-null  object\n",
      " 1   customer_unique_id        99441 non-null  object\n",
      " 2   customer_zip_code_prefix  99441 non-null  int64 \n",
      " 3   customer_city             99441 non-null  object\n",
      " 4   customer_state            99441 non-null  object\n",
      "dtypes: int64(1), object(4)\n",
      "memory usage: 3.8+ MB\n",
      "Information about features :  None\n",
      "************************************************************\n",
      "Total number of null values : \n",
      "  customer_id                 0\n",
      "customer_unique_id          0\n",
      "customer_zip_code_prefix    0\n",
      "customer_city               0\n",
      "customer_state              0\n",
      "dtype: int64\n",
      "************************************************************\n"
     ]
    },
    {
     "data": {
      "text/html": [
       "<div>\n",
       "<style scoped>\n",
       "    .dataframe tbody tr th:only-of-type {\n",
       "        vertical-align: middle;\n",
       "    }\n",
       "\n",
       "    .dataframe tbody tr th {\n",
       "        vertical-align: top;\n",
       "    }\n",
       "\n",
       "    .dataframe thead th {\n",
       "        text-align: right;\n",
       "    }\n",
       "</style>\n",
       "<table border=\"1\" class=\"dataframe\">\n",
       "  <thead>\n",
       "    <tr style=\"text-align: right;\">\n",
       "      <th></th>\n",
       "      <th>customer_id</th>\n",
       "      <th>customer_unique_id</th>\n",
       "      <th>customer_zip_code_prefix</th>\n",
       "      <th>customer_city</th>\n",
       "      <th>customer_state</th>\n",
       "    </tr>\n",
       "  </thead>\n",
       "  <tbody>\n",
       "    <tr>\n",
       "      <th>0</th>\n",
       "      <td>06b8999e2fba1a1fbc88172c00ba8bc7</td>\n",
       "      <td>861eff4711a542e4b93843c6dd7febb0</td>\n",
       "      <td>14409</td>\n",
       "      <td>franca</td>\n",
       "      <td>SP</td>\n",
       "    </tr>\n",
       "    <tr>\n",
       "      <th>1</th>\n",
       "      <td>18955e83d337fd6b2def6b18a428ac77</td>\n",
       "      <td>290c77bc529b7ac935b93aa66c333dc3</td>\n",
       "      <td>9790</td>\n",
       "      <td>sao bernardo do campo</td>\n",
       "      <td>SP</td>\n",
       "    </tr>\n",
       "    <tr>\n",
       "      <th>2</th>\n",
       "      <td>4e7b3e00288586ebd08712fdd0374a03</td>\n",
       "      <td>060e732b5b29e8181a18229c7b0b2b5e</td>\n",
       "      <td>1151</td>\n",
       "      <td>sao paulo</td>\n",
       "      <td>SP</td>\n",
       "    </tr>\n",
       "  </tbody>\n",
       "</table>\n",
       "</div>"
      ],
      "text/plain": [
       "                        customer_id                customer_unique_id  \\\n",
       "0  06b8999e2fba1a1fbc88172c00ba8bc7  861eff4711a542e4b93843c6dd7febb0   \n",
       "1  18955e83d337fd6b2def6b18a428ac77  290c77bc529b7ac935b93aa66c333dc3   \n",
       "2  4e7b3e00288586ebd08712fdd0374a03  060e732b5b29e8181a18229c7b0b2b5e   \n",
       "\n",
       "   customer_zip_code_prefix          customer_city customer_state  \n",
       "0                     14409                 franca             SP  \n",
       "1                      9790  sao bernardo do campo             SP  \n",
       "2                      1151              sao paulo             SP  "
      ]
     },
     "execution_count": 4,
     "metadata": {},
     "output_type": "execute_result"
    }
   ],
   "source": [
    "overview(customer)"
   ]
  },
  {
   "cell_type": "code",
   "execution_count": 5,
   "metadata": {},
   "outputs": [
    {
     "name": "stdout",
     "output_type": "stream",
     "text": [
      "Shape of the dataframe is : (1000163, 5)\n",
      "************************************************************\n",
      "<class 'pandas.core.frame.DataFrame'>\n",
      "RangeIndex: 1000163 entries, 0 to 1000162\n",
      "Data columns (total 5 columns):\n",
      " #   Column                       Non-Null Count    Dtype  \n",
      "---  ------                       --------------    -----  \n",
      " 0   geolocation_zip_code_prefix  1000163 non-null  int64  \n",
      " 1   geolocation_lat              1000163 non-null  float64\n",
      " 2   geolocation_lng              1000163 non-null  float64\n",
      " 3   geolocation_city             1000163 non-null  object \n",
      " 4   geolocation_state            1000163 non-null  object \n",
      "dtypes: float64(2), int64(1), object(2)\n",
      "memory usage: 38.2+ MB\n",
      "Information about features :  None\n",
      "************************************************************\n",
      "Total number of null values : \n",
      "  geolocation_zip_code_prefix    0\n",
      "geolocation_lat                0\n",
      "geolocation_lng                0\n",
      "geolocation_city               0\n",
      "geolocation_state              0\n",
      "dtype: int64\n",
      "************************************************************\n"
     ]
    },
    {
     "data": {
      "text/html": [
       "<div>\n",
       "<style scoped>\n",
       "    .dataframe tbody tr th:only-of-type {\n",
       "        vertical-align: middle;\n",
       "    }\n",
       "\n",
       "    .dataframe tbody tr th {\n",
       "        vertical-align: top;\n",
       "    }\n",
       "\n",
       "    .dataframe thead th {\n",
       "        text-align: right;\n",
       "    }\n",
       "</style>\n",
       "<table border=\"1\" class=\"dataframe\">\n",
       "  <thead>\n",
       "    <tr style=\"text-align: right;\">\n",
       "      <th></th>\n",
       "      <th>geolocation_zip_code_prefix</th>\n",
       "      <th>geolocation_lat</th>\n",
       "      <th>geolocation_lng</th>\n",
       "      <th>geolocation_city</th>\n",
       "      <th>geolocation_state</th>\n",
       "    </tr>\n",
       "  </thead>\n",
       "  <tbody>\n",
       "    <tr>\n",
       "      <th>0</th>\n",
       "      <td>1037</td>\n",
       "      <td>-23.545621</td>\n",
       "      <td>-46.639292</td>\n",
       "      <td>sao paulo</td>\n",
       "      <td>SP</td>\n",
       "    </tr>\n",
       "    <tr>\n",
       "      <th>1</th>\n",
       "      <td>1046</td>\n",
       "      <td>-23.546081</td>\n",
       "      <td>-46.644820</td>\n",
       "      <td>sao paulo</td>\n",
       "      <td>SP</td>\n",
       "    </tr>\n",
       "    <tr>\n",
       "      <th>2</th>\n",
       "      <td>1046</td>\n",
       "      <td>-23.546129</td>\n",
       "      <td>-46.642951</td>\n",
       "      <td>sao paulo</td>\n",
       "      <td>SP</td>\n",
       "    </tr>\n",
       "  </tbody>\n",
       "</table>\n",
       "</div>"
      ],
      "text/plain": [
       "   geolocation_zip_code_prefix  geolocation_lat  geolocation_lng  \\\n",
       "0                         1037       -23.545621       -46.639292   \n",
       "1                         1046       -23.546081       -46.644820   \n",
       "2                         1046       -23.546129       -46.642951   \n",
       "\n",
       "  geolocation_city geolocation_state  \n",
       "0        sao paulo                SP  \n",
       "1        sao paulo                SP  \n",
       "2        sao paulo                SP  "
      ]
     },
     "execution_count": 5,
     "metadata": {},
     "output_type": "execute_result"
    }
   ],
   "source": [
    "overview(geo_location)"
   ]
  },
  {
   "cell_type": "code",
   "execution_count": 6,
   "metadata": {},
   "outputs": [
    {
     "name": "stdout",
     "output_type": "stream",
     "text": [
      "Shape of the dataframe is : (112650, 7)\n",
      "************************************************************\n",
      "<class 'pandas.core.frame.DataFrame'>\n",
      "RangeIndex: 112650 entries, 0 to 112649\n",
      "Data columns (total 7 columns):\n",
      " #   Column               Non-Null Count   Dtype  \n",
      "---  ------               --------------   -----  \n",
      " 0   order_id             112650 non-null  object \n",
      " 1   order_item_id        112650 non-null  int64  \n",
      " 2   product_id           112650 non-null  object \n",
      " 3   seller_id            112650 non-null  object \n",
      " 4   shipping_limit_date  112650 non-null  object \n",
      " 5   price                112650 non-null  float64\n",
      " 6   freight_value        112650 non-null  float64\n",
      "dtypes: float64(2), int64(1), object(4)\n",
      "memory usage: 6.0+ MB\n",
      "Information about features :  None\n",
      "************************************************************\n",
      "Total number of null values : \n",
      "  order_id               0\n",
      "order_item_id          0\n",
      "product_id             0\n",
      "seller_id              0\n",
      "shipping_limit_date    0\n",
      "price                  0\n",
      "freight_value          0\n",
      "dtype: int64\n",
      "************************************************************\n"
     ]
    },
    {
     "data": {
      "text/html": [
       "<div>\n",
       "<style scoped>\n",
       "    .dataframe tbody tr th:only-of-type {\n",
       "        vertical-align: middle;\n",
       "    }\n",
       "\n",
       "    .dataframe tbody tr th {\n",
       "        vertical-align: top;\n",
       "    }\n",
       "\n",
       "    .dataframe thead th {\n",
       "        text-align: right;\n",
       "    }\n",
       "</style>\n",
       "<table border=\"1\" class=\"dataframe\">\n",
       "  <thead>\n",
       "    <tr style=\"text-align: right;\">\n",
       "      <th></th>\n",
       "      <th>order_id</th>\n",
       "      <th>order_item_id</th>\n",
       "      <th>product_id</th>\n",
       "      <th>seller_id</th>\n",
       "      <th>shipping_limit_date</th>\n",
       "      <th>price</th>\n",
       "      <th>freight_value</th>\n",
       "    </tr>\n",
       "  </thead>\n",
       "  <tbody>\n",
       "    <tr>\n",
       "      <th>0</th>\n",
       "      <td>00010242fe8c5a6d1ba2dd792cb16214</td>\n",
       "      <td>1</td>\n",
       "      <td>4244733e06e7ecb4970a6e2683c13e61</td>\n",
       "      <td>48436dade18ac8b2bce089ec2a041202</td>\n",
       "      <td>2017-09-19 09:45:35</td>\n",
       "      <td>58.9</td>\n",
       "      <td>13.29</td>\n",
       "    </tr>\n",
       "    <tr>\n",
       "      <th>1</th>\n",
       "      <td>00018f77f2f0320c557190d7a144bdd3</td>\n",
       "      <td>1</td>\n",
       "      <td>e5f2d52b802189ee658865ca93d83a8f</td>\n",
       "      <td>dd7ddc04e1b6c2c614352b383efe2d36</td>\n",
       "      <td>2017-05-03 11:05:13</td>\n",
       "      <td>239.9</td>\n",
       "      <td>19.93</td>\n",
       "    </tr>\n",
       "    <tr>\n",
       "      <th>2</th>\n",
       "      <td>000229ec398224ef6ca0657da4fc703e</td>\n",
       "      <td>1</td>\n",
       "      <td>c777355d18b72b67abbeef9df44fd0fd</td>\n",
       "      <td>5b51032eddd242adc84c38acab88f23d</td>\n",
       "      <td>2018-01-18 14:48:30</td>\n",
       "      <td>199.0</td>\n",
       "      <td>17.87</td>\n",
       "    </tr>\n",
       "  </tbody>\n",
       "</table>\n",
       "</div>"
      ],
      "text/plain": [
       "                           order_id  order_item_id  \\\n",
       "0  00010242fe8c5a6d1ba2dd792cb16214              1   \n",
       "1  00018f77f2f0320c557190d7a144bdd3              1   \n",
       "2  000229ec398224ef6ca0657da4fc703e              1   \n",
       "\n",
       "                         product_id                         seller_id  \\\n",
       "0  4244733e06e7ecb4970a6e2683c13e61  48436dade18ac8b2bce089ec2a041202   \n",
       "1  e5f2d52b802189ee658865ca93d83a8f  dd7ddc04e1b6c2c614352b383efe2d36   \n",
       "2  c777355d18b72b67abbeef9df44fd0fd  5b51032eddd242adc84c38acab88f23d   \n",
       "\n",
       "   shipping_limit_date  price  freight_value  \n",
       "0  2017-09-19 09:45:35   58.9          13.29  \n",
       "1  2017-05-03 11:05:13  239.9          19.93  \n",
       "2  2018-01-18 14:48:30  199.0          17.87  "
      ]
     },
     "execution_count": 6,
     "metadata": {},
     "output_type": "execute_result"
    }
   ],
   "source": [
    "overview(items)"
   ]
  },
  {
   "cell_type": "code",
   "execution_count": 7,
   "metadata": {},
   "outputs": [
    {
     "name": "stdout",
     "output_type": "stream",
     "text": [
      "Shape of the dataframe is : (103886, 5)\n",
      "************************************************************\n",
      "<class 'pandas.core.frame.DataFrame'>\n",
      "RangeIndex: 103886 entries, 0 to 103885\n",
      "Data columns (total 5 columns):\n",
      " #   Column                Non-Null Count   Dtype  \n",
      "---  ------                --------------   -----  \n",
      " 0   order_id              103886 non-null  object \n",
      " 1   payment_sequential    103886 non-null  int64  \n",
      " 2   payment_type          103886 non-null  object \n",
      " 3   payment_installments  103886 non-null  int64  \n",
      " 4   payment_value         103886 non-null  float64\n",
      "dtypes: float64(1), int64(2), object(2)\n",
      "memory usage: 4.0+ MB\n",
      "Information about features :  None\n",
      "************************************************************\n",
      "Total number of null values : \n",
      "  order_id                0\n",
      "payment_sequential      0\n",
      "payment_type            0\n",
      "payment_installments    0\n",
      "payment_value           0\n",
      "dtype: int64\n",
      "************************************************************\n"
     ]
    },
    {
     "data": {
      "text/html": [
       "<div>\n",
       "<style scoped>\n",
       "    .dataframe tbody tr th:only-of-type {\n",
       "        vertical-align: middle;\n",
       "    }\n",
       "\n",
       "    .dataframe tbody tr th {\n",
       "        vertical-align: top;\n",
       "    }\n",
       "\n",
       "    .dataframe thead th {\n",
       "        text-align: right;\n",
       "    }\n",
       "</style>\n",
       "<table border=\"1\" class=\"dataframe\">\n",
       "  <thead>\n",
       "    <tr style=\"text-align: right;\">\n",
       "      <th></th>\n",
       "      <th>order_id</th>\n",
       "      <th>payment_sequential</th>\n",
       "      <th>payment_type</th>\n",
       "      <th>payment_installments</th>\n",
       "      <th>payment_value</th>\n",
       "    </tr>\n",
       "  </thead>\n",
       "  <tbody>\n",
       "    <tr>\n",
       "      <th>0</th>\n",
       "      <td>b81ef226f3fe1789b1e8b2acac839d17</td>\n",
       "      <td>1</td>\n",
       "      <td>credit_card</td>\n",
       "      <td>8</td>\n",
       "      <td>99.33</td>\n",
       "    </tr>\n",
       "    <tr>\n",
       "      <th>1</th>\n",
       "      <td>a9810da82917af2d9aefd1278f1dcfa0</td>\n",
       "      <td>1</td>\n",
       "      <td>credit_card</td>\n",
       "      <td>1</td>\n",
       "      <td>24.39</td>\n",
       "    </tr>\n",
       "    <tr>\n",
       "      <th>2</th>\n",
       "      <td>25e8ea4e93396b6fa0d3dd708e76c1bd</td>\n",
       "      <td>1</td>\n",
       "      <td>credit_card</td>\n",
       "      <td>1</td>\n",
       "      <td>65.71</td>\n",
       "    </tr>\n",
       "  </tbody>\n",
       "</table>\n",
       "</div>"
      ],
      "text/plain": [
       "                           order_id  payment_sequential payment_type  \\\n",
       "0  b81ef226f3fe1789b1e8b2acac839d17                   1  credit_card   \n",
       "1  a9810da82917af2d9aefd1278f1dcfa0                   1  credit_card   \n",
       "2  25e8ea4e93396b6fa0d3dd708e76c1bd                   1  credit_card   \n",
       "\n",
       "   payment_installments  payment_value  \n",
       "0                     8          99.33  \n",
       "1                     1          24.39  \n",
       "2                     1          65.71  "
      ]
     },
     "execution_count": 7,
     "metadata": {},
     "output_type": "execute_result"
    }
   ],
   "source": [
    "overview(payments)"
   ]
  },
  {
   "cell_type": "code",
   "execution_count": 8,
   "metadata": {},
   "outputs": [
    {
     "name": "stdout",
     "output_type": "stream",
     "text": [
      "Shape of the dataframe is : (100000, 7)\n",
      "************************************************************\n",
      "<class 'pandas.core.frame.DataFrame'>\n",
      "RangeIndex: 100000 entries, 0 to 99999\n",
      "Data columns (total 7 columns):\n",
      " #   Column                   Non-Null Count   Dtype \n",
      "---  ------                   --------------   ----- \n",
      " 0   review_id                100000 non-null  object\n",
      " 1   order_id                 100000 non-null  object\n",
      " 2   review_score             100000 non-null  int64 \n",
      " 3   review_comment_title     11715 non-null   object\n",
      " 4   review_comment_message   41753 non-null   object\n",
      " 5   review_creation_date     100000 non-null  object\n",
      " 6   review_answer_timestamp  100000 non-null  object\n",
      "dtypes: int64(1), object(6)\n",
      "memory usage: 5.3+ MB\n",
      "Information about features :  None\n",
      "************************************************************\n",
      "Total number of null values : \n",
      "  review_id                      0\n",
      "order_id                       0\n",
      "review_score                   0\n",
      "review_comment_title       88285\n",
      "review_comment_message     58247\n",
      "review_creation_date           0\n",
      "review_answer_timestamp        0\n",
      "dtype: int64\n",
      "************************************************************\n"
     ]
    },
    {
     "data": {
      "text/html": [
       "<div>\n",
       "<style scoped>\n",
       "    .dataframe tbody tr th:only-of-type {\n",
       "        vertical-align: middle;\n",
       "    }\n",
       "\n",
       "    .dataframe tbody tr th {\n",
       "        vertical-align: top;\n",
       "    }\n",
       "\n",
       "    .dataframe thead th {\n",
       "        text-align: right;\n",
       "    }\n",
       "</style>\n",
       "<table border=\"1\" class=\"dataframe\">\n",
       "  <thead>\n",
       "    <tr style=\"text-align: right;\">\n",
       "      <th></th>\n",
       "      <th>review_id</th>\n",
       "      <th>order_id</th>\n",
       "      <th>review_score</th>\n",
       "      <th>review_comment_title</th>\n",
       "      <th>review_comment_message</th>\n",
       "      <th>review_creation_date</th>\n",
       "      <th>review_answer_timestamp</th>\n",
       "    </tr>\n",
       "  </thead>\n",
       "  <tbody>\n",
       "    <tr>\n",
       "      <th>0</th>\n",
       "      <td>7bc2406110b926393aa56f80a40eba40</td>\n",
       "      <td>73fc7af87114b39712e6da79b0a377eb</td>\n",
       "      <td>4</td>\n",
       "      <td>NaN</td>\n",
       "      <td>NaN</td>\n",
       "      <td>2018-01-18 00:00:00</td>\n",
       "      <td>2018-01-18 21:46:59</td>\n",
       "    </tr>\n",
       "    <tr>\n",
       "      <th>1</th>\n",
       "      <td>80e641a11e56f04c1ad469d5645fdfde</td>\n",
       "      <td>a548910a1c6147796b98fdf73dbeba33</td>\n",
       "      <td>5</td>\n",
       "      <td>NaN</td>\n",
       "      <td>NaN</td>\n",
       "      <td>2018-03-10 00:00:00</td>\n",
       "      <td>2018-03-11 03:05:13</td>\n",
       "    </tr>\n",
       "    <tr>\n",
       "      <th>2</th>\n",
       "      <td>228ce5500dc1d8e020d8d1322874b6f0</td>\n",
       "      <td>f9e4b658b201a9f2ecdecbb34bed034b</td>\n",
       "      <td>5</td>\n",
       "      <td>NaN</td>\n",
       "      <td>NaN</td>\n",
       "      <td>2018-02-17 00:00:00</td>\n",
       "      <td>2018-02-18 14:36:24</td>\n",
       "    </tr>\n",
       "  </tbody>\n",
       "</table>\n",
       "</div>"
      ],
      "text/plain": [
       "                          review_id                          order_id  \\\n",
       "0  7bc2406110b926393aa56f80a40eba40  73fc7af87114b39712e6da79b0a377eb   \n",
       "1  80e641a11e56f04c1ad469d5645fdfde  a548910a1c6147796b98fdf73dbeba33   \n",
       "2  228ce5500dc1d8e020d8d1322874b6f0  f9e4b658b201a9f2ecdecbb34bed034b   \n",
       "\n",
       "   review_score review_comment_title review_comment_message  \\\n",
       "0             4                  NaN                    NaN   \n",
       "1             5                  NaN                    NaN   \n",
       "2             5                  NaN                    NaN   \n",
       "\n",
       "  review_creation_date review_answer_timestamp  \n",
       "0  2018-01-18 00:00:00     2018-01-18 21:46:59  \n",
       "1  2018-03-10 00:00:00     2018-03-11 03:05:13  \n",
       "2  2018-02-17 00:00:00     2018-02-18 14:36:24  "
      ]
     },
     "execution_count": 8,
     "metadata": {},
     "output_type": "execute_result"
    }
   ],
   "source": [
    "overview(reviews)"
   ]
  },
  {
   "cell_type": "code",
   "execution_count": 9,
   "metadata": {},
   "outputs": [
    {
     "name": "stdout",
     "output_type": "stream",
     "text": [
      "Shape of the dataframe is : (99441, 8)\n",
      "************************************************************\n",
      "<class 'pandas.core.frame.DataFrame'>\n",
      "RangeIndex: 99441 entries, 0 to 99440\n",
      "Data columns (total 8 columns):\n",
      " #   Column                         Non-Null Count  Dtype \n",
      "---  ------                         --------------  ----- \n",
      " 0   order_id                       99441 non-null  object\n",
      " 1   customer_id                    99441 non-null  object\n",
      " 2   order_status                   99441 non-null  object\n",
      " 3   order_purchase_timestamp       99441 non-null  object\n",
      " 4   order_approved_at              99281 non-null  object\n",
      " 5   order_delivered_carrier_date   97658 non-null  object\n",
      " 6   order_delivered_customer_date  96476 non-null  object\n",
      " 7   order_estimated_delivery_date  99441 non-null  object\n",
      "dtypes: object(8)\n",
      "memory usage: 6.1+ MB\n",
      "Information about features :  None\n",
      "************************************************************\n",
      "Total number of null values : \n",
      "  order_id                            0\n",
      "customer_id                         0\n",
      "order_status                        0\n",
      "order_purchase_timestamp            0\n",
      "order_approved_at                 160\n",
      "order_delivered_carrier_date     1783\n",
      "order_delivered_customer_date    2965\n",
      "order_estimated_delivery_date       0\n",
      "dtype: int64\n",
      "************************************************************\n"
     ]
    },
    {
     "data": {
      "text/html": [
       "<div>\n",
       "<style scoped>\n",
       "    .dataframe tbody tr th:only-of-type {\n",
       "        vertical-align: middle;\n",
       "    }\n",
       "\n",
       "    .dataframe tbody tr th {\n",
       "        vertical-align: top;\n",
       "    }\n",
       "\n",
       "    .dataframe thead th {\n",
       "        text-align: right;\n",
       "    }\n",
       "</style>\n",
       "<table border=\"1\" class=\"dataframe\">\n",
       "  <thead>\n",
       "    <tr style=\"text-align: right;\">\n",
       "      <th></th>\n",
       "      <th>order_id</th>\n",
       "      <th>customer_id</th>\n",
       "      <th>order_status</th>\n",
       "      <th>order_purchase_timestamp</th>\n",
       "      <th>order_approved_at</th>\n",
       "      <th>order_delivered_carrier_date</th>\n",
       "      <th>order_delivered_customer_date</th>\n",
       "      <th>order_estimated_delivery_date</th>\n",
       "    </tr>\n",
       "  </thead>\n",
       "  <tbody>\n",
       "    <tr>\n",
       "      <th>0</th>\n",
       "      <td>e481f51cbdc54678b7cc49136f2d6af7</td>\n",
       "      <td>9ef432eb6251297304e76186b10a928d</td>\n",
       "      <td>delivered</td>\n",
       "      <td>2017-10-02 10:56:33</td>\n",
       "      <td>2017-10-02 11:07:15</td>\n",
       "      <td>2017-10-04 19:55:00</td>\n",
       "      <td>2017-10-10 21:25:13</td>\n",
       "      <td>2017-10-18 00:00:00</td>\n",
       "    </tr>\n",
       "    <tr>\n",
       "      <th>1</th>\n",
       "      <td>53cdb2fc8bc7dce0b6741e2150273451</td>\n",
       "      <td>b0830fb4747a6c6d20dea0b8c802d7ef</td>\n",
       "      <td>delivered</td>\n",
       "      <td>2018-07-24 20:41:37</td>\n",
       "      <td>2018-07-26 03:24:27</td>\n",
       "      <td>2018-07-26 14:31:00</td>\n",
       "      <td>2018-08-07 15:27:45</td>\n",
       "      <td>2018-08-13 00:00:00</td>\n",
       "    </tr>\n",
       "    <tr>\n",
       "      <th>2</th>\n",
       "      <td>47770eb9100c2d0c44946d9cf07ec65d</td>\n",
       "      <td>41ce2a54c0b03bf3443c3d931a367089</td>\n",
       "      <td>delivered</td>\n",
       "      <td>2018-08-08 08:38:49</td>\n",
       "      <td>2018-08-08 08:55:23</td>\n",
       "      <td>2018-08-08 13:50:00</td>\n",
       "      <td>2018-08-17 18:06:29</td>\n",
       "      <td>2018-09-04 00:00:00</td>\n",
       "    </tr>\n",
       "  </tbody>\n",
       "</table>\n",
       "</div>"
      ],
      "text/plain": [
       "                           order_id                       customer_id  \\\n",
       "0  e481f51cbdc54678b7cc49136f2d6af7  9ef432eb6251297304e76186b10a928d   \n",
       "1  53cdb2fc8bc7dce0b6741e2150273451  b0830fb4747a6c6d20dea0b8c802d7ef   \n",
       "2  47770eb9100c2d0c44946d9cf07ec65d  41ce2a54c0b03bf3443c3d931a367089   \n",
       "\n",
       "  order_status order_purchase_timestamp    order_approved_at  \\\n",
       "0    delivered      2017-10-02 10:56:33  2017-10-02 11:07:15   \n",
       "1    delivered      2018-07-24 20:41:37  2018-07-26 03:24:27   \n",
       "2    delivered      2018-08-08 08:38:49  2018-08-08 08:55:23   \n",
       "\n",
       "  order_delivered_carrier_date order_delivered_customer_date  \\\n",
       "0          2017-10-04 19:55:00           2017-10-10 21:25:13   \n",
       "1          2018-07-26 14:31:00           2018-08-07 15:27:45   \n",
       "2          2018-08-08 13:50:00           2018-08-17 18:06:29   \n",
       "\n",
       "  order_estimated_delivery_date  \n",
       "0           2017-10-18 00:00:00  \n",
       "1           2018-08-13 00:00:00  \n",
       "2           2018-09-04 00:00:00  "
      ]
     },
     "execution_count": 9,
     "metadata": {},
     "output_type": "execute_result"
    }
   ],
   "source": [
    "overview(orders)"
   ]
  },
  {
   "cell_type": "code",
   "execution_count": 10,
   "metadata": {},
   "outputs": [
    {
     "name": "stdout",
     "output_type": "stream",
     "text": [
      "Shape of the dataframe is : (32951, 9)\n",
      "************************************************************\n",
      "<class 'pandas.core.frame.DataFrame'>\n",
      "RangeIndex: 32951 entries, 0 to 32950\n",
      "Data columns (total 9 columns):\n",
      " #   Column                      Non-Null Count  Dtype  \n",
      "---  ------                      --------------  -----  \n",
      " 0   product_id                  32951 non-null  object \n",
      " 1   product_category_name       32341 non-null  object \n",
      " 2   product_name_lenght         32341 non-null  float64\n",
      " 3   product_description_lenght  32341 non-null  float64\n",
      " 4   product_photos_qty          32341 non-null  float64\n",
      " 5   product_weight_g            32949 non-null  float64\n",
      " 6   product_length_cm           32949 non-null  float64\n",
      " 7   product_height_cm           32949 non-null  float64\n",
      " 8   product_width_cm            32949 non-null  float64\n",
      "dtypes: float64(7), object(2)\n",
      "memory usage: 2.3+ MB\n",
      "Information about features :  None\n",
      "************************************************************\n",
      "Total number of null values : \n",
      "  product_id                      0\n",
      "product_category_name         610\n",
      "product_name_lenght           610\n",
      "product_description_lenght    610\n",
      "product_photos_qty            610\n",
      "product_weight_g                2\n",
      "product_length_cm               2\n",
      "product_height_cm               2\n",
      "product_width_cm                2\n",
      "dtype: int64\n",
      "************************************************************\n"
     ]
    },
    {
     "data": {
      "text/html": [
       "<div>\n",
       "<style scoped>\n",
       "    .dataframe tbody tr th:only-of-type {\n",
       "        vertical-align: middle;\n",
       "    }\n",
       "\n",
       "    .dataframe tbody tr th {\n",
       "        vertical-align: top;\n",
       "    }\n",
       "\n",
       "    .dataframe thead th {\n",
       "        text-align: right;\n",
       "    }\n",
       "</style>\n",
       "<table border=\"1\" class=\"dataframe\">\n",
       "  <thead>\n",
       "    <tr style=\"text-align: right;\">\n",
       "      <th></th>\n",
       "      <th>product_id</th>\n",
       "      <th>product_category_name</th>\n",
       "      <th>product_name_lenght</th>\n",
       "      <th>product_description_lenght</th>\n",
       "      <th>product_photos_qty</th>\n",
       "      <th>product_weight_g</th>\n",
       "      <th>product_length_cm</th>\n",
       "      <th>product_height_cm</th>\n",
       "      <th>product_width_cm</th>\n",
       "    </tr>\n",
       "  </thead>\n",
       "  <tbody>\n",
       "    <tr>\n",
       "      <th>0</th>\n",
       "      <td>1e9e8ef04dbcff4541ed26657ea517e5</td>\n",
       "      <td>perfumaria</td>\n",
       "      <td>40.0</td>\n",
       "      <td>287.0</td>\n",
       "      <td>1.0</td>\n",
       "      <td>225.0</td>\n",
       "      <td>16.0</td>\n",
       "      <td>10.0</td>\n",
       "      <td>14.0</td>\n",
       "    </tr>\n",
       "    <tr>\n",
       "      <th>1</th>\n",
       "      <td>3aa071139cb16b67ca9e5dea641aaa2f</td>\n",
       "      <td>artes</td>\n",
       "      <td>44.0</td>\n",
       "      <td>276.0</td>\n",
       "      <td>1.0</td>\n",
       "      <td>1000.0</td>\n",
       "      <td>30.0</td>\n",
       "      <td>18.0</td>\n",
       "      <td>20.0</td>\n",
       "    </tr>\n",
       "    <tr>\n",
       "      <th>2</th>\n",
       "      <td>96bd76ec8810374ed1b65e291975717f</td>\n",
       "      <td>esporte_lazer</td>\n",
       "      <td>46.0</td>\n",
       "      <td>250.0</td>\n",
       "      <td>1.0</td>\n",
       "      <td>154.0</td>\n",
       "      <td>18.0</td>\n",
       "      <td>9.0</td>\n",
       "      <td>15.0</td>\n",
       "    </tr>\n",
       "  </tbody>\n",
       "</table>\n",
       "</div>"
      ],
      "text/plain": [
       "                         product_id product_category_name  \\\n",
       "0  1e9e8ef04dbcff4541ed26657ea517e5            perfumaria   \n",
       "1  3aa071139cb16b67ca9e5dea641aaa2f                 artes   \n",
       "2  96bd76ec8810374ed1b65e291975717f         esporte_lazer   \n",
       "\n",
       "   product_name_lenght  product_description_lenght  product_photos_qty  \\\n",
       "0                 40.0                       287.0                 1.0   \n",
       "1                 44.0                       276.0                 1.0   \n",
       "2                 46.0                       250.0                 1.0   \n",
       "\n",
       "   product_weight_g  product_length_cm  product_height_cm  product_width_cm  \n",
       "0             225.0               16.0               10.0              14.0  \n",
       "1            1000.0               30.0               18.0              20.0  \n",
       "2             154.0               18.0                9.0              15.0  "
      ]
     },
     "execution_count": 10,
     "metadata": {},
     "output_type": "execute_result"
    }
   ],
   "source": [
    "overview(products)"
   ]
  },
  {
   "cell_type": "code",
   "execution_count": 11,
   "metadata": {},
   "outputs": [
    {
     "name": "stdout",
     "output_type": "stream",
     "text": [
      "Shape of the dataframe is : (3095, 4)\n",
      "************************************************************\n",
      "<class 'pandas.core.frame.DataFrame'>\n",
      "RangeIndex: 3095 entries, 0 to 3094\n",
      "Data columns (total 4 columns):\n",
      " #   Column                  Non-Null Count  Dtype \n",
      "---  ------                  --------------  ----- \n",
      " 0   seller_id               3095 non-null   object\n",
      " 1   seller_zip_code_prefix  3095 non-null   int64 \n",
      " 2   seller_city             3095 non-null   object\n",
      " 3   seller_state            3095 non-null   object\n",
      "dtypes: int64(1), object(3)\n",
      "memory usage: 96.8+ KB\n",
      "Information about features :  None\n",
      "************************************************************\n",
      "Total number of null values : \n",
      "  seller_id                 0\n",
      "seller_zip_code_prefix    0\n",
      "seller_city               0\n",
      "seller_state              0\n",
      "dtype: int64\n",
      "************************************************************\n"
     ]
    },
    {
     "data": {
      "text/html": [
       "<div>\n",
       "<style scoped>\n",
       "    .dataframe tbody tr th:only-of-type {\n",
       "        vertical-align: middle;\n",
       "    }\n",
       "\n",
       "    .dataframe tbody tr th {\n",
       "        vertical-align: top;\n",
       "    }\n",
       "\n",
       "    .dataframe thead th {\n",
       "        text-align: right;\n",
       "    }\n",
       "</style>\n",
       "<table border=\"1\" class=\"dataframe\">\n",
       "  <thead>\n",
       "    <tr style=\"text-align: right;\">\n",
       "      <th></th>\n",
       "      <th>seller_id</th>\n",
       "      <th>seller_zip_code_prefix</th>\n",
       "      <th>seller_city</th>\n",
       "      <th>seller_state</th>\n",
       "    </tr>\n",
       "  </thead>\n",
       "  <tbody>\n",
       "    <tr>\n",
       "      <th>0</th>\n",
       "      <td>3442f8959a84dea7ee197c632cb2df15</td>\n",
       "      <td>13023</td>\n",
       "      <td>campinas</td>\n",
       "      <td>SP</td>\n",
       "    </tr>\n",
       "    <tr>\n",
       "      <th>1</th>\n",
       "      <td>d1b65fc7debc3361ea86b5f14c68d2e2</td>\n",
       "      <td>13844</td>\n",
       "      <td>mogi guacu</td>\n",
       "      <td>SP</td>\n",
       "    </tr>\n",
       "    <tr>\n",
       "      <th>2</th>\n",
       "      <td>ce3ad9de960102d0677a81f5d0bb7b2d</td>\n",
       "      <td>20031</td>\n",
       "      <td>rio de janeiro</td>\n",
       "      <td>RJ</td>\n",
       "    </tr>\n",
       "  </tbody>\n",
       "</table>\n",
       "</div>"
      ],
      "text/plain": [
       "                          seller_id  seller_zip_code_prefix     seller_city  \\\n",
       "0  3442f8959a84dea7ee197c632cb2df15                   13023        campinas   \n",
       "1  d1b65fc7debc3361ea86b5f14c68d2e2                   13844      mogi guacu   \n",
       "2  ce3ad9de960102d0677a81f5d0bb7b2d                   20031  rio de janeiro   \n",
       "\n",
       "  seller_state  \n",
       "0           SP  \n",
       "1           SP  \n",
       "2           RJ  "
      ]
     },
     "execution_count": 11,
     "metadata": {},
     "output_type": "execute_result"
    }
   ],
   "source": [
    "overview(sellers)"
   ]
  },
  {
   "cell_type": "code",
   "execution_count": 12,
   "metadata": {},
   "outputs": [
    {
     "name": "stdout",
     "output_type": "stream",
     "text": [
      "Shape of the dataframe is : (71, 2)\n",
      "************************************************************\n",
      "<class 'pandas.core.frame.DataFrame'>\n",
      "RangeIndex: 71 entries, 0 to 70\n",
      "Data columns (total 2 columns):\n",
      " #   Column                         Non-Null Count  Dtype \n",
      "---  ------                         --------------  ----- \n",
      " 0   product_category_name          71 non-null     object\n",
      " 1   product_category_name_english  71 non-null     object\n",
      "dtypes: object(2)\n",
      "memory usage: 1.2+ KB\n",
      "Information about features :  None\n",
      "************************************************************\n",
      "Total number of null values : \n",
      "  product_category_name            0\n",
      "product_category_name_english    0\n",
      "dtype: int64\n",
      "************************************************************\n"
     ]
    },
    {
     "data": {
      "text/html": [
       "<div>\n",
       "<style scoped>\n",
       "    .dataframe tbody tr th:only-of-type {\n",
       "        vertical-align: middle;\n",
       "    }\n",
       "\n",
       "    .dataframe tbody tr th {\n",
       "        vertical-align: top;\n",
       "    }\n",
       "\n",
       "    .dataframe thead th {\n",
       "        text-align: right;\n",
       "    }\n",
       "</style>\n",
       "<table border=\"1\" class=\"dataframe\">\n",
       "  <thead>\n",
       "    <tr style=\"text-align: right;\">\n",
       "      <th></th>\n",
       "      <th>product_category_name</th>\n",
       "      <th>product_category_name_english</th>\n",
       "    </tr>\n",
       "  </thead>\n",
       "  <tbody>\n",
       "    <tr>\n",
       "      <th>0</th>\n",
       "      <td>beleza_saude</td>\n",
       "      <td>health_beauty</td>\n",
       "    </tr>\n",
       "    <tr>\n",
       "      <th>1</th>\n",
       "      <td>informatica_acessorios</td>\n",
       "      <td>computers_accessories</td>\n",
       "    </tr>\n",
       "    <tr>\n",
       "      <th>2</th>\n",
       "      <td>automotivo</td>\n",
       "      <td>auto</td>\n",
       "    </tr>\n",
       "  </tbody>\n",
       "</table>\n",
       "</div>"
      ],
      "text/plain": [
       "    product_category_name product_category_name_english\n",
       "0            beleza_saude                 health_beauty\n",
       "1  informatica_acessorios         computers_accessories\n",
       "2              automotivo                          auto"
      ]
     },
     "execution_count": 12,
     "metadata": {},
     "output_type": "execute_result"
    }
   ],
   "source": [
    "overview(translation)"
   ]
  },
  {
   "cell_type": "markdown",
   "metadata": {},
   "source": [
    "### Observations:\n",
    "    * There are null values present in reviews data, orders data, product data. Rest of the dataframes do not have any null values.\n",
    "    * Translation data has the product category names in english, i.e. english version of product categories. So we can use this to get the product category names in english. \n",
    "    * geo_location data has 1000163 data points, which seems very large compare to the data points of other dataframes. There is possibility of duplicate points present in geo_locations.\n",
    "    * To get the complete informations, we need to merge these sub dataframes to get single dataframe. Merging should be done according to the data schema that is given below.\n",
    "    "
   ]
  },
  {
   "cell_type": "markdown",
   "metadata": {
    "id": "u_aJ5D608aef"
   },
   "source": [
    "## 2.3 Merge the dataframes"
   ]
  },
  {
   "attachments": {
    "image.png": {
     "image/png": "[encoded data removed]"
    }
   },
   "cell_type": "markdown",
   "metadata": {
    "id": "1S_0PYTi8aeg"
   },
   "source": [
    "### Data schema\n",
    "![image.png](attachment:image.png)"
   ]
  },
  {
   "cell_type": "code",
   "execution_count": 13,
   "metadata": {},
   "outputs": [],
   "source": [
    "#zip_code_prefix column has different names in customer,geo_location,sellers dataframes\n",
    "#Change these names to zip_code_prefix\n",
    "\n",
    "customer.rename(columns = {\"customer_zip_code_prefix\":\"zip_code_prefix\"},inplace=True)\n",
    "geo_location.rename(columns = {\"geolocation_zip_code_prefix\":\"zip_code_prefix\"},inplace=True)\n",
    "sellers.rename(columns = {\"seller_zip_code_prefix\":\"zip_code_prefix\"},inplace=True)"
   ]
  },
  {
   "cell_type": "code",
   "execution_count": 14,
   "metadata": {},
   "outputs": [
    {
     "name": "stdout",
     "output_type": "stream",
     "text": [
      "Number of rows before dropping duplicates in geo_location :  1000163\n",
      "Number of rows after dropping duplicates in geo_locations :  19015\n"
     ]
    }
   ],
   "source": [
    "#drop the duplicate values in geo_location (zip_code_prefix)\n",
    "\n",
    "print(\"Number of rows before dropping duplicates in geo_location : \",geo_location.shape[0])\n",
    "geo_location.drop_duplicates(subset=\"zip_code_prefix\",keep=\"first\",inplace=True)\n",
    "print(\"Number of rows after dropping duplicates in geo_locations : \",geo_location.shape[0])"
   ]
  },
  {
   "cell_type": "code",
   "execution_count": null,
   "metadata": {},
   "outputs": [],
   "source": []
  },
  {
   "cell_type": "code",
   "execution_count": 15,
   "metadata": {},
   "outputs": [],
   "source": [
    "#customer merging with geo_location (left join to preserve customer info)\n",
    "geo_customer     = pd.merge(customer,geo_location,how=\"left\",on=\"zip_code_prefix\")\n",
    "\n",
    "#sellers merging with geo_locations (left join to preserve sellers info)\n",
    "geo_seller       = pd.merge(sellers,geo_location,how=\"left\",on=\"zip_code_prefix\")\n",
    "\n",
    "#payment merging with order\n",
    "payment_order    = pd.merge(payments,orders,on=\"order_id\")\n",
    "\n",
    "#product merging with item\n",
    "product_item     = pd.merge(products,items,on=\"product_id\")\n",
    "\n",
    "#payment_order merging with reviews\n",
    "pay_order_review = pd.merge(payment_order,reviews,on=\"order_id\")\n",
    "\n",
    "#pay_order_review merging with geo_customer\n",
    "review_customer  = pd.merge(pay_order_review,geo_customer,on=\"customer_id\")\n",
    "\n",
    "#prod_item merging with geo_seller\n",
    "prod_item_seller = pd.merge(product_item,geo_seller,on=\"seller_id\")\n",
    "\n",
    "#Finally review_customer with prod_item_seller\n",
    "data             = pd.merge(review_customer,prod_item_seller,on=\"order_id\",suffixes=(\"_customer\",\"_seller\"))"
   ]
  },
  {
   "cell_type": "code",
   "execution_count": 16,
   "metadata": {
    "id": "trj3oUqh8aeh",
    "outputId": "76c66330-d058-4176-bc11-a153fe155086"
   },
   "outputs": [
    {
     "name": "stdout",
     "output_type": "stream",
     "text": [
      "Shape of the final dataframe (data) is :  (118315, 47)\n"
     ]
    }
   ],
   "source": [
    "print(\"Shape of the final dataframe (data) is : \",data.shape)"
   ]
  },
  {
   "cell_type": "code",
   "execution_count": null,
   "metadata": {},
   "outputs": [],
   "source": [
    "num_tot_rows = data.shape[0]"
   ]
  },
  {
   "cell_type": "markdown",
   "metadata": {},
   "source": [
    "<h2> 2.4 Data Cleaning </h2>"
   ]
  },
  {
   "cell_type": "code",
   "execution_count": 17,
   "metadata": {},
   "outputs": [
    {
     "name": "stdout",
     "output_type": "stream",
     "text": [
      "All the column names in the data : \n",
      " Index(['order_id', 'payment_sequential', 'payment_type',\n",
      "       'payment_installments', 'payment_value', 'customer_id', 'order_status',\n",
      "       'order_purchase_timestamp', 'order_approved_at',\n",
      "       'order_delivered_carrier_date', 'order_delivered_customer_date',\n",
      "       'order_estimated_delivery_date', 'review_id', 'review_score',\n",
      "       'review_comment_title', 'review_comment_message',\n",
      "       'review_creation_date', 'review_answer_timestamp', 'customer_unique_id',\n",
      "       'zip_code_prefix_customer', 'customer_city', 'customer_state',\n",
      "       'geolocation_lat_customer', 'geolocation_lng_customer',\n",
      "       'geolocation_city_customer', 'geolocation_state_customer', 'product_id',\n",
      "       'product_category_name', 'product_name_lenght',\n",
      "       'product_description_lenght', 'product_photos_qty', 'product_weight_g',\n",
      "       'product_length_cm', 'product_height_cm', 'product_width_cm',\n",
      "       'order_item_id', 'seller_id', 'shipping_limit_date', 'price',\n",
      "       'freight_value', 'zip_code_prefix_seller', 'seller_city',\n",
      "       'seller_state', 'geolocation_lat_seller', 'geolocation_lng_seller',\n",
      "       'geolocation_city_seller', 'geolocation_state_seller'],\n",
      "      dtype='object')\n"
     ]
    }
   ],
   "source": [
    "print(\"All the column names in the data : \\n\",data.columns)"
   ]
  },
  {
   "cell_type": "markdown",
   "metadata": {},
   "source": [
    "<b> We should only use the informations which are upto the product delivery. We don't use the review text, comment,review creation date like features for the prediction. Hence it is better to drop these columns now.</b>"
   ]
  },
  {
   "cell_type": "code",
   "execution_count": 18,
   "metadata": {},
   "outputs": [],
   "source": [
    "data.drop(['review_id','review_comment_title', 'review_comment_message',\n",
    "          'review_creation_date','review_answer_timestamp'],axis=1,inplace=True)"
   ]
  },
  {
   "cell_type": "code",
   "execution_count": 19,
   "metadata": {},
   "outputs": [
    {
     "data": {
      "text/plain": [
       "order_id                            0\n",
       "payment_sequential                  0\n",
       "payment_type                        0\n",
       "payment_installments                0\n",
       "payment_value                       0\n",
       "customer_id                         0\n",
       "order_status                        0\n",
       "order_purchase_timestamp            0\n",
       "order_approved_at                  15\n",
       "order_delivered_carrier_date     1254\n",
       "order_delivered_customer_date    2588\n",
       "order_estimated_delivery_date       0\n",
       "review_score                        0\n",
       "customer_unique_id                  0\n",
       "zip_code_prefix_customer            0\n",
       "customer_city                       0\n",
       "customer_state                      0\n",
       "geolocation_lat_customer          317\n",
       "geolocation_lng_customer          317\n",
       "geolocation_city_customer         317\n",
       "geolocation_state_customer        317\n",
       "product_id                          0\n",
       "product_category_name            1709\n",
       "product_name_lenght              1709\n",
       "product_description_lenght       1709\n",
       "product_photos_qty               1709\n",
       "product_weight_g                   20\n",
       "product_length_cm                  20\n",
       "product_height_cm                  20\n",
       "product_width_cm                   20\n",
       "order_item_id                       0\n",
       "seller_id                           0\n",
       "shipping_limit_date                 0\n",
       "price                               0\n",
       "freight_value                       0\n",
       "zip_code_prefix_seller              0\n",
       "seller_city                         0\n",
       "seller_state                        0\n",
       "geolocation_lat_seller            265\n",
       "geolocation_lng_seller            265\n",
       "geolocation_city_seller           265\n",
       "geolocation_state_seller          265\n",
       "dtype: int64"
      ]
     },
     "execution_count": 19,
     "metadata": {},
     "output_type": "execute_result"
    }
   ],
   "source": [
    "#Checking for nul values\n",
    "data.isnull().sum()"
   ]
  },
  {
   "cell_type": "code",
   "execution_count": 20,
   "metadata": {},
   "outputs": [
    {
     "data": {
      "text/plain": [
       "delivered      115728\n",
       "shipped          1255\n",
       "canceled          570\n",
       "invoiced          376\n",
       "processing        376\n",
       "unavailable         7\n",
       "approved            3\n",
       "Name: order_status, dtype: int64"
      ]
     },
     "execution_count": 20,
     "metadata": {},
     "output_type": "execute_result"
    }
   ],
   "source": [
    "data[\"order_status\"].value_counts()"
   ]
  },
  {
   "cell_type": "code",
   "execution_count": 21,
   "metadata": {},
   "outputs": [
    {
     "name": "stdout",
     "output_type": "stream",
     "text": [
      "Total number of orders which are not delivered :  2587\n",
      "percentage of orders which are not delivered :  2.187 %\n"
     ]
    }
   ],
   "source": [
    "not_delivered = data[data[\"order_status\"]!=\"delivered\"][\"order_status\"].value_counts().sum()\n",
    "\n",
    "print(\"Total number of orders which are not delivered : \",not_delivered)\n",
    "print(\"percentage of orders which are not delivered : \", (not_delivered*100/data.shape[0]).round(3),\"%\")"
   ]
  },
  {
   "cell_type": "code",
   "execution_count": 22,
   "metadata": {},
   "outputs": [],
   "source": [
    "#We are interested in products that are delivered.\n",
    "#We don't need the products which are not delivered yet/ cancelled. hence let's consider only delivered orders.\n",
    "# Also there are only 2.2% of data which are not delivered. \n",
    "\n",
    "data = data[data[\"order_status\"]==\"delivered\"]"
   ]
  },
  {
   "cell_type": "code",
   "execution_count": 23,
   "metadata": {},
   "outputs": [],
   "source": [
    "#Since we cannot impute datetime, lets drop the rows which has null values in order_approved_at,order_delivered_carrier_date,order_delivered_customer_date\n",
    "#These columns has very little number of null values. \n",
    "data.dropna(subset=[\"order_approved_at\",\"order_delivered_carrier_date\",\"order_delivered_customer_date\"],axis=0,inplace=True)"
   ]
  },
  {
   "cell_type": "code",
   "execution_count": 24,
   "metadata": {},
   "outputs": [
    {
     "data": {
      "text/plain": [
       "order_id                            0\n",
       "payment_sequential                  0\n",
       "payment_type                        0\n",
       "payment_installments                0\n",
       "payment_value                       0\n",
       "customer_id                         0\n",
       "order_status                        0\n",
       "order_purchase_timestamp            0\n",
       "order_approved_at                   0\n",
       "order_delivered_carrier_date        0\n",
       "order_delivered_customer_date       0\n",
       "order_estimated_delivery_date       0\n",
       "review_score                        0\n",
       "customer_unique_id                  0\n",
       "zip_code_prefix_customer            0\n",
       "customer_city                       0\n",
       "customer_state                      0\n",
       "geolocation_lat_customer          303\n",
       "geolocation_lng_customer          303\n",
       "geolocation_city_customer         303\n",
       "geolocation_state_customer        303\n",
       "product_id                          0\n",
       "product_category_name            1637\n",
       "product_name_lenght              1637\n",
       "product_description_lenght       1637\n",
       "product_photos_qty               1637\n",
       "product_weight_g                   20\n",
       "product_length_cm                  20\n",
       "product_height_cm                  20\n",
       "product_width_cm                   20\n",
       "order_item_id                       0\n",
       "seller_id                           0\n",
       "shipping_limit_date                 0\n",
       "price                               0\n",
       "freight_value                       0\n",
       "zip_code_prefix_seller              0\n",
       "seller_city                         0\n",
       "seller_state                        0\n",
       "geolocation_lat_seller            261\n",
       "geolocation_lng_seller            261\n",
       "geolocation_city_seller           261\n",
       "geolocation_state_seller          261\n",
       "dtype: int64"
      ]
     },
     "execution_count": 24,
     "metadata": {},
     "output_type": "execute_result"
    }
   ],
   "source": [
    "data.isnull().sum()"
   ]
  },
  {
   "cell_type": "code",
   "execution_count": null,
   "metadata": {},
   "outputs": [],
   "source": []
  },
  {
   "cell_type": "markdown",
   "metadata": {},
   "source": [
    "There are 261 rows in which seller location informations are null. Similarly 303 rows in which customer locatons are null. <br>\n",
    "We cannot impute these values, also these numbers are small, Hence we can drop these."
   ]
  },
  {
   "cell_type": "code",
   "execution_count": 25,
   "metadata": {},
   "outputs": [],
   "source": [
    "data.dropna(subset=[\"geolocation_lng_seller\",\"geolocation_state_customer\"],axis=0,inplace=True)"
   ]
  },
  {
   "cell_type": "code",
   "execution_count": 26,
   "metadata": {
    "scrolled": false
   },
   "outputs": [
    {
     "data": {
      "text/plain": [
       "order_id                            0\n",
       "payment_sequential                  0\n",
       "payment_type                        0\n",
       "payment_installments                0\n",
       "payment_value                       0\n",
       "customer_id                         0\n",
       "order_status                        0\n",
       "order_purchase_timestamp            0\n",
       "order_approved_at                   0\n",
       "order_delivered_carrier_date        0\n",
       "order_delivered_customer_date       0\n",
       "order_estimated_delivery_date       0\n",
       "review_score                        0\n",
       "customer_unique_id                  0\n",
       "zip_code_prefix_customer            0\n",
       "customer_city                       0\n",
       "customer_state                      0\n",
       "geolocation_lat_customer            0\n",
       "geolocation_lng_customer            0\n",
       "geolocation_city_customer           0\n",
       "geolocation_state_customer          0\n",
       "product_id                          0\n",
       "product_category_name            1631\n",
       "product_name_lenght              1631\n",
       "product_description_lenght       1631\n",
       "product_photos_qty               1631\n",
       "product_weight_g                   20\n",
       "product_length_cm                  20\n",
       "product_height_cm                  20\n",
       "product_width_cm                   20\n",
       "order_item_id                       0\n",
       "seller_id                           0\n",
       "shipping_limit_date                 0\n",
       "price                               0\n",
       "freight_value                       0\n",
       "zip_code_prefix_seller              0\n",
       "seller_city                         0\n",
       "seller_state                        0\n",
       "geolocation_lat_seller              0\n",
       "geolocation_lng_seller              0\n",
       "geolocation_city_seller             0\n",
       "geolocation_state_seller            0\n",
       "dtype: int64"
      ]
     },
     "execution_count": 26,
     "metadata": {},
     "output_type": "execute_result"
    }
   ],
   "source": [
    "data.isnull().sum()"
   ]
  },
  {
   "cell_type": "code",
   "execution_count": null,
   "metadata": {},
   "outputs": [],
   "source": []
  },
  {
   "cell_type": "code",
   "execution_count": 27,
   "metadata": {},
   "outputs": [],
   "source": [
    "data.dropna(subset=[\"product_photos_qty\",\"product_width_cm\"],axis=0,inplace=True)"
   ]
  },
  {
   "cell_type": "code",
   "execution_count": 28,
   "metadata": {},
   "outputs": [
    {
     "name": "stdout",
     "output_type": "stream",
     "text": [
      "<class 'pandas.core.frame.DataFrame'>\n",
      "Int64Index: 113509 entries, 0 to 118314\n",
      "Data columns (total 42 columns):\n",
      " #   Column                         Non-Null Count   Dtype  \n",
      "---  ------                         --------------   -----  \n",
      " 0   order_id                       113509 non-null  object \n",
      " 1   payment_sequential             113509 non-null  int64  \n",
      " 2   payment_type                   113509 non-null  object \n",
      " 3   payment_installments           113509 non-null  int64  \n",
      " 4   payment_value                  113509 non-null  float64\n",
      " 5   customer_id                    113509 non-null  object \n",
      " 6   order_status                   113509 non-null  object \n",
      " 7   order_purchase_timestamp       113509 non-null  object \n",
      " 8   order_approved_at              113509 non-null  object \n",
      " 9   order_delivered_carrier_date   113509 non-null  object \n",
      " 10  order_delivered_customer_date  113509 non-null  object \n",
      " 11  order_estimated_delivery_date  113509 non-null  object \n",
      " 12  review_score                   113509 non-null  int64  \n",
      " 13  customer_unique_id             113509 non-null  object \n",
      " 14  zip_code_prefix_customer       113509 non-null  int64  \n",
      " 15  customer_city                  113509 non-null  object \n",
      " 16  customer_state                 113509 non-null  object \n",
      " 17  geolocation_lat_customer       113509 non-null  float64\n",
      " 18  geolocation_lng_customer       113509 non-null  float64\n",
      " 19  geolocation_city_customer      113509 non-null  object \n",
      " 20  geolocation_state_customer     113509 non-null  object \n",
      " 21  product_id                     113509 non-null  object \n",
      " 22  product_category_name          113509 non-null  object \n",
      " 23  product_name_lenght            113509 non-null  float64\n",
      " 24  product_description_lenght     113509 non-null  float64\n",
      " 25  product_photos_qty             113509 non-null  float64\n",
      " 26  product_weight_g               113509 non-null  float64\n",
      " 27  product_length_cm              113509 non-null  float64\n",
      " 28  product_height_cm              113509 non-null  float64\n",
      " 29  product_width_cm               113509 non-null  float64\n",
      " 30  order_item_id                  113509 non-null  int64  \n",
      " 31  seller_id                      113509 non-null  object \n",
      " 32  shipping_limit_date            113509 non-null  object \n",
      " 33  price                          113509 non-null  float64\n",
      " 34  freight_value                  113509 non-null  float64\n",
      " 35  zip_code_prefix_seller         113509 non-null  int64  \n",
      " 36  seller_city                    113509 non-null  object \n",
      " 37  seller_state                   113509 non-null  object \n",
      " 38  geolocation_lat_seller         113509 non-null  float64\n",
      " 39  geolocation_lng_seller         113509 non-null  float64\n",
      " 40  geolocation_city_seller        113509 non-null  object \n",
      " 41  geolocation_state_seller       113509 non-null  object \n",
      "dtypes: float64(14), int64(6), object(22)\n",
      "memory usage: 37.2+ MB\n"
     ]
    }
   ],
   "source": [
    "data.info()"
   ]
  },
  {
   "cell_type": "code",
   "execution_count": 29,
   "metadata": {},
   "outputs": [
    {
     "data": {
      "text/plain": [
       "(113509, 42)"
      ]
     },
     "execution_count": 29,
     "metadata": {},
     "output_type": "execute_result"
    }
   ],
   "source": [
    "data.shape"
   ]
  },
  {
   "cell_type": "code",
   "execution_count": 30,
   "metadata": {},
   "outputs": [
    {
     "name": "stdout",
     "output_type": "stream",
     "text": [
      "Percentage of data that we have dropped is :  4.062 %\n"
     ]
    }
   ],
   "source": [
    "# % of data that we have drooped\n",
    "print(\"Percentage of data that we have dropped is : \",round((num_tot_rows-data.shape[0])*100/num_tot_rows,3),\"%\")"
   ]
  },
  {
   "cell_type": "markdown",
   "metadata": {},
   "source": [
    "<b> So we have lost roughly 4% of data, which is not bad. Because we have 96% of data which don't have nul values.</b>"
   ]
  },
  {
   "cell_type": "code",
   "execution_count": 31,
   "metadata": {},
   "outputs": [
    {
     "data": {
      "text/html": [
       "<div>\n",
       "<style scoped>\n",
       "    .dataframe tbody tr th:only-of-type {\n",
       "        vertical-align: middle;\n",
       "    }\n",
       "\n",
       "    .dataframe tbody tr th {\n",
       "        vertical-align: top;\n",
       "    }\n",
       "\n",
       "    .dataframe thead th {\n",
       "        text-align: right;\n",
       "    }\n",
       "</style>\n",
       "<table border=\"1\" class=\"dataframe\">\n",
       "  <thead>\n",
       "    <tr style=\"text-align: right;\">\n",
       "      <th></th>\n",
       "      <th>order_id</th>\n",
       "      <th>payment_sequential</th>\n",
       "      <th>payment_type</th>\n",
       "      <th>payment_installments</th>\n",
       "      <th>payment_value</th>\n",
       "      <th>customer_id</th>\n",
       "      <th>order_status</th>\n",
       "      <th>order_purchase_timestamp</th>\n",
       "      <th>order_approved_at</th>\n",
       "      <th>order_delivered_carrier_date</th>\n",
       "      <th>...</th>\n",
       "      <th>shipping_limit_date</th>\n",
       "      <th>price</th>\n",
       "      <th>freight_value</th>\n",
       "      <th>zip_code_prefix_seller</th>\n",
       "      <th>seller_city</th>\n",
       "      <th>seller_state</th>\n",
       "      <th>geolocation_lat_seller</th>\n",
       "      <th>geolocation_lng_seller</th>\n",
       "      <th>geolocation_city_seller</th>\n",
       "      <th>geolocation_state_seller</th>\n",
       "    </tr>\n",
       "  </thead>\n",
       "  <tbody>\n",
       "    <tr>\n",
       "      <th>4</th>\n",
       "      <td>ba78997921bbcdc1373bb41e913ab953</td>\n",
       "      <td>1</td>\n",
       "      <td>credit_card</td>\n",
       "      <td>8</td>\n",
       "      <td>107.78</td>\n",
       "      <td>7a5d8efaaa1081f800628c30d2b0728f</td>\n",
       "      <td>delivered</td>\n",
       "      <td>2017-12-06 12:04:06</td>\n",
       "      <td>2017-12-06 12:13:20</td>\n",
       "      <td>2017-12-07 20:28:28</td>\n",
       "      <td>...</td>\n",
       "      <td>2017-12-12 12:13:20</td>\n",
       "      <td>89.90</td>\n",
       "      <td>17.88</td>\n",
       "      <td>13405</td>\n",
       "      <td>piracicaba</td>\n",
       "      <td>SP</td>\n",
       "      <td>-22.716839</td>\n",
       "      <td>-47.657366</td>\n",
       "      <td>piracicaba</td>\n",
       "      <td>SP</td>\n",
       "    </tr>\n",
       "    <tr>\n",
       "      <th>66</th>\n",
       "      <td>c0db7d31ace61fc360a3eaa34dd3457c</td>\n",
       "      <td>1</td>\n",
       "      <td>credit_card</td>\n",
       "      <td>5</td>\n",
       "      <td>65.71</td>\n",
       "      <td>80c0276f1c674e7b026d5a39799afaa4</td>\n",
       "      <td>delivered</td>\n",
       "      <td>2018-02-13 16:36:56</td>\n",
       "      <td>2018-02-13 16:50:30</td>\n",
       "      <td>2018-02-14 19:12:31</td>\n",
       "      <td>...</td>\n",
       "      <td>2018-02-22 15:50:30</td>\n",
       "      <td>56.99</td>\n",
       "      <td>8.72</td>\n",
       "      <td>9015</td>\n",
       "      <td>santo andre</td>\n",
       "      <td>SP</td>\n",
       "      <td>-23.665703</td>\n",
       "      <td>-46.518082</td>\n",
       "      <td>santo andre</td>\n",
       "      <td>SP</td>\n",
       "    </tr>\n",
       "    <tr>\n",
       "      <th>74</th>\n",
       "      <td>95442deb81a5d91c97c0df96b431634a</td>\n",
       "      <td>1</td>\n",
       "      <td>boleto</td>\n",
       "      <td>1</td>\n",
       "      <td>368.98</td>\n",
       "      <td>daddb546b42f656e57ba8a3cf71a309f</td>\n",
       "      <td>delivered</td>\n",
       "      <td>2018-07-19 11:54:25</td>\n",
       "      <td>2018-07-20 04:45:21</td>\n",
       "      <td>2018-07-23 08:22:00</td>\n",
       "      <td>...</td>\n",
       "      <td>2018-07-24 04:45:21</td>\n",
       "      <td>169.00</td>\n",
       "      <td>15.49</td>\n",
       "      <td>8820</td>\n",
       "      <td>mogi das cruzes</td>\n",
       "      <td>SP</td>\n",
       "      <td>-23.512628</td>\n",
       "      <td>-46.152698</td>\n",
       "      <td>mogi das cruzes</td>\n",
       "      <td>SP</td>\n",
       "    </tr>\n",
       "    <tr>\n",
       "      <th>75</th>\n",
       "      <td>95442deb81a5d91c97c0df96b431634a</td>\n",
       "      <td>1</td>\n",
       "      <td>boleto</td>\n",
       "      <td>1</td>\n",
       "      <td>368.98</td>\n",
       "      <td>daddb546b42f656e57ba8a3cf71a309f</td>\n",
       "      <td>delivered</td>\n",
       "      <td>2018-07-19 11:54:25</td>\n",
       "      <td>2018-07-20 04:45:21</td>\n",
       "      <td>2018-07-23 08:22:00</td>\n",
       "      <td>...</td>\n",
       "      <td>2018-07-24 04:45:21</td>\n",
       "      <td>169.00</td>\n",
       "      <td>15.49</td>\n",
       "      <td>8820</td>\n",
       "      <td>mogi das cruzes</td>\n",
       "      <td>SP</td>\n",
       "      <td>-23.512628</td>\n",
       "      <td>-46.152698</td>\n",
       "      <td>mogi das cruzes</td>\n",
       "      <td>SP</td>\n",
       "    </tr>\n",
       "    <tr>\n",
       "      <th>188</th>\n",
       "      <td>14d9794bbb53614d12cc2df6a045f82b</td>\n",
       "      <td>1</td>\n",
       "      <td>boleto</td>\n",
       "      <td>1</td>\n",
       "      <td>116.70</td>\n",
       "      <td>666a4eb7699fdccd19518171e0b5a069</td>\n",
       "      <td>delivered</td>\n",
       "      <td>2018-01-14 21:10:48</td>\n",
       "      <td>2018-01-16 03:38:48</td>\n",
       "      <td>2018-01-16 17:36:57</td>\n",
       "      <td>...</td>\n",
       "      <td>2018-01-26 03:38:48</td>\n",
       "      <td>99.56</td>\n",
       "      <td>17.14</td>\n",
       "      <td>87025</td>\n",
       "      <td>maringa</td>\n",
       "      <td>PR</td>\n",
       "      <td>-23.377397</td>\n",
       "      <td>-51.931006</td>\n",
       "      <td>maringa</td>\n",
       "      <td>PR</td>\n",
       "    </tr>\n",
       "    <tr>\n",
       "      <th>...</th>\n",
       "      <td>...</td>\n",
       "      <td>...</td>\n",
       "      <td>...</td>\n",
       "      <td>...</td>\n",
       "      <td>...</td>\n",
       "      <td>...</td>\n",
       "      <td>...</td>\n",
       "      <td>...</td>\n",
       "      <td>...</td>\n",
       "      <td>...</td>\n",
       "      <td>...</td>\n",
       "      <td>...</td>\n",
       "      <td>...</td>\n",
       "      <td>...</td>\n",
       "      <td>...</td>\n",
       "      <td>...</td>\n",
       "      <td>...</td>\n",
       "      <td>...</td>\n",
       "      <td>...</td>\n",
       "      <td>...</td>\n",
       "      <td>...</td>\n",
       "    </tr>\n",
       "    <tr>\n",
       "      <th>116252</th>\n",
       "      <td>b9eb9fbcca54dfce1d087c752d0f4b35</td>\n",
       "      <td>1</td>\n",
       "      <td>boleto</td>\n",
       "      <td>1</td>\n",
       "      <td>35.01</td>\n",
       "      <td>3824319059ed4febc68d625e63f29eee</td>\n",
       "      <td>delivered</td>\n",
       "      <td>2017-10-11 10:23:09</td>\n",
       "      <td>2017-10-12 03:00:12</td>\n",
       "      <td>2017-10-16 22:52:14</td>\n",
       "      <td>...</td>\n",
       "      <td>2017-10-24 04:00:12</td>\n",
       "      <td>18.90</td>\n",
       "      <td>16.11</td>\n",
       "      <td>4773</td>\n",
       "      <td>sao paulo</td>\n",
       "      <td>SP</td>\n",
       "      <td>-23.681543</td>\n",
       "      <td>-46.707806</td>\n",
       "      <td>sao paulo</td>\n",
       "      <td>SP</td>\n",
       "    </tr>\n",
       "    <tr>\n",
       "      <th>117353</th>\n",
       "      <td>f7c5c5ff5045e13c98901bbbf8e871d4</td>\n",
       "      <td>1</td>\n",
       "      <td>credit_card</td>\n",
       "      <td>10</td>\n",
       "      <td>231.27</td>\n",
       "      <td>1d5f7303f8a2248f42cf919af8d77cc3</td>\n",
       "      <td>delivered</td>\n",
       "      <td>2017-07-26 18:22:31</td>\n",
       "      <td>2017-07-26 18:38:51</td>\n",
       "      <td>2017-07-28 17:35:33</td>\n",
       "      <td>...</td>\n",
       "      <td>2017-08-02 18:36:24</td>\n",
       "      <td>205.00</td>\n",
       "      <td>26.27</td>\n",
       "      <td>4248</td>\n",
       "      <td>sao paulo</td>\n",
       "      <td>SP</td>\n",
       "      <td>-23.614118</td>\n",
       "      <td>-46.600348</td>\n",
       "      <td>sao paulo</td>\n",
       "      <td>SP</td>\n",
       "    </tr>\n",
       "    <tr>\n",
       "      <th>117453</th>\n",
       "      <td>169ab175fb915582d84c0c5c95bb0fe3</td>\n",
       "      <td>1</td>\n",
       "      <td>credit_card</td>\n",
       "      <td>10</td>\n",
       "      <td>741.10</td>\n",
       "      <td>fe02528abe9cf5b73ededc4a240acc9d</td>\n",
       "      <td>delivered</td>\n",
       "      <td>2018-06-09 08:51:19</td>\n",
       "      <td>2018-06-09 09:11:28</td>\n",
       "      <td>2018-06-15 11:32:00</td>\n",
       "      <td>...</td>\n",
       "      <td>2018-06-14 09:11:28</td>\n",
       "      <td>662.73</td>\n",
       "      <td>78.37</td>\n",
       "      <td>25963</td>\n",
       "      <td>teresopolis</td>\n",
       "      <td>RJ</td>\n",
       "      <td>-22.416150</td>\n",
       "      <td>-42.977023</td>\n",
       "      <td>teresopolis</td>\n",
       "      <td>RJ</td>\n",
       "    </tr>\n",
       "    <tr>\n",
       "      <th>117624</th>\n",
       "      <td>03515a836bb855b03f7df9dee520a8fc</td>\n",
       "      <td>1</td>\n",
       "      <td>credit_card</td>\n",
       "      <td>10</td>\n",
       "      <td>106.38</td>\n",
       "      <td>153e6d880db3cac30ecfeb13e0047841</td>\n",
       "      <td>delivered</td>\n",
       "      <td>2018-01-19 13:24:38</td>\n",
       "      <td>2018-01-19 13:36:01</td>\n",
       "      <td>2018-01-19 21:47:56</td>\n",
       "      <td>...</td>\n",
       "      <td>2018-01-29 13:36:01</td>\n",
       "      <td>89.99</td>\n",
       "      <td>16.39</td>\n",
       "      <td>9015</td>\n",
       "      <td>santo andre</td>\n",
       "      <td>SP</td>\n",
       "      <td>-23.665703</td>\n",
       "      <td>-46.518082</td>\n",
       "      <td>santo andre</td>\n",
       "      <td>SP</td>\n",
       "    </tr>\n",
       "    <tr>\n",
       "      <th>117883</th>\n",
       "      <td>c88b1d1b157a9999ce368f218a407141</td>\n",
       "      <td>1</td>\n",
       "      <td>credit_card</td>\n",
       "      <td>4</td>\n",
       "      <td>42.77</td>\n",
       "      <td>ae0fb7b01c548c4fd30f19f55453ec4a</td>\n",
       "      <td>delivered</td>\n",
       "      <td>2017-07-17 22:44:23</td>\n",
       "      <td>2017-07-18 22:50:12</td>\n",
       "      <td>2017-07-20 15:27:41</td>\n",
       "      <td>...</td>\n",
       "      <td>2017-07-26 22:50:12</td>\n",
       "      <td>34.99</td>\n",
       "      <td>7.78</td>\n",
       "      <td>9015</td>\n",
       "      <td>santo andre</td>\n",
       "      <td>SP</td>\n",
       "      <td>-23.665703</td>\n",
       "      <td>-46.518082</td>\n",
       "      <td>santo andre</td>\n",
       "      <td>SP</td>\n",
       "    </tr>\n",
       "  </tbody>\n",
       "</table>\n",
       "<p>401 rows × 42 columns</p>\n",
       "</div>"
      ],
      "text/plain": [
       "                                order_id  payment_sequential payment_type  \\\n",
       "4       ba78997921bbcdc1373bb41e913ab953                   1  credit_card   \n",
       "66      c0db7d31ace61fc360a3eaa34dd3457c                   1  credit_card   \n",
       "74      95442deb81a5d91c97c0df96b431634a                   1       boleto   \n",
       "75      95442deb81a5d91c97c0df96b431634a                   1       boleto   \n",
       "188     14d9794bbb53614d12cc2df6a045f82b                   1       boleto   \n",
       "...                                  ...                 ...          ...   \n",
       "116252  b9eb9fbcca54dfce1d087c752d0f4b35                   1       boleto   \n",
       "117353  f7c5c5ff5045e13c98901bbbf8e871d4                   1  credit_card   \n",
       "117453  169ab175fb915582d84c0c5c95bb0fe3                   1  credit_card   \n",
       "117624  03515a836bb855b03f7df9dee520a8fc                   1  credit_card   \n",
       "117883  c88b1d1b157a9999ce368f218a407141                   1  credit_card   \n",
       "\n",
       "        payment_installments  payment_value                       customer_id  \\\n",
       "4                          8         107.78  7a5d8efaaa1081f800628c30d2b0728f   \n",
       "66                         5          65.71  80c0276f1c674e7b026d5a39799afaa4   \n",
       "74                         1         368.98  daddb546b42f656e57ba8a3cf71a309f   \n",
       "75                         1         368.98  daddb546b42f656e57ba8a3cf71a309f   \n",
       "188                        1         116.70  666a4eb7699fdccd19518171e0b5a069   \n",
       "...                      ...            ...                               ...   \n",
       "116252                     1          35.01  3824319059ed4febc68d625e63f29eee   \n",
       "117353                    10         231.27  1d5f7303f8a2248f42cf919af8d77cc3   \n",
       "117453                    10         741.10  fe02528abe9cf5b73ededc4a240acc9d   \n",
       "117624                    10         106.38  153e6d880db3cac30ecfeb13e0047841   \n",
       "117883                     4          42.77  ae0fb7b01c548c4fd30f19f55453ec4a   \n",
       "\n",
       "       order_status order_purchase_timestamp    order_approved_at  \\\n",
       "4         delivered      2017-12-06 12:04:06  2017-12-06 12:13:20   \n",
       "66        delivered      2018-02-13 16:36:56  2018-02-13 16:50:30   \n",
       "74        delivered      2018-07-19 11:54:25  2018-07-20 04:45:21   \n",
       "75        delivered      2018-07-19 11:54:25  2018-07-20 04:45:21   \n",
       "188       delivered      2018-01-14 21:10:48  2018-01-16 03:38:48   \n",
       "...             ...                      ...                  ...   \n",
       "116252    delivered      2017-10-11 10:23:09  2017-10-12 03:00:12   \n",
       "117353    delivered      2017-07-26 18:22:31  2017-07-26 18:38:51   \n",
       "117453    delivered      2018-06-09 08:51:19  2018-06-09 09:11:28   \n",
       "117624    delivered      2018-01-19 13:24:38  2018-01-19 13:36:01   \n",
       "117883    delivered      2017-07-17 22:44:23  2017-07-18 22:50:12   \n",
       "\n",
       "       order_delivered_carrier_date  ...  shipping_limit_date   price  \\\n",
       "4               2017-12-07 20:28:28  ...  2017-12-12 12:13:20   89.90   \n",
       "66              2018-02-14 19:12:31  ...  2018-02-22 15:50:30   56.99   \n",
       "74              2018-07-23 08:22:00  ...  2018-07-24 04:45:21  169.00   \n",
       "75              2018-07-23 08:22:00  ...  2018-07-24 04:45:21  169.00   \n",
       "188             2018-01-16 17:36:57  ...  2018-01-26 03:38:48   99.56   \n",
       "...                             ...  ...                  ...     ...   \n",
       "116252          2017-10-16 22:52:14  ...  2017-10-24 04:00:12   18.90   \n",
       "117353          2017-07-28 17:35:33  ...  2017-08-02 18:36:24  205.00   \n",
       "117453          2018-06-15 11:32:00  ...  2018-06-14 09:11:28  662.73   \n",
       "117624          2018-01-19 21:47:56  ...  2018-01-29 13:36:01   89.99   \n",
       "117883          2017-07-20 15:27:41  ...  2017-07-26 22:50:12   34.99   \n",
       "\n",
       "        freight_value zip_code_prefix_seller      seller_city seller_state  \\\n",
       "4               17.88                  13405       piracicaba           SP   \n",
       "66               8.72                   9015      santo andre           SP   \n",
       "74              15.49                   8820  mogi das cruzes           SP   \n",
       "75              15.49                   8820  mogi das cruzes           SP   \n",
       "188             17.14                  87025          maringa           PR   \n",
       "...               ...                    ...              ...          ...   \n",
       "116252          16.11                   4773        sao paulo           SP   \n",
       "117353          26.27                   4248        sao paulo           SP   \n",
       "117453          78.37                  25963      teresopolis           RJ   \n",
       "117624          16.39                   9015      santo andre           SP   \n",
       "117883           7.78                   9015      santo andre           SP   \n",
       "\n",
       "       geolocation_lat_seller  geolocation_lng_seller  \\\n",
       "4                  -22.716839              -47.657366   \n",
       "66                 -23.665703              -46.518082   \n",
       "74                 -23.512628              -46.152698   \n",
       "75                 -23.512628              -46.152698   \n",
       "188                -23.377397              -51.931006   \n",
       "...                       ...                     ...   \n",
       "116252             -23.681543              -46.707806   \n",
       "117353             -23.614118              -46.600348   \n",
       "117453             -22.416150              -42.977023   \n",
       "117624             -23.665703              -46.518082   \n",
       "117883             -23.665703              -46.518082   \n",
       "\n",
       "        geolocation_city_seller geolocation_state_seller  \n",
       "4                    piracicaba                       SP  \n",
       "66                  santo andre                       SP  \n",
       "74              mogi das cruzes                       SP  \n",
       "75              mogi das cruzes                       SP  \n",
       "188                     maringa                       PR  \n",
       "...                         ...                      ...  \n",
       "116252                sao paulo                       SP  \n",
       "117353                sao paulo                       SP  \n",
       "117453              teresopolis                       RJ  \n",
       "117624              santo andre                       SP  \n",
       "117883              santo andre                       SP  \n",
       "\n",
       "[401 rows x 42 columns]"
      ]
     },
     "execution_count": 31,
     "metadata": {},
     "output_type": "execute_result"
    }
   ],
   "source": [
    "data[data.duplicated()==True]"
   ]
  },
  {
   "cell_type": "code",
   "execution_count": 32,
   "metadata": {},
   "outputs": [],
   "source": [
    "#remove the duplicates\n",
    "data.drop_duplicates(keep=\"first\",inplace=True)"
   ]
  },
  {
   "cell_type": "code",
   "execution_count": 33,
   "metadata": {},
   "outputs": [
    {
     "data": {
      "text/plain": [
       "(113108, 42)"
      ]
     },
     "execution_count": 33,
     "metadata": {},
     "output_type": "execute_result"
    }
   ],
   "source": [
    "data.shape"
   ]
  },
  {
   "cell_type": "code",
   "execution_count": 34,
   "metadata": {},
   "outputs": [],
   "source": [
    "#lets change the datetime features to correct format\n",
    "data[\"order_purchase_timestamp\"]       = pd.to_datetime(data[\"order_purchase_timestamp\"])\n",
    "data[\"order_approved_at\"]              = pd.to_datetime(data[\"order_approved_at\"])\n",
    "data[\"order_delivered_carrier_date\"]   = pd.to_datetime(data[\"order_delivered_carrier_date\"])\n",
    "data[\"order_delivered_customer_date\"]  = pd.to_datetime(data[\"order_delivered_customer_date\"])\n",
    "data[\"order_estimated_delivery_date\"]  = pd.to_datetime(data[\"order_estimated_delivery_date\"])\n",
    "data[\"shipping_limit_date\"]            = pd.to_datetime(data[\"shipping_limit_date\"])\n"
   ]
  },
  {
   "cell_type": "markdown",
   "metadata": {},
   "source": [
    "#### <font color=\"red\">I found some problem with seller_city, seller_state information in sellers dataframe."
   ]
  },
  {
   "cell_type": "code",
   "execution_count": 35,
   "metadata": {},
   "outputs": [
    {
     "data": {
      "text/html": [
       "<div>\n",
       "<style scoped>\n",
       "    .dataframe tbody tr th:only-of-type {\n",
       "        vertical-align: middle;\n",
       "    }\n",
       "\n",
       "    .dataframe tbody tr th {\n",
       "        vertical-align: top;\n",
       "    }\n",
       "\n",
       "    .dataframe thead th {\n",
       "        text-align: right;\n",
       "    }\n",
       "</style>\n",
       "<table border=\"1\" class=\"dataframe\">\n",
       "  <thead>\n",
       "    <tr style=\"text-align: right;\">\n",
       "      <th></th>\n",
       "      <th>order_id</th>\n",
       "      <th>payment_sequential</th>\n",
       "      <th>payment_type</th>\n",
       "      <th>payment_installments</th>\n",
       "      <th>payment_value</th>\n",
       "      <th>customer_id</th>\n",
       "      <th>order_status</th>\n",
       "      <th>order_purchase_timestamp</th>\n",
       "      <th>order_approved_at</th>\n",
       "      <th>order_delivered_carrier_date</th>\n",
       "      <th>...</th>\n",
       "      <th>shipping_limit_date</th>\n",
       "      <th>price</th>\n",
       "      <th>freight_value</th>\n",
       "      <th>zip_code_prefix_seller</th>\n",
       "      <th>seller_city</th>\n",
       "      <th>seller_state</th>\n",
       "      <th>geolocation_lat_seller</th>\n",
       "      <th>geolocation_lng_seller</th>\n",
       "      <th>geolocation_city_seller</th>\n",
       "      <th>geolocation_state_seller</th>\n",
       "    </tr>\n",
       "  </thead>\n",
       "  <tbody>\n",
       "    <tr>\n",
       "      <th>53</th>\n",
       "      <td>1dcf0c8cd36ffaf57784fbdc90079310</td>\n",
       "      <td>1</td>\n",
       "      <td>credit_card</td>\n",
       "      <td>3</td>\n",
       "      <td>157.15</td>\n",
       "      <td>34955e04695a861e22cfc5600244118d</td>\n",
       "      <td>delivered</td>\n",
       "      <td>2018-04-19 21:16:39</td>\n",
       "      <td>2018-04-19 21:31:03</td>\n",
       "      <td>2018-04-24 17:17:41</td>\n",
       "      <td>...</td>\n",
       "      <td>2018-04-25 21:31:03</td>\n",
       "      <td>99.90</td>\n",
       "      <td>57.25</td>\n",
       "      <td>27277</td>\n",
       "      <td>volta redonda</td>\n",
       "      <td>SP</td>\n",
       "      <td>-22.498183</td>\n",
       "      <td>-44.123614</td>\n",
       "      <td>volta redonda</td>\n",
       "      <td>RJ</td>\n",
       "    </tr>\n",
       "    <tr>\n",
       "      <th>238</th>\n",
       "      <td>591083bc42b589c7052118aa83118e76</td>\n",
       "      <td>5</td>\n",
       "      <td>voucher</td>\n",
       "      <td>1</td>\n",
       "      <td>20.00</td>\n",
       "      <td>276df8efcf9602ecddaa00e349eb79b3</td>\n",
       "      <td>delivered</td>\n",
       "      <td>2018-01-02 22:09:17</td>\n",
       "      <td>2018-01-02 22:19:30</td>\n",
       "      <td>2018-01-03 21:10:00</td>\n",
       "      <td>...</td>\n",
       "      <td>2018-01-08 22:19:30</td>\n",
       "      <td>24.95</td>\n",
       "      <td>28.42</td>\n",
       "      <td>88301</td>\n",
       "      <td>itajai</td>\n",
       "      <td>SP</td>\n",
       "      <td>-26.916270</td>\n",
       "      <td>-48.652460</td>\n",
       "      <td>itajaí</td>\n",
       "      <td>SC</td>\n",
       "    </tr>\n",
       "    <tr>\n",
       "      <th>240</th>\n",
       "      <td>591083bc42b589c7052118aa83118e76</td>\n",
       "      <td>3</td>\n",
       "      <td>voucher</td>\n",
       "      <td>1</td>\n",
       "      <td>20.00</td>\n",
       "      <td>276df8efcf9602ecddaa00e349eb79b3</td>\n",
       "      <td>delivered</td>\n",
       "      <td>2018-01-02 22:09:17</td>\n",
       "      <td>2018-01-02 22:19:30</td>\n",
       "      <td>2018-01-03 21:10:00</td>\n",
       "      <td>...</td>\n",
       "      <td>2018-01-08 22:19:30</td>\n",
       "      <td>24.95</td>\n",
       "      <td>28.42</td>\n",
       "      <td>88301</td>\n",
       "      <td>itajai</td>\n",
       "      <td>SP</td>\n",
       "      <td>-26.916270</td>\n",
       "      <td>-48.652460</td>\n",
       "      <td>itajaí</td>\n",
       "      <td>SC</td>\n",
       "    </tr>\n",
       "    <tr>\n",
       "      <th>242</th>\n",
       "      <td>591083bc42b589c7052118aa83118e76</td>\n",
       "      <td>2</td>\n",
       "      <td>voucher</td>\n",
       "      <td>1</td>\n",
       "      <td>20.00</td>\n",
       "      <td>276df8efcf9602ecddaa00e349eb79b3</td>\n",
       "      <td>delivered</td>\n",
       "      <td>2018-01-02 22:09:17</td>\n",
       "      <td>2018-01-02 22:19:30</td>\n",
       "      <td>2018-01-03 21:10:00</td>\n",
       "      <td>...</td>\n",
       "      <td>2018-01-08 22:19:30</td>\n",
       "      <td>24.95</td>\n",
       "      <td>28.42</td>\n",
       "      <td>88301</td>\n",
       "      <td>itajai</td>\n",
       "      <td>SP</td>\n",
       "      <td>-26.916270</td>\n",
       "      <td>-48.652460</td>\n",
       "      <td>itajaí</td>\n",
       "      <td>SC</td>\n",
       "    </tr>\n",
       "    <tr>\n",
       "      <th>244</th>\n",
       "      <td>591083bc42b589c7052118aa83118e76</td>\n",
       "      <td>6</td>\n",
       "      <td>voucher</td>\n",
       "      <td>1</td>\n",
       "      <td>15.21</td>\n",
       "      <td>276df8efcf9602ecddaa00e349eb79b3</td>\n",
       "      <td>delivered</td>\n",
       "      <td>2018-01-02 22:09:17</td>\n",
       "      <td>2018-01-02 22:19:30</td>\n",
       "      <td>2018-01-03 21:10:00</td>\n",
       "      <td>...</td>\n",
       "      <td>2018-01-08 22:19:30</td>\n",
       "      <td>24.95</td>\n",
       "      <td>28.42</td>\n",
       "      <td>88301</td>\n",
       "      <td>itajai</td>\n",
       "      <td>SP</td>\n",
       "      <td>-26.916270</td>\n",
       "      <td>-48.652460</td>\n",
       "      <td>itajaí</td>\n",
       "      <td>SC</td>\n",
       "    </tr>\n",
       "    <tr>\n",
       "      <th>...</th>\n",
       "      <td>...</td>\n",
       "      <td>...</td>\n",
       "      <td>...</td>\n",
       "      <td>...</td>\n",
       "      <td>...</td>\n",
       "      <td>...</td>\n",
       "      <td>...</td>\n",
       "      <td>...</td>\n",
       "      <td>...</td>\n",
       "      <td>...</td>\n",
       "      <td>...</td>\n",
       "      <td>...</td>\n",
       "      <td>...</td>\n",
       "      <td>...</td>\n",
       "      <td>...</td>\n",
       "      <td>...</td>\n",
       "      <td>...</td>\n",
       "      <td>...</td>\n",
       "      <td>...</td>\n",
       "      <td>...</td>\n",
       "      <td>...</td>\n",
       "    </tr>\n",
       "    <tr>\n",
       "      <th>117074</th>\n",
       "      <td>d3037ef55ee7f4d6c892da7493f4912f</td>\n",
       "      <td>1</td>\n",
       "      <td>credit_card</td>\n",
       "      <td>5</td>\n",
       "      <td>154.47</td>\n",
       "      <td>a92c7dc386e43df776cae3f8c5bc3d25</td>\n",
       "      <td>delivered</td>\n",
       "      <td>2017-05-17 16:12:44</td>\n",
       "      <td>2017-05-17 16:22:22</td>\n",
       "      <td>2017-05-22 14:42:54</td>\n",
       "      <td>...</td>\n",
       "      <td>2017-05-23 16:22:22</td>\n",
       "      <td>139.90</td>\n",
       "      <td>14.57</td>\n",
       "      <td>27277</td>\n",
       "      <td>volta redonda</td>\n",
       "      <td>SP</td>\n",
       "      <td>-22.498183</td>\n",
       "      <td>-44.123614</td>\n",
       "      <td>volta redonda</td>\n",
       "      <td>RJ</td>\n",
       "    </tr>\n",
       "    <tr>\n",
       "      <th>117345</th>\n",
       "      <td>15cd24278cb6a373aa6bb2ca34837e16</td>\n",
       "      <td>1</td>\n",
       "      <td>boleto</td>\n",
       "      <td>1</td>\n",
       "      <td>24.60</td>\n",
       "      <td>61a5483d57f486f4177687846c31bcff</td>\n",
       "      <td>delivered</td>\n",
       "      <td>2018-01-28 22:17:22</td>\n",
       "      <td>2018-01-30 05:31:45</td>\n",
       "      <td>2018-01-30 15:49:00</td>\n",
       "      <td>...</td>\n",
       "      <td>2018-02-05 04:31:06</td>\n",
       "      <td>10.50</td>\n",
       "      <td>14.10</td>\n",
       "      <td>88075</td>\n",
       "      <td>florianopolis</td>\n",
       "      <td>SP</td>\n",
       "      <td>-27.589171</td>\n",
       "      <td>-48.579840</td>\n",
       "      <td>florianopolis</td>\n",
       "      <td>SC</td>\n",
       "    </tr>\n",
       "    <tr>\n",
       "      <th>117599</th>\n",
       "      <td>cab69d0a36811c4945aec2d4f744c8b5</td>\n",
       "      <td>1</td>\n",
       "      <td>credit_card</td>\n",
       "      <td>10</td>\n",
       "      <td>230.19</td>\n",
       "      <td>2468eac8daf0e31ed4c5df419b32edb8</td>\n",
       "      <td>delivered</td>\n",
       "      <td>2018-06-16 21:53:42</td>\n",
       "      <td>2018-06-17 21:53:43</td>\n",
       "      <td>2018-06-19 14:59:00</td>\n",
       "      <td>...</td>\n",
       "      <td>2018-06-21 21:53:43</td>\n",
       "      <td>199.00</td>\n",
       "      <td>31.19</td>\n",
       "      <td>83020</td>\n",
       "      <td>sao jose dos pinhais</td>\n",
       "      <td>SP</td>\n",
       "      <td>-25.550487</td>\n",
       "      <td>-49.189967</td>\n",
       "      <td>sao jose dos pinhais</td>\n",
       "      <td>PR</td>\n",
       "    </tr>\n",
       "    <tr>\n",
       "      <th>117658</th>\n",
       "      <td>652dd239023471248957a1a2d5173b60</td>\n",
       "      <td>1</td>\n",
       "      <td>credit_card</td>\n",
       "      <td>3</td>\n",
       "      <td>140.44</td>\n",
       "      <td>35cc89fc7a4a108e58af6d20943348d6</td>\n",
       "      <td>delivered</td>\n",
       "      <td>2018-08-08 20:41:24</td>\n",
       "      <td>2018-08-08 20:55:24</td>\n",
       "      <td>2018-08-09 14:52:00</td>\n",
       "      <td>...</td>\n",
       "      <td>2018-08-10 20:55:24</td>\n",
       "      <td>116.90</td>\n",
       "      <td>23.54</td>\n",
       "      <td>31570</td>\n",
       "      <td>belo horizonte</td>\n",
       "      <td>SP</td>\n",
       "      <td>-19.810119</td>\n",
       "      <td>-43.984727</td>\n",
       "      <td>belo horizonte</td>\n",
       "      <td>MG</td>\n",
       "    </tr>\n",
       "    <tr>\n",
       "      <th>117984</th>\n",
       "      <td>6e9583ad9400699e091e33534fa84aa4</td>\n",
       "      <td>1</td>\n",
       "      <td>credit_card</td>\n",
       "      <td>3</td>\n",
       "      <td>236.29</td>\n",
       "      <td>89fe9585e0731c01f8c1db25a8e3d1bd</td>\n",
       "      <td>delivered</td>\n",
       "      <td>2018-01-07 14:53:25</td>\n",
       "      <td>2018-01-07 15:07:16</td>\n",
       "      <td>2018-01-16 21:58:47</td>\n",
       "      <td>...</td>\n",
       "      <td>2018-01-11 15:07:16</td>\n",
       "      <td>219.00</td>\n",
       "      <td>17.29</td>\n",
       "      <td>85960</td>\n",
       "      <td>marechal candido rondon</td>\n",
       "      <td>PA</td>\n",
       "      <td>-24.549059</td>\n",
       "      <td>-54.051576</td>\n",
       "      <td>marechal candido rondon</td>\n",
       "      <td>PR</td>\n",
       "    </tr>\n",
       "  </tbody>\n",
       "</table>\n",
       "<p>653 rows × 42 columns</p>\n",
       "</div>"
      ],
      "text/plain": [
       "                                order_id  payment_sequential payment_type  \\\n",
       "53      1dcf0c8cd36ffaf57784fbdc90079310                   1  credit_card   \n",
       "238     591083bc42b589c7052118aa83118e76                   5      voucher   \n",
       "240     591083bc42b589c7052118aa83118e76                   3      voucher   \n",
       "242     591083bc42b589c7052118aa83118e76                   2      voucher   \n",
       "244     591083bc42b589c7052118aa83118e76                   6      voucher   \n",
       "...                                  ...                 ...          ...   \n",
       "117074  d3037ef55ee7f4d6c892da7493f4912f                   1  credit_card   \n",
       "117345  15cd24278cb6a373aa6bb2ca34837e16                   1       boleto   \n",
       "117599  cab69d0a36811c4945aec2d4f744c8b5                   1  credit_card   \n",
       "117658  652dd239023471248957a1a2d5173b60                   1  credit_card   \n",
       "117984  6e9583ad9400699e091e33534fa84aa4                   1  credit_card   \n",
       "\n",
       "        payment_installments  payment_value                       customer_id  \\\n",
       "53                         3         157.15  34955e04695a861e22cfc5600244118d   \n",
       "238                        1          20.00  276df8efcf9602ecddaa00e349eb79b3   \n",
       "240                        1          20.00  276df8efcf9602ecddaa00e349eb79b3   \n",
       "242                        1          20.00  276df8efcf9602ecddaa00e349eb79b3   \n",
       "244                        1          15.21  276df8efcf9602ecddaa00e349eb79b3   \n",
       "...                      ...            ...                               ...   \n",
       "117074                     5         154.47  a92c7dc386e43df776cae3f8c5bc3d25   \n",
       "117345                     1          24.60  61a5483d57f486f4177687846c31bcff   \n",
       "117599                    10         230.19  2468eac8daf0e31ed4c5df419b32edb8   \n",
       "117658                     3         140.44  35cc89fc7a4a108e58af6d20943348d6   \n",
       "117984                     3         236.29  89fe9585e0731c01f8c1db25a8e3d1bd   \n",
       "\n",
       "       order_status order_purchase_timestamp   order_approved_at  \\\n",
       "53        delivered      2018-04-19 21:16:39 2018-04-19 21:31:03   \n",
       "238       delivered      2018-01-02 22:09:17 2018-01-02 22:19:30   \n",
       "240       delivered      2018-01-02 22:09:17 2018-01-02 22:19:30   \n",
       "242       delivered      2018-01-02 22:09:17 2018-01-02 22:19:30   \n",
       "244       delivered      2018-01-02 22:09:17 2018-01-02 22:19:30   \n",
       "...             ...                      ...                 ...   \n",
       "117074    delivered      2017-05-17 16:12:44 2017-05-17 16:22:22   \n",
       "117345    delivered      2018-01-28 22:17:22 2018-01-30 05:31:45   \n",
       "117599    delivered      2018-06-16 21:53:42 2018-06-17 21:53:43   \n",
       "117658    delivered      2018-08-08 20:41:24 2018-08-08 20:55:24   \n",
       "117984    delivered      2018-01-07 14:53:25 2018-01-07 15:07:16   \n",
       "\n",
       "       order_delivered_carrier_date  ... shipping_limit_date   price  \\\n",
       "53              2018-04-24 17:17:41  ... 2018-04-25 21:31:03   99.90   \n",
       "238             2018-01-03 21:10:00  ... 2018-01-08 22:19:30   24.95   \n",
       "240             2018-01-03 21:10:00  ... 2018-01-08 22:19:30   24.95   \n",
       "242             2018-01-03 21:10:00  ... 2018-01-08 22:19:30   24.95   \n",
       "244             2018-01-03 21:10:00  ... 2018-01-08 22:19:30   24.95   \n",
       "...                             ...  ...                 ...     ...   \n",
       "117074          2017-05-22 14:42:54  ... 2017-05-23 16:22:22  139.90   \n",
       "117345          2018-01-30 15:49:00  ... 2018-02-05 04:31:06   10.50   \n",
       "117599          2018-06-19 14:59:00  ... 2018-06-21 21:53:43  199.00   \n",
       "117658          2018-08-09 14:52:00  ... 2018-08-10 20:55:24  116.90   \n",
       "117984          2018-01-16 21:58:47  ... 2018-01-11 15:07:16  219.00   \n",
       "\n",
       "        freight_value zip_code_prefix_seller              seller_city  \\\n",
       "53              57.25                  27277            volta redonda   \n",
       "238             28.42                  88301                   itajai   \n",
       "240             28.42                  88301                   itajai   \n",
       "242             28.42                  88301                   itajai   \n",
       "244             28.42                  88301                   itajai   \n",
       "...               ...                    ...                      ...   \n",
       "117074          14.57                  27277            volta redonda   \n",
       "117345          14.10                  88075            florianopolis   \n",
       "117599          31.19                  83020     sao jose dos pinhais   \n",
       "117658          23.54                  31570           belo horizonte   \n",
       "117984          17.29                  85960  marechal candido rondon   \n",
       "\n",
       "       seller_state geolocation_lat_seller  geolocation_lng_seller  \\\n",
       "53               SP             -22.498183              -44.123614   \n",
       "238              SP             -26.916270              -48.652460   \n",
       "240              SP             -26.916270              -48.652460   \n",
       "242              SP             -26.916270              -48.652460   \n",
       "244              SP             -26.916270              -48.652460   \n",
       "...             ...                    ...                     ...   \n",
       "117074           SP             -22.498183              -44.123614   \n",
       "117345           SP             -27.589171              -48.579840   \n",
       "117599           SP             -25.550487              -49.189967   \n",
       "117658           SP             -19.810119              -43.984727   \n",
       "117984           PA             -24.549059              -54.051576   \n",
       "\n",
       "        geolocation_city_seller geolocation_state_seller  \n",
       "53                volta redonda                       RJ  \n",
       "238                      itajaí                       SC  \n",
       "240                      itajaí                       SC  \n",
       "242                      itajaí                       SC  \n",
       "244                      itajaí                       SC  \n",
       "...                         ...                      ...  \n",
       "117074            volta redonda                       RJ  \n",
       "117345            florianopolis                       SC  \n",
       "117599     sao jose dos pinhais                       PR  \n",
       "117658           belo horizonte                       MG  \n",
       "117984  marechal candido rondon                       PR  \n",
       "\n",
       "[653 rows x 42 columns]"
      ]
     },
     "execution_count": 35,
     "metadata": {},
     "output_type": "execute_result"
    }
   ],
   "source": [
    "data[data[\"geolocation_state_seller\"]!=data[\"seller_state\"]]"
   ]
  },
  {
   "cell_type": "markdown",
   "metadata": {},
   "source": [
    "<b> There are 653 record in which seller_state and geo_location_state_seller are not matching. \n",
    "    \n",
    "So, let us look deeply about this issue."
   ]
  },
  {
   "cell_type": "code",
   "execution_count": 36,
   "metadata": {},
   "outputs": [
    {
     "data": {
      "text/html": [
       "<div>\n",
       "<style scoped>\n",
       "    .dataframe tbody tr th:only-of-type {\n",
       "        vertical-align: middle;\n",
       "    }\n",
       "\n",
       "    .dataframe tbody tr th {\n",
       "        vertical-align: top;\n",
       "    }\n",
       "\n",
       "    .dataframe thead th {\n",
       "        text-align: right;\n",
       "    }\n",
       "</style>\n",
       "<table border=\"1\" class=\"dataframe\">\n",
       "  <thead>\n",
       "    <tr style=\"text-align: right;\">\n",
       "      <th></th>\n",
       "      <th>zip_code_prefix</th>\n",
       "      <th>geolocation_lat</th>\n",
       "      <th>geolocation_lng</th>\n",
       "      <th>geolocation_city</th>\n",
       "      <th>geolocation_state</th>\n",
       "    </tr>\n",
       "  </thead>\n",
       "  <tbody>\n",
       "    <tr>\n",
       "      <th>909293</th>\n",
       "      <td>88310</td>\n",
       "      <td>-26.891052</td>\n",
       "      <td>-48.701608</td>\n",
       "      <td>itajai</td>\n",
       "      <td>SC</td>\n",
       "    </tr>\n",
       "    <tr>\n",
       "      <th>909296</th>\n",
       "      <td>88309</td>\n",
       "      <td>-26.895500</td>\n",
       "      <td>-48.687952</td>\n",
       "      <td>itajai</td>\n",
       "      <td>SC</td>\n",
       "    </tr>\n",
       "    <tr>\n",
       "      <th>909297</th>\n",
       "      <td>88306</td>\n",
       "      <td>-26.935823</td>\n",
       "      <td>-48.627747</td>\n",
       "      <td>itajai</td>\n",
       "      <td>SC</td>\n",
       "    </tr>\n",
       "    <tr>\n",
       "      <th>909300</th>\n",
       "      <td>88311</td>\n",
       "      <td>-26.877642</td>\n",
       "      <td>-48.705441</td>\n",
       "      <td>itajai</td>\n",
       "      <td>SC</td>\n",
       "    </tr>\n",
       "    <tr>\n",
       "      <th>909307</th>\n",
       "      <td>88302</td>\n",
       "      <td>-26.920172</td>\n",
       "      <td>-48.657852</td>\n",
       "      <td>itajai</td>\n",
       "      <td>SC</td>\n",
       "    </tr>\n",
       "    <tr>\n",
       "      <th>909318</th>\n",
       "      <td>88317</td>\n",
       "      <td>-26.876740</td>\n",
       "      <td>-48.750403</td>\n",
       "      <td>itajai</td>\n",
       "      <td>SC</td>\n",
       "    </tr>\n",
       "    <tr>\n",
       "      <th>909319</th>\n",
       "      <td>88308</td>\n",
       "      <td>-26.928509</td>\n",
       "      <td>-48.700390</td>\n",
       "      <td>itajai</td>\n",
       "      <td>SC</td>\n",
       "    </tr>\n",
       "    <tr>\n",
       "      <th>909322</th>\n",
       "      <td>88303</td>\n",
       "      <td>-26.912429</td>\n",
       "      <td>-48.677381</td>\n",
       "      <td>itajai</td>\n",
       "      <td>SC</td>\n",
       "    </tr>\n",
       "    <tr>\n",
       "      <th>909332</th>\n",
       "      <td>88304</td>\n",
       "      <td>-26.899380</td>\n",
       "      <td>-48.679729</td>\n",
       "      <td>itajai</td>\n",
       "      <td>SC</td>\n",
       "    </tr>\n",
       "    <tr>\n",
       "      <th>909374</th>\n",
       "      <td>88312</td>\n",
       "      <td>-26.908691</td>\n",
       "      <td>-48.703615</td>\n",
       "      <td>itajai</td>\n",
       "      <td>SC</td>\n",
       "    </tr>\n",
       "    <tr>\n",
       "      <th>909405</th>\n",
       "      <td>88316</td>\n",
       "      <td>-26.945308</td>\n",
       "      <td>-48.718467</td>\n",
       "      <td>itajai</td>\n",
       "      <td>SC</td>\n",
       "    </tr>\n",
       "    <tr>\n",
       "      <th>910010</th>\n",
       "      <td>88318</td>\n",
       "      <td>-27.037284</td>\n",
       "      <td>-48.861505</td>\n",
       "      <td>itajai</td>\n",
       "      <td>SC</td>\n",
       "    </tr>\n",
       "    <tr>\n",
       "      <th>912083</th>\n",
       "      <td>88313</td>\n",
       "      <td>-26.971308</td>\n",
       "      <td>-48.683232</td>\n",
       "      <td>itajai</td>\n",
       "      <td>SC</td>\n",
       "    </tr>\n",
       "  </tbody>\n",
       "</table>\n",
       "</div>"
      ],
      "text/plain": [
       "        zip_code_prefix  geolocation_lat  geolocation_lng geolocation_city  \\\n",
       "909293            88310       -26.891052       -48.701608           itajai   \n",
       "909296            88309       -26.895500       -48.687952           itajai   \n",
       "909297            88306       -26.935823       -48.627747           itajai   \n",
       "909300            88311       -26.877642       -48.705441           itajai   \n",
       "909307            88302       -26.920172       -48.657852           itajai   \n",
       "909318            88317       -26.876740       -48.750403           itajai   \n",
       "909319            88308       -26.928509       -48.700390           itajai   \n",
       "909322            88303       -26.912429       -48.677381           itajai   \n",
       "909332            88304       -26.899380       -48.679729           itajai   \n",
       "909374            88312       -26.908691       -48.703615           itajai   \n",
       "909405            88316       -26.945308       -48.718467           itajai   \n",
       "910010            88318       -27.037284       -48.861505           itajai   \n",
       "912083            88313       -26.971308       -48.683232           itajai   \n",
       "\n",
       "       geolocation_state  \n",
       "909293                SC  \n",
       "909296                SC  \n",
       "909297                SC  \n",
       "909300                SC  \n",
       "909307                SC  \n",
       "909318                SC  \n",
       "909319                SC  \n",
       "909322                SC  \n",
       "909332                SC  \n",
       "909374                SC  \n",
       "909405                SC  \n",
       "910010                SC  \n",
       "912083                SC  "
      ]
     },
     "execution_count": 36,
     "metadata": {},
     "output_type": "execute_result"
    }
   ],
   "source": [
    "geo_location[(geo_location[\"geolocation_state\"]==\"SC\") & (geo_location[\"geolocation_city\"]==\"itajai\")]"
   ]
  },
  {
   "cell_type": "code",
   "execution_count": 37,
   "metadata": {},
   "outputs": [
    {
     "data": {
      "text/html": [
       "<div>\n",
       "<style scoped>\n",
       "    .dataframe tbody tr th:only-of-type {\n",
       "        vertical-align: middle;\n",
       "    }\n",
       "\n",
       "    .dataframe tbody tr th {\n",
       "        vertical-align: top;\n",
       "    }\n",
       "\n",
       "    .dataframe thead th {\n",
       "        text-align: right;\n",
       "    }\n",
       "</style>\n",
       "<table border=\"1\" class=\"dataframe\">\n",
       "  <thead>\n",
       "    <tr style=\"text-align: right;\">\n",
       "      <th></th>\n",
       "      <th>zip_code_prefix</th>\n",
       "      <th>geolocation_lat</th>\n",
       "      <th>geolocation_lng</th>\n",
       "      <th>geolocation_city</th>\n",
       "      <th>geolocation_state</th>\n",
       "    </tr>\n",
       "  </thead>\n",
       "  <tbody>\n",
       "  </tbody>\n",
       "</table>\n",
       "</div>"
      ],
      "text/plain": [
       "Empty DataFrame\n",
       "Columns: [zip_code_prefix, geolocation_lat, geolocation_lng, geolocation_city, geolocation_state]\n",
       "Index: []"
      ]
     },
     "execution_count": 37,
     "metadata": {},
     "output_type": "execute_result"
    }
   ],
   "source": [
    "geo_location[(geo_location[\"geolocation_state\"]==\"SP\") & (geo_location[\"geolocation_city\"]==\"itajai\")]"
   ]
  },
  {
   "cell_type": "code",
   "execution_count": 38,
   "metadata": {},
   "outputs": [
    {
     "data": {
      "text/html": [
       "<div>\n",
       "<style scoped>\n",
       "    .dataframe tbody tr th:only-of-type {\n",
       "        vertical-align: middle;\n",
       "    }\n",
       "\n",
       "    .dataframe tbody tr th {\n",
       "        vertical-align: top;\n",
       "    }\n",
       "\n",
       "    .dataframe thead th {\n",
       "        text-align: right;\n",
       "    }\n",
       "</style>\n",
       "<table border=\"1\" class=\"dataframe\">\n",
       "  <thead>\n",
       "    <tr style=\"text-align: right;\">\n",
       "      <th></th>\n",
       "      <th>seller_id</th>\n",
       "      <th>zip_code_prefix</th>\n",
       "      <th>seller_city</th>\n",
       "      <th>seller_state</th>\n",
       "    </tr>\n",
       "  </thead>\n",
       "  <tbody>\n",
       "    <tr>\n",
       "      <th>1303</th>\n",
       "      <td>0bae85eb84b9fb3bd773911e89288d54</td>\n",
       "      <td>88301</td>\n",
       "      <td>itajai</td>\n",
       "      <td>SP</td>\n",
       "    </tr>\n",
       "    <tr>\n",
       "      <th>1449</th>\n",
       "      <td>52b53f7061969fe471d119b6195da864</td>\n",
       "      <td>88301</td>\n",
       "      <td>itajai</td>\n",
       "      <td>SP</td>\n",
       "    </tr>\n",
       "  </tbody>\n",
       "</table>\n",
       "</div>"
      ],
      "text/plain": [
       "                             seller_id  zip_code_prefix seller_city  \\\n",
       "1303  0bae85eb84b9fb3bd773911e89288d54            88301      itajai   \n",
       "1449  52b53f7061969fe471d119b6195da864            88301      itajai   \n",
       "\n",
       "     seller_state  \n",
       "1303           SP  \n",
       "1449           SP  "
      ]
     },
     "execution_count": 38,
     "metadata": {},
     "output_type": "execute_result"
    }
   ],
   "source": [
    "sellers[(sellers[\"seller_state\"]==\"SP\") & (sellers[\"seller_city\"]==\"itajai\")]"
   ]
  },
  {
   "cell_type": "code",
   "execution_count": null,
   "metadata": {},
   "outputs": [],
   "source": []
  },
  {
   "cell_type": "markdown",
   "metadata": {},
   "source": [
    "<b>So, I googled the actual city of itajai, Brazil. Actually state is SC (Santa Catarina). Not SP (São Paulo). \n",
    "\n",
    "So,sellers data contains wrong information about this. \n",
    "    \n",
    "geo_location is accurate.\n",
    "    \n",
    "Hence it is better to drop seller_state, seller_city, since we have the correct information in geolocation data.i.e. geolocation_state_seller, geo_location_city_seller."
   ]
  },
  {
   "cell_type": "markdown",
   "metadata": {},
   "source": [
    "Since seller data has some wrong info, let us check customer data also."
   ]
  },
  {
   "cell_type": "code",
   "execution_count": 39,
   "metadata": {},
   "outputs": [
    {
     "data": {
      "text/html": [
       "<div>\n",
       "<style scoped>\n",
       "    .dataframe tbody tr th:only-of-type {\n",
       "        vertical-align: middle;\n",
       "    }\n",
       "\n",
       "    .dataframe tbody tr th {\n",
       "        vertical-align: top;\n",
       "    }\n",
       "\n",
       "    .dataframe thead th {\n",
       "        text-align: right;\n",
       "    }\n",
       "</style>\n",
       "<table border=\"1\" class=\"dataframe\">\n",
       "  <thead>\n",
       "    <tr style=\"text-align: right;\">\n",
       "      <th></th>\n",
       "      <th>order_id</th>\n",
       "      <th>payment_sequential</th>\n",
       "      <th>payment_type</th>\n",
       "      <th>payment_installments</th>\n",
       "      <th>payment_value</th>\n",
       "      <th>customer_id</th>\n",
       "      <th>order_status</th>\n",
       "      <th>order_purchase_timestamp</th>\n",
       "      <th>order_approved_at</th>\n",
       "      <th>order_delivered_carrier_date</th>\n",
       "      <th>...</th>\n",
       "      <th>shipping_limit_date</th>\n",
       "      <th>price</th>\n",
       "      <th>freight_value</th>\n",
       "      <th>zip_code_prefix_seller</th>\n",
       "      <th>seller_city</th>\n",
       "      <th>seller_state</th>\n",
       "      <th>geolocation_lat_seller</th>\n",
       "      <th>geolocation_lng_seller</th>\n",
       "      <th>geolocation_city_seller</th>\n",
       "      <th>geolocation_state_seller</th>\n",
       "    </tr>\n",
       "  </thead>\n",
       "  <tbody>\n",
       "  </tbody>\n",
       "</table>\n",
       "<p>0 rows × 42 columns</p>\n",
       "</div>"
      ],
      "text/plain": [
       "Empty DataFrame\n",
       "Columns: [order_id, payment_sequential, payment_type, payment_installments, payment_value, customer_id, order_status, order_purchase_timestamp, order_approved_at, order_delivered_carrier_date, order_delivered_customer_date, order_estimated_delivery_date, review_score, customer_unique_id, zip_code_prefix_customer, customer_city, customer_state, geolocation_lat_customer, geolocation_lng_customer, geolocation_city_customer, geolocation_state_customer, product_id, product_category_name, product_name_lenght, product_description_lenght, product_photos_qty, product_weight_g, product_length_cm, product_height_cm, product_width_cm, order_item_id, seller_id, shipping_limit_date, price, freight_value, zip_code_prefix_seller, seller_city, seller_state, geolocation_lat_seller, geolocation_lng_seller, geolocation_city_seller, geolocation_state_seller]\n",
       "Index: []\n",
       "\n",
       "[0 rows x 42 columns]"
      ]
     },
     "execution_count": 39,
     "metadata": {},
     "output_type": "execute_result"
    }
   ],
   "source": [
    "data[data[\"geolocation_state_customer\"] != data[\"customer_state\"]]"
   ]
  },
  {
   "cell_type": "code",
   "execution_count": 40,
   "metadata": {},
   "outputs": [
    {
     "data": {
      "text/html": [
       "<div>\n",
       "<style scoped>\n",
       "    .dataframe tbody tr th:only-of-type {\n",
       "        vertical-align: middle;\n",
       "    }\n",
       "\n",
       "    .dataframe tbody tr th {\n",
       "        vertical-align: top;\n",
       "    }\n",
       "\n",
       "    .dataframe thead th {\n",
       "        text-align: right;\n",
       "    }\n",
       "</style>\n",
       "<table border=\"1\" class=\"dataframe\">\n",
       "  <thead>\n",
       "    <tr style=\"text-align: right;\">\n",
       "      <th></th>\n",
       "      <th>geolocation_city_customer</th>\n",
       "      <th>customer_city</th>\n",
       "    </tr>\n",
       "  </thead>\n",
       "  <tbody>\n",
       "    <tr>\n",
       "      <th>57</th>\n",
       "      <td>jaguariúna</td>\n",
       "      <td>jaguariuna</td>\n",
       "    </tr>\n",
       "    <tr>\n",
       "      <th>58</th>\n",
       "      <td>guaraí</td>\n",
       "      <td>guarai</td>\n",
       "    </tr>\n",
       "    <tr>\n",
       "      <th>59</th>\n",
       "      <td>guaraí</td>\n",
       "      <td>guarai</td>\n",
       "    </tr>\n",
       "    <tr>\n",
       "      <th>60</th>\n",
       "      <td>guaraí</td>\n",
       "      <td>guarai</td>\n",
       "    </tr>\n",
       "    <tr>\n",
       "      <th>76</th>\n",
       "      <td>são lourenço</td>\n",
       "      <td>sao lourenco</td>\n",
       "    </tr>\n",
       "    <tr>\n",
       "      <th>...</th>\n",
       "      <td>...</td>\n",
       "      <td>...</td>\n",
       "    </tr>\n",
       "    <tr>\n",
       "      <th>118147</th>\n",
       "      <td>picuí</td>\n",
       "      <td>picui</td>\n",
       "    </tr>\n",
       "    <tr>\n",
       "      <th>118157</th>\n",
       "      <td>brasília</td>\n",
       "      <td>brasilia</td>\n",
       "    </tr>\n",
       "    <tr>\n",
       "      <th>118250</th>\n",
       "      <td>são paulo</td>\n",
       "      <td>sao paulo</td>\n",
       "    </tr>\n",
       "    <tr>\n",
       "      <th>118273</th>\n",
       "      <td>maringá</td>\n",
       "      <td>maringa</td>\n",
       "    </tr>\n",
       "    <tr>\n",
       "      <th>118291</th>\n",
       "      <td>são paulo</td>\n",
       "      <td>sao paulo</td>\n",
       "    </tr>\n",
       "  </tbody>\n",
       "</table>\n",
       "<p>8254 rows × 2 columns</p>\n",
       "</div>"
      ],
      "text/plain": [
       "       geolocation_city_customer customer_city\n",
       "57                    jaguariúna    jaguariuna\n",
       "58                        guaraí        guarai\n",
       "59                        guaraí        guarai\n",
       "60                        guaraí        guarai\n",
       "76                  são lourenço  sao lourenco\n",
       "...                          ...           ...\n",
       "118147                     picuí         picui\n",
       "118157                  brasília      brasilia\n",
       "118250                 são paulo     sao paulo\n",
       "118273                   maringá       maringa\n",
       "118291                 são paulo     sao paulo\n",
       "\n",
       "[8254 rows x 2 columns]"
      ]
     },
     "execution_count": 40,
     "metadata": {},
     "output_type": "execute_result"
    }
   ],
   "source": [
    "data[data[\"geolocation_city_customer\"]!=data[\"customer_city\"]][[\"geolocation_city_customer\",\"customer_city\"]]"
   ]
  },
  {
   "cell_type": "markdown",
   "metadata": {},
   "source": [
    "<b>We can see that customer_state and geolocation_customer_state are same. \n",
    "\n",
    "But in city names, customer_city names are in english. But geolocation_city_customer has different notation. But names are same. Here we shall drop customer_city, since geolocation_city_customer has same notations as all seller_city has."
   ]
  },
  {
   "cell_type": "code",
   "execution_count": 41,
   "metadata": {},
   "outputs": [],
   "source": [
    "data.drop([\"seller_state\",\"seller_city\",\"customer_city\",\"customer_state\"],axis=1,inplace=True)\n",
    "\n",
    "data.rename(columns =\n",
    "                    {\"geolocation_state_seller\":\"seller_state\",\"geolocation_city_seller\":\"seller_city\",\n",
    "                    \"geolocation_lng_seller\":\"lng_seller\",\"geolocation_lat_seller\":\"lat_seller\",\n",
    "                    \"geolocation_lng_customer\":\"lng_customer\",\"geolocation_lat_customer\":\"lat_customer\",\n",
    "                    \"geolocation_city_customer\":\"customer_city\",\"geolocation_state_customer\":\"customer_state\"}\n",
    "            ,inplace=True)"
   ]
  },
  {
   "cell_type": "markdown",
   "metadata": {},
   "source": [
    "<b><font color=\"red\"> There are 3 records in the data, which has 0 installment. This is weird. Also these 3 records present in rating 5. \n",
    "    \n",
    "Let us drop these 3 records with installment = 0."
   ]
  },
  {
   "cell_type": "code",
   "execution_count": 42,
   "metadata": {},
   "outputs": [
    {
     "data": {
      "text/html": [
       "<div>\n",
       "<style scoped>\n",
       "    .dataframe tbody tr th:only-of-type {\n",
       "        vertical-align: middle;\n",
       "    }\n",
       "\n",
       "    .dataframe tbody tr th {\n",
       "        vertical-align: top;\n",
       "    }\n",
       "\n",
       "    .dataframe thead th {\n",
       "        text-align: right;\n",
       "    }\n",
       "</style>\n",
       "<table border=\"1\" class=\"dataframe\">\n",
       "  <thead>\n",
       "    <tr style=\"text-align: right;\">\n",
       "      <th></th>\n",
       "      <th>order_id</th>\n",
       "      <th>payment_sequential</th>\n",
       "      <th>payment_type</th>\n",
       "      <th>payment_installments</th>\n",
       "      <th>payment_value</th>\n",
       "      <th>customer_id</th>\n",
       "      <th>order_status</th>\n",
       "      <th>order_purchase_timestamp</th>\n",
       "      <th>order_approved_at</th>\n",
       "      <th>order_delivered_carrier_date</th>\n",
       "      <th>...</th>\n",
       "      <th>order_item_id</th>\n",
       "      <th>seller_id</th>\n",
       "      <th>shipping_limit_date</th>\n",
       "      <th>price</th>\n",
       "      <th>freight_value</th>\n",
       "      <th>zip_code_prefix_seller</th>\n",
       "      <th>lat_seller</th>\n",
       "      <th>lng_seller</th>\n",
       "      <th>seller_city</th>\n",
       "      <th>seller_state</th>\n",
       "    </tr>\n",
       "  </thead>\n",
       "  <tbody>\n",
       "    <tr>\n",
       "      <th>56288</th>\n",
       "      <td>744bade1fcf9ff3f31d860ace076d422</td>\n",
       "      <td>2</td>\n",
       "      <td>credit_card</td>\n",
       "      <td>0</td>\n",
       "      <td>58.69</td>\n",
       "      <td>5e5794daaa13f73e2f1cdb4114529843</td>\n",
       "      <td>delivered</td>\n",
       "      <td>2018-04-22 11:34:42</td>\n",
       "      <td>2018-04-24 19:04:46</td>\n",
       "      <td>2018-04-24 03:14:34</td>\n",
       "      <td>...</td>\n",
       "      <td>1</td>\n",
       "      <td>7202e2ba20579a9bd1acb29e61fe71f6</td>\n",
       "      <td>2018-04-26 12:31:06</td>\n",
       "      <td>45.90</td>\n",
       "      <td>12.79</td>\n",
       "      <td>14401</td>\n",
       "      <td>-20.530671</td>\n",
       "      <td>-47.398519</td>\n",
       "      <td>franca</td>\n",
       "      <td>SP</td>\n",
       "    </tr>\n",
       "    <tr>\n",
       "      <th>91637</th>\n",
       "      <td>1a57108394169c0b47d8f876acc9ba2d</td>\n",
       "      <td>2</td>\n",
       "      <td>credit_card</td>\n",
       "      <td>0</td>\n",
       "      <td>129.94</td>\n",
       "      <td>48ebb06cf56dba9d009230cc751bb195</td>\n",
       "      <td>delivered</td>\n",
       "      <td>2018-05-15 16:25:14</td>\n",
       "      <td>2018-05-15 16:36:52</td>\n",
       "      <td>2018-05-17 12:37:00</td>\n",
       "      <td>...</td>\n",
       "      <td>1</td>\n",
       "      <td>282f23a9769b2690c5dda22e316f9941</td>\n",
       "      <td>2018-05-18 16:31:54</td>\n",
       "      <td>41.69</td>\n",
       "      <td>23.28</td>\n",
       "      <td>31573</td>\n",
       "      <td>-19.809042</td>\n",
       "      <td>-43.990070</td>\n",
       "      <td>belo horizonte</td>\n",
       "      <td>MG</td>\n",
       "    </tr>\n",
       "    <tr>\n",
       "      <th>91638</th>\n",
       "      <td>1a57108394169c0b47d8f876acc9ba2d</td>\n",
       "      <td>2</td>\n",
       "      <td>credit_card</td>\n",
       "      <td>0</td>\n",
       "      <td>129.94</td>\n",
       "      <td>48ebb06cf56dba9d009230cc751bb195</td>\n",
       "      <td>delivered</td>\n",
       "      <td>2018-05-15 16:25:14</td>\n",
       "      <td>2018-05-15 16:36:52</td>\n",
       "      <td>2018-05-17 12:37:00</td>\n",
       "      <td>...</td>\n",
       "      <td>2</td>\n",
       "      <td>282f23a9769b2690c5dda22e316f9941</td>\n",
       "      <td>2018-05-18 16:31:54</td>\n",
       "      <td>41.69</td>\n",
       "      <td>23.28</td>\n",
       "      <td>31573</td>\n",
       "      <td>-19.809042</td>\n",
       "      <td>-43.990070</td>\n",
       "      <td>belo horizonte</td>\n",
       "      <td>MG</td>\n",
       "    </tr>\n",
       "  </tbody>\n",
       "</table>\n",
       "<p>3 rows × 38 columns</p>\n",
       "</div>"
      ],
      "text/plain": [
       "                               order_id  payment_sequential payment_type  \\\n",
       "56288  744bade1fcf9ff3f31d860ace076d422                   2  credit_card   \n",
       "91637  1a57108394169c0b47d8f876acc9ba2d                   2  credit_card   \n",
       "91638  1a57108394169c0b47d8f876acc9ba2d                   2  credit_card   \n",
       "\n",
       "       payment_installments  payment_value                       customer_id  \\\n",
       "56288                     0          58.69  5e5794daaa13f73e2f1cdb4114529843   \n",
       "91637                     0         129.94  48ebb06cf56dba9d009230cc751bb195   \n",
       "91638                     0         129.94  48ebb06cf56dba9d009230cc751bb195   \n",
       "\n",
       "      order_status order_purchase_timestamp   order_approved_at  \\\n",
       "56288    delivered      2018-04-22 11:34:42 2018-04-24 19:04:46   \n",
       "91637    delivered      2018-05-15 16:25:14 2018-05-15 16:36:52   \n",
       "91638    delivered      2018-05-15 16:25:14 2018-05-15 16:36:52   \n",
       "\n",
       "      order_delivered_carrier_date  ... order_item_id  \\\n",
       "56288          2018-04-24 03:14:34  ...             1   \n",
       "91637          2018-05-17 12:37:00  ...             1   \n",
       "91638          2018-05-17 12:37:00  ...             2   \n",
       "\n",
       "                              seller_id  shipping_limit_date  price  \\\n",
       "56288  7202e2ba20579a9bd1acb29e61fe71f6  2018-04-26 12:31:06  45.90   \n",
       "91637  282f23a9769b2690c5dda22e316f9941  2018-05-18 16:31:54  41.69   \n",
       "91638  282f23a9769b2690c5dda22e316f9941  2018-05-18 16:31:54  41.69   \n",
       "\n",
       "       freight_value  zip_code_prefix_seller  lat_seller lng_seller  \\\n",
       "56288          12.79                   14401  -20.530671 -47.398519   \n",
       "91637          23.28                   31573  -19.809042 -43.990070   \n",
       "91638          23.28                   31573  -19.809042 -43.990070   \n",
       "\n",
       "          seller_city seller_state  \n",
       "56288          franca           SP  \n",
       "91637  belo horizonte           MG  \n",
       "91638  belo horizonte           MG  \n",
       "\n",
       "[3 rows x 38 columns]"
      ]
     },
     "execution_count": 42,
     "metadata": {},
     "output_type": "execute_result"
    }
   ],
   "source": [
    "data[data[\"payment_installments\"]==0]"
   ]
  },
  {
   "cell_type": "code",
   "execution_count": 43,
   "metadata": {},
   "outputs": [],
   "source": [
    "data.drop(data.index[[53769,87577,87578]],axis=0,inplace=True)"
   ]
  },
  {
   "cell_type": "code",
   "execution_count": 44,
   "metadata": {},
   "outputs": [
    {
     "data": {
      "text/html": [
       "<div>\n",
       "<style scoped>\n",
       "    .dataframe tbody tr th:only-of-type {\n",
       "        vertical-align: middle;\n",
       "    }\n",
       "\n",
       "    .dataframe tbody tr th {\n",
       "        vertical-align: top;\n",
       "    }\n",
       "\n",
       "    .dataframe thead th {\n",
       "        text-align: right;\n",
       "    }\n",
       "</style>\n",
       "<table border=\"1\" class=\"dataframe\">\n",
       "  <thead>\n",
       "    <tr style=\"text-align: right;\">\n",
       "      <th></th>\n",
       "      <th>order_id</th>\n",
       "      <th>payment_sequential</th>\n",
       "      <th>payment_type</th>\n",
       "      <th>payment_installments</th>\n",
       "      <th>payment_value</th>\n",
       "      <th>customer_id</th>\n",
       "      <th>order_status</th>\n",
       "      <th>order_purchase_timestamp</th>\n",
       "      <th>order_approved_at</th>\n",
       "      <th>order_delivered_carrier_date</th>\n",
       "      <th>...</th>\n",
       "      <th>order_item_id</th>\n",
       "      <th>seller_id</th>\n",
       "      <th>shipping_limit_date</th>\n",
       "      <th>price</th>\n",
       "      <th>freight_value</th>\n",
       "      <th>zip_code_prefix_seller</th>\n",
       "      <th>lat_seller</th>\n",
       "      <th>lng_seller</th>\n",
       "      <th>seller_city</th>\n",
       "      <th>seller_state</th>\n",
       "    </tr>\n",
       "  </thead>\n",
       "  <tbody>\n",
       "  </tbody>\n",
       "</table>\n",
       "<p>0 rows × 38 columns</p>\n",
       "</div>"
      ],
      "text/plain": [
       "Empty DataFrame\n",
       "Columns: [order_id, payment_sequential, payment_type, payment_installments, payment_value, customer_id, order_status, order_purchase_timestamp, order_approved_at, order_delivered_carrier_date, order_delivered_customer_date, order_estimated_delivery_date, review_score, customer_unique_id, zip_code_prefix_customer, lat_customer, lng_customer, customer_city, customer_state, product_id, product_category_name, product_name_lenght, product_description_lenght, product_photos_qty, product_weight_g, product_length_cm, product_height_cm, product_width_cm, order_item_id, seller_id, shipping_limit_date, price, freight_value, zip_code_prefix_seller, lat_seller, lng_seller, seller_city, seller_state]\n",
       "Index: []\n",
       "\n",
       "[0 rows x 38 columns]"
      ]
     },
     "execution_count": 44,
     "metadata": {},
     "output_type": "execute_result"
    }
   ],
   "source": [
    "data[data[\"payment_installments\"]==0]"
   ]
  },
  {
   "cell_type": "markdown",
   "metadata": {},
   "source": [
    "### map the product_category translation to data"
   ]
  },
  {
   "cell_type": "code",
   "execution_count": 45,
   "metadata": {},
   "outputs": [],
   "source": [
    "data = pd.merge(data,translation,how=\"left\",on=\"product_category_name\")"
   ]
  },
  {
   "cell_type": "code",
   "execution_count": 46,
   "metadata": {},
   "outputs": [
    {
     "data": {
      "text/plain": [
       "portateis_cozinha_e_preparadores_de_alimentos    14\n",
       "pc_gamer                                          9\n",
       "Name: product_category_name, dtype: int64"
      ]
     },
     "execution_count": 46,
     "metadata": {},
     "output_type": "execute_result"
    }
   ],
   "source": [
    "data[data[\"product_category_name_english\"].isnull()==True][\"product_category_name\"].value_counts()"
   ]
  },
  {
   "cell_type": "code",
   "execution_count": 47,
   "metadata": {},
   "outputs": [
    {
     "data": {
      "text/html": [
       "<div>\n",
       "<style scoped>\n",
       "    .dataframe tbody tr th:only-of-type {\n",
       "        vertical-align: middle;\n",
       "    }\n",
       "\n",
       "    .dataframe tbody tr th {\n",
       "        vertical-align: top;\n",
       "    }\n",
       "\n",
       "    .dataframe thead th {\n",
       "        text-align: right;\n",
       "    }\n",
       "</style>\n",
       "<table border=\"1\" class=\"dataframe\">\n",
       "  <thead>\n",
       "    <tr style=\"text-align: right;\">\n",
       "      <th></th>\n",
       "      <th>product_category_name</th>\n",
       "      <th>product_category_name_english</th>\n",
       "    </tr>\n",
       "  </thead>\n",
       "  <tbody>\n",
       "  </tbody>\n",
       "</table>\n",
       "</div>"
      ],
      "text/plain": [
       "Empty DataFrame\n",
       "Columns: [product_category_name, product_category_name_english]\n",
       "Index: []"
      ]
     },
     "execution_count": 47,
     "metadata": {},
     "output_type": "execute_result"
    }
   ],
   "source": [
    "translation[translation[\"product_category_name\"]==\"portateis_cozinha_e_preparadores_de_alimentos\"]"
   ]
  },
  {
   "cell_type": "markdown",
   "metadata": {},
   "source": [
    "<b> Translation data deos not has portateis_cozinha_e_preparadores_de_alimentos, pc_gamer.\n",
    "    \n",
    "portateis_cozinha_e_preparadores_de_alimentos english translation is kitchen_laptops_and_food_preparators\n",
    "    \n",
    "pc_gamer is pc_gamer. \n",
    "    \n",
    "Let us fill the null values in english translation by these values."
   ]
  },
  {
   "cell_type": "code",
   "execution_count": 48,
   "metadata": {},
   "outputs": [],
   "source": [
    "null_1 = data[data[\"product_category_name\"]==\"portateis_cozinha_e_preparadores_de_alimentos\"][\"product_category_name_english\"]\n",
    "null_2 = data[data[\"product_category_name\"]==\"pc_gamer\"][\"product_category_name_english\"]"
   ]
  },
  {
   "cell_type": "code",
   "execution_count": 49,
   "metadata": {},
   "outputs": [],
   "source": [
    "data.loc[null_1.index,\"product_category_name_english\"] = \"kitchen_laptops_and_food_preparators\"\n",
    "data.loc[null_2.index,\"product_category_name_english\"] = \"pc_gamer\""
   ]
  },
  {
   "cell_type": "code",
   "execution_count": 50,
   "metadata": {},
   "outputs": [],
   "source": [
    "data.drop(\"product_category_name\",inplace=True,axis=1)\n",
    "data.rename(columns={\"product_category_name_english\":\"product_category_name\"},inplace=True)"
   ]
  },
  {
   "cell_type": "code",
   "execution_count": null,
   "metadata": {},
   "outputs": [],
   "source": []
  },
  {
   "cell_type": "code",
   "execution_count": 51,
   "metadata": {},
   "outputs": [],
   "source": [
    "#let us save the data as final_data.csv, so that we do not need to run the above cells again.\n",
    "data.to_csv(\"final_data.csv\")"
   ]
  },
  {
   "cell_type": "code",
   "execution_count": null,
   "metadata": {},
   "outputs": [],
   "source": []
  },
  {
   "cell_type": "markdown",
   "metadata": {},
   "source": [
    "## Exploratory Data Analysis"
   ]
  },
  {
   "cell_type": "code",
   "execution_count": 52,
   "metadata": {},
   "outputs": [],
   "source": [
    "#load the data\n",
    "data = pd.read_csv(\"final_data.csv\")\n",
    "data.drop(\"Unnamed: 0\",axis=1,inplace=True)"
   ]
  },
  {
   "cell_type": "code",
   "execution_count": 53,
   "metadata": {},
   "outputs": [
    {
     "name": "stdout",
     "output_type": "stream",
     "text": [
      "<class 'pandas.core.frame.DataFrame'>\n",
      "RangeIndex: 113105 entries, 0 to 113104\n",
      "Data columns (total 38 columns):\n",
      " #   Column                         Non-Null Count   Dtype  \n",
      "---  ------                         --------------   -----  \n",
      " 0   order_id                       113105 non-null  object \n",
      " 1   payment_sequential             113105 non-null  int64  \n",
      " 2   payment_type                   113105 non-null  object \n",
      " 3   payment_installments           113105 non-null  int64  \n",
      " 4   payment_value                  113105 non-null  float64\n",
      " 5   customer_id                    113105 non-null  object \n",
      " 6   order_status                   113105 non-null  object \n",
      " 7   order_purchase_timestamp       113105 non-null  object \n",
      " 8   order_approved_at              113105 non-null  object \n",
      " 9   order_delivered_carrier_date   113105 non-null  object \n",
      " 10  order_delivered_customer_date  113105 non-null  object \n",
      " 11  order_estimated_delivery_date  113105 non-null  object \n",
      " 12  review_score                   113105 non-null  int64  \n",
      " 13  customer_unique_id             113105 non-null  object \n",
      " 14  zip_code_prefix_customer       113105 non-null  int64  \n",
      " 15  lat_customer                   113105 non-null  float64\n",
      " 16  lng_customer                   113105 non-null  float64\n",
      " 17  customer_city                  113105 non-null  object \n",
      " 18  customer_state                 113105 non-null  object \n",
      " 19  product_id                     113105 non-null  object \n",
      " 20  product_name_lenght            113105 non-null  float64\n",
      " 21  product_description_lenght     113105 non-null  float64\n",
      " 22  product_photos_qty             113105 non-null  float64\n",
      " 23  product_weight_g               113105 non-null  float64\n",
      " 24  product_length_cm              113105 non-null  float64\n",
      " 25  product_height_cm              113105 non-null  float64\n",
      " 26  product_width_cm               113105 non-null  float64\n",
      " 27  order_item_id                  113105 non-null  int64  \n",
      " 28  seller_id                      113105 non-null  object \n",
      " 29  shipping_limit_date            113105 non-null  object \n",
      " 30  price                          113105 non-null  float64\n",
      " 31  freight_value                  113105 non-null  float64\n",
      " 32  zip_code_prefix_seller         113105 non-null  int64  \n",
      " 33  lat_seller                     113105 non-null  float64\n",
      " 34  lng_seller                     113105 non-null  float64\n",
      " 35  seller_city                    113105 non-null  object \n",
      " 36  seller_state                   113105 non-null  object \n",
      " 37  product_category_name          113105 non-null  object \n",
      "dtypes: float64(14), int64(6), object(18)\n",
      "memory usage: 32.8+ MB\n"
     ]
    }
   ],
   "source": [
    "#info about the data\n",
    "data.info()"
   ]
  },
  {
   "cell_type": "markdown",
   "metadata": {},
   "source": [
    "<h3> Let us check the distribution of class label to understand the class balance"
   ]
  },
  {
   "cell_type": "code",
   "execution_count": 54,
   "metadata": {},
   "outputs": [
    {
     "name": "stdout",
     "output_type": "stream",
     "text": [
      "Counts :\n",
      "  5    64637\n",
      "4    21725\n",
      "1    13241\n",
      "3     9573\n",
      "2     3929\n",
      "Name: review_score, dtype: int64\n",
      "************************************************************\n",
      "Percentage distribution :\n",
      "  5    57.147783\n",
      "4    19.207816\n",
      "1    11.706821\n",
      "3     8.463817\n",
      "2     3.473763\n",
      "Name: review_score, dtype: float64\n",
      "************************************************************\n"
     ]
    },
    {
     "data": {
      "image/png": "[encoded data removed]",
      "text/plain": [
       "<Figure size 432x288 with 1 Axes>"
      ]
     },
     "metadata": {
      "needs_background": "light"
     },
     "output_type": "display_data"
    }
   ],
   "source": [
    "# checking the balance of the data\n",
    "print(\"Counts :\\n \",data[\"review_score\"].value_counts())\n",
    "print(\"**\"*30)\n",
    "print(\"Percentage distribution :\\n \",100*data[\"review_score\"].value_counts(normalize=True))\n",
    "print(\"**\"*30)\n",
    "\n",
    "plt.bar(data[\"review_score\"].value_counts().index,data[\"review_score\"].value_counts(),color=\"darkblue\")\n",
    "\n",
    "plt.xlabel(\"Ratings\")\n",
    "plt.ylabel(\"Counts\")\n",
    "plt.title(\"Distribution of review scores\")\n",
    "plt.show()"
   ]
  },
  {
   "cell_type": "markdown",
   "metadata": {},
   "source": [
    "<b> We can see that review scores distributed in <font color=\"blue\">J</font> like shape. This is the typical distribution of e-commerce review scores. Very high number of rating 5 followed by 4 and then rating 1, rating 2 and 3 are less compared to other ratings.<b>"
   ]
  },
  {
   "cell_type": "markdown",
   "metadata": {},
   "source": [
    "<b><font color=\"red\"> The dataset is highly imbalanced.</font>\n",
    "    \n",
    "There are only 3.5% datapoints which belongs to rating 2.\n",
    "    \n",
    "About 57% of datapoints belongs to rating 5. </b>"
   ]
  },
  {
   "cell_type": "markdown",
   "metadata": {},
   "source": [
    "### Correlation between features"
   ]
  },
  {
   "cell_type": "code",
   "execution_count": 55,
   "metadata": {},
   "outputs": [
    {
     "data": {
      "image/png": "[encoded data removed]",
      "text/plain": [
       "<Figure size 792x648 with 2 Axes>"
      ]
     },
     "metadata": {
      "needs_background": "light"
     },
     "output_type": "display_data"
    }
   ],
   "source": [
    "#Reference documentation: https://seaborn.pydata.org/examples/many_pairwise_correlations.html\n",
    "\n",
    "correlation = data.corr()\n",
    "#mask the above triangle\n",
    "mask = np.triu(np.ones_like(correlation,dtype='bool'))\n",
    "f, ax = plt.subplots(figsize=(11, 9))\n",
    "#colormap\n",
    "cmap = sns.diverging_palette(230, 20, as_cmap=True)\n",
    "#heatmap using seaborn\n",
    "sns.heatmap(correlation, mask=mask, cmap=cmap, vmax=.3, center=0,\n",
    "            square=True, linewidths=.5, cbar_kws={\"shrink\": .5})\n",
    "plt.show()"
   ]
  },
  {
   "cell_type": "markdown",
   "metadata": {},
   "source": [
    "#### We are interested in correlation of features with (target variable) review_score"
   ]
  },
  {
   "cell_type": "code",
   "execution_count": 56,
   "metadata": {
    "scrolled": false
   },
   "outputs": [
    {
     "data": {
      "text/plain": [
       "payment_sequential            0.007774\n",
       "payment_installments         -0.043959\n",
       "payment_value                -0.083140\n",
       "review_score                  1.000000\n",
       "zip_code_prefix_customer     -0.027236\n",
       "lat_customer                 -0.037309\n",
       "lng_customer                 -0.042775\n",
       "product_name_lenght          -0.013654\n",
       "product_description_lenght    0.014226\n",
       "product_photos_qty            0.021811\n",
       "product_weight_g             -0.027676\n",
       "product_length_cm            -0.020965\n",
       "product_height_cm            -0.023773\n",
       "product_width_cm             -0.012380\n",
       "order_item_id                -0.138087\n",
       "price                         0.002252\n",
       "freight_value                -0.034503\n",
       "zip_code_prefix_seller        0.026792\n",
       "lat_seller                   -0.009388\n",
       "lng_seller                    0.012411\n",
       "Name: review_score, dtype: float64"
      ]
     },
     "execution_count": 56,
     "metadata": {},
     "output_type": "execute_result"
    }
   ],
   "source": [
    "data.corr()[\"review_score\"]"
   ]
  },
  {
   "cell_type": "markdown",
   "metadata": {},
   "source": [
    "It seems that none of the existing numerical features are highly correlated with the target variable.\n",
    "\n",
    "Surprisingly price is very very less correlated with the review scoring. Similarly freight value."
   ]
  },
  {
   "cell_type": "markdown",
   "metadata": {},
   "source": [
    "## 2.4 Univariate analysis"
   ]
  },
  {
   "cell_type": "code",
   "execution_count": 57,
   "metadata": {},
   "outputs": [],
   "source": [
    "#let us split the data with respect to review rating. "
   ]
  },
  {
   "cell_type": "code",
   "execution_count": 58,
   "metadata": {},
   "outputs": [],
   "source": [
    "rate_1 = data[data[\"review_score\"]==1] \n",
    "rate_2 = data[data[\"review_score\"]==2] \n",
    "rate_3 = data[data[\"review_score\"]==3] \n",
    "rate_4 = data[data[\"review_score\"]==4] \n",
    "rate_5 = data[data[\"review_score\"]==5] "
   ]
  },
  {
   "cell_type": "markdown",
   "metadata": {},
   "source": [
    "### 2.4.1 payment_type analysis with review_score"
   ]
  },
  {
   "cell_type": "code",
   "execution_count": 59,
   "metadata": {},
   "outputs": [],
   "source": [
    "#let us check some relation in type and sequential and installments"
   ]
  },
  {
   "cell_type": "code",
   "execution_count": 60,
   "metadata": {},
   "outputs": [
    {
     "data": {
      "text/html": [
       "<div>\n",
       "<style scoped>\n",
       "    .dataframe tbody tr th:only-of-type {\n",
       "        vertical-align: middle;\n",
       "    }\n",
       "\n",
       "    .dataframe tbody tr th {\n",
       "        vertical-align: top;\n",
       "    }\n",
       "\n",
       "    .dataframe thead th {\n",
       "        text-align: right;\n",
       "    }\n",
       "</style>\n",
       "<table border=\"1\" class=\"dataframe\">\n",
       "  <thead>\n",
       "    <tr style=\"text-align: right;\">\n",
       "      <th></th>\n",
       "      <th>order_id</th>\n",
       "      <th>payment_sequential</th>\n",
       "      <th>payment_type</th>\n",
       "      <th>payment_installments</th>\n",
       "      <th>payment_value</th>\n",
       "      <th>customer_id</th>\n",
       "      <th>order_status</th>\n",
       "      <th>order_purchase_timestamp</th>\n",
       "      <th>order_approved_at</th>\n",
       "      <th>order_delivered_carrier_date</th>\n",
       "      <th>...</th>\n",
       "      <th>seller_id</th>\n",
       "      <th>shipping_limit_date</th>\n",
       "      <th>price</th>\n",
       "      <th>freight_value</th>\n",
       "      <th>zip_code_prefix_seller</th>\n",
       "      <th>lat_seller</th>\n",
       "      <th>lng_seller</th>\n",
       "      <th>seller_city</th>\n",
       "      <th>seller_state</th>\n",
       "      <th>product_category_name</th>\n",
       "    </tr>\n",
       "  </thead>\n",
       "  <tbody>\n",
       "  </tbody>\n",
       "</table>\n",
       "<p>0 rows × 38 columns</p>\n",
       "</div>"
      ],
      "text/plain": [
       "Empty DataFrame\n",
       "Columns: [order_id, payment_sequential, payment_type, payment_installments, payment_value, customer_id, order_status, order_purchase_timestamp, order_approved_at, order_delivered_carrier_date, order_delivered_customer_date, order_estimated_delivery_date, review_score, customer_unique_id, zip_code_prefix_customer, lat_customer, lng_customer, customer_city, customer_state, product_id, product_name_lenght, product_description_lenght, product_photos_qty, product_weight_g, product_length_cm, product_height_cm, product_width_cm, order_item_id, seller_id, shipping_limit_date, price, freight_value, zip_code_prefix_seller, lat_seller, lng_seller, seller_city, seller_state, product_category_name]\n",
       "Index: []\n",
       "\n",
       "[0 rows x 38 columns]"
      ]
     },
     "execution_count": 60,
     "metadata": {},
     "output_type": "execute_result"
    }
   ],
   "source": [
    "data[(data[\"payment_type\"]!=\"voucher\") & (data[\"payment_sequential\"]>3)]"
   ]
  },
  {
   "cell_type": "code",
   "execution_count": 61,
   "metadata": {},
   "outputs": [
    {
     "data": {
      "text/html": [
       "<div>\n",
       "<style scoped>\n",
       "    .dataframe tbody tr th:only-of-type {\n",
       "        vertical-align: middle;\n",
       "    }\n",
       "\n",
       "    .dataframe tbody tr th {\n",
       "        vertical-align: top;\n",
       "    }\n",
       "\n",
       "    .dataframe thead th {\n",
       "        text-align: right;\n",
       "    }\n",
       "</style>\n",
       "<table border=\"1\" class=\"dataframe\">\n",
       "  <thead>\n",
       "    <tr style=\"text-align: right;\">\n",
       "      <th></th>\n",
       "      <th>order_id</th>\n",
       "      <th>payment_sequential</th>\n",
       "      <th>payment_type</th>\n",
       "      <th>payment_installments</th>\n",
       "      <th>payment_value</th>\n",
       "      <th>customer_id</th>\n",
       "      <th>order_status</th>\n",
       "      <th>order_purchase_timestamp</th>\n",
       "      <th>order_approved_at</th>\n",
       "      <th>order_delivered_carrier_date</th>\n",
       "      <th>...</th>\n",
       "      <th>seller_id</th>\n",
       "      <th>shipping_limit_date</th>\n",
       "      <th>price</th>\n",
       "      <th>freight_value</th>\n",
       "      <th>zip_code_prefix_seller</th>\n",
       "      <th>lat_seller</th>\n",
       "      <th>lng_seller</th>\n",
       "      <th>seller_city</th>\n",
       "      <th>seller_state</th>\n",
       "      <th>product_category_name</th>\n",
       "    </tr>\n",
       "  </thead>\n",
       "  <tbody>\n",
       "  </tbody>\n",
       "</table>\n",
       "<p>0 rows × 38 columns</p>\n",
       "</div>"
      ],
      "text/plain": [
       "Empty DataFrame\n",
       "Columns: [order_id, payment_sequential, payment_type, payment_installments, payment_value, customer_id, order_status, order_purchase_timestamp, order_approved_at, order_delivered_carrier_date, order_delivered_customer_date, order_estimated_delivery_date, review_score, customer_unique_id, zip_code_prefix_customer, lat_customer, lng_customer, customer_city, customer_state, product_id, product_name_lenght, product_description_lenght, product_photos_qty, product_weight_g, product_length_cm, product_height_cm, product_width_cm, order_item_id, seller_id, shipping_limit_date, price, freight_value, zip_code_prefix_seller, lat_seller, lng_seller, seller_city, seller_state, product_category_name]\n",
       "Index: []\n",
       "\n",
       "[0 rows x 38 columns]"
      ]
     },
     "execution_count": 61,
     "metadata": {},
     "output_type": "execute_result"
    }
   ],
   "source": [
    "data[(data[\"payment_sequential\"]>3) & (data[\"payment_installments\"]>1)]"
   ]
  },
  {
   "cell_type": "code",
   "execution_count": 62,
   "metadata": {},
   "outputs": [
    {
     "data": {
      "text/html": [
       "<div>\n",
       "<style scoped>\n",
       "    .dataframe tbody tr th:only-of-type {\n",
       "        vertical-align: middle;\n",
       "    }\n",
       "\n",
       "    .dataframe tbody tr th {\n",
       "        vertical-align: top;\n",
       "    }\n",
       "\n",
       "    .dataframe thead th {\n",
       "        text-align: right;\n",
       "    }\n",
       "</style>\n",
       "<table border=\"1\" class=\"dataframe\">\n",
       "  <thead>\n",
       "    <tr style=\"text-align: right;\">\n",
       "      <th></th>\n",
       "      <th>order_id</th>\n",
       "      <th>payment_sequential</th>\n",
       "      <th>payment_type</th>\n",
       "      <th>payment_installments</th>\n",
       "      <th>payment_value</th>\n",
       "      <th>customer_id</th>\n",
       "      <th>order_status</th>\n",
       "      <th>order_purchase_timestamp</th>\n",
       "      <th>order_approved_at</th>\n",
       "      <th>order_delivered_carrier_date</th>\n",
       "      <th>...</th>\n",
       "      <th>seller_id</th>\n",
       "      <th>shipping_limit_date</th>\n",
       "      <th>price</th>\n",
       "      <th>freight_value</th>\n",
       "      <th>zip_code_prefix_seller</th>\n",
       "      <th>lat_seller</th>\n",
       "      <th>lng_seller</th>\n",
       "      <th>seller_city</th>\n",
       "      <th>seller_state</th>\n",
       "      <th>product_category_name</th>\n",
       "    </tr>\n",
       "  </thead>\n",
       "  <tbody>\n",
       "  </tbody>\n",
       "</table>\n",
       "<p>0 rows × 38 columns</p>\n",
       "</div>"
      ],
      "text/plain": [
       "Empty DataFrame\n",
       "Columns: [order_id, payment_sequential, payment_type, payment_installments, payment_value, customer_id, order_status, order_purchase_timestamp, order_approved_at, order_delivered_carrier_date, order_delivered_customer_date, order_estimated_delivery_date, review_score, customer_unique_id, zip_code_prefix_customer, lat_customer, lng_customer, customer_city, customer_state, product_id, product_name_lenght, product_description_lenght, product_photos_qty, product_weight_g, product_length_cm, product_height_cm, product_width_cm, order_item_id, seller_id, shipping_limit_date, price, freight_value, zip_code_prefix_seller, lat_seller, lng_seller, seller_city, seller_state, product_category_name]\n",
       "Index: []\n",
       "\n",
       "[0 rows x 38 columns]"
      ]
     },
     "execution_count": 62,
     "metadata": {},
     "output_type": "execute_result"
    }
   ],
   "source": [
    "data[(data[\"payment_type\"]==\"voucher\") & (data[\"payment_installments\"]>1)]"
   ]
  },
  {
   "cell_type": "markdown",
   "metadata": {},
   "source": [
    "* For payment sequential more than 3, all the payment methods are voucher.\n",
    "* payment installments more than 1 present for payment_sequential 1, 2, 3. For payment_sequential more than 3, there is only one installment.\n",
    "* For all voucher payment methods, installment is 1. "
   ]
  },
  {
   "cell_type": "code",
   "execution_count": 66,
   "metadata": {
    "scrolled": true
   },
   "outputs": [
    {
     "name": "stdout",
     "output_type": "stream",
     "text": [
      "credit_card    0.737854\n",
      "boleto         0.194580\n",
      "voucher        0.053225\n",
      "debit_card     0.014341\n",
      "Name: payment_type, dtype: float64\n"
     ]
    }
   ],
   "source": [
    "print(data[\"payment_type\"].value_counts(normalize=True))"
   ]
  },
  {
   "cell_type": "code",
   "execution_count": 67,
   "metadata": {},
   "outputs": [
    {
     "data": {
      "text/html": [
       "<div>\n",
       "<style scoped>\n",
       "    .dataframe tbody tr th:only-of-type {\n",
       "        vertical-align: middle;\n",
       "    }\n",
       "\n",
       "    .dataframe tbody tr th {\n",
       "        vertical-align: top;\n",
       "    }\n",
       "\n",
       "    .dataframe thead th {\n",
       "        text-align: right;\n",
       "    }\n",
       "</style>\n",
       "<table border=\"1\" class=\"dataframe\">\n",
       "  <thead>\n",
       "    <tr style=\"text-align: right;\">\n",
       "      <th>payment_type</th>\n",
       "      <th>boleto</th>\n",
       "      <th>credit_card</th>\n",
       "      <th>debit_card</th>\n",
       "      <th>voucher</th>\n",
       "    </tr>\n",
       "    <tr>\n",
       "      <th>review_score</th>\n",
       "      <th></th>\n",
       "      <th></th>\n",
       "      <th></th>\n",
       "      <th></th>\n",
       "    </tr>\n",
       "  </thead>\n",
       "  <tbody>\n",
       "    <tr>\n",
       "      <th>1</th>\n",
       "      <td>0.195227</td>\n",
       "      <td>0.740427</td>\n",
       "      <td>0.011253</td>\n",
       "      <td>0.053093</td>\n",
       "    </tr>\n",
       "    <tr>\n",
       "      <th>2</th>\n",
       "      <td>0.186561</td>\n",
       "      <td>0.734284</td>\n",
       "      <td>0.013489</td>\n",
       "      <td>0.065666</td>\n",
       "    </tr>\n",
       "    <tr>\n",
       "      <th>3</th>\n",
       "      <td>0.201922</td>\n",
       "      <td>0.731954</td>\n",
       "      <td>0.012744</td>\n",
       "      <td>0.053379</td>\n",
       "    </tr>\n",
       "    <tr>\n",
       "      <th>4</th>\n",
       "      <td>0.198113</td>\n",
       "      <td>0.736110</td>\n",
       "      <td>0.013763</td>\n",
       "      <td>0.052014</td>\n",
       "    </tr>\n",
       "    <tr>\n",
       "      <th>5</th>\n",
       "      <td>0.192661</td>\n",
       "      <td>0.739004</td>\n",
       "      <td>0.015456</td>\n",
       "      <td>0.052880</td>\n",
       "    </tr>\n",
       "  </tbody>\n",
       "</table>\n",
       "</div>"
      ],
      "text/plain": [
       "payment_type    boleto  credit_card  debit_card   voucher\n",
       "review_score                                             \n",
       "1             0.195227     0.740427    0.011253  0.053093\n",
       "2             0.186561     0.734284    0.013489  0.065666\n",
       "3             0.201922     0.731954    0.012744  0.053379\n",
       "4             0.198113     0.736110    0.013763  0.052014\n",
       "5             0.192661     0.739004    0.015456  0.052880"
      ]
     },
     "execution_count": 67,
     "metadata": {},
     "output_type": "execute_result"
    }
   ],
   "source": [
    "#payment_type grouped by review_score\n",
    "pay_type_score = data.groupby(\"review_score\")[\"payment_type\"].value_counts(normalize=True)\n",
    "pay_type_score.unstack()"
   ]
  },
  {
   "cell_type": "markdown",
   "metadata": {},
   "source": [
    "<b> Distribution of different payment types in each review rating is almost same as in the original data.\n",
    "\n",
    "Each of the ratings has nearly 74% of credit card payment. Roughly 1.2%-1.4% debit card payment. "
   ]
  },
  {
   "cell_type": "code",
   "execution_count": 68,
   "metadata": {},
   "outputs": [
    {
     "data": {
      "image/png": "[encoded data removed]",
      "text/plain": [
       "<Figure size 1080x432 with 1 Axes>"
      ]
     },
     "metadata": {
      "needs_background": "light"
     },
     "output_type": "display_data"
    }
   ],
   "source": [
    "pay_type_score.unstack().plot.bar(figsize=(15,6)).legend(loc=\"best\")\n",
    "plt.ylabel(\"percentage of counts\")\n",
    "plt.title(\"Distribution of payment type with respect to review_score\")\n",
    "plt.show()"
   ]
  },
  {
   "cell_type": "markdown",
   "metadata": {},
   "source": [
    "<b> From the plot also we can see that, the distribution is same"
   ]
  },
  {
   "cell_type": "markdown",
   "metadata": {},
   "source": [
    "<b> Let us test statistically, whether payment_type and review_score dependent or independent."
   ]
  },
  {
   "cell_type": "markdown",
   "metadata": {},
   "source": [
    "<b> Chi-square test with significance level alpha=0.05"
   ]
  },
  {
   "cell_type": "markdown",
   "metadata": {},
   "source": [
    "<font color=\"darkblue\"><b> Null hypothesis :</b> payment_type and review_score are not related i.e. independent\n",
    "    \n",
    "<b><font color=\"darkblue\"> Althernative hypothesis: </b> payment_type and review_score are related i.e. dependent"
   ]
  },
  {
   "cell_type": "code",
   "execution_count": 69,
   "metadata": {},
   "outputs": [],
   "source": [
    "#reference: https://machinelearningmastery.com/chi-squared-test-for-machine-learning/\n",
    "from scipy.stats import chi2_contingency,chi2\n",
    "\n",
    "#creating contengency table\n",
    "table = pd.crosstab(data[\"payment_type\"],data[\"review_score\"],margins=False)\n",
    "\n",
    "#chi_square test using scipy.stats library\n",
    "chi_2,p_value,dof,expected = chi2_contingency(table)"
   ]
  },
  {
   "cell_type": "code",
   "execution_count": 70,
   "metadata": {},
   "outputs": [
    {
     "name": "stdout",
     "output_type": "stream",
     "text": [
      "Level of significance :  0.05\n",
      "p-value is :  0.00027649502286312483\n",
      "Reject null hypothesis\n",
      "******************************\n",
      "Critical value is :  21.02606981748307\n",
      "chi2(test statistic) value is :  36.42753432616247\n",
      "Reject null hypothesis\n"
     ]
    }
   ],
   "source": [
    "alpha = 0.05\n",
    "print(\"Level of significance : \",alpha)\n",
    "print(\"p-value is : \",p_value)\n",
    "\n",
    "if p_value < alpha:\n",
    "    print(\"Reject null hypothesis\")\n",
    "else:\n",
    "    print(\"Failed to reject null hypothesis\")\n",
    "print(\"*\"*30)    \n",
    "#interpreting test statistic    \n",
    "prob=0.95\n",
    "critical = chi2.ppf(prob, dof)\n",
    "\n",
    "print(\"Critical value is : \",critical)\n",
    "print(\"chi2(test statistic) value is : \",chi_2)\n",
    "\n",
    "if chi_2>=critical:\n",
    "    print(\"Reject null hypothesis\")\n",
    "else:\n",
    "    print(\"Failed to reject null hypothesis\")\n",
    "    "
   ]
  },
  {
   "cell_type": "markdown",
   "metadata": {},
   "source": [
    "<b> <font color=\"darkblue\">Hence we can conclude that dependence of review_score on payment_type is statistically significant"
   ]
  },
  {
   "cell_type": "code",
   "execution_count": null,
   "metadata": {},
   "outputs": [],
   "source": []
  },
  {
   "cell_type": "code",
   "execution_count": null,
   "metadata": {},
   "outputs": [],
   "source": []
  },
  {
   "cell_type": "markdown",
   "metadata": {},
   "source": [
    "### 2.4.2 payment_installments analysis with review_score"
   ]
  },
  {
   "cell_type": "code",
   "execution_count": 71,
   "metadata": {
    "scrolled": false
   },
   "outputs": [
    {
     "data": {
      "image/png": "[encoded data removed]",
      "text/plain": [
       "<Figure size 504.75x432 with 1 Axes>"
      ]
     },
     "metadata": {
      "needs_background": "light"
     },
     "output_type": "display_data"
    }
   ],
   "source": [
    "#plotting density plot of installments wrt each ratings\n",
    "sns.FacetGrid(data,hue=\"review_score\",height=6)\\\n",
    "    .map(sns.kdeplot,\"payment_installments\")\\\n",
    "    .add_legend()\n",
    "plt.show()"
   ]
  },
  {
   "cell_type": "code",
   "execution_count": 72,
   "metadata": {},
   "outputs": [
    {
     "data": {
      "image/png": "[encoded data removed]",
      "text/plain": [
       "<Figure size 432x288 with 1 Axes>"
      ]
     },
     "metadata": {
      "needs_background": "light"
     },
     "output_type": "display_data"
    }
   ],
   "source": [
    "#distribution between rating 2 and rating 5\n",
    "sns.kdeplot(rate_2[\"payment_installments\"],label=\"rating 2\")\n",
    "sns.kdeplot(rate_5[\"payment_installments\"],label=\"rating 5\")\n",
    "\n",
    "plt.title(\"Distribution of payment installments among different ratings\")\n",
    "plt.legend()\n",
    "plt.show()"
   ]
  },
  {
   "cell_type": "markdown",
   "metadata": {},
   "source": [
    "* Distributions are not separable. \n",
    "* Density is peak at installments 1 for rating 5 compared to rating 2."
   ]
  },
  {
   "cell_type": "code",
   "execution_count": 73,
   "metadata": {},
   "outputs": [
    {
     "data": {
      "image/png": "[encoded data removed]",
      "text/plain": [
       "<Figure size 432x288 with 1 Axes>"
      ]
     },
     "metadata": {
      "needs_background": "light"
     },
     "output_type": "display_data"
    }
   ],
   "source": [
    "#distribution between rating 4 and rating 5\n",
    "sns.kdeplot(rate_4[\"payment_installments\"],label=\"rating 4\")\n",
    "sns.kdeplot(rate_5[\"payment_installments\"],label=\"rating 5\")\n",
    "\n",
    "plt.title(\"Distribution of payment installments among different ratings\")\n",
    "plt.legend()\n",
    "plt.show()"
   ]
  },
  {
   "cell_type": "markdown",
   "metadata": {},
   "source": [
    "* Installment distribution of rating 4 is highly overlapping with the same of rating 5"
   ]
  },
  {
   "cell_type": "markdown",
   "metadata": {},
   "source": [
    "* From the density distribution of installments we can see that, ratings are not separable using installments alone.\n",
    "* Distribution plots are highly overlapped. "
   ]
  },
  {
   "cell_type": "markdown",
   "metadata": {},
   "source": [
    "<b> Since this distributon looks like follow power law, let us consider log scale."
   ]
  },
  {
   "cell_type": "code",
   "execution_count": 74,
   "metadata": {},
   "outputs": [
    {
     "data": {
      "image/png": "[encoded data removed]",
      "text/plain": [
       "<Figure size 432x288 with 1 Axes>"
      ]
     },
     "metadata": {
      "needs_background": "light"
     },
     "output_type": "display_data"
    }
   ],
   "source": [
    "sns.kdeplot(np.log(rate_1[\"payment_installments\"]),label=\"rating 1\")\n",
    "sns.kdeplot(np.log(rate_2[\"payment_installments\"]),label=\"rating 2\")\n",
    "sns.kdeplot(np.log(rate_3[\"payment_installments\"]),label=\"rating 3\")\n",
    "sns.kdeplot(np.log(rate_4[\"payment_installments\"]),label=\"rating 4\")\n",
    "sns.kdeplot(np.log(rate_5[\"payment_installments\"]),label=\"rating 5\")\n",
    "\n",
    "plt.title(\"Distribution of log of payment installments among different ratings\")\n",
    "plt.xlabel(\"log of payment_installments\")\n",
    "plt.legend()\n",
    "plt.show()"
   ]
  },
  {
   "cell_type": "code",
   "execution_count": null,
   "metadata": {},
   "outputs": [],
   "source": []
  },
  {
   "cell_type": "markdown",
   "metadata": {},
   "source": [
    "* Most of the installments = 1 in all ratings.\n",
    "* Distribution of installments is almost similar among all the ratings.\n",
    "* payment_installment alone cannot distinguish among the ratings."
   ]
  },
  {
   "cell_type": "code",
   "execution_count": 75,
   "metadata": {},
   "outputs": [
    {
     "data": {
      "image/png": "[encoded data removed]",
      "text/plain": [
       "<Figure size 504.75x432 with 1 Axes>"
      ]
     },
     "metadata": {
      "needs_background": "light"
     },
     "output_type": "display_data"
    }
   ],
   "source": [
    "#plotting cdf\n",
    "sns.FacetGrid(data,hue=\"review_score\",height=6)\\\n",
    "    .map(sns.ecdfplot,\"payment_installments\")\\\n",
    "    .add_legend()\n",
    "\n",
    "\n",
    "plt.title(\"CDF of payment installments among different ratings\")\n",
    "plt.xlabel(\"payment_installments\")\n",
    "plt.show()"
   ]
  },
  {
   "cell_type": "markdown",
   "metadata": {},
   "source": [
    "* We cannot say anything more from cdf also.\n",
    "* Plots are overlapped. payment_installment is discrete value. At each value the percentage of data lies below is almost same for all ratings."
   ]
  },
  {
   "cell_type": "code",
   "execution_count": 76,
   "metadata": {},
   "outputs": [
    {
     "data": {
      "image/png": "[encoded data removed]",
      "text/plain": [
       "<Figure size 432x288 with 1 Axes>"
      ]
     },
     "metadata": {
      "needs_background": "light"
     },
     "output_type": "display_data"
    }
   ],
   "source": [
    "#boxplot\n",
    "sns.boxplot(y=\"payment_installments\",x=\"review_score\",data=data)\n",
    "plt.show()"
   ]
  },
  {
   "cell_type": "code",
   "execution_count": 77,
   "metadata": {},
   "outputs": [
    {
     "data": {
      "text/plain": [
       "review_score\n",
       "1    3.292425\n",
       "2    3.149147\n",
       "3    2.982451\n",
       "4    2.807089\n",
       "5    2.898294\n",
       "Name: payment_installments, dtype: float64"
      ]
     },
     "execution_count": 77,
     "metadata": {},
     "output_type": "execute_result"
    }
   ],
   "source": [
    "#mean installments\n",
    "data.groupby(\"review_score\")[\"payment_installments\"].mean()"
   ]
  },
  {
   "cell_type": "code",
   "execution_count": 78,
   "metadata": {},
   "outputs": [
    {
     "data": {
      "text/plain": [
       "review_score\n",
       "1    24.00\n",
       "2    15.36\n",
       "3    15.00\n",
       "4    15.00\n",
       "5    15.00\n",
       "Name: payment_installments, dtype: float64"
      ]
     },
     "execution_count": 78,
     "metadata": {},
     "output_type": "execute_result"
    }
   ],
   "source": [
    "#99.9% installments\n",
    "data.groupby(\"review_score\")[\"payment_installments\"].apply(lambda x: np.percentile(x,99.9))"
   ]
  },
  {
   "cell_type": "markdown",
   "metadata": {},
   "source": [
    "* Obviously the first observation is box plot of all ratings overlapped.\n",
    "* There are outliers in the payment_installments. \n",
    "* becuase, from the boxplot we can see that 75% of data lies below payment_installments less than 5. \n",
    "* There are very very less datapoints which have installments greater than 10 in each ratings. \n",
    "* Median of rating 1,2,3 are almost same that is equal to 2. Whereas for rating 4 and 5, median is 1.\n",
    "\n",
    "* Most of the datapoints (75%) which has rating 3, 4 or 5, have installments below 4. The same for rating 2 and 1, is 5.\n",
    "* Average payment installments for rating 1 and 2 are slightly high compared to rating 3,4,5. But the difference is not significant.\n",
    "\n",
    "* 99.9% of data points are below installments = 15 in case of ratings 2,3,4,5. Where is 99.9 percentile of rating 1 is 24."
   ]
  },
  {
   "cell_type": "code",
   "execution_count": null,
   "metadata": {},
   "outputs": [],
   "source": []
  },
  {
   "cell_type": "markdown",
   "metadata": {},
   "source": [
    "### 2.4.3 payment_sequential analysis with review_score"
   ]
  },
  {
   "cell_type": "code",
   "execution_count": 79,
   "metadata": {},
   "outputs": [
    {
     "data": {
      "image/png": "[encoded data removed]",
      "text/plain": [
       "<Figure size 504.75x432 with 1 Axes>"
      ]
     },
     "metadata": {
      "needs_background": "light"
     },
     "output_type": "display_data"
    }
   ],
   "source": [
    "#plotting density plot of installments wrt each ratings\n",
    "sns.FacetGrid(data,hue=\"review_score\",height=6)\\\n",
    "    .map(sns.kdeplot,\"payment_sequential\")\\\n",
    "    .add_legend()\n",
    "plt.show()"
   ]
  },
  {
   "cell_type": "markdown",
   "metadata": {},
   "source": [
    "<b> it seems that density of payment_sequential of rating 3 is high at payment_sequential = 1 compared to other ratings.\n",
    "But let us check this"
   ]
  },
  {
   "cell_type": "code",
   "execution_count": 80,
   "metadata": {},
   "outputs": [
    {
     "data": {
      "image/png": "[encoded data removed]",
      "text/plain": [
       "<Figure size 432x288 with 1 Axes>"
      ]
     },
     "metadata": {
      "needs_background": "light"
     },
     "output_type": "display_data"
    }
   ],
   "source": [
    "sns.kdeplot((rate_3[\"payment_sequential\"]),label=\"rating 3\")\n",
    "sns.kdeplot((rate_5[\"payment_sequential\"]),label=\"rating 5\")\n",
    "\n",
    "plt.title(\"Distribution of payment_sequential among different ratings\")\n",
    "plt.xlabel(\"payment_sequential\")\n",
    "plt.legend()\n",
    "plt.show()"
   ]
  },
  {
   "cell_type": "markdown",
   "metadata": {},
   "source": [
    "<b> Yes!! Density of rating 3 at payment_sequential=1 is peaked comapared to the same of rating 5. "
   ]
  },
  {
   "cell_type": "markdown",
   "metadata": {},
   "source": [
    "<b> Distribution of payment_sequential is highly overlapped in all the ratings data. From this we can clearly see that we cannot distinguish among the ratings. \n",
    "    \n",
    "Here also we cannot get any helpful information from payment_sequential alone"
   ]
  },
  {
   "cell_type": "code",
   "execution_count": 81,
   "metadata": {},
   "outputs": [
    {
     "data": {
      "image/png": "[encoded data removed]",
      "text/plain": [
       "<Figure size 432x288 with 1 Axes>"
      ]
     },
     "metadata": {
      "needs_background": "light"
     },
     "output_type": "display_data"
    },
    {
     "name": "stdout",
     "output_type": "stream",
     "text": [
      "Mean \n",
      " review_score\n",
      "1    1.085945\n",
      "2    1.095444\n",
      "3    1.062572\n",
      "4    1.085432\n",
      "5    1.096787\n",
      "Name: payment_sequential, dtype: float64\n",
      "99.9 percentile \n",
      " review_score\n",
      "1    1.0\n",
      "2    2.0\n",
      "3    1.0\n",
      "4    1.0\n",
      "5    1.0\n",
      "Name: payment_sequential, dtype: float64\n"
     ]
    }
   ],
   "source": [
    "sns.boxplot(y=\"payment_sequential\",x=\"review_score\",data=data)\n",
    "plt.show()\n",
    "\n",
    "#mean installments\n",
    "print(\"Mean \\n\",data.groupby(\"review_score\")[\"payment_sequential\"].mean())\n",
    "\n",
    "#99.9% installments\n",
    "print(\"99.9 percentile \\n\",data.groupby(\"review_score\")[\"payment_sequential\"].apply(lambda x: np.percentile(x,95)))"
   ]
  },
  {
   "cell_type": "markdown",
   "metadata": {},
   "source": [
    "* payment_sequential is also discrete feature. Its value is ranging between 1 to 26.\n",
    "* From the boxplot we can see that, there are very less values of sequential greater than 1 in each rating. So these are considered as outliers in the boxplot.\n",
    "* Mean value for each rating is almost same. There is no difference among the mean values.\n",
    "* From 99.9 percentile value, we can clearly say that, 99.9% of data points contains sequential = 1 for all ratings except for rating 2(sequential is 2)\n",
    "* It is clear that payment_sequential alone cannot give any information to distinguish among ratings. Than means it does not has significant effect on review_rating."
   ]
  },
  {
   "cell_type": "markdown",
   "metadata": {},
   "source": [
    "### 2.4.4 payment_value analysis with review_score"
   ]
  },
  {
   "cell_type": "code",
   "execution_count": 82,
   "metadata": {},
   "outputs": [
    {
     "data": {
      "image/png": "[encoded data removed]",
      "text/plain": [
       "<Figure size 504.75x432 with 1 Axes>"
      ]
     },
     "metadata": {
      "needs_background": "light"
     },
     "output_type": "display_data"
    }
   ],
   "source": [
    "#plotting density plot of installments wrt each ratings\n",
    "sns.FacetGrid(data,hue=\"review_score\",height=6)\\\n",
    "    .map(sns.kdeplot,\"payment_value\")\\\n",
    "    .add_legend()\n",
    "plt.show()"
   ]
  },
  {
   "cell_type": "code",
   "execution_count": 83,
   "metadata": {},
   "outputs": [],
   "source": [
    "#above density plot is overlapped. So we cannot get much insight from this. let us have a look at numbers."
   ]
  },
  {
   "cell_type": "code",
   "execution_count": null,
   "metadata": {},
   "outputs": [],
   "source": []
  },
  {
   "cell_type": "code",
   "execution_count": 84,
   "metadata": {},
   "outputs": [
    {
     "data": {
      "image/png": "[encoded data removed]",
      "text/plain": [
       "<Figure size 432x288 with 1 Axes>"
      ]
     },
     "metadata": {
      "needs_background": "light"
     },
     "output_type": "display_data"
    },
    {
     "name": "stdout",
     "output_type": "stream",
     "text": [
      "Mean \n",
      " review_score\n",
      "1    238.378781\n",
      "2    185.442909\n",
      "3    168.537174\n",
      "4    164.140398\n",
      "5    161.243232\n",
      "Name: payment_value, dtype: float64\n",
      "99.9 percentile \n",
      " review_score\n",
      "1    464.890\n",
      "2    372.840\n",
      "3    334.414\n",
      "4    323.900\n",
      "5    317.850\n",
      "Name: payment_value, dtype: float64\n"
     ]
    }
   ],
   "source": [
    "sns.boxplot(y=\"payment_value\",x=\"review_score\",data=data)\n",
    "plt.show()\n",
    "\n",
    "#mean payment_value\n",
    "print(\"Mean \\n\",data.groupby(\"review_score\")[\"payment_value\"].mean())\n",
    "\n",
    "#90% payment_value\n",
    "print(\"90 percentile \\n\",data.groupby(\"review_score\")[\"payment_value\"].apply(lambda x: np.percentile(x,90)))"
   ]
  },
  {
   "cell_type": "markdown",
   "metadata": {},
   "source": [
    "* Mean values of payment_values of rating 5,4,3 are much less compared to the same of rating 1. \n",
    "* But from the boxplot we can see that there are outliers with high payment values in rating 1. So this might pull the mean value of rating 1 towards higher value.\n",
    "* 90th percentile value is also high for rating 1 compared to other."
   ]
  },
  {
   "cell_type": "code",
   "execution_count": 85,
   "metadata": {},
   "outputs": [
    {
     "data": {
      "text/html": [
       "<div>\n",
       "<style scoped>\n",
       "    .dataframe tbody tr th:only-of-type {\n",
       "        vertical-align: middle;\n",
       "    }\n",
       "\n",
       "    .dataframe tbody tr th {\n",
       "        vertical-align: top;\n",
       "    }\n",
       "\n",
       "    .dataframe thead th {\n",
       "        text-align: right;\n",
       "    }\n",
       "</style>\n",
       "<table border=\"1\" class=\"dataframe\">\n",
       "  <thead>\n",
       "    <tr style=\"text-align: right;\">\n",
       "      <th></th>\n",
       "      <th>order_id</th>\n",
       "      <th>payment_sequential</th>\n",
       "      <th>payment_type</th>\n",
       "      <th>payment_installments</th>\n",
       "      <th>payment_value</th>\n",
       "      <th>customer_id</th>\n",
       "      <th>order_status</th>\n",
       "      <th>order_purchase_timestamp</th>\n",
       "      <th>order_approved_at</th>\n",
       "      <th>order_delivered_carrier_date</th>\n",
       "      <th>...</th>\n",
       "      <th>seller_id</th>\n",
       "      <th>shipping_limit_date</th>\n",
       "      <th>price</th>\n",
       "      <th>freight_value</th>\n",
       "      <th>zip_code_prefix_seller</th>\n",
       "      <th>lat_seller</th>\n",
       "      <th>lng_seller</th>\n",
       "      <th>seller_city</th>\n",
       "      <th>seller_state</th>\n",
       "      <th>product_category_name</th>\n",
       "    </tr>\n",
       "  </thead>\n",
       "  <tbody>\n",
       "    <tr>\n",
       "      <th>59174</th>\n",
       "      <td>03caa2c082116e1d31e67e9ae3700499</td>\n",
       "      <td>1</td>\n",
       "      <td>credit_card</td>\n",
       "      <td>1</td>\n",
       "      <td>13664.08</td>\n",
       "      <td>1617b1357756262bfa56ab541c47bc16</td>\n",
       "      <td>delivered</td>\n",
       "      <td>2017-09-29 15:24:52</td>\n",
       "      <td>2017-10-02 15:28:20</td>\n",
       "      <td>2017-10-10 15:43:17</td>\n",
       "      <td>...</td>\n",
       "      <td>b37c4c02bda3161a7546a4e6d222d5b2</td>\n",
       "      <td>2017-10-06 15:28:20</td>\n",
       "      <td>1680.0</td>\n",
       "      <td>28.01</td>\n",
       "      <td>3667</td>\n",
       "      <td>-23.532047</td>\n",
       "      <td>-46.496814</td>\n",
       "      <td>sao paulo</td>\n",
       "      <td>SP</td>\n",
       "      <td>fixed_telephony</td>\n",
       "    </tr>\n",
       "    <tr>\n",
       "      <th>59175</th>\n",
       "      <td>03caa2c082116e1d31e67e9ae3700499</td>\n",
       "      <td>1</td>\n",
       "      <td>credit_card</td>\n",
       "      <td>1</td>\n",
       "      <td>13664.08</td>\n",
       "      <td>1617b1357756262bfa56ab541c47bc16</td>\n",
       "      <td>delivered</td>\n",
       "      <td>2017-09-29 15:24:52</td>\n",
       "      <td>2017-10-02 15:28:20</td>\n",
       "      <td>2017-10-10 15:43:17</td>\n",
       "      <td>...</td>\n",
       "      <td>b37c4c02bda3161a7546a4e6d222d5b2</td>\n",
       "      <td>2017-10-06 15:28:20</td>\n",
       "      <td>1680.0</td>\n",
       "      <td>28.01</td>\n",
       "      <td>3667</td>\n",
       "      <td>-23.532047</td>\n",
       "      <td>-46.496814</td>\n",
       "      <td>sao paulo</td>\n",
       "      <td>SP</td>\n",
       "      <td>fixed_telephony</td>\n",
       "    </tr>\n",
       "    <tr>\n",
       "      <th>59176</th>\n",
       "      <td>03caa2c082116e1d31e67e9ae3700499</td>\n",
       "      <td>1</td>\n",
       "      <td>credit_card</td>\n",
       "      <td>1</td>\n",
       "      <td>13664.08</td>\n",
       "      <td>1617b1357756262bfa56ab541c47bc16</td>\n",
       "      <td>delivered</td>\n",
       "      <td>2017-09-29 15:24:52</td>\n",
       "      <td>2017-10-02 15:28:20</td>\n",
       "      <td>2017-10-10 15:43:17</td>\n",
       "      <td>...</td>\n",
       "      <td>b37c4c02bda3161a7546a4e6d222d5b2</td>\n",
       "      <td>2017-10-06 15:28:20</td>\n",
       "      <td>1680.0</td>\n",
       "      <td>28.01</td>\n",
       "      <td>3667</td>\n",
       "      <td>-23.532047</td>\n",
       "      <td>-46.496814</td>\n",
       "      <td>sao paulo</td>\n",
       "      <td>SP</td>\n",
       "      <td>fixed_telephony</td>\n",
       "    </tr>\n",
       "    <tr>\n",
       "      <th>59177</th>\n",
       "      <td>03caa2c082116e1d31e67e9ae3700499</td>\n",
       "      <td>1</td>\n",
       "      <td>credit_card</td>\n",
       "      <td>1</td>\n",
       "      <td>13664.08</td>\n",
       "      <td>1617b1357756262bfa56ab541c47bc16</td>\n",
       "      <td>delivered</td>\n",
       "      <td>2017-09-29 15:24:52</td>\n",
       "      <td>2017-10-02 15:28:20</td>\n",
       "      <td>2017-10-10 15:43:17</td>\n",
       "      <td>...</td>\n",
       "      <td>b37c4c02bda3161a7546a4e6d222d5b2</td>\n",
       "      <td>2017-10-06 15:28:20</td>\n",
       "      <td>1680.0</td>\n",
       "      <td>28.01</td>\n",
       "      <td>3667</td>\n",
       "      <td>-23.532047</td>\n",
       "      <td>-46.496814</td>\n",
       "      <td>sao paulo</td>\n",
       "      <td>SP</td>\n",
       "      <td>fixed_telephony</td>\n",
       "    </tr>\n",
       "    <tr>\n",
       "      <th>59178</th>\n",
       "      <td>03caa2c082116e1d31e67e9ae3700499</td>\n",
       "      <td>1</td>\n",
       "      <td>credit_card</td>\n",
       "      <td>1</td>\n",
       "      <td>13664.08</td>\n",
       "      <td>1617b1357756262bfa56ab541c47bc16</td>\n",
       "      <td>delivered</td>\n",
       "      <td>2017-09-29 15:24:52</td>\n",
       "      <td>2017-10-02 15:28:20</td>\n",
       "      <td>2017-10-10 15:43:17</td>\n",
       "      <td>...</td>\n",
       "      <td>b37c4c02bda3161a7546a4e6d222d5b2</td>\n",
       "      <td>2017-10-06 15:28:20</td>\n",
       "      <td>1680.0</td>\n",
       "      <td>28.01</td>\n",
       "      <td>3667</td>\n",
       "      <td>-23.532047</td>\n",
       "      <td>-46.496814</td>\n",
       "      <td>sao paulo</td>\n",
       "      <td>SP</td>\n",
       "      <td>fixed_telephony</td>\n",
       "    </tr>\n",
       "    <tr>\n",
       "      <th>59179</th>\n",
       "      <td>03caa2c082116e1d31e67e9ae3700499</td>\n",
       "      <td>1</td>\n",
       "      <td>credit_card</td>\n",
       "      <td>1</td>\n",
       "      <td>13664.08</td>\n",
       "      <td>1617b1357756262bfa56ab541c47bc16</td>\n",
       "      <td>delivered</td>\n",
       "      <td>2017-09-29 15:24:52</td>\n",
       "      <td>2017-10-02 15:28:20</td>\n",
       "      <td>2017-10-10 15:43:17</td>\n",
       "      <td>...</td>\n",
       "      <td>b37c4c02bda3161a7546a4e6d222d5b2</td>\n",
       "      <td>2017-10-06 15:28:20</td>\n",
       "      <td>1680.0</td>\n",
       "      <td>28.01</td>\n",
       "      <td>3667</td>\n",
       "      <td>-23.532047</td>\n",
       "      <td>-46.496814</td>\n",
       "      <td>sao paulo</td>\n",
       "      <td>SP</td>\n",
       "      <td>fixed_telephony</td>\n",
       "    </tr>\n",
       "    <tr>\n",
       "      <th>59180</th>\n",
       "      <td>03caa2c082116e1d31e67e9ae3700499</td>\n",
       "      <td>1</td>\n",
       "      <td>credit_card</td>\n",
       "      <td>1</td>\n",
       "      <td>13664.08</td>\n",
       "      <td>1617b1357756262bfa56ab541c47bc16</td>\n",
       "      <td>delivered</td>\n",
       "      <td>2017-09-29 15:24:52</td>\n",
       "      <td>2017-10-02 15:28:20</td>\n",
       "      <td>2017-10-10 15:43:17</td>\n",
       "      <td>...</td>\n",
       "      <td>b37c4c02bda3161a7546a4e6d222d5b2</td>\n",
       "      <td>2017-10-06 15:28:20</td>\n",
       "      <td>1680.0</td>\n",
       "      <td>28.01</td>\n",
       "      <td>3667</td>\n",
       "      <td>-23.532047</td>\n",
       "      <td>-46.496814</td>\n",
       "      <td>sao paulo</td>\n",
       "      <td>SP</td>\n",
       "      <td>fixed_telephony</td>\n",
       "    </tr>\n",
       "    <tr>\n",
       "      <th>59181</th>\n",
       "      <td>03caa2c082116e1d31e67e9ae3700499</td>\n",
       "      <td>1</td>\n",
       "      <td>credit_card</td>\n",
       "      <td>1</td>\n",
       "      <td>13664.08</td>\n",
       "      <td>1617b1357756262bfa56ab541c47bc16</td>\n",
       "      <td>delivered</td>\n",
       "      <td>2017-09-29 15:24:52</td>\n",
       "      <td>2017-10-02 15:28:20</td>\n",
       "      <td>2017-10-10 15:43:17</td>\n",
       "      <td>...</td>\n",
       "      <td>b37c4c02bda3161a7546a4e6d222d5b2</td>\n",
       "      <td>2017-10-06 15:28:20</td>\n",
       "      <td>1680.0</td>\n",
       "      <td>28.01</td>\n",
       "      <td>3667</td>\n",
       "      <td>-23.532047</td>\n",
       "      <td>-46.496814</td>\n",
       "      <td>sao paulo</td>\n",
       "      <td>SP</td>\n",
       "      <td>fixed_telephony</td>\n",
       "    </tr>\n",
       "  </tbody>\n",
       "</table>\n",
       "<p>8 rows × 38 columns</p>\n",
       "</div>"
      ],
      "text/plain": [
       "                               order_id  payment_sequential payment_type  \\\n",
       "59174  03caa2c082116e1d31e67e9ae3700499                   1  credit_card   \n",
       "59175  03caa2c082116e1d31e67e9ae3700499                   1  credit_card   \n",
       "59176  03caa2c082116e1d31e67e9ae3700499                   1  credit_card   \n",
       "59177  03caa2c082116e1d31e67e9ae3700499                   1  credit_card   \n",
       "59178  03caa2c082116e1d31e67e9ae3700499                   1  credit_card   \n",
       "59179  03caa2c082116e1d31e67e9ae3700499                   1  credit_card   \n",
       "59180  03caa2c082116e1d31e67e9ae3700499                   1  credit_card   \n",
       "59181  03caa2c082116e1d31e67e9ae3700499                   1  credit_card   \n",
       "\n",
       "       payment_installments  payment_value                       customer_id  \\\n",
       "59174                     1       13664.08  1617b1357756262bfa56ab541c47bc16   \n",
       "59175                     1       13664.08  1617b1357756262bfa56ab541c47bc16   \n",
       "59176                     1       13664.08  1617b1357756262bfa56ab541c47bc16   \n",
       "59177                     1       13664.08  1617b1357756262bfa56ab541c47bc16   \n",
       "59178                     1       13664.08  1617b1357756262bfa56ab541c47bc16   \n",
       "59179                     1       13664.08  1617b1357756262bfa56ab541c47bc16   \n",
       "59180                     1       13664.08  1617b1357756262bfa56ab541c47bc16   \n",
       "59181                     1       13664.08  1617b1357756262bfa56ab541c47bc16   \n",
       "\n",
       "      order_status order_purchase_timestamp    order_approved_at  \\\n",
       "59174    delivered      2017-09-29 15:24:52  2017-10-02 15:28:20   \n",
       "59175    delivered      2017-09-29 15:24:52  2017-10-02 15:28:20   \n",
       "59176    delivered      2017-09-29 15:24:52  2017-10-02 15:28:20   \n",
       "59177    delivered      2017-09-29 15:24:52  2017-10-02 15:28:20   \n",
       "59178    delivered      2017-09-29 15:24:52  2017-10-02 15:28:20   \n",
       "59179    delivered      2017-09-29 15:24:52  2017-10-02 15:28:20   \n",
       "59180    delivered      2017-09-29 15:24:52  2017-10-02 15:28:20   \n",
       "59181    delivered      2017-09-29 15:24:52  2017-10-02 15:28:20   \n",
       "\n",
       "      order_delivered_carrier_date  ...                         seller_id  \\\n",
       "59174          2017-10-10 15:43:17  ...  b37c4c02bda3161a7546a4e6d222d5b2   \n",
       "59175          2017-10-10 15:43:17  ...  b37c4c02bda3161a7546a4e6d222d5b2   \n",
       "59176          2017-10-10 15:43:17  ...  b37c4c02bda3161a7546a4e6d222d5b2   \n",
       "59177          2017-10-10 15:43:17  ...  b37c4c02bda3161a7546a4e6d222d5b2   \n",
       "59178          2017-10-10 15:43:17  ...  b37c4c02bda3161a7546a4e6d222d5b2   \n",
       "59179          2017-10-10 15:43:17  ...  b37c4c02bda3161a7546a4e6d222d5b2   \n",
       "59180          2017-10-10 15:43:17  ...  b37c4c02bda3161a7546a4e6d222d5b2   \n",
       "59181          2017-10-10 15:43:17  ...  b37c4c02bda3161a7546a4e6d222d5b2   \n",
       "\n",
       "       shipping_limit_date   price freight_value  zip_code_prefix_seller  \\\n",
       "59174  2017-10-06 15:28:20  1680.0         28.01                    3667   \n",
       "59175  2017-10-06 15:28:20  1680.0         28.01                    3667   \n",
       "59176  2017-10-06 15:28:20  1680.0         28.01                    3667   \n",
       "59177  2017-10-06 15:28:20  1680.0         28.01                    3667   \n",
       "59178  2017-10-06 15:28:20  1680.0         28.01                    3667   \n",
       "59179  2017-10-06 15:28:20  1680.0         28.01                    3667   \n",
       "59180  2017-10-06 15:28:20  1680.0         28.01                    3667   \n",
       "59181  2017-10-06 15:28:20  1680.0         28.01                    3667   \n",
       "\n",
       "       lat_seller  lng_seller seller_city seller_state product_category_name  \n",
       "59174  -23.532047  -46.496814   sao paulo           SP       fixed_telephony  \n",
       "59175  -23.532047  -46.496814   sao paulo           SP       fixed_telephony  \n",
       "59176  -23.532047  -46.496814   sao paulo           SP       fixed_telephony  \n",
       "59177  -23.532047  -46.496814   sao paulo           SP       fixed_telephony  \n",
       "59178  -23.532047  -46.496814   sao paulo           SP       fixed_telephony  \n",
       "59179  -23.532047  -46.496814   sao paulo           SP       fixed_telephony  \n",
       "59180  -23.532047  -46.496814   sao paulo           SP       fixed_telephony  \n",
       "59181  -23.532047  -46.496814   sao paulo           SP       fixed_telephony  \n",
       "\n",
       "[8 rows x 38 columns]"
      ]
     },
     "execution_count": 85,
     "metadata": {},
     "output_type": "execute_result"
    }
   ],
   "source": [
    "rate_1[rate_1[\"payment_value\"]>12000]"
   ]
  },
  {
   "cell_type": "markdown",
   "metadata": {},
   "source": [
    "* Now we can see that one customer purchased same item 8 units in the sam time. The payment value is 13664.08.\n",
    "* He gave 1 rating for all this product. This high value affects the mean value of payment value."
   ]
  },
  {
   "cell_type": "markdown",
   "metadata": {},
   "source": [
    "<b>We need to check more percentile values."
   ]
  },
  {
   "cell_type": "code",
   "execution_count": 86,
   "metadata": {},
   "outputs": [
    {
     "name": "stdout",
     "output_type": "stream",
     "text": [
      "95th percentile \n",
      " review_score\n",
      "1    738.570\n",
      "2    557.068\n",
      "3    508.304\n",
      "4    483.392\n",
      "5    468.000\n",
      "Name: payment_value, dtype: float64\n",
      "****************************************\n",
      "96th percentile \n",
      " review_score\n",
      "1    854.1020\n",
      "2    622.2800\n",
      "3    581.2500\n",
      "4    567.2632\n",
      "5    545.1400\n",
      "Name: payment_value, dtype: float64\n",
      "****************************************\n",
      "97th percentile \n",
      " review_score\n",
      "1    1014.0200\n",
      "2     696.9852\n",
      "3     682.8300\n",
      "4     660.4096\n",
      "5     637.4604\n",
      "Name: payment_value, dtype: float64\n",
      "****************************************\n",
      "98th percentile \n",
      " review_score\n",
      "1    1342.98\n",
      "2     939.72\n",
      "3     835.55\n",
      "4     838.97\n",
      "5     783.00\n",
      "Name: payment_value, dtype: float64\n",
      "****************************************\n",
      "99th percentile \n",
      " review_score\n",
      "1    1853.0000\n",
      "2    1308.1800\n",
      "3    1076.7600\n",
      "4    1150.0428\n",
      "5    1071.1200\n",
      "Name: payment_value, dtype: float64\n",
      "****************************************\n"
     ]
    }
   ],
   "source": [
    "for i in range(95,100):\n",
    "    print(\"{}th percentile \\n {}\".format(i,data.groupby(\"review_score\")[\"payment_value\"].apply(lambda x: np.percentile(x,i))))\n",
    "    print(\"*\"*40)"
   ]
  },
  {
   "cell_type": "markdown",
   "metadata": {},
   "source": [
    "* From 95 to 99 percentile, payment value of rating 5,4,3 is significantly less rating 1. \n",
    "* For 95th percentile, rating 5 has less payment value compared to rating 1."
   ]
  },
  {
   "cell_type": "markdown",
   "metadata": {},
   "source": [
    "<b>Since there are some very larger values in each rating, lets check other percentiles."
   ]
  },
  {
   "cell_type": "code",
   "execution_count": 87,
   "metadata": {},
   "outputs": [
    {
     "name": "stdout",
     "output_type": "stream",
     "text": [
      "50th percentile \n",
      " review_score\n",
      "1    137.57\n",
      "2    119.29\n",
      "3    107.78\n",
      "4    104.61\n",
      "5    104.43\n",
      "Name: payment_value, dtype: float64\n",
      "****************************************\n",
      "75th percentile \n",
      " review_score\n",
      "1    241.22\n",
      "2    212.32\n",
      "3    188.34\n",
      "4    182.29\n",
      "5    180.16\n",
      "Name: payment_value, dtype: float64\n",
      "****************************************\n",
      "80th percentile \n",
      " review_score\n",
      "1    284.550\n",
      "2    247.640\n",
      "3    218.270\n",
      "4    208.632\n",
      "5    207.278\n",
      "Name: payment_value, dtype: float64\n",
      "****************************************\n",
      "85th percentile \n",
      " review_score\n",
      "1    350.220\n",
      "2    297.950\n",
      "3    260.140\n",
      "4    249.670\n",
      "5    244.806\n",
      "Name: payment_value, dtype: float64\n",
      "****************************************\n"
     ]
    }
   ],
   "source": [
    "lst=[50,75,80,85]    #let us check these percentile values\n",
    "for i in lst:\n",
    "    print(\"{}th percentile \\n {}\".format(i,data.groupby(\"review_score\")[\"payment_value\"].apply(lambda x: np.percentile(x,i))))\n",
    "    print(\"*\"*40)"
   ]
  },
  {
   "cell_type": "markdown",
   "metadata": {},
   "source": [
    "* Median payment value is also high incase of rating 1 compared to other ratings. \n",
    "\n",
    "From these observations,\n",
    "<b> We can say, payment value has effect on review_score. \n",
    "    \n",
    "Customers who bought products of very high values most likely to give low ratings. \n",
    "    \n",
    "But this does not prove causation. \n",
    "    \n",
    "This is the insights we got from the above numbers.   "
   ]
  }
 ],
 "metadata": {
  "colab": {
   "name": "EDA.ipynb",
   "provenance": []
  },
  "kernelspec": {
   "display_name": "Python 3",
   "language": "python",
   "name": "python3"
  },
  "language_info": {
   "codemirror_mode": {
    "name": "ipython",
    "version": 3
   },
   "file_extension": ".py",
   "mimetype": "text/x-python",
   "name": "python",
   "nbconvert_exporter": "python",
   "pygments_lexer": "ipython3",
   "version": "3.8.3"
  }
 },
 "nbformat": 4,
 "nbformat_minor": 1
}
