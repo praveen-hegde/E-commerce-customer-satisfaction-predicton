{
 "cells": [
  {
   "cell_type": "markdown",
   "metadata": {},
   "source": [
    "## EDA \n",
    "### (part-2)"
   ]
  },
  {
   "cell_type": "code",
   "execution_count": 1,
   "metadata": {},
   "outputs": [],
   "source": [
    "import pandas as pd\n",
    "import numpy as np\n",
    "import matplotlib.pyplot as plt\n",
    "import seaborn as sns \n",
    "import plotly.express as px\n",
    "import folium\n",
    "import json\n",
    "import datetime"
   ]
  },
  {
   "cell_type": "code",
   "execution_count": 2,
   "metadata": {},
   "outputs": [],
   "source": [
    "data = pd.read_csv(\"final_data.csv\")\n",
    "data.drop(\"Unnamed: 0\",axis=1,inplace=True)"
   ]
  },
  {
   "cell_type": "code",
   "execution_count": 4,
   "metadata": {},
   "outputs": [
    {
     "name": "stdout",
     "output_type": "stream",
     "text": [
      "Shape of the final dataset is : (113105, 38)\n"
     ]
    }
   ],
   "source": [
    "print(\"Shape of the final dataset is :\",data.shape)"
   ]
  },
  {
   "cell_type": "code",
   "execution_count": 3,
   "metadata": {
    "scrolled": false
   },
   "outputs": [
    {
     "name": "stdout",
     "output_type": "stream",
     "text": [
      "<class 'pandas.core.frame.DataFrame'>\n",
      "RangeIndex: 113105 entries, 0 to 113104\n",
      "Data columns (total 38 columns):\n",
      " #   Column                         Non-Null Count   Dtype  \n",
      "---  ------                         --------------   -----  \n",
      " 0   order_id                       113105 non-null  object \n",
      " 1   payment_sequential             113105 non-null  int64  \n",
      " 2   payment_type                   113105 non-null  object \n",
      " 3   payment_installments           113105 non-null  int64  \n",
      " 4   payment_value                  113105 non-null  float64\n",
      " 5   customer_id                    113105 non-null  object \n",
      " 6   order_status                   113105 non-null  object \n",
      " 7   order_purchase_timestamp       113105 non-null  object \n",
      " 8   order_approved_at              113105 non-null  object \n",
      " 9   order_delivered_carrier_date   113105 non-null  object \n",
      " 10  order_delivered_customer_date  113105 non-null  object \n",
      " 11  order_estimated_delivery_date  113105 non-null  object \n",
      " 12  review_score                   113105 non-null  int64  \n",
      " 13  customer_unique_id             113105 non-null  object \n",
      " 14  zip_code_prefix_customer       113105 non-null  int64  \n",
      " 15  lat_customer                   113105 non-null  float64\n",
      " 16  lng_customer                   113105 non-null  float64\n",
      " 17  customer_city                  113105 non-null  object \n",
      " 18  customer_state                 113105 non-null  object \n",
      " 19  product_id                     113105 non-null  object \n",
      " 20  product_name_lenght            113105 non-null  float64\n",
      " 21  product_description_lenght     113105 non-null  float64\n",
      " 22  product_photos_qty             113105 non-null  float64\n",
      " 23  product_weight_g               113105 non-null  float64\n",
      " 24  product_length_cm              113105 non-null  float64\n",
      " 25  product_height_cm              113105 non-null  float64\n",
      " 26  product_width_cm               113105 non-null  float64\n",
      " 27  order_item_id                  113105 non-null  int64  \n",
      " 28  seller_id                      113105 non-null  object \n",
      " 29  shipping_limit_date            113105 non-null  object \n",
      " 30  price                          113105 non-null  float64\n",
      " 31  freight_value                  113105 non-null  float64\n",
      " 32  zip_code_prefix_seller         113105 non-null  int64  \n",
      " 33  lat_seller                     113105 non-null  float64\n",
      " 34  lng_seller                     113105 non-null  float64\n",
      " 35  seller_city                    113105 non-null  object \n",
      " 36  seller_state                   113105 non-null  object \n",
      " 37  product_category_name          113105 non-null  object \n",
      "dtypes: float64(14), int64(6), object(18)\n",
      "memory usage: 32.8+ MB\n"
     ]
    }
   ],
   "source": [
    "data.info()"
   ]
  },
  {
   "cell_type": "code",
   "execution_count": 4,
   "metadata": {},
   "outputs": [],
   "source": [
    "rate_1 = data[data[\"review_score\"]==1] \n",
    "rate_2 = data[data[\"review_score\"]==2] \n",
    "rate_3 = data[data[\"review_score\"]==3] \n",
    "rate_4 = data[data[\"review_score\"]==4] \n",
    "rate_5 = data[data[\"review_score\"]==5] "
   ]
  },
  {
   "cell_type": "markdown",
   "metadata": {},
   "source": [
    "### order_status analysis with review_score"
   ]
  },
  {
   "cell_type": "code",
   "execution_count": 5,
   "metadata": {},
   "outputs": [
    {
     "data": {
      "text/plain": [
       "delivered    113105\n",
       "Name: order_status, dtype: int64"
      ]
     },
     "execution_count": 5,
     "metadata": {},
     "output_type": "execute_result"
    }
   ],
   "source": [
    "data[\"order_status\"].value_counts()"
   ]
  },
  {
   "cell_type": "markdown",
   "metadata": {},
   "source": [
    "<b> We have only considered delivered product for customer review score prediction. Hence, we don't analyse of order_status."
   ]
  },
  {
   "cell_type": "markdown",
   "metadata": {},
   "source": [
    "### customer_state analysis"
   ]
  },
  {
   "cell_type": "markdown",
   "metadata": {},
   "source": [
    "<b> question: Customers who give 5 score are most oftenly from which state?"
   ]
  },
  {
   "cell_type": "code",
   "execution_count": 7,
   "metadata": {},
   "outputs": [
    {
     "data": {
      "text/plain": [
       "SP    42.284603\n",
       "RJ    12.943725\n",
       "MG    11.682949\n",
       "RS     5.551479\n",
       "PR     5.109412\n",
       "Name: customer_state, dtype: float64"
      ]
     },
     "execution_count": 7,
     "metadata": {},
     "output_type": "execute_result"
    }
   ],
   "source": [
    "(data[\"customer_state\"].value_counts(normalize=True)*100)[:5]"
   ]
  },
  {
   "cell_type": "markdown",
   "metadata": {},
   "source": [
    "* In the main data, 42% of datapoints belongs to state SP.\n",
    " \n",
    "* States like PA,MT,MS,MA,PB,RN,PI,AL,SE,TO,RO,AM,AC,AP,RR are very less, and less than 1 %.\n",
    "    \n",
    "* RJ is the second highest customer_state with 13% (roughly)"
   ]
  },
  {
   "cell_type": "markdown",
   "metadata": {},
   "source": [
    "<b> So, most of the customers are from SP state. "
   ]
  },
  {
   "cell_type": "code",
   "execution_count": 7,
   "metadata": {},
   "outputs": [
    {
     "data": {
      "text/html": [
       "<div>\n",
       "<style scoped>\n",
       "    .dataframe tbody tr th:only-of-type {\n",
       "        vertical-align: middle;\n",
       "    }\n",
       "\n",
       "    .dataframe tbody tr th {\n",
       "        vertical-align: top;\n",
       "    }\n",
       "\n",
       "    .dataframe thead th {\n",
       "        text-align: right;\n",
       "    }\n",
       "</style>\n",
       "<table border=\"1\" class=\"dataframe\">\n",
       "  <thead>\n",
       "    <tr style=\"text-align: right;\">\n",
       "      <th>customer_state</th>\n",
       "      <th>AC</th>\n",
       "      <th>AL</th>\n",
       "      <th>AM</th>\n",
       "      <th>AP</th>\n",
       "      <th>BA</th>\n",
       "      <th>CE</th>\n",
       "      <th>DF</th>\n",
       "      <th>ES</th>\n",
       "      <th>GO</th>\n",
       "      <th>MA</th>\n",
       "      <th>...</th>\n",
       "      <th>PR</th>\n",
       "      <th>RJ</th>\n",
       "      <th>RN</th>\n",
       "      <th>RO</th>\n",
       "      <th>RR</th>\n",
       "      <th>RS</th>\n",
       "      <th>SC</th>\n",
       "      <th>SE</th>\n",
       "      <th>SP</th>\n",
       "      <th>TO</th>\n",
       "    </tr>\n",
       "    <tr>\n",
       "      <th>review_score</th>\n",
       "      <th></th>\n",
       "      <th></th>\n",
       "      <th></th>\n",
       "      <th></th>\n",
       "      <th></th>\n",
       "      <th></th>\n",
       "      <th></th>\n",
       "      <th></th>\n",
       "      <th></th>\n",
       "      <th></th>\n",
       "      <th></th>\n",
       "      <th></th>\n",
       "      <th></th>\n",
       "      <th></th>\n",
       "      <th></th>\n",
       "      <th></th>\n",
       "      <th></th>\n",
       "      <th></th>\n",
       "      <th></th>\n",
       "      <th></th>\n",
       "      <th></th>\n",
       "    </tr>\n",
       "  </thead>\n",
       "  <tbody>\n",
       "    <tr>\n",
       "      <th>1</th>\n",
       "      <td>6</td>\n",
       "      <td>72</td>\n",
       "      <td>14</td>\n",
       "      <td>3</td>\n",
       "      <td>572</td>\n",
       "      <td>221</td>\n",
       "      <td>283</td>\n",
       "      <td>310</td>\n",
       "      <td>291</td>\n",
       "      <td>148</td>\n",
       "      <td>...</td>\n",
       "      <td>600</td>\n",
       "      <td>2506</td>\n",
       "      <td>66</td>\n",
       "      <td>21</td>\n",
       "      <td>6</td>\n",
       "      <td>729</td>\n",
       "      <td>514</td>\n",
       "      <td>63</td>\n",
       "      <td>4553</td>\n",
       "      <td>24</td>\n",
       "    </tr>\n",
       "    <tr>\n",
       "      <th>2</th>\n",
       "      <td>8</td>\n",
       "      <td>27</td>\n",
       "      <td>15</td>\n",
       "      <td>2</td>\n",
       "      <td>175</td>\n",
       "      <td>53</td>\n",
       "      <td>78</td>\n",
       "      <td>69</td>\n",
       "      <td>87</td>\n",
       "      <td>37</td>\n",
       "      <td>...</td>\n",
       "      <td>203</td>\n",
       "      <td>588</td>\n",
       "      <td>22</td>\n",
       "      <td>20</td>\n",
       "      <td>1</td>\n",
       "      <td>199</td>\n",
       "      <td>134</td>\n",
       "      <td>15</td>\n",
       "      <td>1530</td>\n",
       "      <td>13</td>\n",
       "    </tr>\n",
       "    <tr>\n",
       "      <th>3</th>\n",
       "      <td>9</td>\n",
       "      <td>31</td>\n",
       "      <td>6</td>\n",
       "      <td>9</td>\n",
       "      <td>406</td>\n",
       "      <td>141</td>\n",
       "      <td>185</td>\n",
       "      <td>210</td>\n",
       "      <td>227</td>\n",
       "      <td>84</td>\n",
       "      <td>...</td>\n",
       "      <td>442</td>\n",
       "      <td>1218</td>\n",
       "      <td>44</td>\n",
       "      <td>29</td>\n",
       "      <td>7</td>\n",
       "      <td>511</td>\n",
       "      <td>380</td>\n",
       "      <td>30</td>\n",
       "      <td>3904</td>\n",
       "      <td>32</td>\n",
       "    </tr>\n",
       "    <tr>\n",
       "      <th>4</th>\n",
       "      <td>16</td>\n",
       "      <td>94</td>\n",
       "      <td>33</td>\n",
       "      <td>25</td>\n",
       "      <td>819</td>\n",
       "      <td>305</td>\n",
       "      <td>432</td>\n",
       "      <td>475</td>\n",
       "      <td>476</td>\n",
       "      <td>157</td>\n",
       "      <td>...</td>\n",
       "      <td>1124</td>\n",
       "      <td>2472</td>\n",
       "      <td>105</td>\n",
       "      <td>48</td>\n",
       "      <td>8</td>\n",
       "      <td>1283</td>\n",
       "      <td>796</td>\n",
       "      <td>73</td>\n",
       "      <td>9201</td>\n",
       "      <td>70</td>\n",
       "    </tr>\n",
       "    <tr>\n",
       "      <th>5</th>\n",
       "      <td>52</td>\n",
       "      <td>213</td>\n",
       "      <td>99</td>\n",
       "      <td>44</td>\n",
       "      <td>1874</td>\n",
       "      <td>752</td>\n",
       "      <td>1235</td>\n",
       "      <td>1215</td>\n",
       "      <td>1238</td>\n",
       "      <td>380</td>\n",
       "      <td>...</td>\n",
       "      <td>3410</td>\n",
       "      <td>7856</td>\n",
       "      <td>317</td>\n",
       "      <td>154</td>\n",
       "      <td>22</td>\n",
       "      <td>3557</td>\n",
       "      <td>2331</td>\n",
       "      <td>202</td>\n",
       "      <td>28638</td>\n",
       "      <td>189</td>\n",
       "    </tr>\n",
       "  </tbody>\n",
       "</table>\n",
       "<p>5 rows × 27 columns</p>\n",
       "</div>"
      ],
      "text/plain": [
       "customer_state  AC   AL  AM  AP    BA   CE    DF    ES    GO   MA  ...    PR  \\\n",
       "review_score                                                       ...         \n",
       "1                6   72  14   3   572  221   283   310   291  148  ...   600   \n",
       "2                8   27  15   2   175   53    78    69    87   37  ...   203   \n",
       "3                9   31   6   9   406  141   185   210   227   84  ...   442   \n",
       "4               16   94  33  25   819  305   432   475   476  157  ...  1124   \n",
       "5               52  213  99  44  1874  752  1235  1215  1238  380  ...  3410   \n",
       "\n",
       "customer_state    RJ   RN   RO  RR    RS    SC   SE     SP   TO  \n",
       "review_score                                                     \n",
       "1               2506   66   21   6   729   514   63   4553   24  \n",
       "2                588   22   20   1   199   134   15   1530   13  \n",
       "3               1218   44   29   7   511   380   30   3904   32  \n",
       "4               2472  105   48   8  1283   796   73   9201   70  \n",
       "5               7856  317  154  22  3557  2331  202  28638  189  \n",
       "\n",
       "[5 rows x 27 columns]"
      ]
     },
     "execution_count": 7,
     "metadata": {},
     "output_type": "execute_result"
    }
   ],
   "source": [
    "data.groupby(\"review_score\")[\"customer_state\"].value_counts().unstack()"
   ]
  },
  {
   "cell_type": "code",
   "execution_count": 8,
   "metadata": {},
   "outputs": [
    {
     "name": "stdout",
     "output_type": "stream",
     "text": [
      "The top 5 states, percentage of customer_states in rating 1 : \n",
      " SP    0.343856\n",
      "RJ    0.189261\n",
      "MG    0.109357\n",
      "RS    0.055056\n",
      "PR    0.045314\n",
      "Name: customer_state, dtype: float64\n",
      "******************************\n",
      "The top 5 states, percentage of customer_states in rating 2 : \n",
      " SP    0.389412\n",
      "RJ    0.149656\n",
      "MG    0.106134\n",
      "PR    0.051667\n",
      "RS    0.050649\n",
      "Name: customer_state, dtype: float64\n",
      "******************************\n",
      "The top 5 states, percentage of customer_states in rating 3 : \n",
      " SP    0.407814\n",
      "RJ    0.127233\n",
      "MG    0.118040\n",
      "RS    0.053379\n",
      "PR    0.046172\n",
      "Name: customer_state, dtype: float64\n",
      "******************************\n",
      "The top 5 states, percentage of customer_states in rating 4 : \n",
      " SP    0.423521\n",
      "MG    0.117100\n",
      "RJ    0.113786\n",
      "RS    0.059056\n",
      "PR    0.051738\n",
      "Name: customer_state, dtype: float64\n",
      "******************************\n",
      "The top 5 states, percentage of customer_states in rating 5 : \n",
      " SP    0.443059\n",
      "RJ    0.121540\n",
      "MG    0.118740\n",
      "RS    0.055030\n",
      "PR    0.052756\n",
      "Name: customer_state, dtype: float64\n"
     ]
    }
   ],
   "source": [
    "print(\"The top 5 states, percentage of customer_states in rating 1 : \\n\",\n",
    "                                data[(data[\"review_score\"]==1)][\"customer_state\"].value_counts(normalize=True)[:5])\n",
    "print(\"*\"*30)\n",
    "print(\"The top 5 states, percentage of customer_states in rating 2 : \\n\",\n",
    "                                data[(data[\"review_score\"]==2)][\"customer_state\"].value_counts(normalize=True)[:5])\n",
    "print(\"*\"*30)\n",
    "print(\"The top 5 states, percentage of customer_states in rating 3 : \\n\",\n",
    "                                data[(data[\"review_score\"]==3)][\"customer_state\"].value_counts(normalize=True)[:5])\n",
    "print(\"*\"*30)\n",
    "print(\"The top 5 states, percentage of customer_states in rating 4 : \\n\",\n",
    "                                data[(data[\"review_score\"]==4)][\"customer_state\"].value_counts(normalize=True)[:5])\n",
    "print(\"*\"*30)\n",
    "print(\"The top 5 states, percentage of customer_states in rating 5 : \\n\",\n",
    "                                data[(data[\"review_score\"]==5)][\"customer_state\"].value_counts(normalize=True)[:5])"
   ]
  },
  {
   "cell_type": "markdown",
   "metadata": {},
   "source": [
    "* For all ratings, SP is the highest. But we cannot say this is causation, since we have more data belongs to SP compared to other states. \n",
    "* In all the ratings we have top 5 states as SP,RJ,MG,RS,PR. Since these are the states from which most of the customers come from, we cannot say the causation by this."
   ]
  },
  {
   "cell_type": "markdown",
   "metadata": {},
   "source": [
    "<b> let us analyse SP"
   ]
  },
  {
   "cell_type": "code",
   "execution_count": 9,
   "metadata": {},
   "outputs": [
    {
     "name": "stdout",
     "output_type": "stream",
     "text": [
      "customer_state SP percentage distribution among review_ratings : \n"
     ]
    },
    {
     "data": {
      "image/png": "[encoded data removed]",
      "text/plain": [
       "<Figure size 432x432 with 1 Axes>"
      ]
     },
     "metadata": {},
     "output_type": "display_data"
    }
   ],
   "source": [
    "#https://matplotlib.org/3.1.1/gallery/pie_and_polar_charts/pie_and_donut_labels.html#sphx-glr-gallery-pie-and-polar-charts-pie-and-donut-labels-py\n",
    "print(\"customer_state SP percentage distribution among review_ratings : \")\n",
    "\n",
    "plt.figure(figsize=(6,6))\n",
    "ax = data.groupby(\"customer_state\")[\"review_score\"].value_counts(normalize=True).unstack().loc[\"SP\"].plot(kind=\"pie\")\n",
    "\n",
    "d = data.groupby(\"customer_state\")[\"review_score\"].value_counts(normalize=True).unstack().loc[\"SP\"]\n",
    "\n",
    "wedges, texts, autotexts = ax.pie(d, autopct=lambda pct: str(round(pct,2))+\"%\",\n",
    "                                  textprops=dict(color=\"w\"))\n"
   ]
  },
  {
   "cell_type": "markdown",
   "metadata": {},
   "source": [
    "* 60% of SP state customers gave rating 5. And 20% of customers from SP gave rating 4 for the purchased products. \n",
    "* There are vey less customers from SP, who gave 1,2,3 ratings. "
   ]
  },
  {
   "cell_type": "markdown",
   "metadata": {},
   "source": [
    "<b> let us analyse RJ."
   ]
  },
  {
   "cell_type": "code",
   "execution_count": 10,
   "metadata": {},
   "outputs": [
    {
     "name": "stdout",
     "output_type": "stream",
     "text": [
      "customer_state RJ percentage distribution among review_ratings : \n"
     ]
    },
    {
     "data": {
      "image/png": "[encoded data removed]",
      "text/plain": [
       "<Figure size 432x432 with 1 Axes>"
      ]
     },
     "metadata": {},
     "output_type": "display_data"
    }
   ],
   "source": [
    "#https://matplotlib.org/3.1.1/gallery/pie_and_polar_charts/pie_and_donut_labels.html#sphx-glr-gallery-pie-and-polar-charts-pie-and-donut-labels-py\n",
    "print(\"customer_state RJ percentage distribution among review_ratings : \")\n",
    "\n",
    "plt.figure(figsize=(6,6))\n",
    "ax = data.groupby(\"customer_state\")[\"review_score\"].value_counts(normalize=True).unstack().loc[\"RJ\"].plot(kind=\"pie\")\n",
    "\n",
    "d = data.groupby(\"customer_state\")[\"review_score\"].value_counts(normalize=True).unstack().loc[\"RJ\"]\n",
    "\n",
    "wedges, texts, autotexts = ax.pie(d, autopct=lambda pct: str(round(pct,2))+\"%\",\n",
    "                                  textprops=dict(color=\"w\"))\n"
   ]
  },
  {
   "cell_type": "markdown",
   "metadata": {},
   "source": [
    "* This is interesting. Most of the customers (54%) of RJ gave rating 5. But the second position is for rating 1 which has 17% of customers in RJ"
   ]
  },
  {
   "cell_type": "code",
   "execution_count": 11,
   "metadata": {},
   "outputs": [
    {
     "name": "stdout",
     "output_type": "stream",
     "text": [
      "The number of customers in state SP :  38557\n",
      "The number of customers in state RJ :  11695\n",
      "The number of customers in state MG :  10809\n"
     ]
    }
   ],
   "source": [
    "#number of unique customers from state SP,RJ,MG\n",
    "num_sp = len(data[data[\"customer_state\"]==\"SP\"][\"customer_unique_id\"].value_counts())\n",
    "print(\"The number of customers in state SP : \",num_sp)\n",
    "\n",
    "num_rj = len(data[data[\"customer_state\"]==\"RJ\"][\"customer_unique_id\"].value_counts())\n",
    "print(\"The number of customers in state RJ : \",num_rj)\n",
    "\n",
    "num = len(data[data[\"customer_state\"]==\"MG\"][\"customer_unique_id\"].value_counts())\n",
    "print(\"The number of customers in state MG : \",num)"
   ]
  },
  {
   "cell_type": "code",
   "execution_count": 12,
   "metadata": {},
   "outputs": [
    {
     "data": {
      "text/plain": [
       "91626"
      ]
     },
     "execution_count": 12,
     "metadata": {},
     "output_type": "execute_result"
    }
   ],
   "source": [
    "#total number of unique customers\n",
    "tot = len(data[\"customer_unique_id\"].value_counts())\n",
    "tot"
   ]
  },
  {
   "cell_type": "code",
   "execution_count": 13,
   "metadata": {},
   "outputs": [
    {
     "name": "stdout",
     "output_type": "stream",
     "text": [
      "Percentage of unique customers from SP out of all unique customers :  42.08 %\n",
      "Percentage of unique customers from RJ out of all unique customers :  12.76 %\n",
      "Percentage of unique customers from MG out of all unique customers :  11.8 %\n"
     ]
    }
   ],
   "source": [
    "print(\"Percentage of unique customers from SP out of all unique customers : \", round(num_sp*100/tot,2),\"%\")\n",
    "print(\"Percentage of unique customers from RJ out of all unique customers : \", round(num_rj*100/tot,2),\"%\")\n",
    "print(\"Percentage of unique customers from MG out of all unique customers : \", round(num*100/tot,2),\"%\")"
   ]
  },
  {
   "cell_type": "markdown",
   "metadata": {},
   "source": [
    "* There are 91626 unique customers in the database.\n",
    "* There are more number of customers from state SP which is 42%\n",
    "* Around 12.7% of unique customers from state RJ, and 11.8% of customers from state MG, out of all unique customers. \n",
    "* SP,RJ,MG are the top 3 states which has more number of customers."
   ]
  },
  {
   "cell_type": "code",
   "execution_count": 14,
   "metadata": {},
   "outputs": [],
   "source": [
    "#grouped data with customer_state\n",
    "grp = data.groupby(\"customer_state\")[\"review_score\"].value_counts(normalize=True).unstack()"
   ]
  },
  {
   "cell_type": "code",
   "execution_count": 15,
   "metadata": {},
   "outputs": [
    {
     "data": {
      "text/plain": [
       "0"
      ]
     },
     "execution_count": 15,
     "metadata": {},
     "output_type": "execute_result"
    }
   ],
   "source": [
    "#is there any state which has more than 20% review_score 1?\n",
    "(data.groupby(\"customer_state\")[\"review_score\"].value_counts(normalize=True).unstack()[1]>0.20).sum()"
   ]
  },
  {
   "cell_type": "code",
   "execution_count": 16,
   "metadata": {},
   "outputs": [
    {
     "data": {
      "text/plain": [
       "4"
      ]
     },
     "execution_count": 16,
     "metadata": {},
     "output_type": "execute_result"
    }
   ],
   "source": [
    "#is there any state which has less than 50% review_score 5?\n",
    "(data.groupby(\"customer_state\")[\"review_score\"].value_counts(normalize=True).unstack()[5]<0.50).sum()"
   ]
  },
  {
   "cell_type": "code",
   "execution_count": 17,
   "metadata": {},
   "outputs": [
    {
     "data": {
      "text/html": [
       "<div>\n",
       "<style scoped>\n",
       "    .dataframe tbody tr th:only-of-type {\n",
       "        vertical-align: middle;\n",
       "    }\n",
       "\n",
       "    .dataframe tbody tr th {\n",
       "        vertical-align: top;\n",
       "    }\n",
       "\n",
       "    .dataframe thead th {\n",
       "        text-align: right;\n",
       "    }\n",
       "</style>\n",
       "<table border=\"1\" class=\"dataframe\">\n",
       "  <thead>\n",
       "    <tr style=\"text-align: right;\">\n",
       "      <th>review_score</th>\n",
       "      <th>1</th>\n",
       "      <th>2</th>\n",
       "      <th>3</th>\n",
       "      <th>4</th>\n",
       "      <th>5</th>\n",
       "    </tr>\n",
       "    <tr>\n",
       "      <th>customer_state</th>\n",
       "      <th></th>\n",
       "      <th></th>\n",
       "      <th></th>\n",
       "      <th></th>\n",
       "      <th></th>\n",
       "    </tr>\n",
       "  </thead>\n",
       "  <tbody>\n",
       "    <tr>\n",
       "      <th>AL</th>\n",
       "      <td>0.164760</td>\n",
       "      <td>0.061785</td>\n",
       "      <td>0.070938</td>\n",
       "      <td>0.215103</td>\n",
       "      <td>0.487414</td>\n",
       "    </tr>\n",
       "    <tr>\n",
       "      <th>BA</th>\n",
       "      <td>0.148726</td>\n",
       "      <td>0.045502</td>\n",
       "      <td>0.105564</td>\n",
       "      <td>0.212949</td>\n",
       "      <td>0.487259</td>\n",
       "    </tr>\n",
       "    <tr>\n",
       "      <th>MA</th>\n",
       "      <td>0.183623</td>\n",
       "      <td>0.045906</td>\n",
       "      <td>0.104218</td>\n",
       "      <td>0.194789</td>\n",
       "      <td>0.471464</td>\n",
       "    </tr>\n",
       "    <tr>\n",
       "      <th>PA</th>\n",
       "      <td>0.165112</td>\n",
       "      <td>0.043843</td>\n",
       "      <td>0.101679</td>\n",
       "      <td>0.208955</td>\n",
       "      <td>0.480410</td>\n",
       "    </tr>\n",
       "  </tbody>\n",
       "</table>\n",
       "</div>"
      ],
      "text/plain": [
       "review_score           1         2         3         4         5\n",
       "customer_state                                                  \n",
       "AL              0.164760  0.061785  0.070938  0.215103  0.487414\n",
       "BA              0.148726  0.045502  0.105564  0.212949  0.487259\n",
       "MA              0.183623  0.045906  0.104218  0.194789  0.471464\n",
       "PA              0.165112  0.043843  0.101679  0.208955  0.480410"
      ]
     },
     "execution_count": 17,
     "metadata": {},
     "output_type": "execute_result"
    }
   ],
   "source": [
    "grp[(data.groupby(\"customer_state\")[\"review_score\"].value_counts(normalize=True).unstack()[5]<0.50)]"
   ]
  },
  {
   "cell_type": "markdown",
   "metadata": {},
   "source": [
    "* There is no state which has more than 20% customers who gave more than 20% review_score 1.\n",
    "* There are 4 states which has less than 50% customers who gave 5 score rating. But in these states also, % of score 5 is more compared to review_score 1 and 4.\n"
   ]
  },
  {
   "cell_type": "markdown",
   "metadata": {},
   "source": [
    "- <b> From the above analysis, we got the insights : </b>\n",
    "    - state SP has more number of customers and SP has more % share of customers in all the review_score.\n",
    "    - Also, 60% of the customers from SP are satisfied and gave rating 5. Andabout 19% of customers gave rating 4. \n",
    "    - The reason behind the more satisfied customers from SP is not actually known at present. We need more analysis to get the information about this. \n",
    "    - There is no state which has more than 20% customers who are not satisfied and gave rating 1. \n",
    "    - % of customers who gave rating 5 is significantly more in all the states compared to other ratings.This conclusion is because we analysed the states which has less than 50% customers who gave review_score 5."
   ]
  },
  {
   "cell_type": "markdown",
   "metadata": {},
   "source": [
    "### seller_state analysis"
   ]
  },
  {
   "cell_type": "code",
   "execution_count": 18,
   "metadata": {},
   "outputs": [
    {
     "data": {
      "text/plain": [
       "SP    0.707873\n",
       "MG    0.078918\n",
       "PR    0.078414\n",
       "RJ    0.043756\n",
       "SC    0.038371\n",
       "RS    0.019495\n",
       "DF    0.007754\n",
       "BA    0.006003\n",
       "GO    0.004642\n",
       "PE    0.004076\n",
       "MA    0.003572\n",
       "ES    0.003280\n",
       "MT    0.001291\n",
       "CE    0.000866\n",
       "MS    0.000522\n",
       "RN    0.000477\n",
       "PB    0.000354\n",
       "RO    0.000124\n",
       "PI    0.000097\n",
       "SE    0.000088\n",
       "AM    0.000027\n",
       "Name: seller_state, dtype: float64"
      ]
     },
     "execution_count": 18,
     "metadata": {},
     "output_type": "execute_result"
    }
   ],
   "source": [
    "data[\"seller_state\"].value_counts(normalize=True)"
   ]
  },
  {
   "cell_type": "markdown",
   "metadata": {},
   "source": [
    "* This is highly skewed. About 71% of the orders to sellers from state SP.\n",
    "* There are 8% of orders to sellers from MG and PR. orders to Sellers from other states are very very less. \n",
    "* This could be one of the reason that, most customers from SP gave rating 5. There is some chance that if customer and seller both belongs to same state, the customer could be satisfied and give good rating. This might due to early delivery or anything, we don't know. But if customer and seller belongs to same state, then there could be fast delivery of product. "
   ]
  },
  {
   "cell_type": "code",
   "execution_count": 19,
   "metadata": {},
   "outputs": [
    {
     "name": "stdout",
     "output_type": "stream",
     "text": [
      "The top 5 states, percentage of seller_state in rating 1 : \n",
      " SP    0.733555\n",
      "PR    0.073937\n",
      "MG    0.067744\n",
      "RJ    0.042822\n",
      "SC    0.034287\n",
      "Name: seller_state, dtype: float64\n",
      "******************************\n",
      "The top 5 states, percentage of seller_state in rating 2 : \n",
      " SP    0.760244\n",
      "PR    0.069229\n",
      "MG    0.067702\n",
      "SC    0.038178\n",
      "RJ    0.033851\n",
      "Name: seller_state, dtype: float64\n",
      "******************************\n",
      "The top 5 states, percentage of seller_state in rating 3 : \n",
      " SP    0.732477\n",
      "MG    0.077092\n",
      "PR    0.072496\n",
      "SC    0.035934\n",
      "RJ    0.035725\n",
      "Name: seller_state, dtype: float64\n",
      "******************************\n",
      "The top 5 states, percentage of seller_state in rating 4 : \n",
      " SP    0.708032\n",
      "MG    0.080783\n",
      "PR    0.076778\n",
      "RJ    0.039448\n",
      "SC    0.038435\n",
      "Name: seller_state, dtype: float64\n",
      "******************************\n",
      "The top 5 states, percentage of seller_state in rating 5 : \n",
      " SP    0.695732\n",
      "MG    0.081532\n",
      "PR    0.081316\n",
      "RJ    0.047187\n",
      "SC    0.039559\n",
      "Name: seller_state, dtype: float64\n"
     ]
    }
   ],
   "source": [
    "print(\"The top 5 states, percentage of seller_state in rating 1 : \\n\",\n",
    "                                data[(data[\"review_score\"]==1)][\"seller_state\"].value_counts(normalize=True)[:5])\n",
    "print(\"*\"*30)\n",
    "print(\"The top 5 states, percentage of seller_state in rating 2 : \\n\",\n",
    "                                data[(data[\"review_score\"]==2)][\"seller_state\"].value_counts(normalize=True)[:5])\n",
    "print(\"*\"*30)\n",
    "print(\"The top 5 states, percentage of seller_state in rating 3 : \\n\",\n",
    "                                data[(data[\"review_score\"]==3)][\"seller_state\"].value_counts(normalize=True)[:5])\n",
    "print(\"*\"*30)\n",
    "print(\"The top 5 states, percentage of seller_state in rating 4 : \\n\",\n",
    "                                data[(data[\"review_score\"]==4)][\"seller_state\"].value_counts(normalize=True)[:5])\n",
    "print(\"*\"*30)\n",
    "print(\"The top 5 states, percentage of seller_state in rating 5 : \\n\",\n",
    "                                data[(data[\"review_score\"]==5)][\"seller_state\"].value_counts(normalize=True)[:5])"
   ]
  },
  {
   "cell_type": "markdown",
   "metadata": {},
   "source": [
    "* In all the review_score, SP has the highest seller percentage share. "
   ]
  },
  {
   "cell_type": "markdown",
   "metadata": {},
   "source": [
    "<b> let us analyse SP sellers."
   ]
  },
  {
   "cell_type": "code",
   "execution_count": 20,
   "metadata": {},
   "outputs": [
    {
     "name": "stdout",
     "output_type": "stream",
     "text": [
      "seller SP percentage distribution among review_ratings : \n"
     ]
    },
    {
     "data": {
      "image/png": "[encoded data removed]",
      "text/plain": [
       "<Figure size 432x432 with 1 Axes>"
      ]
     },
     "metadata": {},
     "output_type": "display_data"
    }
   ],
   "source": [
    "#https://matplotlib.org/3.1.1/gallery/pie_and_polar_charts/pie_and_donut_labels.html#sphx-glr-gallery-pie-and-polar-charts-pie-and-donut-labels-py\n",
    "print(\"seller SP percentage distribution among review_ratings : \")\n",
    "\n",
    "plt.figure(figsize=(6,6))\n",
    "ax = data.groupby(\"seller_state\")[\"review_score\"].value_counts(normalize=True).unstack().loc[\"SP\"].plot(kind=\"pie\")\n",
    "\n",
    "d = data.groupby(\"seller_state\")[\"review_score\"].value_counts(normalize=True).unstack().loc[\"SP\"]\n",
    "\n",
    "wedges, texts, autotexts = ax.pie(d, autopct=lambda pct: str(round(pct,2))+\"%\",\n",
    "                                  textprops=dict(color=\"w\"))\n"
   ]
  },
  {
   "cell_type": "markdown",
   "metadata": {},
   "source": [
    "* 56% of orders to sellers from state SP, get review_score 5, and 19% of orders from sellers get review_score 4.\n",
    "* So, most of the orders to sellers from SP got good ratings "
   ]
  },
  {
   "cell_type": "code",
   "execution_count": 21,
   "metadata": {},
   "outputs": [],
   "source": [
    "#grouped data with customer_state\n",
    "grp = data.groupby(\"seller_state\")[\"review_score\"].value_counts(normalize=True).unstack()"
   ]
  },
  {
   "cell_type": "code",
   "execution_count": 22,
   "metadata": {},
   "outputs": [
    {
     "data": {
      "text/plain": [
       "1"
      ]
     },
     "execution_count": 22,
     "metadata": {},
     "output_type": "execute_result"
    }
   ],
   "source": [
    "#is there any seller state which has more than 20% review_score 1?\n",
    "(data.groupby(\"seller_state\")[\"review_score\"].value_counts(normalize=True).unstack()[1]>0.20).sum()"
   ]
  },
  {
   "cell_type": "code",
   "execution_count": 23,
   "metadata": {},
   "outputs": [
    {
     "data": {
      "text/html": [
       "<div>\n",
       "<style scoped>\n",
       "    .dataframe tbody tr th:only-of-type {\n",
       "        vertical-align: middle;\n",
       "    }\n",
       "\n",
       "    .dataframe tbody tr th {\n",
       "        vertical-align: top;\n",
       "    }\n",
       "\n",
       "    .dataframe thead th {\n",
       "        text-align: right;\n",
       "    }\n",
       "</style>\n",
       "<table border=\"1\" class=\"dataframe\">\n",
       "  <thead>\n",
       "    <tr style=\"text-align: right;\">\n",
       "      <th>review_score</th>\n",
       "      <th>1</th>\n",
       "      <th>2</th>\n",
       "      <th>3</th>\n",
       "      <th>4</th>\n",
       "      <th>5</th>\n",
       "    </tr>\n",
       "    <tr>\n",
       "      <th>seller_state</th>\n",
       "      <th></th>\n",
       "      <th></th>\n",
       "      <th></th>\n",
       "      <th></th>\n",
       "      <th></th>\n",
       "    </tr>\n",
       "  </thead>\n",
       "  <tbody>\n",
       "    <tr>\n",
       "      <th>AM</th>\n",
       "      <td>0.666667</td>\n",
       "      <td>NaN</td>\n",
       "      <td>NaN</td>\n",
       "      <td>NaN</td>\n",
       "      <td>0.333333</td>\n",
       "    </tr>\n",
       "  </tbody>\n",
       "</table>\n",
       "</div>"
      ],
      "text/plain": [
       "review_score         1   2   3   4         5\n",
       "seller_state                                \n",
       "AM            0.666667 NaN NaN NaN  0.333333"
      ]
     },
     "execution_count": 23,
     "metadata": {},
     "output_type": "execute_result"
    }
   ],
   "source": [
    "grp[(data.groupby(\"seller_state\")[\"review_score\"].value_counts(normalize=True).unstack()[1]>0.20)]"
   ]
  },
  {
   "cell_type": "code",
   "execution_count": 24,
   "metadata": {},
   "outputs": [
    {
     "data": {
      "text/plain": [
       "1"
      ]
     },
     "execution_count": 24,
     "metadata": {},
     "output_type": "execute_result"
    }
   ],
   "source": [
    "#is there any state which has less than 50% review_score 5?\n",
    "(data.groupby(\"seller_state\")[\"review_score\"].value_counts(normalize=True).unstack()[5]<0.50).sum()"
   ]
  },
  {
   "cell_type": "code",
   "execution_count": 25,
   "metadata": {},
   "outputs": [
    {
     "data": {
      "text/html": [
       "<div>\n",
       "<style scoped>\n",
       "    .dataframe tbody tr th:only-of-type {\n",
       "        vertical-align: middle;\n",
       "    }\n",
       "\n",
       "    .dataframe tbody tr th {\n",
       "        vertical-align: top;\n",
       "    }\n",
       "\n",
       "    .dataframe thead th {\n",
       "        text-align: right;\n",
       "    }\n",
       "</style>\n",
       "<table border=\"1\" class=\"dataframe\">\n",
       "  <thead>\n",
       "    <tr style=\"text-align: right;\">\n",
       "      <th>review_score</th>\n",
       "      <th>1</th>\n",
       "      <th>2</th>\n",
       "      <th>3</th>\n",
       "      <th>4</th>\n",
       "      <th>5</th>\n",
       "    </tr>\n",
       "    <tr>\n",
       "      <th>seller_state</th>\n",
       "      <th></th>\n",
       "      <th></th>\n",
       "      <th></th>\n",
       "      <th></th>\n",
       "      <th></th>\n",
       "    </tr>\n",
       "  </thead>\n",
       "  <tbody>\n",
       "    <tr>\n",
       "      <th>AM</th>\n",
       "      <td>0.666667</td>\n",
       "      <td>NaN</td>\n",
       "      <td>NaN</td>\n",
       "      <td>NaN</td>\n",
       "      <td>0.333333</td>\n",
       "    </tr>\n",
       "  </tbody>\n",
       "</table>\n",
       "</div>"
      ],
      "text/plain": [
       "review_score         1   2   3   4         5\n",
       "seller_state                                \n",
       "AM            0.666667 NaN NaN NaN  0.333333"
      ]
     },
     "execution_count": 25,
     "metadata": {},
     "output_type": "execute_result"
    }
   ],
   "source": [
    "grp[(data.groupby(\"seller_state\")[\"review_score\"].value_counts(normalize=True).unstack()[5]<0.50)]"
   ]
  },
  {
   "cell_type": "markdown",
   "metadata": {},
   "source": [
    "* AM state has more sellers who got review_score 1 than review_score 5."
   ]
  },
  {
   "cell_type": "code",
   "execution_count": 26,
   "metadata": {},
   "outputs": [
    {
     "data": {
      "text/plain": [
       "1    2\n",
       "5    1\n",
       "Name: review_score, dtype: int64"
      ]
     },
     "execution_count": 26,
     "metadata": {},
     "output_type": "execute_result"
    }
   ],
   "source": [
    "#AM state\n",
    "data[data[\"seller_state\"]==\"AM\"][\"review_score\"].value_counts()"
   ]
  },
  {
   "cell_type": "markdown",
   "metadata": {},
   "source": [
    "* There is only 3 orders to the sellers of state AM. \n",
    "* Out of 3, there are 2 bad ratings(1).\n",
    "* Since there are very very less orders in this, we cannot say anything more than this. "
   ]
  },
  {
   "cell_type": "markdown",
   "metadata": {},
   "source": [
    "- <b> From the above analysis we got the insights : </b>\n",
    "    - Sellers of state SP has highest number orders.\n",
    "    - Orders to sellers of state SP, got 56% of review_score 1.\n",
    "    - In all review_scores, orders to sellers from state SP, has highhest % share, this is due to the fact that, there are high number of orders to sellers from state SP."
   ]
  },
  {
   "cell_type": "code",
   "execution_count": 27,
   "metadata": {},
   "outputs": [
    {
     "name": "stdout",
     "output_type": "stream",
     "text": [
      "The number of sellers in state SP :  1701\n",
      "The number of sellers in state PR :  341\n",
      "The number of sellers in state MG :  232\n"
     ]
    }
   ],
   "source": [
    "#number of sellers from state SP, PR, MG\n",
    "num_sp = len(data[data[\"seller_state\"]==\"SP\"][\"seller_id\"].value_counts())\n",
    "print(\"The number of sellers in state SP : \",num_sp)\n",
    "\n",
    "num_pr = len(data[data[\"seller_state\"]==\"PR\"][\"seller_id\"].value_counts())\n",
    "print(\"The number of sellers in state PR : \",num_pr)\n",
    "\n",
    "num = len(data[data[\"seller_state\"]==\"MG\"][\"seller_id\"].value_counts())\n",
    "print(\"The number of sellers in state MG : \",num)"
   ]
  },
  {
   "cell_type": "code",
   "execution_count": 28,
   "metadata": {},
   "outputs": [
    {
     "data": {
      "text/plain": [
       "2907"
      ]
     },
     "execution_count": 28,
     "metadata": {},
     "output_type": "execute_result"
    }
   ],
   "source": [
    "#total number of sellers\n",
    "tot = len(data[\"seller_id\"].value_counts())\n",
    "tot"
   ]
  },
  {
   "cell_type": "code",
   "execution_count": 29,
   "metadata": {},
   "outputs": [
    {
     "name": "stdout",
     "output_type": "stream",
     "text": [
      "Percentage of sellers from SP out of all unique customers :  58.51 %\n",
      "Percentage of sellers from PR out of all unique customers :  11.73 %\n",
      "Percentage of sellers from MG out of all unique customers :  7.98 %\n"
     ]
    }
   ],
   "source": [
    "print(\"Percentage of sellers from SP out of all unique customers : \", round(num_sp*100/tot,2),\"%\")\n",
    "print(\"Percentage of sellers from PR out of all unique customers : \", round(num_pr*100/tot,2),\"%\")\n",
    "print(\"Percentage of sellers from MG out of all unique customers : \", round(num*100/tot,2),\"%\")"
   ]
  },
  {
   "cell_type": "markdown",
   "metadata": {},
   "source": [
    "* There are total 2907 sellers in the database.\n",
    "* Out of total, 58.5% of sellers from state SP\n",
    "* We can clearly see that there are more number of sellers from state SP.\n",
    "* So, obviously number of orders from SP is high. \n",
    "* Out of total, 11.7% of sellers from state PR, and 8% of sellers from state MG.\n",
    "* These(SP,PR,MG) are the 3 states of sellers, where sellers got highest orders."
   ]
  },
  {
   "cell_type": "code",
   "execution_count": null,
   "metadata": {},
   "outputs": [],
   "source": []
  },
  {
   "cell_type": "markdown",
   "metadata": {},
   "source": [
    "<b>From the analysis of customer seller and state info, we got some important insights</b>\n",
    "\n",
    "    - State SP has the highest number of customers(42%), aas well as highest sellers(58.5%). \n",
    "    - This could be the reason for most of the customers from state SP are satisfied and gave rating 5, and most of the sellers got rating 5.\n",
    "    - review_rating 5 is dominant in all the customer_states as well as seller_states. \n",
    "    - General trend is star: 5 >> star 4 >= star 1 > star 2 >= star 3. "
   ]
  },
  {
   "cell_type": "code",
   "execution_count": null,
   "metadata": {},
   "outputs": [],
   "source": []
  },
  {
   "cell_type": "markdown",
   "metadata": {},
   "source": [
    "### Product_category_name analysis."
   ]
  },
  {
   "cell_type": "code",
   "execution_count": 30,
   "metadata": {},
   "outputs": [
    {
     "data": {
      "text/plain": [
       "bed_bath_table           0.103426\n",
       "health_beauty            0.086150\n",
       "sports_leisure           0.077167\n",
       "furniture_decor          0.075912\n",
       "computers_accessories    0.069882\n",
       "housewares               0.063304\n",
       "watches_gifts            0.053464\n",
       "telephony                0.040396\n",
       "garden_tools             0.039450\n",
       "auto                     0.037823\n",
       "Name: product_category_name, dtype: float64"
      ]
     },
     "execution_count": 30,
     "metadata": {},
     "output_type": "execute_result"
    }
   ],
   "source": [
    "data[\"product_category_name\"].value_counts(normalize=True)[:10]"
   ]
  },
  {
   "cell_type": "code",
   "execution_count": 31,
   "metadata": {},
   "outputs": [
    {
     "data": {
      "image/png": "[encoded data removed]",
      "text/plain": [
       "<Figure size 720x360 with 1 Axes>"
      ]
     },
     "metadata": {
      "needs_background": "light"
     },
     "output_type": "display_data"
    },
    {
     "name": "stdout",
     "output_type": "stream",
     "text": [
      "Percentage cover of top 10 categories in review 1 : \n",
      "67.684 %\n"
     ]
    }
   ],
   "source": [
    "rate_1[\"product_category_name\"].value_counts()[:10].plot.bar(figsize=(10,5)).legend()\n",
    "plt.xlabel(\"product category name\")\n",
    "plt.ylabel(\"Counts\")\n",
    "plt.title(\"Top 10 product categroy in review score 1\")\n",
    "plt.show()\n",
    "\n",
    "print(\"Percentage cover of top 10 categories in review 1 : \")\n",
    "print((rate_1[\"product_category_name\"].value_counts(normalize=True)[:10].sum()*100).round(3),\"%\")"
   ]
  },
  {
   "cell_type": "markdown",
   "metadata": {},
   "source": [
    "* bed_bath_table is the most occuring category in rating 1, followed by furniture_decor\n",
    "* We can see the top 10 categories in review score 1 cover 67.7% of categories."
   ]
  },
  {
   "cell_type": "code",
   "execution_count": 32,
   "metadata": {},
   "outputs": [
    {
     "data": {
      "image/png": "[encoded data removed]",
      "text/plain": [
       "<Figure size 720x360 with 1 Axes>"
      ]
     },
     "metadata": {
      "needs_background": "light"
     },
     "output_type": "display_data"
    },
    {
     "name": "stdout",
     "output_type": "stream",
     "text": [
      "Percentage cover of top 10 categories in review 2 : \n",
      "67.32 %\n"
     ]
    }
   ],
   "source": [
    "rate_2[\"product_category_name\"].value_counts()[:10].plot.bar(figsize=(10,5),color=\"red\").legend()\n",
    "plt.xlabel(\"product category name\")\n",
    "plt.ylabel(\"Counts\")\n",
    "plt.title(\"Top 10 product categroy in review score 2\")\n",
    "plt.show()\n",
    "\n",
    "print(\"Percentage cover of top 10 categories in review 2 : \")\n",
    "print((rate_2[\"product_category_name\"].value_counts(normalize=True)[:10].sum()*100).round(3),\"%\")"
   ]
  },
  {
   "cell_type": "markdown",
   "metadata": {},
   "source": [
    "* Distribution is almost similar to review score 1. \n",
    "* Top 10 categories cover 67.3% of all categories in rating 2.\n",
    "* bed_bath_table is most occuring category in review_rating 2 followed by furniture_decor"
   ]
  },
  {
   "cell_type": "code",
   "execution_count": 33,
   "metadata": {},
   "outputs": [
    {
     "data": {
      "image/png": "[encoded data removed]",
      "text/plain": [
       "<Figure size 720x360 with 1 Axes>"
      ]
     },
     "metadata": {
      "needs_background": "light"
     },
     "output_type": "display_data"
    },
    {
     "name": "stdout",
     "output_type": "stream",
     "text": [
      "Percentage cover of top 10 categories in review 3 : \n",
      "66.144 %\n"
     ]
    }
   ],
   "source": [
    "rate_3[\"product_category_name\"].value_counts()[:10].plot.bar(figsize=(10,5),color=\"cyan\").legend()\n",
    "plt.xlabel(\"product category name\")\n",
    "plt.ylabel(\"Counts\")\n",
    "plt.title(\"Top 10 product categroy in review score 3\")\n",
    "plt.show()\n",
    "\n",
    "print(\"Percentage cover of top 10 categories in review 3 : \")\n",
    "print((rate_3[\"product_category_name\"].value_counts(normalize=True)[:10].sum()*100).round(3),\"%\")"
   ]
  },
  {
   "cell_type": "markdown",
   "metadata": {},
   "source": [
    "* Top 10 categories covers 66% of categories in review score 3.\n",
    "* bed_bath_table is the most frequent category, and furniture_decor and health_beauty take the seconf and 3rd place."
   ]
  },
  {
   "cell_type": "code",
   "execution_count": 34,
   "metadata": {},
   "outputs": [
    {
     "data": {
      "image/png": "[encoded data removed]",
      "text/plain": [
       "<Figure size 720x360 with 1 Axes>"
      ]
     },
     "metadata": {
      "needs_background": "light"
     },
     "output_type": "display_data"
    },
    {
     "name": "stdout",
     "output_type": "stream",
     "text": [
      "Percentage cover of top 10 categories in review 4 : \n",
      "64.713 %\n"
     ]
    }
   ],
   "source": [
    "rate_4[\"product_category_name\"].value_counts()[:10].plot.bar(figsize=(10,5),color=\"darkblue\").legend()\n",
    "plt.xlabel(\"product category name\")\n",
    "plt.ylabel(\"Counts\")\n",
    "plt.title(\"Top 10 product categroy in review score 4\")\n",
    "plt.show()\n",
    "\n",
    "print(\"Percentage cover of top 10 categories in review 4 : \")\n",
    "print((rate_4[\"product_category_name\"].value_counts(normalize=True)[:10].sum()*100).round(3),\"%\")"
   ]
  },
  {
   "cell_type": "markdown",
   "metadata": {},
   "source": [
    "* Top 10 categories covers 64.7% of categories in review_score 4.\n",
    "* bed_bath_table, health_beauty are top 2 categories in rating 4.\n"
   ]
  },
  {
   "cell_type": "code",
   "execution_count": 35,
   "metadata": {},
   "outputs": [
    {
     "data": {
      "image/png": "[encoded data removed]",
      "text/plain": [
       "<Figure size 720x360 with 1 Axes>"
      ]
     },
     "metadata": {
      "needs_background": "light"
     },
     "output_type": "display_data"
    },
    {
     "name": "stdout",
     "output_type": "stream",
     "text": [
      "Percentage cover of top 10 categories in review 5 : \n",
      "64.05 %\n"
     ]
    }
   ],
   "source": [
    "rate_5[\"product_category_name\"].value_counts()[:10].plot.bar(figsize=(10,5),color=\"green\").legend()\n",
    "plt.xlabel(\"product category name\")\n",
    "plt.ylabel(\"Counts\")\n",
    "plt.title(\"Top 10 product categroy in review score 5\")\n",
    "plt.show()\n",
    "\n",
    "print(\"Percentage cover of top 10 categories in review 5 : \")\n",
    "print((rate_5[\"product_category_name\"].value_counts(normalize=True)[:10].sum()*100).round(3),\"%\")"
   ]
  },
  {
   "cell_type": "markdown",
   "metadata": {},
   "source": [
    "* Top 10 categories covers 64% of categories in review_rating 5.\n",
    "* bed_bath_table is highest. health_beauty is also nearly equal to bed_bath_beauty."
   ]
  },
  {
   "cell_type": "markdown",
   "metadata": {},
   "source": [
    "<b> bed_bath_table is more frequent in all review_scores. Lets analyze this based on review_score."
   ]
  },
  {
   "cell_type": "code",
   "execution_count": 36,
   "metadata": {},
   "outputs": [
    {
     "name": "stdout",
     "output_type": "stream",
     "text": [
      "bed_bath_table percentage distribution among review_ratings : \n"
     ]
    },
    {
     "data": {
      "image/png": "[encoded data removed]",
      "text/plain": [
       "<Figure size 432x432 with 1 Axes>"
      ]
     },
     "metadata": {},
     "output_type": "display_data"
    }
   ],
   "source": [
    "#https://matplotlib.org/3.1.1/gallery/pie_and_polar_charts/pie_and_donut_labels.html#sphx-glr-gallery-pie-and-polar-charts-pie-and-donut-labels-py\n",
    "print(\"bed_bath_table percentage distribution among review_ratings : \")\n",
    "\n",
    "plt.figure(figsize=(6,6))\n",
    "ax = data.groupby(\"product_category_name\")[\"review_score\"].value_counts(normalize=True).unstack().loc[\"bed_bath_table\"].plot(kind=\"pie\")\n",
    "\n",
    "d = data.groupby(\"product_category_name\")[\"review_score\"].value_counts(normalize=True).unstack().loc[\"bed_bath_table\"]\n",
    "\n",
    "wedges, texts, autotexts = ax.pie(d, autopct=lambda pct: str(round(pct,2))+\"%\",\n",
    "                                  textprops=dict(color=\"w\"))\n"
   ]
  },
  {
   "cell_type": "markdown",
   "metadata": {},
   "source": [
    "- bed_bath_table is most frequent in all ratings. \n",
    "- bed_bath_table 52% of the times get 5 star rating. 19% times 4 rating. and 14% of the times 1 rating."
   ]
  },
  {
   "cell_type": "markdown",
   "metadata": {},
   "source": [
    "<b> health_beauty is the second most frequent in review_score 4 and 5. let us analysise this based on review_score"
   ]
  },
  {
   "cell_type": "code",
   "execution_count": 37,
   "metadata": {},
   "outputs": [
    {
     "name": "stdout",
     "output_type": "stream",
     "text": [
      "health_beauty percentage distribution among review_ratings : \n"
     ]
    },
    {
     "data": {
      "image/png": "[encoded data removed]",
      "text/plain": [
       "<Figure size 432x432 with 1 Axes>"
      ]
     },
     "metadata": {},
     "output_type": "display_data"
    }
   ],
   "source": [
    "print(\"health_beauty percentage distribution among review_ratings : \")\n",
    "\n",
    "plt.figure(figsize=(6,6))\n",
    "ax = data.groupby(\"product_category_name\")[\"review_score\"].value_counts(normalize=True).unstack().loc[\"health_beauty\"].plot(kind=\"pie\")\n",
    "\n",
    "d = data.groupby(\"product_category_name\")[\"review_score\"].value_counts(normalize=True).unstack().loc[\"health_beauty\"]\n",
    "\n",
    "wedges, texts, autotexts = ax.pie(d, autopct=lambda pct: str(round(pct,2))+\"%\",\n",
    "                                  textprops=dict(color=\"w\"))\n"
   ]
  },
  {
   "cell_type": "markdown",
   "metadata": {},
   "source": [
    "* health_beauty category 61% of the times gets 5 score rating. Also 18% of the times gets 4 rating. \n",
    "* Health_beaty is one category which gets more 5 star ratings compared to other ratings. \n",
    "* More Customers could be satisfed with this product."
   ]
  },
  {
   "cell_type": "markdown",
   "metadata": {},
   "source": [
    "<b> furniture_decor is present 2nd most frequent in 1,2,3 ratings. Let us analyse the score distribution"
   ]
  },
  {
   "cell_type": "code",
   "execution_count": 38,
   "metadata": {},
   "outputs": [
    {
     "name": "stdout",
     "output_type": "stream",
     "text": [
      "furniture_decor percentage distribution among review_ratings : \n"
     ]
    },
    {
     "data": {
      "image/png": "[encoded data removed]",
      "text/plain": [
       "<Figure size 432x432 with 1 Axes>"
      ]
     },
     "metadata": {},
     "output_type": "display_data"
    }
   ],
   "source": [
    "print(\"furniture_decor percentage distribution among review_ratings : \")\n",
    "\n",
    "plt.figure(figsize=(6,6))\n",
    "ax = data.groupby(\"product_category_name\")[\"review_score\"].value_counts(normalize=True).unstack().loc[\"furniture_decor\"].plot(kind=\"pie\")\n",
    "\n",
    "d = data.groupby(\"product_category_name\")[\"review_score\"].value_counts(normalize=True).unstack().loc[\"furniture_decor\"]\n",
    "\n",
    "wedges, texts, autotexts = ax.pie(d, autopct=lambda pct: str(round(pct,2))+\"%\",\n",
    "                                  textprops=dict(color=\"w\"))\n"
   ]
  },
  {
   "cell_type": "markdown",
   "metadata": {},
   "source": [
    "* Share of score 5 is 54.19% in furniture_decor. \n",
    "* 72% of the times, furniture_decor gets rating 4 or 5."
   ]
  },
  {
   "cell_type": "code",
   "execution_count": 39,
   "metadata": {},
   "outputs": [],
   "source": [
    "#grouped data with product_category_name\n",
    "grp = data.groupby(\"product_category_name\")[\"review_score\"].value_counts(normalize=True).unstack()"
   ]
  },
  {
   "cell_type": "code",
   "execution_count": 40,
   "metadata": {},
   "outputs": [
    {
     "data": {
      "text/plain": [
       "0"
      ]
     },
     "execution_count": 40,
     "metadata": {},
     "output_type": "execute_result"
    }
   ],
   "source": [
    "#is there any category which has more than 50% review_score 1?\n",
    "(data.groupby(\"product_category_name\")[\"review_score\"].value_counts(normalize=True).unstack()[1]>0.50).sum()"
   ]
  },
  {
   "cell_type": "code",
   "execution_count": 41,
   "metadata": {},
   "outputs": [
    {
     "data": {
      "text/plain": [
       "1"
      ]
     },
     "execution_count": 41,
     "metadata": {},
     "output_type": "execute_result"
    }
   ],
   "source": [
    "#is there any category which has more  than or equal to 50% of review_score 1?\n",
    "(data.groupby(\"product_category_name\")[\"review_score\"].value_counts(normalize=True).unstack()[1]>=0.50).sum()"
   ]
  },
  {
   "cell_type": "markdown",
   "metadata": {},
   "source": [
    "* There is no category which has more than 50% review_score 1.\n",
    "* But there is 1 category which has review_score share 50%"
   ]
  },
  {
   "cell_type": "code",
   "execution_count": 42,
   "metadata": {},
   "outputs": [
    {
     "data": {
      "text/html": [
       "<div>\n",
       "<style scoped>\n",
       "    .dataframe tbody tr th:only-of-type {\n",
       "        vertical-align: middle;\n",
       "    }\n",
       "\n",
       "    .dataframe tbody tr th {\n",
       "        vertical-align: top;\n",
       "    }\n",
       "\n",
       "    .dataframe thead th {\n",
       "        text-align: right;\n",
       "    }\n",
       "</style>\n",
       "<table border=\"1\" class=\"dataframe\">\n",
       "  <thead>\n",
       "    <tr style=\"text-align: right;\">\n",
       "      <th>review_score</th>\n",
       "      <th>1</th>\n",
       "      <th>2</th>\n",
       "      <th>3</th>\n",
       "      <th>4</th>\n",
       "      <th>5</th>\n",
       "    </tr>\n",
       "    <tr>\n",
       "      <th>product_category_name</th>\n",
       "      <th></th>\n",
       "      <th></th>\n",
       "      <th></th>\n",
       "      <th></th>\n",
       "      <th></th>\n",
       "    </tr>\n",
       "  </thead>\n",
       "  <tbody>\n",
       "    <tr>\n",
       "      <th>security_and_services</th>\n",
       "      <td>0.5</td>\n",
       "      <td>NaN</td>\n",
       "      <td>NaN</td>\n",
       "      <td>0.5</td>\n",
       "      <td>NaN</td>\n",
       "    </tr>\n",
       "  </tbody>\n",
       "</table>\n",
       "</div>"
      ],
      "text/plain": [
       "review_score             1   2   3    4   5\n",
       "product_category_name                      \n",
       "security_and_services  0.5 NaN NaN  0.5 NaN"
      ]
     },
     "execution_count": 42,
     "metadata": {},
     "output_type": "execute_result"
    }
   ],
   "source": [
    "#product category which has more than or equal to 50% review_score 1.\n",
    "grp[(data.groupby(\"product_category_name\")[\"review_score\"].value_counts(normalize=True).unstack()[1]>=0.50)]"
   ]
  },
  {
   "cell_type": "markdown",
   "metadata": {},
   "source": [
    "* security_and_services has 50% of review_score 1, and 50% of review_score 4."
   ]
  },
  {
   "cell_type": "code",
   "execution_count": 43,
   "metadata": {},
   "outputs": [
    {
     "data": {
      "text/html": [
       "<div>\n",
       "<style scoped>\n",
       "    .dataframe tbody tr th:only-of-type {\n",
       "        vertical-align: middle;\n",
       "    }\n",
       "\n",
       "    .dataframe tbody tr th {\n",
       "        vertical-align: top;\n",
       "    }\n",
       "\n",
       "    .dataframe thead th {\n",
       "        text-align: right;\n",
       "    }\n",
       "</style>\n",
       "<table border=\"1\" class=\"dataframe\">\n",
       "  <thead>\n",
       "    <tr style=\"text-align: right;\">\n",
       "      <th></th>\n",
       "      <th>order_id</th>\n",
       "      <th>payment_sequential</th>\n",
       "      <th>payment_type</th>\n",
       "      <th>payment_installments</th>\n",
       "      <th>payment_value</th>\n",
       "      <th>customer_id</th>\n",
       "      <th>order_status</th>\n",
       "      <th>order_purchase_timestamp</th>\n",
       "      <th>order_approved_at</th>\n",
       "      <th>order_delivered_carrier_date</th>\n",
       "      <th>...</th>\n",
       "      <th>seller_id</th>\n",
       "      <th>shipping_limit_date</th>\n",
       "      <th>price</th>\n",
       "      <th>freight_value</th>\n",
       "      <th>zip_code_prefix_seller</th>\n",
       "      <th>lat_seller</th>\n",
       "      <th>lng_seller</th>\n",
       "      <th>seller_city</th>\n",
       "      <th>seller_state</th>\n",
       "      <th>product_category_name</th>\n",
       "    </tr>\n",
       "  </thead>\n",
       "  <tbody>\n",
       "    <tr>\n",
       "      <th>15365</th>\n",
       "      <td>bede3503afed051733eeb4a84d1adcc5</td>\n",
       "      <td>1</td>\n",
       "      <td>boleto</td>\n",
       "      <td>1</td>\n",
       "      <td>115.45</td>\n",
       "      <td>919570a26efbd068d6a0f66d5c5072a3</td>\n",
       "      <td>delivered</td>\n",
       "      <td>2017-09-17 16:51:43</td>\n",
       "      <td>2017-09-19 04:05:52</td>\n",
       "      <td>2017-09-19 20:22:49</td>\n",
       "      <td>...</td>\n",
       "      <td>4e922959ae960d389249c378d1c939f5</td>\n",
       "      <td>2017-09-26 04:05:52</td>\n",
       "      <td>100.00</td>\n",
       "      <td>15.45</td>\n",
       "      <td>12327</td>\n",
       "      <td>-23.298186</td>\n",
       "      <td>-45.974828</td>\n",
       "      <td>jacarei</td>\n",
       "      <td>SP</td>\n",
       "      <td>security_and_services</td>\n",
       "    </tr>\n",
       "    <tr>\n",
       "      <th>19515</th>\n",
       "      <td>2c4ada2e75c2ad41dd93cebb5df5f023</td>\n",
       "      <td>1</td>\n",
       "      <td>credit_card</td>\n",
       "      <td>1</td>\n",
       "      <td>209.06</td>\n",
       "      <td>363d3a9b2ec5c5426608688ca033292d</td>\n",
       "      <td>delivered</td>\n",
       "      <td>2017-01-26 11:09:00</td>\n",
       "      <td>2017-01-26 11:22:17</td>\n",
       "      <td>2017-01-27 14:59:35</td>\n",
       "      <td>...</td>\n",
       "      <td>48162d548f5b1b11b9d29d1e01f75a61</td>\n",
       "      <td>2017-01-30 11:09:00</td>\n",
       "      <td>183.29</td>\n",
       "      <td>25.77</td>\n",
       "      <td>13403</td>\n",
       "      <td>-22.727375</td>\n",
       "      <td>-47.670610</td>\n",
       "      <td>piracicaba</td>\n",
       "      <td>SP</td>\n",
       "      <td>security_and_services</td>\n",
       "    </tr>\n",
       "  </tbody>\n",
       "</table>\n",
       "<p>2 rows × 38 columns</p>\n",
       "</div>"
      ],
      "text/plain": [
       "                               order_id  payment_sequential payment_type  \\\n",
       "15365  bede3503afed051733eeb4a84d1adcc5                   1       boleto   \n",
       "19515  2c4ada2e75c2ad41dd93cebb5df5f023                   1  credit_card   \n",
       "\n",
       "       payment_installments  payment_value                       customer_id  \\\n",
       "15365                     1         115.45  919570a26efbd068d6a0f66d5c5072a3   \n",
       "19515                     1         209.06  363d3a9b2ec5c5426608688ca033292d   \n",
       "\n",
       "      order_status order_purchase_timestamp    order_approved_at  \\\n",
       "15365    delivered      2017-09-17 16:51:43  2017-09-19 04:05:52   \n",
       "19515    delivered      2017-01-26 11:09:00  2017-01-26 11:22:17   \n",
       "\n",
       "      order_delivered_carrier_date  ...                         seller_id  \\\n",
       "15365          2017-09-19 20:22:49  ...  4e922959ae960d389249c378d1c939f5   \n",
       "19515          2017-01-27 14:59:35  ...  48162d548f5b1b11b9d29d1e01f75a61   \n",
       "\n",
       "       shipping_limit_date   price freight_value  zip_code_prefix_seller  \\\n",
       "15365  2017-09-26 04:05:52  100.00         15.45                   12327   \n",
       "19515  2017-01-30 11:09:00  183.29         25.77                   13403   \n",
       "\n",
       "       lat_seller  lng_seller seller_city seller_state  product_category_name  \n",
       "15365  -23.298186  -45.974828     jacarei           SP  security_and_services  \n",
       "19515  -22.727375  -47.670610  piracicaba           SP  security_and_services  \n",
       "\n",
       "[2 rows x 38 columns]"
      ]
     },
     "execution_count": 43,
     "metadata": {},
     "output_type": "execute_result"
    }
   ],
   "source": [
    "data[data[\"product_category_name\"]==\"security_and_services\"]"
   ]
  },
  {
   "cell_type": "markdown",
   "metadata": {},
   "source": [
    "* So, there are  only 2 orders  which belong to security_and_services. \n",
    "* We cannot get much information from this."
   ]
  },
  {
   "cell_type": "code",
   "execution_count": 44,
   "metadata": {},
   "outputs": [
    {
     "data": {
      "text/html": [
       "<div>\n",
       "<style scoped>\n",
       "    .dataframe tbody tr th:only-of-type {\n",
       "        vertical-align: middle;\n",
       "    }\n",
       "\n",
       "    .dataframe tbody tr th {\n",
       "        vertical-align: top;\n",
       "    }\n",
       "\n",
       "    .dataframe thead th {\n",
       "        text-align: right;\n",
       "    }\n",
       "</style>\n",
       "<table border=\"1\" class=\"dataframe\">\n",
       "  <thead>\n",
       "    <tr style=\"text-align: right;\">\n",
       "      <th>review_score</th>\n",
       "      <th>1</th>\n",
       "      <th>2</th>\n",
       "      <th>3</th>\n",
       "      <th>4</th>\n",
       "      <th>5</th>\n",
       "    </tr>\n",
       "    <tr>\n",
       "      <th>product_category_name</th>\n",
       "      <th></th>\n",
       "      <th></th>\n",
       "      <th></th>\n",
       "      <th></th>\n",
       "      <th></th>\n",
       "    </tr>\n",
       "  </thead>\n",
       "  <tbody>\n",
       "    <tr>\n",
       "      <th>diapers_and_hygiene</th>\n",
       "      <td>0.216216</td>\n",
       "      <td>NaN</td>\n",
       "      <td>0.297297</td>\n",
       "      <td>0.162162</td>\n",
       "      <td>0.324324</td>\n",
       "    </tr>\n",
       "    <tr>\n",
       "      <th>fashion_male_clothing</th>\n",
       "      <td>0.253623</td>\n",
       "      <td>0.036232</td>\n",
       "      <td>0.050725</td>\n",
       "      <td>0.144928</td>\n",
       "      <td>0.514493</td>\n",
       "    </tr>\n",
       "    <tr>\n",
       "      <th>home_comfort_2</th>\n",
       "      <td>0.290323</td>\n",
       "      <td>0.032258</td>\n",
       "      <td>0.096774</td>\n",
       "      <td>0.161290</td>\n",
       "      <td>0.419355</td>\n",
       "    </tr>\n",
       "    <tr>\n",
       "      <th>la_cuisine</th>\n",
       "      <td>0.250000</td>\n",
       "      <td>NaN</td>\n",
       "      <td>NaN</td>\n",
       "      <td>0.062500</td>\n",
       "      <td>0.687500</td>\n",
       "    </tr>\n",
       "    <tr>\n",
       "      <th>pc_gamer</th>\n",
       "      <td>0.333333</td>\n",
       "      <td>NaN</td>\n",
       "      <td>NaN</td>\n",
       "      <td>0.333333</td>\n",
       "      <td>0.333333</td>\n",
       "    </tr>\n",
       "    <tr>\n",
       "      <th>security_and_services</th>\n",
       "      <td>0.500000</td>\n",
       "      <td>NaN</td>\n",
       "      <td>NaN</td>\n",
       "      <td>0.500000</td>\n",
       "      <td>NaN</td>\n",
       "    </tr>\n",
       "  </tbody>\n",
       "</table>\n",
       "</div>"
      ],
      "text/plain": [
       "review_score                  1         2         3         4         5\n",
       "product_category_name                                                  \n",
       "diapers_and_hygiene    0.216216       NaN  0.297297  0.162162  0.324324\n",
       "fashion_male_clothing  0.253623  0.036232  0.050725  0.144928  0.514493\n",
       "home_comfort_2         0.290323  0.032258  0.096774  0.161290  0.419355\n",
       "la_cuisine             0.250000       NaN       NaN  0.062500  0.687500\n",
       "pc_gamer               0.333333       NaN       NaN  0.333333  0.333333\n",
       "security_and_services  0.500000       NaN       NaN  0.500000       NaN"
      ]
     },
     "execution_count": 44,
     "metadata": {},
     "output_type": "execute_result"
    }
   ],
   "source": [
    "#categories which has more than or equal to 20% review_score 1.\n",
    "grp[(data.groupby(\"product_category_name\")[\"review_score\"].value_counts(normalize=True).unstack()[1]>=0.20)]"
   ]
  },
  {
   "cell_type": "code",
   "execution_count": 45,
   "metadata": {},
   "outputs": [
    {
     "data": {
      "text/plain": [
       "5    13\n",
       "1     9\n",
       "4     5\n",
       "3     3\n",
       "2     1\n",
       "Name: review_score, dtype: int64"
      ]
     },
     "execution_count": 45,
     "metadata": {},
     "output_type": "execute_result"
    }
   ],
   "source": [
    "#home_comfort_2\n",
    "data[data[\"product_category_name\"]==\"home_comfort_2\"][\"review_score\"].value_counts()"
   ]
  },
  {
   "cell_type": "code",
   "execution_count": 46,
   "metadata": {},
   "outputs": [
    {
     "data": {
      "text/plain": [
       "5    71\n",
       "1    35\n",
       "4    20\n",
       "3     7\n",
       "2     5\n",
       "Name: review_score, dtype: int64"
      ]
     },
     "execution_count": 46,
     "metadata": {},
     "output_type": "execute_result"
    }
   ],
   "source": [
    "#fashion_male_clothing\n",
    "data[data[\"product_category_name\"]==\"fashion_male_clothing\"][\"review_score\"].value_counts()"
   ]
  },
  {
   "cell_type": "markdown",
   "metadata": {},
   "source": [
    "* There are very less orders incase of these categories which has more than 20% review_score 1. \n",
    "* In fashion_male_clothing customers have mixed feeling, since there are significant number of review_score 1 as well as reveiw_score 5."
   ]
  },
  {
   "cell_type": "markdown",
   "metadata": {},
   "source": [
    "* <b> From all the plots and analysis of product category, the insights we got are as follows:</b>\n",
    "\n",
    "    -  bed_bathing_table category is most frequent in all review_score, Also it covers more than 60% of the categories in all the review_scores\n",
    "    - 52% of the times bed_bathing_table gets review_score 5. And 14% of the times it gets review_score 1. \n",
    "    - health_beauty is one of the category which has nearly same % of share in categories in review_rating 5. Incase of score 4 also, it is 2nd most frequent category. \n",
    "    -  61% of the times health_beauty gets score 5, and 18% of the times it gets score 4. Mostly customers are higly satisfied with this category of products. only 10% of the times it gets review_score 1. \n",
    "    - There are very few categories which has more than 20% review_score 1. Also these categories have very less orders. \n",
    "    - In all the categories % share of review_score 5 is high, review_score 4 and review_score 1 take the next positions. score 2, 3 are very less in all the categories. \n",
    "    - Ofcourse in the whole dataset, % of review_score 5 is very high. But after analysing the product category also, we don't get any significant product_category which more score 1 than others. \n",
    "    \n",
    "    \n",
    "    "
   ]
  },
  {
   "cell_type": "code",
   "execution_count": 47,
   "metadata": {},
   "outputs": [
    {
     "name": "stdout",
     "output_type": "stream",
     "text": [
      "<class 'pandas.core.frame.DataFrame'>\n",
      "RangeIndex: 113105 entries, 0 to 113104\n",
      "Data columns (total 38 columns):\n",
      " #   Column                         Non-Null Count   Dtype  \n",
      "---  ------                         --------------   -----  \n",
      " 0   order_id                       113105 non-null  object \n",
      " 1   payment_sequential             113105 non-null  int64  \n",
      " 2   payment_type                   113105 non-null  object \n",
      " 3   payment_installments           113105 non-null  int64  \n",
      " 4   payment_value                  113105 non-null  float64\n",
      " 5   customer_id                    113105 non-null  object \n",
      " 6   order_status                   113105 non-null  object \n",
      " 7   order_purchase_timestamp       113105 non-null  object \n",
      " 8   order_approved_at              113105 non-null  object \n",
      " 9   order_delivered_carrier_date   113105 non-null  object \n",
      " 10  order_delivered_customer_date  113105 non-null  object \n",
      " 11  order_estimated_delivery_date  113105 non-null  object \n",
      " 12  review_score                   113105 non-null  int64  \n",
      " 13  customer_unique_id             113105 non-null  object \n",
      " 14  zip_code_prefix_customer       113105 non-null  int64  \n",
      " 15  lat_customer                   113105 non-null  float64\n",
      " 16  lng_customer                   113105 non-null  float64\n",
      " 17  customer_city                  113105 non-null  object \n",
      " 18  customer_state                 113105 non-null  object \n",
      " 19  product_id                     113105 non-null  object \n",
      " 20  product_name_lenght            113105 non-null  float64\n",
      " 21  product_description_lenght     113105 non-null  float64\n",
      " 22  product_photos_qty             113105 non-null  float64\n",
      " 23  product_weight_g               113105 non-null  float64\n",
      " 24  product_length_cm              113105 non-null  float64\n",
      " 25  product_height_cm              113105 non-null  float64\n",
      " 26  product_width_cm               113105 non-null  float64\n",
      " 27  order_item_id                  113105 non-null  int64  \n",
      " 28  seller_id                      113105 non-null  object \n",
      " 29  shipping_limit_date            113105 non-null  object \n",
      " 30  price                          113105 non-null  float64\n",
      " 31  freight_value                  113105 non-null  float64\n",
      " 32  zip_code_prefix_seller         113105 non-null  int64  \n",
      " 33  lat_seller                     113105 non-null  float64\n",
      " 34  lng_seller                     113105 non-null  float64\n",
      " 35  seller_city                    113105 non-null  object \n",
      " 36  seller_state                   113105 non-null  object \n",
      " 37  product_category_name          113105 non-null  object \n",
      "dtypes: float64(14), int64(6), object(18)\n",
      "memory usage: 32.8+ MB\n"
     ]
    }
   ],
   "source": [
    "data.info()"
   ]
  },
  {
   "cell_type": "markdown",
   "metadata": {},
   "source": [
    "### Analysis of product_photos_qty, product_weight_g, product_length_cm, product_height_cm, product_width_cm, product_name_lenght "
   ]
  },
  {
   "cell_type": "code",
   "execution_count": 48,
   "metadata": {},
   "outputs": [
    {
     "data": {
      "text/html": [
       "<div>\n",
       "<style scoped>\n",
       "    .dataframe tbody tr th:only-of-type {\n",
       "        vertical-align: middle;\n",
       "    }\n",
       "\n",
       "    .dataframe tbody tr th {\n",
       "        vertical-align: top;\n",
       "    }\n",
       "\n",
       "    .dataframe thead th {\n",
       "        text-align: right;\n",
       "    }\n",
       "</style>\n",
       "<table border=\"1\" class=\"dataframe\">\n",
       "  <thead>\n",
       "    <tr style=\"text-align: right;\">\n",
       "      <th>review_score</th>\n",
       "      <th>1</th>\n",
       "      <th>2</th>\n",
       "      <th>3</th>\n",
       "      <th>4</th>\n",
       "      <th>5</th>\n",
       "    </tr>\n",
       "    <tr>\n",
       "      <th>product_photos_qty</th>\n",
       "      <th></th>\n",
       "      <th></th>\n",
       "      <th></th>\n",
       "      <th></th>\n",
       "      <th></th>\n",
       "    </tr>\n",
       "  </thead>\n",
       "  <tbody>\n",
       "    <tr>\n",
       "      <th>1.0</th>\n",
       "      <td>7215.0</td>\n",
       "      <td>2073.0</td>\n",
       "      <td>4840.0</td>\n",
       "      <td>10722.0</td>\n",
       "      <td>32379.0</td>\n",
       "    </tr>\n",
       "    <tr>\n",
       "      <th>2.0</th>\n",
       "      <td>2486.0</td>\n",
       "      <td>777.0</td>\n",
       "      <td>1830.0</td>\n",
       "      <td>4312.0</td>\n",
       "      <td>12928.0</td>\n",
       "    </tr>\n",
       "    <tr>\n",
       "      <th>3.0</th>\n",
       "      <td>1389.0</td>\n",
       "      <td>350.0</td>\n",
       "      <td>1078.0</td>\n",
       "      <td>2510.0</td>\n",
       "      <td>7285.0</td>\n",
       "    </tr>\n",
       "    <tr>\n",
       "      <th>4.0</th>\n",
       "      <td>944.0</td>\n",
       "      <td>324.0</td>\n",
       "      <td>777.0</td>\n",
       "      <td>1664.0</td>\n",
       "      <td>4887.0</td>\n",
       "    </tr>\n",
       "    <tr>\n",
       "      <th>5.0</th>\n",
       "      <td>511.0</td>\n",
       "      <td>156.0</td>\n",
       "      <td>426.0</td>\n",
       "      <td>1149.0</td>\n",
       "      <td>3222.0</td>\n",
       "    </tr>\n",
       "    <tr>\n",
       "      <th>6.0</th>\n",
       "      <td>377.0</td>\n",
       "      <td>148.0</td>\n",
       "      <td>367.0</td>\n",
       "      <td>821.0</td>\n",
       "      <td>2118.0</td>\n",
       "    </tr>\n",
       "    <tr>\n",
       "      <th>7.0</th>\n",
       "      <td>150.0</td>\n",
       "      <td>36.0</td>\n",
       "      <td>122.0</td>\n",
       "      <td>264.0</td>\n",
       "      <td>866.0</td>\n",
       "    </tr>\n",
       "    <tr>\n",
       "      <th>8.0</th>\n",
       "      <td>66.0</td>\n",
       "      <td>26.0</td>\n",
       "      <td>60.0</td>\n",
       "      <td>145.0</td>\n",
       "      <td>456.0</td>\n",
       "    </tr>\n",
       "    <tr>\n",
       "      <th>9.0</th>\n",
       "      <td>37.0</td>\n",
       "      <td>15.0</td>\n",
       "      <td>25.0</td>\n",
       "      <td>45.0</td>\n",
       "      <td>187.0</td>\n",
       "    </tr>\n",
       "    <tr>\n",
       "      <th>10.0</th>\n",
       "      <td>38.0</td>\n",
       "      <td>14.0</td>\n",
       "      <td>36.0</td>\n",
       "      <td>62.0</td>\n",
       "      <td>195.0</td>\n",
       "    </tr>\n",
       "    <tr>\n",
       "      <th>11.0</th>\n",
       "      <td>13.0</td>\n",
       "      <td>4.0</td>\n",
       "      <td>2.0</td>\n",
       "      <td>13.0</td>\n",
       "      <td>40.0</td>\n",
       "    </tr>\n",
       "    <tr>\n",
       "      <th>12.0</th>\n",
       "      <td>8.0</td>\n",
       "      <td>5.0</td>\n",
       "      <td>7.0</td>\n",
       "      <td>6.0</td>\n",
       "      <td>33.0</td>\n",
       "    </tr>\n",
       "    <tr>\n",
       "      <th>13.0</th>\n",
       "      <td>1.0</td>\n",
       "      <td>NaN</td>\n",
       "      <td>3.0</td>\n",
       "      <td>5.0</td>\n",
       "      <td>21.0</td>\n",
       "    </tr>\n",
       "    <tr>\n",
       "      <th>14.0</th>\n",
       "      <td>2.0</td>\n",
       "      <td>NaN</td>\n",
       "      <td>NaN</td>\n",
       "      <td>NaN</td>\n",
       "      <td>4.0</td>\n",
       "    </tr>\n",
       "    <tr>\n",
       "      <th>15.0</th>\n",
       "      <td>NaN</td>\n",
       "      <td>NaN</td>\n",
       "      <td>NaN</td>\n",
       "      <td>3.0</td>\n",
       "      <td>8.0</td>\n",
       "    </tr>\n",
       "    <tr>\n",
       "      <th>17.0</th>\n",
       "      <td>3.0</td>\n",
       "      <td>1.0</td>\n",
       "      <td>NaN</td>\n",
       "      <td>3.0</td>\n",
       "      <td>4.0</td>\n",
       "    </tr>\n",
       "    <tr>\n",
       "      <th>18.0</th>\n",
       "      <td>NaN</td>\n",
       "      <td>NaN</td>\n",
       "      <td>NaN</td>\n",
       "      <td>1.0</td>\n",
       "      <td>3.0</td>\n",
       "    </tr>\n",
       "    <tr>\n",
       "      <th>19.0</th>\n",
       "      <td>1.0</td>\n",
       "      <td>NaN</td>\n",
       "      <td>NaN</td>\n",
       "      <td>NaN</td>\n",
       "      <td>NaN</td>\n",
       "    </tr>\n",
       "    <tr>\n",
       "      <th>20.0</th>\n",
       "      <td>NaN</td>\n",
       "      <td>NaN</td>\n",
       "      <td>NaN</td>\n",
       "      <td>NaN</td>\n",
       "      <td>1.0</td>\n",
       "    </tr>\n",
       "  </tbody>\n",
       "</table>\n",
       "</div>"
      ],
      "text/plain": [
       "review_score             1       2       3        4        5\n",
       "product_photos_qty                                          \n",
       "1.0                 7215.0  2073.0  4840.0  10722.0  32379.0\n",
       "2.0                 2486.0   777.0  1830.0   4312.0  12928.0\n",
       "3.0                 1389.0   350.0  1078.0   2510.0   7285.0\n",
       "4.0                  944.0   324.0   777.0   1664.0   4887.0\n",
       "5.0                  511.0   156.0   426.0   1149.0   3222.0\n",
       "6.0                  377.0   148.0   367.0    821.0   2118.0\n",
       "7.0                  150.0    36.0   122.0    264.0    866.0\n",
       "8.0                   66.0    26.0    60.0    145.0    456.0\n",
       "9.0                   37.0    15.0    25.0     45.0    187.0\n",
       "10.0                  38.0    14.0    36.0     62.0    195.0\n",
       "11.0                  13.0     4.0     2.0     13.0     40.0\n",
       "12.0                   8.0     5.0     7.0      6.0     33.0\n",
       "13.0                   1.0     NaN     3.0      5.0     21.0\n",
       "14.0                   2.0     NaN     NaN      NaN      4.0\n",
       "15.0                   NaN     NaN     NaN      3.0      8.0\n",
       "17.0                   3.0     1.0     NaN      3.0      4.0\n",
       "18.0                   NaN     NaN     NaN      1.0      3.0\n",
       "19.0                   1.0     NaN     NaN      NaN      NaN\n",
       "20.0                   NaN     NaN     NaN      NaN      1.0"
      ]
     },
     "execution_count": 48,
     "metadata": {},
     "output_type": "execute_result"
    }
   ],
   "source": [
    "data.groupby(\"product_photos_qty\")[\"review_score\"].value_counts().unstack()"
   ]
  },
  {
   "cell_type": "markdown",
   "metadata": {},
   "source": [
    "* So, irrespective of number of photos, rating 5 is high in all the numbers of photos.\n",
    "* generally, counts trend is, 5 star >> 4 star > 1 star> 3 star > 2 star."
   ]
  },
  {
   "cell_type": "code",
   "execution_count": 49,
   "metadata": {},
   "outputs": [
    {
     "data": {
      "text/html": [
       "<div>\n",
       "<style scoped>\n",
       "    .dataframe tbody tr th:only-of-type {\n",
       "        vertical-align: middle;\n",
       "    }\n",
       "\n",
       "    .dataframe tbody tr th {\n",
       "        vertical-align: top;\n",
       "    }\n",
       "\n",
       "    .dataframe thead th {\n",
       "        text-align: right;\n",
       "    }\n",
       "</style>\n",
       "<table border=\"1\" class=\"dataframe\">\n",
       "  <thead>\n",
       "    <tr style=\"text-align: right;\">\n",
       "      <th>product_photos_qty</th>\n",
       "      <th>1.0</th>\n",
       "      <th>2.0</th>\n",
       "      <th>3.0</th>\n",
       "      <th>4.0</th>\n",
       "      <th>5.0</th>\n",
       "      <th>6.0</th>\n",
       "      <th>7.0</th>\n",
       "      <th>8.0</th>\n",
       "      <th>9.0</th>\n",
       "      <th>10.0</th>\n",
       "      <th>11.0</th>\n",
       "      <th>12.0</th>\n",
       "      <th>13.0</th>\n",
       "      <th>14.0</th>\n",
       "      <th>15.0</th>\n",
       "      <th>17.0</th>\n",
       "      <th>18.0</th>\n",
       "      <th>19.0</th>\n",
       "      <th>20.0</th>\n",
       "    </tr>\n",
       "    <tr>\n",
       "      <th>review_score</th>\n",
       "      <th></th>\n",
       "      <th></th>\n",
       "      <th></th>\n",
       "      <th></th>\n",
       "      <th></th>\n",
       "      <th></th>\n",
       "      <th></th>\n",
       "      <th></th>\n",
       "      <th></th>\n",
       "      <th></th>\n",
       "      <th></th>\n",
       "      <th></th>\n",
       "      <th></th>\n",
       "      <th></th>\n",
       "      <th></th>\n",
       "      <th></th>\n",
       "      <th></th>\n",
       "      <th></th>\n",
       "      <th></th>\n",
       "    </tr>\n",
       "  </thead>\n",
       "  <tbody>\n",
       "    <tr>\n",
       "      <th>1</th>\n",
       "      <td>0.544898</td>\n",
       "      <td>0.187750</td>\n",
       "      <td>0.104901</td>\n",
       "      <td>0.071294</td>\n",
       "      <td>0.038592</td>\n",
       "      <td>0.028472</td>\n",
       "      <td>0.011328</td>\n",
       "      <td>0.004985</td>\n",
       "      <td>0.002794</td>\n",
       "      <td>0.002870</td>\n",
       "      <td>0.000982</td>\n",
       "      <td>0.000604</td>\n",
       "      <td>0.000076</td>\n",
       "      <td>0.000151</td>\n",
       "      <td>NaN</td>\n",
       "      <td>0.000227</td>\n",
       "      <td>NaN</td>\n",
       "      <td>0.000076</td>\n",
       "      <td>NaN</td>\n",
       "    </tr>\n",
       "    <tr>\n",
       "      <th>2</th>\n",
       "      <td>0.527615</td>\n",
       "      <td>0.197760</td>\n",
       "      <td>0.089081</td>\n",
       "      <td>0.082464</td>\n",
       "      <td>0.039705</td>\n",
       "      <td>0.037669</td>\n",
       "      <td>0.009163</td>\n",
       "      <td>0.006617</td>\n",
       "      <td>0.003818</td>\n",
       "      <td>0.003563</td>\n",
       "      <td>0.001018</td>\n",
       "      <td>0.001273</td>\n",
       "      <td>NaN</td>\n",
       "      <td>NaN</td>\n",
       "      <td>NaN</td>\n",
       "      <td>0.000255</td>\n",
       "      <td>NaN</td>\n",
       "      <td>NaN</td>\n",
       "      <td>NaN</td>\n",
       "    </tr>\n",
       "    <tr>\n",
       "      <th>3</th>\n",
       "      <td>0.505589</td>\n",
       "      <td>0.191163</td>\n",
       "      <td>0.112608</td>\n",
       "      <td>0.081166</td>\n",
       "      <td>0.044500</td>\n",
       "      <td>0.038337</td>\n",
       "      <td>0.012744</td>\n",
       "      <td>0.006268</td>\n",
       "      <td>0.002612</td>\n",
       "      <td>0.003761</td>\n",
       "      <td>0.000209</td>\n",
       "      <td>0.000731</td>\n",
       "      <td>0.000313</td>\n",
       "      <td>NaN</td>\n",
       "      <td>NaN</td>\n",
       "      <td>NaN</td>\n",
       "      <td>NaN</td>\n",
       "      <td>NaN</td>\n",
       "      <td>NaN</td>\n",
       "    </tr>\n",
       "    <tr>\n",
       "      <th>4</th>\n",
       "      <td>0.493533</td>\n",
       "      <td>0.198481</td>\n",
       "      <td>0.115535</td>\n",
       "      <td>0.076594</td>\n",
       "      <td>0.052888</td>\n",
       "      <td>0.037791</td>\n",
       "      <td>0.012152</td>\n",
       "      <td>0.006674</td>\n",
       "      <td>0.002071</td>\n",
       "      <td>0.002854</td>\n",
       "      <td>0.000598</td>\n",
       "      <td>0.000276</td>\n",
       "      <td>0.000230</td>\n",
       "      <td>NaN</td>\n",
       "      <td>0.000138</td>\n",
       "      <td>0.000138</td>\n",
       "      <td>0.000046</td>\n",
       "      <td>NaN</td>\n",
       "      <td>NaN</td>\n",
       "    </tr>\n",
       "    <tr>\n",
       "      <th>5</th>\n",
       "      <td>0.500936</td>\n",
       "      <td>0.200009</td>\n",
       "      <td>0.112706</td>\n",
       "      <td>0.075607</td>\n",
       "      <td>0.049848</td>\n",
       "      <td>0.032768</td>\n",
       "      <td>0.013398</td>\n",
       "      <td>0.007055</td>\n",
       "      <td>0.002893</td>\n",
       "      <td>0.003017</td>\n",
       "      <td>0.000619</td>\n",
       "      <td>0.000511</td>\n",
       "      <td>0.000325</td>\n",
       "      <td>0.000062</td>\n",
       "      <td>0.000124</td>\n",
       "      <td>0.000062</td>\n",
       "      <td>0.000046</td>\n",
       "      <td>NaN</td>\n",
       "      <td>0.000015</td>\n",
       "    </tr>\n",
       "  </tbody>\n",
       "</table>\n",
       "</div>"
      ],
      "text/plain": [
       "product_photos_qty      1.0       2.0       3.0       4.0       5.0   \\\n",
       "review_score                                                           \n",
       "1                   0.544898  0.187750  0.104901  0.071294  0.038592   \n",
       "2                   0.527615  0.197760  0.089081  0.082464  0.039705   \n",
       "3                   0.505589  0.191163  0.112608  0.081166  0.044500   \n",
       "4                   0.493533  0.198481  0.115535  0.076594  0.052888   \n",
       "5                   0.500936  0.200009  0.112706  0.075607  0.049848   \n",
       "\n",
       "product_photos_qty      6.0       7.0       8.0       9.0       10.0  \\\n",
       "review_score                                                           \n",
       "1                   0.028472  0.011328  0.004985  0.002794  0.002870   \n",
       "2                   0.037669  0.009163  0.006617  0.003818  0.003563   \n",
       "3                   0.038337  0.012744  0.006268  0.002612  0.003761   \n",
       "4                   0.037791  0.012152  0.006674  0.002071  0.002854   \n",
       "5                   0.032768  0.013398  0.007055  0.002893  0.003017   \n",
       "\n",
       "product_photos_qty      11.0      12.0      13.0      14.0      15.0  \\\n",
       "review_score                                                           \n",
       "1                   0.000982  0.000604  0.000076  0.000151       NaN   \n",
       "2                   0.001018  0.001273       NaN       NaN       NaN   \n",
       "3                   0.000209  0.000731  0.000313       NaN       NaN   \n",
       "4                   0.000598  0.000276  0.000230       NaN  0.000138   \n",
       "5                   0.000619  0.000511  0.000325  0.000062  0.000124   \n",
       "\n",
       "product_photos_qty      17.0      18.0      19.0      20.0  \n",
       "review_score                                                \n",
       "1                   0.000227       NaN  0.000076       NaN  \n",
       "2                   0.000255       NaN       NaN       NaN  \n",
       "3                        NaN       NaN       NaN       NaN  \n",
       "4                   0.000138  0.000046       NaN       NaN  \n",
       "5                   0.000062  0.000046       NaN  0.000015  "
      ]
     },
     "execution_count": 49,
     "metadata": {},
     "output_type": "execute_result"
    }
   ],
   "source": [
    "data.groupby(\"review_score\")[\"product_photos_qty\"].value_counts(normalize=True).unstack()"
   ]
  },
  {
   "cell_type": "markdown",
   "metadata": {},
   "source": [
    "* From this table also, we can see that, more number of photos will not tend to get more 5 star rating.\n",
    "* In all review_score sets, % of counts decreases as number of photos increases. \n"
   ]
  },
  {
   "cell_type": "markdown",
   "metadata": {},
   "source": [
    "<b> product_weight_g"
   ]
  },
  {
   "cell_type": "code",
   "execution_count": 287,
   "metadata": {},
   "outputs": [
    {
     "data": {
      "image/png": "[encoded data removed]",
      "text/plain": [
       "<Figure size 504.75x432 with 1 Axes>"
      ]
     },
     "metadata": {
      "needs_background": "light"
     },
     "output_type": "display_data"
    }
   ],
   "source": [
    "#plotting density plot of installments wrt each ratings\n",
    "sns.FacetGrid(data,hue=\"review_score\",height=6)\\\n",
    "    .map(sns.kdeplot,\"product_weight_g\")\\\n",
    "    .add_legend()\n",
    "plt.show()"
   ]
  },
  {
   "cell_type": "markdown",
   "metadata": {},
   "source": [
    "* pdf of review_score 5 is higly peaked at lower values of product weight.\n",
    "* Except the value near 0, in all other places all pdfs are merged. "
   ]
  },
  {
   "cell_type": "code",
   "execution_count": 289,
   "metadata": {},
   "outputs": [
    {
     "name": "stdout",
     "output_type": "stream",
     "text": [
      "95th percentile \n",
      " review_score\n",
      "1    11400.0\n",
      "2    11350.0\n",
      "3    10180.0\n",
      "4     9810.4\n",
      "5     9400.0\n",
      "Name: product_weight_g, dtype: float64\n",
      "****************************************\n",
      "96th percentile \n",
      " review_score\n",
      "1    12500.00\n",
      "2    12446.96\n",
      "3    11578.00\n",
      "4    10800.00\n",
      "5    10250.00\n",
      "Name: product_weight_g, dtype: float64\n",
      "****************************************\n",
      "97th percentile \n",
      " review_score\n",
      "1    14350.0\n",
      "2    14008.0\n",
      "3    12700.0\n",
      "4    12275.0\n",
      "5    12000.0\n",
      "Name: product_weight_g, dtype: float64\n",
      "****************************************\n",
      "98th percentile \n",
      " review_score\n",
      "1    16500.00\n",
      "2    15800.00\n",
      "3    15700.00\n",
      "4    15258.84\n",
      "5    14900.00\n",
      "Name: product_weight_g, dtype: float64\n",
      "****************************************\n",
      "99th percentile \n",
      " review_score\n",
      "1    20900.0\n",
      "2    17600.0\n",
      "3    17714.0\n",
      "4    18000.0\n",
      "5    18150.0\n",
      "Name: product_weight_g, dtype: float64\n",
      "****************************************\n"
     ]
    }
   ],
   "source": [
    "for i in range(95,100):\n",
    "    print(\"{}th percentile \\n {}\".format(i,data.groupby(\"review_score\")[\"product_weight_g\"].apply(lambda x: np.percentile(x,i))))\n",
    "    print(\"*\"*40)"
   ]
  },
  {
   "cell_type": "markdown",
   "metadata": {},
   "source": [
    "* From 95th to 98th percentiles of weight of product, trend of review_score is 5<4<3<2<1.\n",
    "* At 99th percentile review_score 2 and 3 has low weight compared to other scores.\n",
    "* This analysis is very extreme. Let us have a look at other percentiles."
   ]
  },
  {
   "cell_type": "code",
   "execution_count": 290,
   "metadata": {},
   "outputs": [
    {
     "name": "stdout",
     "output_type": "stream",
     "text": [
      "50th percentile \n",
      " review_score\n",
      "1    750.0\n",
      "2    728.0\n",
      "3    700.0\n",
      "4    700.0\n",
      "5    696.0\n",
      "Name: product_weight_g, dtype: float64\n",
      "****************************************\n",
      "75th percentile \n",
      " review_score\n",
      "1    1850.0\n",
      "2    1900.0\n",
      "3    1825.0\n",
      "4    1850.0\n",
      "5    1750.0\n",
      "Name: product_weight_g, dtype: float64\n",
      "****************************************\n",
      "80th percentile \n",
      " review_score\n",
      "1    2600.0\n",
      "2    2600.0\n",
      "3    2550.0\n",
      "4    2600.0\n",
      "5    2350.0\n",
      "Name: product_weight_g, dtype: float64\n",
      "****************************************\n",
      "85th percentile \n",
      " review_score\n",
      "1    4105.0\n",
      "2    4338.0\n",
      "3    3910.0\n",
      "4    4060.0\n",
      "5    3400.0\n",
      "Name: product_weight_g, dtype: float64\n",
      "****************************************\n"
     ]
    }
   ],
   "source": [
    "lst=[50,75,80,85]    #let us check these percentile values\n",
    "for i in lst:\n",
    "    print(\"{}th percentile \\n {}\".format(i,data.groupby(\"review_score\")[\"product_weight_g\"].apply(lambda x: np.percentile(x,i))))\n",
    "    print(\"*\"*40)"
   ]
  },
  {
   "cell_type": "markdown",
   "metadata": {},
   "source": [
    "* There is no much difference between median values of weights of review_scores. \n",
    "* generally 5<4<3<2<1. But this difference is not so large."
   ]
  },
  {
   "cell_type": "markdown",
   "metadata": {},
   "source": [
    "<b>product_length_cm"
   ]
  },
  {
   "cell_type": "code",
   "execution_count": 291,
   "metadata": {},
   "outputs": [
    {
     "data": {
      "image/png": "[encoded data removed]",
      "text/plain": [
       "<Figure size 504.75x432 with 1 Axes>"
      ]
     },
     "metadata": {
      "needs_background": "light"
     },
     "output_type": "display_data"
    }
   ],
   "source": [
    "#plotting density plot of installments wrt each ratings\n",
    "sns.FacetGrid(data,hue=\"review_score\",height=6)\\\n",
    "    .map(sns.kdeplot,\"product_length_cm\")\\\n",
    "    .add_legend()\n",
    "plt.show()"
   ]
  },
  {
   "cell_type": "markdown",
   "metadata": {},
   "source": [
    "* At lower values of length, review_score 5 is most peaked. \n",
    "* At higher values 30 to 50, pdf of review_score 2 is higher."
   ]
  },
  {
   "cell_type": "code",
   "execution_count": 52,
   "metadata": {},
   "outputs": [
    {
     "data": {
      "text/plain": [
       "review_score\n",
       "1    30.727815\n",
       "2    31.149911\n",
       "3    30.822731\n",
       "4    30.642071\n",
       "5    29.936816\n",
       "Name: product_length_cm, dtype: float64"
      ]
     },
     "execution_count": 52,
     "metadata": {},
     "output_type": "execute_result"
    }
   ],
   "source": [
    "data.groupby(\"review_score\")[\"product_length_cm\"].mean()"
   ]
  },
  {
   "cell_type": "markdown",
   "metadata": {},
   "source": [
    "* Not much difference in mean lengths."
   ]
  },
  {
   "cell_type": "code",
   "execution_count": 293,
   "metadata": {},
   "outputs": [
    {
     "name": "stdout",
     "output_type": "stream",
     "text": [
      "50th percentile \n",
      " review_score\n",
      "1    25.0\n",
      "2    26.0\n",
      "3    25.0\n",
      "4    25.0\n",
      "5    25.0\n",
      "Name: product_length_cm, dtype: float64\n",
      "****************************************\n",
      "75th percentile \n",
      " review_score\n",
      "1    39.0\n",
      "2    40.0\n",
      "3    40.0\n",
      "4    40.0\n",
      "5    37.0\n",
      "Name: product_length_cm, dtype: float64\n",
      "****************************************\n",
      "80th percentile \n",
      " review_score\n",
      "1    42.0\n",
      "2    43.0\n",
      "3    42.0\n",
      "4    42.0\n",
      "5    40.0\n",
      "Name: product_length_cm, dtype: float64\n",
      "****************************************\n",
      "85th percentile \n",
      " review_score\n",
      "1    46.0\n",
      "2    46.0\n",
      "3    46.2\n",
      "4    46.0\n",
      "5    45.0\n",
      "Name: product_length_cm, dtype: float64\n",
      "****************************************\n"
     ]
    }
   ],
   "source": [
    "lst=[50,75,80,85]    #let us check these percentile values\n",
    "for i in lst:\n",
    "    print(\"{}th percentile \\n {}\".format(i,data.groupby(\"review_score\")[\"product_length_cm\"].apply(lambda x: np.percentile(x,i))))\n",
    "    print(\"*\"*40)"
   ]
  },
  {
   "cell_type": "markdown",
   "metadata": {},
   "source": [
    "* We have checked different percentiles. All the values are almost same."
   ]
  },
  {
   "cell_type": "markdown",
   "metadata": {},
   "source": [
    "<b> product_height_cm"
   ]
  },
  {
   "cell_type": "code",
   "execution_count": 297,
   "metadata": {},
   "outputs": [
    {
     "data": {
      "image/png": "[encoded data removed]",
      "text/plain": [
       "<Figure size 504.75x432 with 1 Axes>"
      ]
     },
     "metadata": {
      "needs_background": "light"
     },
     "output_type": "display_data"
    }
   ],
   "source": [
    "#plotting density plot of installments wrt each ratings\n",
    "sns.FacetGrid(data,hue=\"review_score\",height=6)\\\n",
    "    .map(sns.kdeplot,\"product_height_cm\")\\\n",
    "    .add_legend()\n",
    "plt.show()"
   ]
  },
  {
   "cell_type": "markdown",
   "metadata": {},
   "source": [
    "* pdf s of all the review_scopres are merged. \n",
    "* after height above 60, review_score 2 has higher density compared to other scores."
   ]
  },
  {
   "cell_type": "code",
   "execution_count": 53,
   "metadata": {},
   "outputs": [
    {
     "data": {
      "text/plain": [
       "review_score\n",
       "1    17.357752\n",
       "2    17.199033\n",
       "3    16.857829\n",
       "4    16.643222\n",
       "5    16.420533\n",
       "Name: product_height_cm, dtype: float64"
      ]
     },
     "execution_count": 53,
     "metadata": {},
     "output_type": "execute_result"
    }
   ],
   "source": [
    "data.groupby(\"review_score\")[\"product_height_cm\"].mean()"
   ]
  },
  {
   "cell_type": "markdown",
   "metadata": {},
   "source": [
    "* Mean values are almost same."
   ]
  },
  {
   "cell_type": "code",
   "execution_count": 298,
   "metadata": {},
   "outputs": [
    {
     "name": "stdout",
     "output_type": "stream",
     "text": [
      "50th percentile \n",
      " review_score\n",
      "1    14.0\n",
      "2    13.0\n",
      "3    13.0\n",
      "4    13.0\n",
      "5    13.0\n",
      "Name: product_height_cm, dtype: float64\n",
      "****************************************\n",
      "75th percentile \n",
      " review_score\n",
      "1    21.0\n",
      "2    21.0\n",
      "3    20.0\n",
      "4    20.0\n",
      "5    20.0\n",
      "Name: product_height_cm, dtype: float64\n",
      "****************************************\n",
      "80th percentile \n",
      " review_score\n",
      "1    25.0\n",
      "2    25.0\n",
      "3    24.0\n",
      "4    23.0\n",
      "5    22.0\n",
      "Name: product_height_cm, dtype: float64\n",
      "****************************************\n",
      "85th percentile \n",
      " review_score\n",
      "1    28.0\n",
      "2    30.0\n",
      "3    28.0\n",
      "4    27.0\n",
      "5    26.0\n",
      "Name: product_height_cm, dtype: float64\n",
      "****************************************\n"
     ]
    }
   ],
   "source": [
    "lst=[50,75,80,85]    #let us check these percentile values\n",
    "for i in lst:\n",
    "    print(\"{}th percentile \\n {}\".format(i,data.groupby(\"review_score\")[\"product_height_cm\"].apply(lambda x: np.percentile(x,i))))\n",
    "    print(\"*\"*40)"
   ]
  },
  {
   "cell_type": "markdown",
   "metadata": {},
   "source": [
    "* Considered percentile values also almost same. as well as median."
   ]
  },
  {
   "cell_type": "markdown",
   "metadata": {},
   "source": [
    "<b> product_width_cm"
   ]
  },
  {
   "cell_type": "code",
   "execution_count": 299,
   "metadata": {},
   "outputs": [
    {
     "data": {
      "image/png": "[encoded data removed]",
      "text/plain": [
       "<Figure size 504.75x432 with 1 Axes>"
      ]
     },
     "metadata": {
      "needs_background": "light"
     },
     "output_type": "display_data"
    }
   ],
   "source": [
    "#plotting density plot of installments wrt each ratings\n",
    "sns.FacetGrid(data,hue=\"review_score\",height=6)\\\n",
    "    .map(sns.kdeplot,\"product_width_cm\")\\\n",
    "    .add_legend()\n",
    "plt.show()"
   ]
  },
  {
   "cell_type": "markdown",
   "metadata": {},
   "source": [
    "* density of review_score 2 is low at lower values of width compared to other scores, but it is higher near 30cm to 40cm.\n",
    "* Apart from that plot is overlapped. We cannot get more information from this."
   ]
  },
  {
   "cell_type": "code",
   "execution_count": 54,
   "metadata": {},
   "outputs": [
    {
     "data": {
      "text/plain": [
       "review_score\n",
       "1    23.189865\n",
       "2    23.750064\n",
       "3    23.448658\n",
       "4    23.208930\n",
       "5    22.940406\n",
       "Name: product_width_cm, dtype: float64"
      ]
     },
     "execution_count": 54,
     "metadata": {},
     "output_type": "execute_result"
    }
   ],
   "source": [
    "data.groupby(\"review_score\")[\"product_width_cm\"].mean()"
   ]
  },
  {
   "cell_type": "code",
   "execution_count": 300,
   "metadata": {},
   "outputs": [
    {
     "name": "stdout",
     "output_type": "stream",
     "text": [
      "50th percentile \n",
      " review_score\n",
      "1    20.0\n",
      "2    20.0\n",
      "3    20.0\n",
      "4    20.0\n",
      "5    20.0\n",
      "Name: product_width_cm, dtype: float64\n",
      "****************************************\n",
      "75th percentile \n",
      " review_score\n",
      "1    30.0\n",
      "2    30.0\n",
      "3    30.0\n",
      "4    30.0\n",
      "5    30.0\n",
      "Name: product_width_cm, dtype: float64\n",
      "****************************************\n",
      "80th percentile \n",
      " review_score\n",
      "1    31.0\n",
      "2    33.0\n",
      "3    32.0\n",
      "4    31.0\n",
      "5    30.0\n",
      "Name: product_width_cm, dtype: float64\n",
      "****************************************\n",
      "85th percentile \n",
      " review_score\n",
      "1    35.0\n",
      "2    35.0\n",
      "3    35.0\n",
      "4    35.0\n",
      "5    35.0\n",
      "Name: product_width_cm, dtype: float64\n",
      "****************************************\n"
     ]
    }
   ],
   "source": [
    "lst=[50,75,80,85]    #let us check these percentile values\n",
    "for i in lst:\n",
    "    print(\"{}th percentile \\n {}\".format(i,data.groupby(\"review_score\")[\"product_width_cm\"].apply(lambda x: np.percentile(x,i))))\n",
    "    print(\"*\"*40)"
   ]
  },
  {
   "cell_type": "markdown",
   "metadata": {},
   "source": [
    "* Mean, median, some percentiles all are not very different among review_scores."
   ]
  },
  {
   "cell_type": "markdown",
   "metadata": {},
   "source": [
    "<b> product_name_lenght"
   ]
  },
  {
   "cell_type": "code",
   "execution_count": 302,
   "metadata": {},
   "outputs": [
    {
     "data": {
      "image/png": "[encoded data removed]",
      "text/plain": [
       "<Figure size 504.75x432 with 1 Axes>"
      ]
     },
     "metadata": {
      "needs_background": "light"
     },
     "output_type": "display_data"
    }
   ],
   "source": [
    "#plotting density plot of installments wrt each ratings\n",
    "sns.FacetGrid(data,hue=\"review_score\",height=6)\\\n",
    "    .map(sns.kdeplot,\"product_name_lenght\")\\\n",
    "    .add_legend()\n",
    "plt.show()"
   ]
  },
  {
   "cell_type": "markdown",
   "metadata": {},
   "source": [
    "* This is left skewed distribution.\n",
    "* Plot is highly overlapped.\n"
   ]
  },
  {
   "cell_type": "code",
   "execution_count": 55,
   "metadata": {},
   "outputs": [
    {
     "data": {
      "text/plain": [
       "review_score\n",
       "1    48.874858\n",
       "2    49.171545\n",
       "3    49.083777\n",
       "4    49.090955\n",
       "5    48.607083\n",
       "Name: product_name_lenght, dtype: float64"
      ]
     },
     "execution_count": 55,
     "metadata": {},
     "output_type": "execute_result"
    }
   ],
   "source": [
    "data.groupby(\"review_score\")[\"product_name_lenght\"].mean()"
   ]
  },
  {
   "cell_type": "code",
   "execution_count": 56,
   "metadata": {},
   "outputs": [
    {
     "name": "stdout",
     "output_type": "stream",
     "text": [
      "50th percentile \n",
      " review_score\n",
      "1    52.0\n",
      "2    52.0\n",
      "3    52.0\n",
      "4    52.0\n",
      "5    51.0\n",
      "Name: product_name_lenght, dtype: float64\n",
      "****************************************\n",
      "75th percentile \n",
      " review_score\n",
      "1    57.0\n",
      "2    57.0\n",
      "3    57.0\n",
      "4    57.0\n",
      "5    57.0\n",
      "Name: product_name_lenght, dtype: float64\n",
      "****************************************\n",
      "80th percentile \n",
      " review_score\n",
      "1    58.0\n",
      "2    58.0\n",
      "3    58.0\n",
      "4    58.0\n",
      "5    58.0\n",
      "Name: product_name_lenght, dtype: float64\n",
      "****************************************\n",
      "85th percentile \n",
      " review_score\n",
      "1    59.0\n",
      "2    59.0\n",
      "3    59.0\n",
      "4    59.0\n",
      "5    59.0\n",
      "Name: product_name_lenght, dtype: float64\n",
      "****************************************\n"
     ]
    }
   ],
   "source": [
    "lst=[50,75,80,85]    #let us check these percentile values\n",
    "for i in lst:\n",
    "    print(\"{}th percentile \\n {}\".format(i,data.groupby(\"review_score\")[\"product_name_lenght\"].apply(lambda x: np.percentile(x,i))))\n",
    "    print(\"*\"*40)"
   ]
  },
  {
   "cell_type": "markdown",
   "metadata": {},
   "source": [
    "* No helpful insights from this."
   ]
  },
  {
   "cell_type": "markdown",
   "metadata": {},
   "source": [
    "<b> product_description_lenght"
   ]
  },
  {
   "cell_type": "code",
   "execution_count": 57,
   "metadata": {},
   "outputs": [
    {
     "data": {
      "image/png": "[encoded data removed]",
      "text/plain": [
       "<Figure size 504.75x432 with 1 Axes>"
      ]
     },
     "metadata": {
      "needs_background": "light"
     },
     "output_type": "display_data"
    }
   ],
   "source": [
    "#plotting density plot of installments wrt each ratings\n",
    "sns.FacetGrid(data,hue=\"review_score\",height=6)\\\n",
    "    .map(sns.kdeplot,\"product_description_lenght\")\\\n",
    "    .add_legend()\n",
    "plt.show()"
   ]
  },
  {
   "cell_type": "markdown",
   "metadata": {},
   "source": [
    "* highly overlapped pdfs.\n",
    "* right skewed.\n",
    "* From 1500, review_score 2 has less value compared to other scores."
   ]
  },
  {
   "cell_type": "code",
   "execution_count": 58,
   "metadata": {},
   "outputs": [
    {
     "data": {
      "text/plain": [
       "review_score\n",
       "1    774.513632\n",
       "2    724.454823\n",
       "3    768.918521\n",
       "4    793.768377\n",
       "5    790.875041\n",
       "Name: product_description_lenght, dtype: float64"
      ]
     },
     "execution_count": 58,
     "metadata": {},
     "output_type": "execute_result"
    }
   ],
   "source": [
    "data.groupby(\"review_score\")[\"product_description_lenght\"].mean()"
   ]
  },
  {
   "cell_type": "code",
   "execution_count": 61,
   "metadata": {},
   "outputs": [
    {
     "name": "stdout",
     "output_type": "stream",
     "text": [
      "50th percentile \n",
      " review_score\n",
      "1    588.0\n",
      "2    555.0\n",
      "3    589.0\n",
      "4    610.0\n",
      "5    604.0\n",
      "Name: product_description_lenght, dtype: float64\n",
      "****************************************\n",
      "90th percentile \n",
      " review_score\n",
      "1    1547.0\n",
      "2    1416.4\n",
      "3    1515.0\n",
      "4    1618.6\n",
      "5    1612.0\n",
      "Name: product_description_lenght, dtype: float64\n",
      "****************************************\n",
      "95th percentile \n",
      " review_score\n",
      "1    2165.0\n",
      "2    1971.0\n",
      "3    2113.0\n",
      "4    2083.0\n",
      "5    2130.0\n",
      "Name: product_description_lenght, dtype: float64\n",
      "****************************************\n"
     ]
    }
   ],
   "source": [
    "lst=[50,90,95]    #let us check these percentile values\n",
    "for i in lst:\n",
    "    print(\"{}th percentile \\n {}\".format(i,data.groupby(\"review_score\")[\"product_description_lenght\"].apply(lambda x: np.percentile(x,i))))\n",
    "    print(\"*\"*40)"
   ]
  },
  {
   "cell_type": "markdown",
   "metadata": {},
   "source": [
    "* Same as from the plot, After 90th percentile, review_score 2 has lower value of description length cmpared to other scores."
   ]
  },
  {
   "cell_type": "markdown",
   "metadata": {},
   "source": [
    "<b> price"
   ]
  },
  {
   "cell_type": "code",
   "execution_count": 308,
   "metadata": {},
   "outputs": [
    {
     "data": {
      "image/png": "[encoded data removed]",
      "text/plain": [
       "<Figure size 504.75x432 with 1 Axes>"
      ]
     },
     "metadata": {
      "needs_background": "light"
     },
     "output_type": "display_data"
    }
   ],
   "source": [
    "#plotting density plot of installments wrt each ratings\n",
    "sns.FacetGrid(data,hue=\"review_score\",height=6)\\\n",
    "    .map(sns.kdeplot,\"price\")\\\n",
    "    .add_legend()\n",
    "plt.show()"
   ]
  },
  {
   "cell_type": "markdown",
   "metadata": {},
   "source": [
    "* This is right skewed.\n",
    "* But all the pdf are highly overlapped.\n",
    "* We cannot see any difference in price distribution."
   ]
  },
  {
   "cell_type": "code",
   "execution_count": 318,
   "metadata": {},
   "outputs": [
    {
     "data": {
      "image/png": "[encoded data removed]",
      "text/plain": [
       "<Figure size 432x288 with 1 Axes>"
      ]
     },
     "metadata": {
      "needs_background": "light"
     },
     "output_type": "display_data"
    },
    {
     "name": "stdout",
     "output_type": "stream",
     "text": [
      "Mean \n",
      " review_score\n",
      "1    124.725093\n",
      "2    113.992622\n",
      "3    109.293010\n",
      "4    118.955473\n",
      "5    121.582446\n",
      "Name: price, dtype: float64\n",
      "90 percentile \n",
      " review_score\n",
      "1    229.99\n",
      "2    209.99\n",
      "3    210.00\n",
      "4    220.00\n",
      "5    229.99\n",
      "Name: price, dtype: float64\n"
     ]
    }
   ],
   "source": [
    "sns.boxplot(y=\"price\",x=\"review_score\",data=data)\n",
    "plt.show()\n",
    "\n",
    "#mean price\n",
    "print(\"Mean \\n\",data.groupby(\"review_score\")[\"price\"].mean())\n",
    "\n",
    "#99.9% price\n",
    "print(\"90 percentile \\n\",data.groupby(\"review_score\")[\"price\"].apply(lambda x: np.percentile(x,90)))"
   ]
  },
  {
   "cell_type": "markdown",
   "metadata": {},
   "source": [
    "* Mean values of review_rating 3 is less compared to other scores."
   ]
  },
  {
   "cell_type": "code",
   "execution_count": 319,
   "metadata": {},
   "outputs": [
    {
     "name": "stdout",
     "output_type": "stream",
     "text": [
      "50th percentile \n",
      " review_score\n",
      "1    74.9\n",
      "2    71.4\n",
      "3    69.9\n",
      "4    75.0\n",
      "5    74.9\n",
      "Name: price, dtype: float64\n",
      "****************************************\n",
      "75th percentile \n",
      " review_score\n",
      "1    131.90\n",
      "2    129.90\n",
      "3    129.00\n",
      "4    133.99\n",
      "5    135.00\n",
      "Name: price, dtype: float64\n",
      "****************************************\n",
      "80th percentile \n",
      " review_score\n",
      "1    149.98\n",
      "2    149.00\n",
      "3    149.00\n",
      "4    150.00\n",
      "5    152.00\n",
      "Name: price, dtype: float64\n",
      "****************************************\n",
      "85th percentile \n",
      " review_score\n",
      "1    179.99\n",
      "2    170.30\n",
      "3    169.99\n",
      "4    179.90\n",
      "5    184.90\n",
      "Name: price, dtype: float64\n",
      "****************************************\n"
     ]
    }
   ],
   "source": [
    "lst=[50,75,80,85]    #let us check these percentile values\n",
    "for i in lst:\n",
    "    print(\"{}th percentile \\n {}\".format(i,data.groupby(\"review_score\")[\"price\"].apply(lambda x: np.percentile(x,i))))\n",
    "    print(\"*\"*40)"
   ]
  },
  {
   "cell_type": "markdown",
   "metadata": {},
   "source": [
    "* Median is almost same. Review_score 3 has lower median. But difference is not so significant.\n",
    "* product with review_score 3 has lower price in almost all percentiles compared to other scores."
   ]
  },
  {
   "cell_type": "code",
   "execution_count": null,
   "metadata": {},
   "outputs": [],
   "source": []
  },
  {
   "cell_type": "markdown",
   "metadata": {},
   "source": [
    "<b> freight_value"
   ]
  },
  {
   "cell_type": "code",
   "execution_count": 321,
   "metadata": {},
   "outputs": [
    {
     "data": {
      "image/png": "[encoded data removed]",
      "text/plain": [
       "<Figure size 504.75x432 with 1 Axes>"
      ]
     },
     "metadata": {
      "needs_background": "light"
     },
     "output_type": "display_data"
    }
   ],
   "source": [
    "#plotting density plot of installments wrt each ratings\n",
    "sns.FacetGrid(data,hue=\"review_score\",height=6)\\\n",
    "    .map(sns.kdeplot,\"freight_value\")\\\n",
    "    .add_legend()\n",
    "plt.show()"
   ]
  },
  {
   "cell_type": "markdown",
   "metadata": {},
   "source": [
    "* freight value plot is also highly overlapped. \n",
    "* All the pdf s are at peak at lowere feight values. It is slightly right skewed distribution."
   ]
  },
  {
   "cell_type": "code",
   "execution_count": 322,
   "metadata": {},
   "outputs": [
    {
     "data": {
      "image/png": "[encoded data removed]",
      "text/plain": [
       "<Figure size 432x288 with 1 Axes>"
      ]
     },
     "metadata": {
      "needs_background": "light"
     },
     "output_type": "display_data"
    },
    {
     "name": "stdout",
     "output_type": "stream",
     "text": [
      "Mean \n",
      " review_score\n",
      "1    21.275085\n",
      "2    20.807625\n",
      "3    20.251760\n",
      "4    20.130360\n",
      "5    19.628751\n",
      "Name: freight_value, dtype: float64\n",
      "90 percentile \n",
      " review_score\n",
      "1    36.750\n",
      "2    37.032\n",
      "3    34.220\n",
      "4    34.180\n",
      "5    32.080\n",
      "Name: freight_value, dtype: float64\n"
     ]
    }
   ],
   "source": [
    "sns.boxplot(y=\"freight_value\",x=\"review_score\",data=data)\n",
    "plt.show()\n",
    "\n",
    "#mean price\n",
    "print(\"Mean \\n\",data.groupby(\"review_score\")[\"freight_value\"].mean())\n",
    "\n",
    "#99.9% price\n",
    "print(\"90 percentile \\n\",data.groupby(\"review_score\")[\"freight_value\"].apply(lambda x: np.percentile(x,90)))"
   ]
  },
  {
   "cell_type": "markdown",
   "metadata": {},
   "source": [
    "* No helpful information we can get from this for classifying among review_scores."
   ]
  },
  {
   "cell_type": "code",
   "execution_count": 323,
   "metadata": {},
   "outputs": [
    {
     "name": "stdout",
     "output_type": "stream",
     "text": [
      "50th percentile \n",
      " review_score\n",
      "1    16.92\n",
      "2    16.45\n",
      "3    16.60\n",
      "4    16.48\n",
      "5    16.11\n",
      "Name: freight_value, dtype: float64\n",
      "****************************************\n",
      "75th percentile \n",
      " review_score\n",
      "1    22.59\n",
      "2    22.17\n",
      "3    21.61\n",
      "4    21.50\n",
      "5    20.77\n",
      "Name: freight_value, dtype: float64\n",
      "****************************************\n",
      "80th percentile \n",
      " review_score\n",
      "1    25.12\n",
      "2    25.03\n",
      "3    23.50\n",
      "4    23.60\n",
      "5    22.95\n",
      "Name: freight_value, dtype: float64\n",
      "****************************************\n",
      "85th percentile \n",
      " review_score\n",
      "1    28.640\n",
      "2    28.796\n",
      "3    27.014\n",
      "4    27.010\n",
      "5    25.700\n",
      "Name: freight_value, dtype: float64\n",
      "****************************************\n"
     ]
    }
   ],
   "source": [
    "lst=[50,75,80,85]    #let us check these percentile values\n",
    "for i in lst:\n",
    "    print(\"{}th percentile \\n {}\".format(i,data.groupby(\"review_score\")[\"freight_value\"].apply(lambda x: np.percentile(x,i))))\n",
    "    print(\"*\"*40)"
   ]
  },
  {
   "cell_type": "markdown",
   "metadata": {},
   "source": [
    "<b> After the above analysis............\n",
    "    - We have not got any feature than can alone distinguish among review_scores.\n",
    "    - Some features tend to show some separation among the rview_scores, But there is no clear separation."
   ]
  },
  {
   "cell_type": "code",
   "execution_count": null,
   "metadata": {},
   "outputs": [],
   "source": []
  }
 ],
 "metadata": {
  "kernelspec": {
   "display_name": "Python 3",
   "language": "python",
   "name": "python3"
  },
  "language_info": {
   "codemirror_mode": {
    "name": "ipython",
    "version": 3
   },
   "file_extension": ".py",
   "mimetype": "text/x-python",
   "name": "python",
   "nbconvert_exporter": "python",
   "pygments_lexer": "ipython3",
   "version": "3.8.3"
  }
 },
 "nbformat": 4,
 "nbformat_minor": 4
}
