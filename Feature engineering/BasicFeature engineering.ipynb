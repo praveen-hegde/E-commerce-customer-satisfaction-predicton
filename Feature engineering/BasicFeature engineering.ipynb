{
 "cells": [
  {
   "cell_type": "markdown",
   "metadata": {},
   "source": [
    "## 3. Basic feature engineering and analysis:"
   ]
  },
  {
   "cell_type": "code",
   "execution_count": 21,
   "metadata": {},
   "outputs": [],
   "source": [
    "#import libraries....\n",
    "import pandas as pd\n",
    "import numpy as np\n",
    "import matplotlib.pyplot as plt\n",
    "import seaborn as sns \n",
    "import plotly.express as px\n",
    "import folium\n",
    "\n",
    "import datetime\n",
    "import warnings\n",
    "warnings.filterwarnings(\"ignore\")"
   ]
  },
  {
   "cell_type": "code",
   "execution_count": 2,
   "metadata": {},
   "outputs": [],
   "source": [
    "#load the data\n",
    "data = pd.read_csv(\"final_data.csv\")\n",
    "data.drop(\"Unnamed: 0\",axis=1,inplace=True)"
   ]
  },
  {
   "cell_type": "code",
   "execution_count": 6,
   "metadata": {},
   "outputs": [
    {
     "data": {
      "text/plain": [
       "Index(['order_id', 'payment_sequential', 'payment_type',\n",
       "       'payment_installments', 'payment_value', 'customer_id', 'order_status',\n",
       "       'order_purchase_timestamp', 'order_approved_at',\n",
       "       'order_delivered_carrier_date', 'order_delivered_customer_date',\n",
       "       'order_estimated_delivery_date', 'review_score', 'customer_unique_id',\n",
       "       'zip_code_prefix_customer', 'lat_customer', 'lng_customer',\n",
       "       'customer_city', 'customer_state', 'product_id', 'product_name_lenght',\n",
       "       'product_description_lenght', 'product_photos_qty', 'product_weight_g',\n",
       "       'product_length_cm', 'product_height_cm', 'product_width_cm',\n",
       "       'order_item_id', 'seller_id', 'shipping_limit_date', 'price',\n",
       "       'freight_value', 'zip_code_prefix_seller', 'lat_seller', 'lng_seller',\n",
       "       'seller_city', 'seller_state', 'product_category_name'],\n",
       "      dtype='object')"
      ]
     },
     "execution_count": 6,
     "metadata": {},
     "output_type": "execute_result"
    }
   ],
   "source": [
    "data.columns"
   ]
  },
  {
   "cell_type": "code",
   "execution_count": 3,
   "metadata": {
    "scrolled": true
   },
   "outputs": [
    {
     "name": "stdout",
     "output_type": "stream",
     "text": [
      "<class 'pandas.core.frame.DataFrame'>\n",
      "RangeIndex: 113105 entries, 0 to 113104\n",
      "Data columns (total 38 columns):\n",
      " #   Column                         Non-Null Count   Dtype  \n",
      "---  ------                         --------------   -----  \n",
      " 0   order_id                       113105 non-null  object \n",
      " 1   payment_sequential             113105 non-null  int64  \n",
      " 2   payment_type                   113105 non-null  object \n",
      " 3   payment_installments           113105 non-null  int64  \n",
      " 4   payment_value                  113105 non-null  float64\n",
      " 5   customer_id                    113105 non-null  object \n",
      " 6   order_status                   113105 non-null  object \n",
      " 7   order_purchase_timestamp       113105 non-null  object \n",
      " 8   order_approved_at              113105 non-null  object \n",
      " 9   order_delivered_carrier_date   113105 non-null  object \n",
      " 10  order_delivered_customer_date  113105 non-null  object \n",
      " 11  order_estimated_delivery_date  113105 non-null  object \n",
      " 12  review_score                   113105 non-null  int64  \n",
      " 13  customer_unique_id             113105 non-null  object \n",
      " 14  zip_code_prefix_customer       113105 non-null  int64  \n",
      " 15  lat_customer                   113105 non-null  float64\n",
      " 16  lng_customer                   113105 non-null  float64\n",
      " 17  customer_city                  113105 non-null  object \n",
      " 18  customer_state                 113105 non-null  object \n",
      " 19  product_id                     113105 non-null  object \n",
      " 20  product_name_lenght            113105 non-null  float64\n",
      " 21  product_description_lenght     113105 non-null  float64\n",
      " 22  product_photos_qty             113105 non-null  float64\n",
      " 23  product_weight_g               113105 non-null  float64\n",
      " 24  product_length_cm              113105 non-null  float64\n",
      " 25  product_height_cm              113105 non-null  float64\n",
      " 26  product_width_cm               113105 non-null  float64\n",
      " 27  order_item_id                  113105 non-null  int64  \n",
      " 28  seller_id                      113105 non-null  object \n",
      " 29  shipping_limit_date            113105 non-null  object \n",
      " 30  price                          113105 non-null  float64\n",
      " 31  freight_value                  113105 non-null  float64\n",
      " 32  zip_code_prefix_seller         113105 non-null  int64  \n",
      " 33  lat_seller                     113105 non-null  float64\n",
      " 34  lng_seller                     113105 non-null  float64\n",
      " 35  seller_city                    113105 non-null  object \n",
      " 36  seller_state                   113105 non-null  object \n",
      " 37  product_category_name          113105 non-null  object \n",
      "dtypes: float64(14), int64(6), object(18)\n",
      "memory usage: 32.8+ MB\n"
     ]
    }
   ],
   "source": [
    "data.info()"
   ]
  },
  {
   "cell_type": "code",
   "execution_count": 33,
   "metadata": {},
   "outputs": [],
   "source": [
    "#lets change the datetime features to correct format\n",
    "data[\"order_purchase_timestamp\"] = pd.to_datetime(data[\"order_purchase_timestamp\"])\n",
    "data[\"order_approved_at\"] = pd.to_datetime(data[\"order_approved_at\"])\n",
    "data[\"order_delivered_carrier_date\"] = pd.to_datetime(data[\"order_delivered_carrier_date\"])\n",
    "data[\"order_delivered_customer_date\"] = pd.to_datetime(data[\"order_delivered_customer_date\"])\n",
    "data[\"order_estimated_delivery_date\"] = pd.to_datetime(data[\"order_estimated_delivery_date\"])\n",
    "data[\"shipping_limit_date\"] = pd.to_datetime(data[\"shipping_limit_date\"])\n"
   ]
  },
  {
   "cell_type": "markdown",
   "metadata": {},
   "source": [
    "### 3.1 Time based features:"
   ]
  },
  {
   "cell_type": "markdown",
   "metadata": {},
   "source": [
    "<b> The most important thing in e-commerce is delivery time. If the product is not delivered in promised time, then there is high chance that the customer is not satisfied. Also if the promised time itself is too long, then also the customer could be unhappy. If the customer gets the product earlier than the estimated time, then there is chance that the customer giving review_score high. \n",
    "    \n",
    "So, based on this research, I am creating some features which are based on the timestamps given in the dataframe. "
   ]
  },
  {
   "cell_type": "code",
   "execution_count": 34,
   "metadata": {},
   "outputs": [],
   "source": [
    "#Time of estimated delivery\n",
    "data[\"estimated_time\"] = (data[\"order_estimated_delivery_date\"]-data[\"order_purchase_timestamp\"]).apply(\n",
    "                                                                                     lambda x: x.total_seconds()/3600)"
   ]
  },
  {
   "cell_type": "code",
   "execution_count": 20,
   "metadata": {},
   "outputs": [],
   "source": [
    "#Time taken for delivery\n",
    "data[\"actual_time\"] = (data[\"order_delivered_customer_date\"]-data[\"order_purchase_timestamp\"]).apply(\n",
    "                                                                                     lambda x: x.total_seconds()/3600)"
   ]
  },
  {
   "cell_type": "code",
   "execution_count": 21,
   "metadata": {},
   "outputs": [],
   "source": [
    "#Difference between actual delivery time and estimated delivery time\n",
    "data[\"diff_actual_estimated\"] = (data[\"order_delivered_customer_date\"] - data[\"order_estimated_delivery_date\"]).apply(\n",
    "                                                                                     lambda x: x.total_seconds()/3600)"
   ]
  },
  {
   "cell_type": "code",
   "execution_count": 22,
   "metadata": {},
   "outputs": [],
   "source": [
    "# difference between purchase time and approved time \n",
    "data[\"diff_purchased_approved\"] = (data[\"order_approved_at\"] - data[\"order_purchase_timestamp\"]).apply(\n",
    "                                                                                     lambda x: x.total_seconds()/3600)"
   ]
  },
  {
   "cell_type": "code",
   "execution_count": 36,
   "metadata": {},
   "outputs": [],
   "source": [
    "# difference between purchase time and courrier delivery time \n",
    "data[\"diff_purchased_courrier\"] = (data[\"order_delivered_carrier_date\"] - data[\"order_purchase_timestamp\"]).apply(\n",
    "                                                                                     lambda x: x.total_seconds()/3600)"
   ]
  },
  {
   "cell_type": "markdown",
   "metadata": {},
   "source": [
    "### 3.2 Distance based features :"
   ]
  },
  {
   "cell_type": "markdown",
   "metadata": {},
   "source": [
    "<b> We have observed that, Many most of the customers are from state SP and most of the sellers are from SP. And most of the products that are sold from the user of SP got review_rating 5. \n",
    "\n",
    "So, I am assuming, distance between seller and customer could be one aspect that affect customer satisfaction. i.e. If the distance is more then there could be a chance that customer is not satisfied and give review_score less. \n",
    "\n",
    "Based on this assumption I am creating new feature 'distance', whic is the  distance between seller location and customer location in kilo metre."
   ]
  },
  {
   "cell_type": "code",
   "execution_count": 24,
   "metadata": {},
   "outputs": [],
   "source": [
    "from math import radians\n",
    "from sklearn.metrics.pairwise import haversine_distances"
   ]
  },
  {
   "cell_type": "code",
   "execution_count": 25,
   "metadata": {},
   "outputs": [],
   "source": [
    "#https://scikit-learn.org/stable/modules/generated/sklearn.metrics.pairwise.haversine_distances.html\n",
    "X = []  # list to store customer latitude and longitude\n",
    "Y = []  # list to store seller latitude and longitude\n",
    "\n",
    "for i in range(len(data)):\n",
    "    X.append([radians(data.lat_customer[i]),radians(data.lng_customer[i])])\n",
    "    Y.append([radians(data.lat_seller[i]),radians(data.lng_seller[i])])\n",
    "    \n",
    "#converting to numpy array    \n",
    "cust_loc = np.array(X)\n",
    "seller_loc = np.array(Y)\n",
    "\n",
    "\n",
    "distance=[]\n",
    "for i in range(len(data)):\n",
    "    #calculating distance and multiplying by radius of earth(6371) to get distance in km\n",
    "    dist = haversine_distances([cust_loc[i], seller_loc[i]])*6371\n",
    "    distance.append(dist[0,1])\n",
    "    \n",
    "data[\"distance\"] = distance"
   ]
  },
  {
   "cell_type": "markdown",
   "metadata": {},
   "source": [
    "<b> Speed of delivery is also plays important role. Let us create \"speed\" feature using ditance and actual time features.\n",
    "    \n",
    "<font color=\"red\">Since we are creating features using existing feature there could be chance of multicollinearity. But for now let us create the feature. After analysing we can drop features which are not helpful."
   ]
  },
  {
   "cell_type": "code",
   "execution_count": 26,
   "metadata": {},
   "outputs": [],
   "source": [
    "#speed = distance/time\n",
    "data[\"speed\"] = data[\"distance\"]/data[\"actual_time\"]"
   ]
  },
  {
   "cell_type": "code",
   "execution_count": null,
   "metadata": {},
   "outputs": [],
   "source": []
  },
  {
   "cell_type": "markdown",
   "metadata": {},
   "source": [
    "### 3.3 Binary features like same city or not, same state or not"
   ]
  },
  {
   "cell_type": "markdown",
   "metadata": {},
   "source": [
    "<b> 1 if customer state and seller state are same, 0 otherwise"
   ]
  },
  {
   "cell_type": "code",
   "execution_count": 27,
   "metadata": {},
   "outputs": [],
   "source": [
    "# 1 if customer state and seller state are same, 0 otherwise\n",
    "same = []\n",
    "for i in range(len(data)):\n",
    "    if data.customer_state[i] == data.seller_state[i]:\n",
    "        same.append(1)\n",
    "    else:\n",
    "        same.append(0)\n",
    "        \n",
    "data[\"same_state\"] = same"
   ]
  },
  {
   "cell_type": "code",
   "execution_count": 59,
   "metadata": {},
   "outputs": [
    {
     "data": {
      "text/plain": [
       "sao paulo                  17881\n",
       "rio de janeiro              7810\n",
       "belo horizonte              3134\n",
       "brasilia                    2113\n",
       "curitiba                    1770\n",
       "                           ...  \n",
       "pancas                         1\n",
       "nova floresta                  1\n",
       "aparecida de sao manuel        1\n",
       "nobres                         1\n",
       "presidente juscelino           1\n",
       "Name: customer_city, Length: 4001, dtype: int64"
      ]
     },
     "execution_count": 59,
     "metadata": {},
     "output_type": "execute_result"
    }
   ],
   "source": [
    "data['customer_city'].value_counts()"
   ]
  },
  {
   "cell_type": "markdown",
   "metadata": {},
   "source": [
    "<b> 1 if customer city and seller city are same, 0 otherwise"
   ]
  },
  {
   "cell_type": "code",
   "execution_count": 57,
   "metadata": {},
   "outputs": [],
   "source": [
    "#https://www.kaggle.com/sophiecrespo/oc-ia-p5-eda\n",
    "from unidecode import unidecode\n",
    "def lower_and_ascii(string):\n",
    "    return unidecode(string.lower())\n"
   ]
  },
  {
   "cell_type": "code",
   "execution_count": 58,
   "metadata": {},
   "outputs": [],
   "source": [
    "data['customer_city'] = data.apply(lambda row: lower_and_ascii(row['customer_city']), axis=1)\n",
    "data['seller_city'] = data.apply(lambda row: lower_and_ascii(row['seller_city']), axis=1)"
   ]
  },
  {
   "cell_type": "code",
   "execution_count": 30,
   "metadata": {},
   "outputs": [],
   "source": [
    "same = []\n",
    "for i in range(len(data)):\n",
    "    if data.customer_city[i] == data.seller_city[i]:\n",
    "        same.append(1)\n",
    "    else:\n",
    "        same.append(0)\n",
    "\n",
    "data[\"same_city\"] = same"
   ]
  },
  {
   "cell_type": "markdown",
   "metadata": {},
   "source": [
    "<b> 1 if shipping was late than limit time , 0 otherwise"
   ]
  },
  {
   "cell_type": "code",
   "execution_count": 31,
   "metadata": {},
   "outputs": [],
   "source": [
    "late = []\n",
    "\n",
    "for i in range(len(data)):\n",
    "    if data.shipping_limit_date[i] < data.order_delivered_carrier_date[i]:\n",
    "        late.append(1)\n",
    "    else:\n",
    "        late.append(0)\n",
    "        \n",
    "data[\"late_shipping\"] = late"
   ]
  },
  {
   "cell_type": "markdown",
   "metadata": {},
   "source": [
    "<b> 1 if freight_value is higher than price of product, 0 otherwise"
   ]
  },
  {
   "cell_type": "code",
   "execution_count": 32,
   "metadata": {},
   "outputs": [],
   "source": [
    "high = []\n",
    "\n",
    "for i in range(len(data)):\n",
    "    if data.price[i] < data.freight_value[i]:\n",
    "        high.append(1)\n",
    "    else:\n",
    "        high.append(0)\n",
    "        \n",
    "data[\"high_freight\"] = high"
   ]
  },
  {
   "cell_type": "code",
   "execution_count": null,
   "metadata": {},
   "outputs": [],
   "source": []
  },
  {
   "cell_type": "markdown",
   "metadata": {},
   "source": [
    "<b> - We have created 11 new features using existing features. Some features may not be useful. \n",
    "    - But by using some new features we can drop the original features, those which could cause high dimenionality.\n",
    "        - We have created distance feature using longitude and latitude. So seller and customer longitude lattitude are not required while modelling. Similarly all timestamps, customer and seller city names. But right now we will not make any decision on these. "
   ]
  },
  {
   "cell_type": "markdown",
   "metadata": {},
   "source": [
    "<b> Now, we need to analyse the engineered features. "
   ]
  },
  {
   "cell_type": "markdown",
   "metadata": {},
   "source": [
    "### Analysis On New Features"
   ]
  },
  {
   "cell_type": "markdown",
   "metadata": {},
   "source": [
    "<b> Time based features."
   ]
  },
  {
   "cell_type": "markdown",
   "metadata": {},
   "source": [
    "<b> 1.estimated_time"
   ]
  },
  {
   "cell_type": "code",
   "execution_count": 33,
   "metadata": {},
   "outputs": [
    {
     "data": {
      "image/png": "[encoded data removed]",
      "text/plain": [
       "<Figure size 504.75x432 with 1 Axes>"
      ]
     },
     "metadata": {
      "needs_background": "light"
     },
     "output_type": "display_data"
    }
   ],
   "source": [
    "#data[\"estimated_time\"]\n",
    "\n",
    "sns.FacetGrid(data,hue=\"review_score\",height=6)\\\n",
    "    .map(sns.kdeplot,\"estimated_time\")\\\n",
    "    .add_legend()\n",
    "plt.show()"
   ]
  },
  {
   "cell_type": "markdown",
   "metadata": {},
   "source": [
    "* pdf of estimated time of all reviews overlapped.\n",
    "* We cannot say anything more from the plot.\n",
    "* Let us analyse some percentiles to get clear idea"
   ]
  },
  {
   "cell_type": "code",
   "execution_count": 34,
   "metadata": {},
   "outputs": [
    {
     "data": {
      "image/png": "[encoded data removed]",
      "text/plain": [
       "<Figure size 432x288 with 1 Axes>"
      ]
     },
     "metadata": {
      "needs_background": "light"
     },
     "output_type": "display_data"
    },
    {
     "name": "stdout",
     "output_type": "stream",
     "text": [
      "Mean \n",
      " review_score\n",
      "1    598.053128\n",
      "2    595.990385\n",
      "3    587.066812\n",
      "4    575.873394\n",
      "5    561.647707\n",
      "Name: estimated_time, dtype: float64\n",
      "90 percentile \n",
      " review_score\n",
      "1    847.205278\n",
      "2    856.274278\n",
      "3    834.527944\n",
      "4    828.147444\n",
      "5    818.422444\n",
      "Name: estimated_time, dtype: float64\n"
     ]
    }
   ],
   "source": [
    "#boxplots\n",
    "sns.boxplot(y=\"estimated_time\",x=\"review_score\",data=data)\n",
    "plt.show()\n",
    "\n",
    "#mean estimated_time\n",
    "print(\"Mean \\n\",data.groupby(\"review_score\")[\"estimated_time\"].mean())\n",
    "\n",
    "#90th percentile estimated_time\n",
    "print(\"90 percentile \\n\",data.groupby(\"review_score\")[\"estimated_time\"].apply(lambda x: np.percentile(x,90)))"
   ]
  },
  {
   "cell_type": "markdown",
   "metadata": {},
   "source": [
    "* From the boxplot we can see that there are outliers. \n",
    "* Box plots for all review_scores are at almost same phase.\n",
    "* Mean estimated time is more for review_score 1\n",
    "* Also we can see that mean estimated time is increasing from review_score 5 to review_score 1.\n",
    "* 90th percentile value also follows same trend. But 90th percentile is high for review_score 2. Since estimated time has more outliers, high percentiles could be affected by outliers. "
   ]
  },
  {
   "cell_type": "code",
   "execution_count": 35,
   "metadata": {},
   "outputs": [
    {
     "name": "stdout",
     "output_type": "stream",
     "text": [
      "50th percentile \n",
      " review_score\n",
      "1    579.394444\n",
      "2    579.462222\n",
      "3    566.590556\n",
      "4    560.511389\n",
      "5    550.993889\n",
      "Name: estimated_time, dtype: float64\n",
      "****************************************\n",
      "75th percentile \n",
      " review_score\n",
      "1    706.353333\n",
      "2    706.061389\n",
      "3    700.436389\n",
      "4    685.589722\n",
      "5    677.710556\n",
      "Name: estimated_time, dtype: float64\n",
      "****************************************\n",
      "80th percentile \n",
      " review_score\n",
      "1    747.439444\n",
      "2    750.799167\n",
      "3    734.944111\n",
      "4    728.890278\n",
      "5    710.062389\n",
      "Name: estimated_time, dtype: float64\n",
      "****************************************\n",
      "85th percentile \n",
      " review_score\n",
      "1    791.740278\n",
      "2    794.336222\n",
      "3    777.705833\n",
      "4    776.583722\n",
      "5    757.014333\n",
      "Name: estimated_time, dtype: float64\n",
      "****************************************\n"
     ]
    }
   ],
   "source": [
    "lst=[50,75,80,85]    #let us check these percentile values\n",
    "for i in lst:\n",
    "    print(\"{}th percentile \\n {}\".format(i,data.groupby(\"review_score\")[\"estimated_time\"].apply(lambda x: np.percentile(x,i))))\n",
    "    print(\"*\"*40)"
   ]
  },
  {
   "cell_type": "markdown",
   "metadata": {},
   "source": [
    "* Median of estimated time is also high for review_score 1\n",
    "* General trend in the analysed percentiles  \n",
    "    - estimated_time of ( 5 < 4 < 3 < 2 <=1)\n",
    "    - Most importantly estimated time of score 5 < estimated time of score 1.\n",
    "* Though the difference are not very significant, we can assume that,\n",
    "<b> More the estimated time, there is high chance of getting review_score less from the customer. Shorter the estimated time, there is high chance of getting high rating from customer."
   ]
  },
  {
   "cell_type": "markdown",
   "metadata": {},
   "source": [
    "<b> 2. Time taken for delivery"
   ]
  },
  {
   "cell_type": "code",
   "execution_count": 36,
   "metadata": {},
   "outputs": [
    {
     "data": {
      "image/png": "[encoded data removed]",
      "text/plain": [
       "<Figure size 504.75x432 with 1 Axes>"
      ]
     },
     "metadata": {
      "needs_background": "light"
     },
     "output_type": "display_data"
    }
   ],
   "source": [
    "##Time taken for delivery\n",
    "\n",
    "sns.FacetGrid(data,hue=\"review_score\",height=6)\\\n",
    "    .map(sns.kdeplot,\"actual_time\")\\\n",
    "    .add_legend()\n",
    "plt.show()"
   ]
  },
  {
   "cell_type": "markdown",
   "metadata": {},
   "source": [
    "* Here we can see that, pdf of review_score 1 is at higher height for higher actual times. Where as review_score is below score 1, and 3 is below 2, and 4 is below 3, and 5 is below 4.\n",
    "* This is actually good sign, since review_score are not highly overlapped incase of actual_time feature.\n",
    "* For lower values of actual_time, pdf of review_score 5 is highly peaked. followed by 4,3,2,1.\n",
    "* pdf of review_score 5 falls very sharply in the right side compared to pdf of review_score 1."
   ]
  },
  {
   "cell_type": "code",
   "execution_count": 37,
   "metadata": {},
   "outputs": [
    {
     "data": {
      "image/png": "[encoded data removed]",
      "text/plain": [
       "<Figure size 432x288 with 1 Axes>"
      ]
     },
     "metadata": {
      "needs_background": "light"
     },
     "output_type": "display_data"
    },
    {
     "name": "stdout",
     "output_type": "stream",
     "text": [
      "Mean \n",
      " review_score\n",
      "1    470.694890\n",
      "2    379.855595\n",
      "3    336.973243\n",
      "4    293.799355\n",
      "5    255.782775\n",
      "Name: actual_time, dtype: float64\n",
      "90 percentile \n",
      " review_score\n",
      "1    957.735556\n",
      "2    744.601611\n",
      "3    617.164889\n",
      "4    521.212111\n",
      "5    457.132778\n",
      "Name: actual_time, dtype: float64\n"
     ]
    }
   ],
   "source": [
    "#boxplots\n",
    "sns.boxplot(y=\"actual_time\",x=\"review_score\",data=data)\n",
    "plt.show()\n",
    "\n",
    "#mean actual_time\n",
    "print(\"Mean \\n\",data.groupby(\"review_score\")[\"actual_time\"].mean())\n",
    "\n",
    "#90th percentile actual_time\n",
    "print(\"90 percentile \\n\",data.groupby(\"review_score\")[\"actual_time\"].apply(lambda x: np.percentile(x,90)))"
   ]
  },
  {
   "cell_type": "markdown",
   "metadata": {},
   "source": [
    "* From the box plot also we can see that, place of boxplot for review_score 5 is lower compared to that of review_score 1.\n",
    "* There are outliers, But position of boxplot is increasing from review_score 5 to review_score 1.\n",
    "* Though there is perfect separation, this feature definitely has some importance while classifying review_scores.\n",
    "\n",
    "* Mean actual time is significantly less for review_score 5 compared to that of review_score 1.\n",
    "* And the trend is mean of actual time ( 5 < 4 << 3 < 2 < 1)\n",
    "* For the 90th percentiles also the same observation holds. "
   ]
  },
  {
   "cell_type": "code",
   "execution_count": 38,
   "metadata": {},
   "outputs": [
    {
     "name": "stdout",
     "output_type": "stream",
     "text": [
      "50th percentile \n",
      " review_score\n",
      "1    355.453056\n",
      "2    297.690278\n",
      "3    285.297778\n",
      "4    257.618056\n",
      "5    221.191944\n",
      "Name: actual_time, dtype: float64\n",
      "****************************************\n",
      "75th percentile \n",
      " review_score\n",
      "1    660.068889\n",
      "2    500.805556\n",
      "3    436.795556\n",
      "4    378.498056\n",
      "5    331.339722\n",
      "Name: actual_time, dtype: float64\n",
      "****************************************\n",
      "80th percentile \n",
      " review_score\n",
      "1    745.365556\n",
      "2    556.916833\n",
      "3    482.829722\n",
      "4    413.892778\n",
      "5    360.589444\n",
      "Name: actual_time, dtype: float64\n",
      "****************************************\n",
      "85th percentile \n",
      " review_score\n",
      "1    841.545833\n",
      "2    645.601167\n",
      "3    534.920278\n",
      "4    460.392833\n",
      "5    402.471722\n",
      "Name: actual_time, dtype: float64\n",
      "****************************************\n"
     ]
    }
   ],
   "source": [
    "#let us analyse some other percentiles and median, since it has outliers.\n",
    "\n",
    "lst=[50,75,80,85]    #let us check these percentile values\n",
    "for i in lst:\n",
    "    print(\"{}th percentile \\n {}\".format(i,data.groupby(\"review_score\")[\"actual_time\"].apply(lambda x: np.percentile(x,i))))\n",
    "    print(\"*\"*40)"
   ]
  },
  {
   "cell_type": "markdown",
   "metadata": {},
   "source": [
    "* Median of actual time is also follows the same trend as Mean follows. (5<4<3<2<1)\n",
    "* And difference between 5 and 1 is high. \n",
    "* Similarly this holds for all the percentiles values that we analysed.\n",
    "\n",
    "<b> This means if the delivery time is more, then there is high chance that the product gets lower ratings. If delivery time is less, then there is more chances of getting high rating. "
   ]
  },
  {
   "cell_type": "markdown",
   "metadata": {},
   "source": [
    "<b> 3. diff_actual_estimated"
   ]
  },
  {
   "cell_type": "code",
   "execution_count": 39,
   "metadata": {},
   "outputs": [
    {
     "data": {
      "image/png": "[encoded data removed]",
      "text/plain": [
       "<Figure size 504.75x432 with 1 Axes>"
      ]
     },
     "metadata": {
      "needs_background": "light"
     },
     "output_type": "display_data"
    }
   ],
   "source": [
    "#diff_actual_estimated\n",
    "\n",
    "sns.FacetGrid(data,hue=\"review_score\",height=6)\\\n",
    "    .map(sns.kdeplot,\"diff_actual_estimated\")\\\n",
    "    .add_legend()\n",
    "plt.show()"
   ]
  },
  {
   "cell_type": "markdown",
   "metadata": {},
   "source": [
    "* difference between actual delivery time and estimated time is very important feature. \n",
    "* From the pdf we can see that, review_score 5 has high density below 0. That means if the product is delivered before the estimated time.\n",
    "* Though review_score has high density near 0, it has one another peak for greater than 0. And in that place review_score 5 has almost 0 density. \n",
    "* This feature is helpful while classifying the review_scores."
   ]
  },
  {
   "cell_type": "code",
   "execution_count": 40,
   "metadata": {},
   "outputs": [
    {
     "data": {
      "image/png": "[encoded data removed]",
      "text/plain": [
       "<Figure size 432x288 with 1 Axes>"
      ]
     },
     "metadata": {
      "needs_background": "light"
     },
     "output_type": "display_data"
    },
    {
     "name": "stdout",
     "output_type": "stream",
     "text": [
      "Mean \n",
      " review_score\n",
      "1   -127.358238\n",
      "2   -216.134790\n",
      "3   -250.093569\n",
      "4   -282.074038\n",
      "5   -305.864932\n",
      "Name: diff_actual_estimated, dtype: float64\n",
      "Median \n",
      " review_score\n",
      "1   -198.916944\n",
      "2   -245.708611\n",
      "3   -254.533056\n",
      "4   -281.126944\n",
      "5   -296.024444\n",
      "Name: diff_actual_estimated, dtype: float64\n",
      "90 percentile \n",
      " review_score\n",
      "1    326.899722\n",
      "2    159.982722\n",
      "3     11.281500\n",
      "4    -60.103556\n",
      "5   -100.358056\n",
      "Name: diff_actual_estimated, dtype: float64\n"
     ]
    }
   ],
   "source": [
    "#boxplots\n",
    "sns.boxplot(y=\"diff_actual_estimated\",x=\"review_score\",data=data)\n",
    "plt.show()\n",
    "\n",
    "#mean diff_actual_estimated\n",
    "print(\"Mean \\n\",data.groupby(\"review_score\")[\"diff_actual_estimated\"].mean())\n",
    "#median diff_actual_estimated\n",
    "print(\"Median \\n\",data.groupby(\"review_score\")[\"diff_actual_estimated\"].median())\n",
    "#90th percentile diff_actual_estimated\n",
    "print(\"90 percentile \\n\",data.groupby(\"review_score\")[\"diff_actual_estimated\"].apply(lambda x: np.percentile(x,90)))"
   ]
  },
  {
   "cell_type": "markdown",
   "metadata": {},
   "source": [
    "* From the boxplots we can see that there are outliers. Fro review_score 5, there are more outlier points in the negative side compared to other review_scores. review_score 1 has more positive outliers.\n",
    "* Mean difference is very low that means it is more negative for review_score 5 compared to that of review_score 1. \n",
    "* The trend is mean of difference ( 5 < 4 < 3 < 2 << 1)\n",
    "* The same trend and observation can be seen from median values also. \n",
    "* For the 90th percentile, difference value is high for review_score 1 followed by review_score 2. review_score 5 is still negative and very less for 90th percentile value and also score 4 is also very less compared to 3,2,1 scores.\n",
    "\n",
    "<b> This means, if the product is delivered before the estimated delivery time, then there is high chances of getting review_score 5 followed by 4. If delivery time exceeds estimated time of delivery, then there is high chances of getting lower review_score like 1 or 2. \n",
    "    "
   ]
  },
  {
   "cell_type": "markdown",
   "metadata": {},
   "source": [
    "<b> 4. diff_purchased_approved"
   ]
  },
  {
   "cell_type": "code",
   "execution_count": 41,
   "metadata": {},
   "outputs": [
    {
     "data": {
      "image/png": "[encoded data removed]",
      "text/plain": [
       "<Figure size 504.75x432 with 1 Axes>"
      ]
     },
     "metadata": {
      "needs_background": "light"
     },
     "output_type": "display_data"
    }
   ],
   "source": [
    "# diff_purchased_approved\n",
    "\n",
    "sns.FacetGrid(data,hue=\"review_score\",height=6)\\\n",
    "    .map(sns.kdeplot,\"diff_purchased_approved\")\\\n",
    "    .add_legend()\n",
    "plt.show()"
   ]
  },
  {
   "cell_type": "markdown",
   "metadata": {},
   "source": [
    "* pdf of all review_scores are highjly overlapped.\n",
    "* We cannot distinguish among review_scores from this plot"
   ]
  },
  {
   "cell_type": "code",
   "execution_count": 42,
   "metadata": {},
   "outputs": [
    {
     "data": {
      "image/png": "[encoded data removed]",
      "text/plain": [
       "<Figure size 432x288 with 1 Axes>"
      ]
     },
     "metadata": {
      "needs_background": "light"
     },
     "output_type": "display_data"
    },
    {
     "name": "stdout",
     "output_type": "stream",
     "text": [
      "Mean \n",
      " review_score\n",
      "1    11.301371\n",
      "2    11.116752\n",
      "3    10.936094\n",
      "4    10.371466\n",
      "5    10.170415\n",
      "Name: diff_purchased_approved, dtype: float64\n",
      "Median \n",
      " review_score\n",
      "1    0.369167\n",
      "2    0.357500\n",
      "3    0.350556\n",
      "4    0.339167\n",
      "5    0.344167\n",
      "Name: diff_purchased_approved, dtype: float64\n",
      "90 percentile \n",
      " review_score\n",
      "1    36.032778\n",
      "2    38.526111\n",
      "3    36.275556\n",
      "4    34.941944\n",
      "5    34.443389\n",
      "Name: diff_purchased_approved, dtype: float64\n"
     ]
    }
   ],
   "source": [
    "#boxplots\n",
    "sns.boxplot(y=\"diff_purchased_approved\",x=\"review_score\",data=data)\n",
    "plt.show()\n",
    "\n",
    "#mean diff_purchased_approved\n",
    "print(\"Mean \\n\",data.groupby(\"review_score\")[\"diff_purchased_approved\"].mean())\n",
    "#median diff_purchased_approved\n",
    "print(\"Median \\n\",data.groupby(\"review_score\")[\"diff_purchased_approved\"].median())\n",
    "#90th percentile diff_purchased_approved\n",
    "print(\"90 percentile \\n\",data.groupby(\"review_score\")[\"diff_purchased_approved\"].apply(lambda x: np.percentile(x,90)))"
   ]
  },
  {
   "cell_type": "markdown",
   "metadata": {},
   "source": [
    "* Mean value, median value all are almost equal for all the review_scores. There is not much difference. \n",
    "* From the boxplot we can see that review_score 1 has some very large outliers. \n",
    "* But we cannot distinguish even partially from the diff_purchased_approved feature.\n",
    "* This might not be helpful while classifying the review_scores."
   ]
  },
  {
   "cell_type": "markdown",
   "metadata": {},
   "source": [
    "<b> 5. diff_purchased_courrier"
   ]
  },
  {
   "cell_type": "code",
   "execution_count": 43,
   "metadata": {},
   "outputs": [
    {
     "data": {
      "image/png": "[encoded data removed]",
      "text/plain": [
       "<Figure size 504.75x432 with 1 Axes>"
      ]
     },
     "metadata": {
      "needs_background": "light"
     },
     "output_type": "display_data"
    }
   ],
   "source": [
    "# diff_purchased_courrier\n",
    "\n",
    "sns.FacetGrid(data,hue=\"review_score\",height=6)\\\n",
    "    .map(sns.kdeplot,\"diff_purchased_courrier\")\\\n",
    "    .add_legend()\n",
    "plt.show()"
   ]
  },
  {
   "cell_type": "markdown",
   "metadata": {},
   "source": [
    "* From the pdf we cannot clearly separate review_scores. Plots are highly overlapped.\n",
    "* For higher values of diff_purchased_courrier review_score 3 has slightly higher curve. "
   ]
  },
  {
   "cell_type": "code",
   "execution_count": 44,
   "metadata": {},
   "outputs": [
    {
     "data": {
      "image/png": "[encoded data removed]",
      "text/plain": [
       "<Figure size 432x288 with 1 Axes>"
      ]
     },
     "metadata": {
      "needs_background": "light"
     },
     "output_type": "display_data"
    },
    {
     "name": "stdout",
     "output_type": "stream",
     "text": [
      "Mean \n",
      " review_score\n",
      "1    110.424622\n",
      "2     97.078529\n",
      "3     87.075198\n",
      "4     78.096517\n",
      "5     70.131928\n",
      "Name: diff_purchased_courrier, dtype: float64\n",
      "Median \n",
      " review_score\n",
      "1    70.642778\n",
      "2    66.823056\n",
      "3    62.483611\n",
      "4    54.114444\n",
      "5    50.320278\n",
      "Name: diff_purchased_courrier, dtype: float64\n",
      "90 percentile \n",
      " review_score\n",
      "1    234.320833\n",
      "2    196.272722\n",
      "3    179.313944\n",
      "4    158.014056\n",
      "5    144.118111\n",
      "Name: diff_purchased_courrier, dtype: float64\n"
     ]
    }
   ],
   "source": [
    "#boxplots\n",
    "sns.boxplot(y=\"diff_purchased_courrier\",x=\"review_score\",data=data)\n",
    "plt.show()\n",
    "\n",
    "#mean diff_purchased_courrier\n",
    "print(\"Mean \\n\",data.groupby(\"review_score\")[\"diff_purchased_courrier\"].mean())\n",
    "#median diff_purchased_courrier\n",
    "print(\"Median \\n\",data.groupby(\"review_score\")[\"diff_purchased_courrier\"].median())\n",
    "#90th percentile diff_purchased_courrier\n",
    "print(\"90 percentile \\n\",data.groupby(\"review_score\")[\"diff_purchased_courrier\"].apply(lambda x: np.percentile(x,90)))"
   ]
  },
  {
   "cell_type": "markdown",
   "metadata": {},
   "source": [
    "* Box plots are not at different phase. We can only say that there are outliers th in features.\n",
    "* But, the mean value, median value and 90th percentile values for review_score are less compared to other review_scores.\n",
    "* The trend is (5<4<3<2<1)\n",
    "* That means there is chance that, if there is high difference in time of purchased and time of corrier shpping time,  cutomer could give low rating. But one thing here h\\is, if this difference is large then there will be delay in delivery. Tht could affect the satisfaction of customer."
   ]
  },
  {
   "cell_type": "markdown",
   "metadata": {},
   "source": [
    "<b> 6. distance between seller location and customer location"
   ]
  },
  {
   "cell_type": "code",
   "execution_count": 45,
   "metadata": {},
   "outputs": [
    {
     "data": {
      "image/png": "[encoded data removed]",
      "text/plain": [
       "<Figure size 504.75x432 with 1 Axes>"
      ]
     },
     "metadata": {
      "needs_background": "light"
     },
     "output_type": "display_data"
    }
   ],
   "source": [
    "sns.FacetGrid(data,hue=\"review_score\",height=6)\\\n",
    "    .map(sns.kdeplot,\"distance\")\\\n",
    "    .add_legend()\n",
    "plt.show()"
   ]
  },
  {
   "cell_type": "markdown",
   "metadata": {},
   "source": [
    "* pdf of review_score 5 is highly peaked at smaller values of distance. For higher values density becomes less compared to other review_scores.\n",
    "* For higher values of distances review_score 1 and 2 has higher density than other scores."
   ]
  },
  {
   "cell_type": "code",
   "execution_count": 46,
   "metadata": {},
   "outputs": [
    {
     "data": {
      "image/png": "[encoded data removed]",
      "text/plain": [
       "<Figure size 432x288 with 1 Axes>"
      ]
     },
     "metadata": {
      "needs_background": "light"
     },
     "output_type": "display_data"
    },
    {
     "name": "stdout",
     "output_type": "stream",
     "text": [
      "Mean \n",
      " review_score\n",
      "1    663.690800\n",
      "2    641.471010\n",
      "3    629.459496\n",
      "4    619.527873\n",
      "5    568.950961\n",
      "Name: distance, dtype: float64\n",
      "Median \n",
      " review_score\n",
      "1    484.730969\n",
      "2    447.707393\n",
      "3    462.874091\n",
      "4    454.894136\n",
      "5    410.211206\n",
      "Name: distance, dtype: float64\n",
      "90 percentile \n",
      " review_score\n",
      "1    1573.205232\n",
      "2    1614.072123\n",
      "3    1511.549772\n",
      "4    1475.039366\n",
      "5    1332.860596\n",
      "Name: distance, dtype: float64\n"
     ]
    }
   ],
   "source": [
    "#boxplots\n",
    "sns.boxplot(y=\"distance\",x=\"review_score\",data=data)\n",
    "plt.show()\n",
    "\n",
    "#mean distance\n",
    "print(\"Mean \\n\",data.groupby(\"review_score\")[\"distance\"].mean())\n",
    "#median distance\n",
    "print(\"Median \\n\",data.groupby(\"review_score\")[\"distance\"].median())\n",
    "#90th percentile distance\n",
    "print(\"90 percentile \\n\",data.groupby(\"review_score\")[\"distance\"].apply(lambda x: np.percentile(x,90)))"
   ]
  },
  {
   "cell_type": "markdown",
   "metadata": {},
   "source": [
    "* Boxplots are almost at same position. But boxplot of review_score 5 is slightly lower position compared to that of review_score 1.\n",
    "* Mean, median and 90th percentile of distance values are less for revew_score 5 than other review_scores.\n",
    "* Trend is (5<4<3<2<1)\n",
    "* This feature could somewhat help us while classifying.\n",
    "* That means if the distance between customer and seller increases then there are chances of getting lower rating."
   ]
  },
  {
   "cell_type": "markdown",
   "metadata": {},
   "source": [
    "<b> 7. speed"
   ]
  },
  {
   "cell_type": "code",
   "execution_count": 47,
   "metadata": {},
   "outputs": [
    {
     "data": {
      "image/png": "[encoded data removed]",
      "text/plain": [
       "<Figure size 504.75x432 with 1 Axes>"
      ]
     },
     "metadata": {
      "needs_background": "light"
     },
     "output_type": "display_data"
    }
   ],
   "source": [
    "sns.FacetGrid(data,hue=\"review_score\",height=6)\\\n",
    "    .map(sns.kdeplot,\"speed\")\\\n",
    "    .add_legend()\n",
    "plt.show()"
   ]
  },
  {
   "cell_type": "markdown",
   "metadata": {},
   "source": [
    "* For lower values of speed pdf of review_score 1 is highly peaked than other ratings. \n",
    "* peakedness of pdf of review_scores at lower values of speed decreases from review_score 1 to 5.\n",
    "* For higher values of speed, review_score density is low compared to other scores."
   ]
  },
  {
   "cell_type": "code",
   "execution_count": 48,
   "metadata": {},
   "outputs": [
    {
     "data": {
      "image/png": "[encoded data removed]",
      "text/plain": [
       "<Figure size 432x288 with 1 Axes>"
      ]
     },
     "metadata": {
      "needs_background": "light"
     },
     "output_type": "display_data"
    },
    {
     "name": "stdout",
     "output_type": "stream",
     "text": [
      "Mean \n",
      " review_score\n",
      "1    1.829121\n",
      "2    1.989655\n",
      "3    2.036370\n",
      "4    2.185800\n",
      "5    2.241600\n",
      "Name: speed, dtype: float64\n",
      "Median \n",
      " review_score\n",
      "1    1.303247\n",
      "2    1.430599\n",
      "3    1.553044\n",
      "4    1.698774\n",
      "5    1.747787\n",
      "Name: speed, dtype: float64\n",
      "90 percentile \n",
      " review_score\n",
      "1    3.922746\n",
      "2    4.206390\n",
      "3    4.312063\n",
      "4    4.581428\n",
      "5    4.715156\n",
      "Name: speed, dtype: float64\n"
     ]
    }
   ],
   "source": [
    "#boxplots\n",
    "sns.boxplot(y=\"speed\",x=\"review_score\",data=data)\n",
    "plt.show()\n",
    "\n",
    "#mean speed\n",
    "print(\"Mean \\n\",data.groupby(\"review_score\")[\"speed\"].mean())\n",
    "#median speed\n",
    "print(\"Median \\n\",data.groupby(\"review_score\")[\"speed\"].median())\n",
    "#90th percentile speed\n",
    "print(\"90 percentile \\n\",data.groupby(\"review_score\")[\"speed\"].apply(lambda x: np.percentile(x,90)))"
   ]
  },
  {
   "cell_type": "markdown",
   "metadata": {},
   "source": [
    "* Boxplots are almost at same position. review_score 1 is at slightly lower position compared to review_score 5.\n",
    "* Mean, median, 90th percentile values are not very different. But the trend is (5>4>3>2>1) But this inequality is not so strong."
   ]
  },
  {
   "cell_type": "markdown",
   "metadata": {},
   "source": [
    "<b> 8. same_state"
   ]
  },
  {
   "cell_type": "code",
   "execution_count": 49,
   "metadata": {},
   "outputs": [
    {
     "data": {
      "text/html": [
       "<div>\n",
       "<style scoped>\n",
       "    .dataframe tbody tr th:only-of-type {\n",
       "        vertical-align: middle;\n",
       "    }\n",
       "\n",
       "    .dataframe tbody tr th {\n",
       "        vertical-align: top;\n",
       "    }\n",
       "\n",
       "    .dataframe thead th {\n",
       "        text-align: right;\n",
       "    }\n",
       "</style>\n",
       "<table border=\"1\" class=\"dataframe\">\n",
       "  <thead>\n",
       "    <tr style=\"text-align: right;\">\n",
       "      <th>same_state</th>\n",
       "      <th>0</th>\n",
       "      <th>1</th>\n",
       "    </tr>\n",
       "    <tr>\n",
       "      <th>review_score</th>\n",
       "      <th></th>\n",
       "      <th></th>\n",
       "    </tr>\n",
       "  </thead>\n",
       "  <tbody>\n",
       "    <tr>\n",
       "      <th>1</th>\n",
       "      <td>71.127558</td>\n",
       "      <td>28.872442</td>\n",
       "    </tr>\n",
       "    <tr>\n",
       "      <th>2</th>\n",
       "      <td>67.218122</td>\n",
       "      <td>32.781878</td>\n",
       "    </tr>\n",
       "    <tr>\n",
       "      <th>3</th>\n",
       "      <td>66.551760</td>\n",
       "      <td>33.448240</td>\n",
       "    </tr>\n",
       "    <tr>\n",
       "      <th>4</th>\n",
       "      <td>64.782509</td>\n",
       "      <td>35.217491</td>\n",
       "    </tr>\n",
       "    <tr>\n",
       "      <th>5</th>\n",
       "      <td>61.580828</td>\n",
       "      <td>38.419172</td>\n",
       "    </tr>\n",
       "  </tbody>\n",
       "</table>\n",
       "</div>"
      ],
      "text/plain": [
       "same_state            0          1\n",
       "review_score                      \n",
       "1             71.127558  28.872442\n",
       "2             67.218122  32.781878\n",
       "3             66.551760  33.448240\n",
       "4             64.782509  35.217491\n",
       "5             61.580828  38.419172"
      ]
     },
     "execution_count": 49,
     "metadata": {},
     "output_type": "execute_result"
    }
   ],
   "source": [
    "data.groupby(\"review_score\")[\"same_state\"].value_counts(normalize=True).unstack()*100"
   ]
  },
  {
   "cell_type": "markdown",
   "metadata": {},
   "source": [
    "* % share of review_score 5 when customer and seller from same state is higher compared to that of other review_scores.\n",
    "* % share of review_score 1 when customer and seller from different state, is higher compared to that of other review_scores."
   ]
  },
  {
   "cell_type": "markdown",
   "metadata": {},
   "source": [
    "<b> 9. same_city"
   ]
  },
  {
   "cell_type": "code",
   "execution_count": 50,
   "metadata": {},
   "outputs": [
    {
     "data": {
      "text/plain": [
       "0    107202\n",
       "1      5903\n",
       "Name: same_city, dtype: int64"
      ]
     },
     "execution_count": 50,
     "metadata": {},
     "output_type": "execute_result"
    }
   ],
   "source": [
    "data[\"same_city\"].value_counts()"
   ]
  },
  {
   "cell_type": "markdown",
   "metadata": {},
   "source": [
    "* There very few instances where, customer and sellers both belongs to same city."
   ]
  },
  {
   "cell_type": "code",
   "execution_count": 51,
   "metadata": {},
   "outputs": [
    {
     "data": {
      "text/html": [
       "<div>\n",
       "<style scoped>\n",
       "    .dataframe tbody tr th:only-of-type {\n",
       "        vertical-align: middle;\n",
       "    }\n",
       "\n",
       "    .dataframe tbody tr th {\n",
       "        vertical-align: top;\n",
       "    }\n",
       "\n",
       "    .dataframe thead th {\n",
       "        text-align: right;\n",
       "    }\n",
       "</style>\n",
       "<table border=\"1\" class=\"dataframe\">\n",
       "  <thead>\n",
       "    <tr style=\"text-align: right;\">\n",
       "      <th>same_city</th>\n",
       "      <th>0</th>\n",
       "      <th>1</th>\n",
       "    </tr>\n",
       "    <tr>\n",
       "      <th>review_score</th>\n",
       "      <th></th>\n",
       "      <th></th>\n",
       "    </tr>\n",
       "  </thead>\n",
       "  <tbody>\n",
       "    <tr>\n",
       "      <th>1</th>\n",
       "      <td>96.027490</td>\n",
       "      <td>3.972510</td>\n",
       "    </tr>\n",
       "    <tr>\n",
       "      <th>2</th>\n",
       "      <td>96.029524</td>\n",
       "      <td>3.970476</td>\n",
       "    </tr>\n",
       "    <tr>\n",
       "      <th>3</th>\n",
       "      <td>95.717121</td>\n",
       "      <td>4.282879</td>\n",
       "    </tr>\n",
       "    <tr>\n",
       "      <th>4</th>\n",
       "      <td>95.065593</td>\n",
       "      <td>4.934407</td>\n",
       "    </tr>\n",
       "    <tr>\n",
       "      <th>5</th>\n",
       "      <td>94.215387</td>\n",
       "      <td>5.784613</td>\n",
       "    </tr>\n",
       "  </tbody>\n",
       "</table>\n",
       "</div>"
      ],
      "text/plain": [
       "same_city             0         1\n",
       "review_score                     \n",
       "1             96.027490  3.972510\n",
       "2             96.029524  3.970476\n",
       "3             95.717121  4.282879\n",
       "4             95.065593  4.934407\n",
       "5             94.215387  5.784613"
      ]
     },
     "execution_count": 51,
     "metadata": {},
     "output_type": "execute_result"
    }
   ],
   "source": [
    "data.groupby(\"review_score\")[\"same_city\"].value_counts(normalize=True).unstack()*100"
   ]
  },
  {
   "cell_type": "markdown",
   "metadata": {},
   "source": [
    "* % share of review_score 5 when customer and seller from same city is higher compared to that of other review_scores.\n",
    "* But there is not mcuh difference and there are very few common city instances."
   ]
  },
  {
   "cell_type": "markdown",
   "metadata": {},
   "source": [
    "<b> 10. late_shipping"
   ]
  },
  {
   "cell_type": "code",
   "execution_count": 52,
   "metadata": {},
   "outputs": [
    {
     "data": {
      "text/plain": [
       "0    102641\n",
       "1     10464\n",
       "Name: late_shipping, dtype: int64"
      ]
     },
     "execution_count": 52,
     "metadata": {},
     "output_type": "execute_result"
    }
   ],
   "source": [
    "data[\"late_shipping\"].value_counts()"
   ]
  },
  {
   "cell_type": "markdown",
   "metadata": {},
   "source": [
    "* There are few instances hwere shipping time exceeds shipping limit time."
   ]
  },
  {
   "cell_type": "code",
   "execution_count": 53,
   "metadata": {},
   "outputs": [
    {
     "data": {
      "text/html": [
       "<div>\n",
       "<style scoped>\n",
       "    .dataframe tbody tr th:only-of-type {\n",
       "        vertical-align: middle;\n",
       "    }\n",
       "\n",
       "    .dataframe tbody tr th {\n",
       "        vertical-align: top;\n",
       "    }\n",
       "\n",
       "    .dataframe thead th {\n",
       "        text-align: right;\n",
       "    }\n",
       "</style>\n",
       "<table border=\"1\" class=\"dataframe\">\n",
       "  <thead>\n",
       "    <tr style=\"text-align: right;\">\n",
       "      <th>late_shipping</th>\n",
       "      <th>0</th>\n",
       "      <th>1</th>\n",
       "    </tr>\n",
       "    <tr>\n",
       "      <th>review_score</th>\n",
       "      <th></th>\n",
       "      <th></th>\n",
       "    </tr>\n",
       "  </thead>\n",
       "  <tbody>\n",
       "    <tr>\n",
       "      <th>1</th>\n",
       "      <td>83.422702</td>\n",
       "      <td>16.577298</td>\n",
       "    </tr>\n",
       "    <tr>\n",
       "      <th>2</th>\n",
       "      <td>85.747009</td>\n",
       "      <td>14.252991</td>\n",
       "    </tr>\n",
       "    <tr>\n",
       "      <th>3</th>\n",
       "      <td>88.780946</td>\n",
       "      <td>11.219054</td>\n",
       "    </tr>\n",
       "    <tr>\n",
       "      <th>4</th>\n",
       "      <td>91.309551</td>\n",
       "      <td>8.690449</td>\n",
       "    </tr>\n",
       "    <tr>\n",
       "      <th>5</th>\n",
       "      <td>92.655909</td>\n",
       "      <td>7.344091</td>\n",
       "    </tr>\n",
       "  </tbody>\n",
       "</table>\n",
       "</div>"
      ],
      "text/plain": [
       "late_shipping          0          1\n",
       "review_score                       \n",
       "1              83.422702  16.577298\n",
       "2              85.747009  14.252991\n",
       "3              88.780946  11.219054\n",
       "4              91.309551   8.690449\n",
       "5              92.655909   7.344091"
      ]
     },
     "execution_count": 53,
     "metadata": {},
     "output_type": "execute_result"
    }
   ],
   "source": [
    "data.groupby(\"review_score\")[\"late_shipping\"].value_counts(normalize=True).unstack()*100"
   ]
  },
  {
   "cell_type": "markdown",
   "metadata": {},
   "source": [
    "* If shpping is late, then there is chances of getting low review_scores, since % share of review_score 1 incase of late_shipping is higher compared to the same that of other review_scores."
   ]
  },
  {
   "cell_type": "markdown",
   "metadata": {},
   "source": [
    "<b> 11. high_freight"
   ]
  },
  {
   "cell_type": "code",
   "execution_count": 54,
   "metadata": {},
   "outputs": [
    {
     "data": {
      "text/plain": [
       "0    108957\n",
       "1      4148\n",
       "Name: high_freight, dtype: int64"
      ]
     },
     "execution_count": 54,
     "metadata": {},
     "output_type": "execute_result"
    }
   ],
   "source": [
    "data[\"high_freight\"].value_counts()"
   ]
  },
  {
   "cell_type": "markdown",
   "metadata": {},
   "source": [
    "* There are very few instances when freight value is higher than price of the product. \n",
    "* Our assumption is if the freight value is higher than product price, then customer obviously not satisfied. \n"
   ]
  },
  {
   "cell_type": "code",
   "execution_count": 55,
   "metadata": {},
   "outputs": [
    {
     "data": {
      "text/html": [
       "<div>\n",
       "<style scoped>\n",
       "    .dataframe tbody tr th:only-of-type {\n",
       "        vertical-align: middle;\n",
       "    }\n",
       "\n",
       "    .dataframe tbody tr th {\n",
       "        vertical-align: top;\n",
       "    }\n",
       "\n",
       "    .dataframe thead th {\n",
       "        text-align: right;\n",
       "    }\n",
       "</style>\n",
       "<table border=\"1\" class=\"dataframe\">\n",
       "  <thead>\n",
       "    <tr style=\"text-align: right;\">\n",
       "      <th>high_freight</th>\n",
       "      <th>0</th>\n",
       "      <th>1</th>\n",
       "    </tr>\n",
       "    <tr>\n",
       "      <th>review_score</th>\n",
       "      <th></th>\n",
       "      <th></th>\n",
       "    </tr>\n",
       "  </thead>\n",
       "  <tbody>\n",
       "    <tr>\n",
       "      <th>1</th>\n",
       "      <td>95.249604</td>\n",
       "      <td>4.750396</td>\n",
       "    </tr>\n",
       "    <tr>\n",
       "      <th>2</th>\n",
       "      <td>95.571392</td>\n",
       "      <td>4.428608</td>\n",
       "    </tr>\n",
       "    <tr>\n",
       "      <th>3</th>\n",
       "      <td>95.832028</td>\n",
       "      <td>4.167972</td>\n",
       "    </tr>\n",
       "    <tr>\n",
       "      <th>4</th>\n",
       "      <td>96.460299</td>\n",
       "      <td>3.539701</td>\n",
       "    </tr>\n",
       "    <tr>\n",
       "      <th>5</th>\n",
       "      <td>96.631960</td>\n",
       "      <td>3.368040</td>\n",
       "    </tr>\n",
       "  </tbody>\n",
       "</table>\n",
       "</div>"
      ],
      "text/plain": [
       "high_freight          0         1\n",
       "review_score                     \n",
       "1             95.249604  4.750396\n",
       "2             95.571392  4.428608\n",
       "3             95.832028  4.167972\n",
       "4             96.460299  3.539701\n",
       "5             96.631960  3.368040"
      ]
     },
     "execution_count": 55,
     "metadata": {},
     "output_type": "execute_result"
    }
   ],
   "source": [
    "data.groupby(\"review_score\")[\"high_freight\"].value_counts(normalize=True).unstack()*100"
   ]
  },
  {
   "cell_type": "markdown",
   "metadata": {},
   "source": [
    "* There is not much difference in % review_sharing between high_freight and not high freight."
   ]
  },
  {
   "cell_type": "markdown",
   "metadata": {},
   "source": [
    "<b><font color=\"darkblue\"> From the EDA part and above analysis of new features............\n",
    "    \n",
    "    - We have analysed all the features and got some useful insights by considering review_score as target.\n",
    "    - Most of the features alone cannot distinguish among review_scores. \n",
    "    - But in some features, there is a tendency of difference between review_score 5 and review_score 1.\n",
    "    - There is no clear separation using simple rule based method incase of bivariate analysis also.\n",
    "    - By the analysis of timestamp of purchase date, we got to know about the purchasing pattern in each year and month and hours. \n",
    "    - Most of the features are right skewed.\n",
    "    - We have created some basic features using existing features. \n",
    "    - Time based features are seems to be helpful for classifying the review_scores. \n",
    "    - We have created some binary features like (same_state, same_city), so that we can drop the existing feature which has same information. \n",
    "    - Most of the features shows difference between review_score 1 and 5. But For review_score 2 and 3, there is not significant difference. \n",
    "    - Since the data has very few instances for review_score 2 and 3, and by the feature analysis, we can classify review_score 5 from 2 and 3. But classification between 2 and 3 is seems to be difficult. \n",
    "    - score 2 and 3 has few points and in the feature analysis also there is not clear separation found.\n",
    "    - Inorder to overcome this difficulty we could use class balancing techniques like SMOTE. Or while modelling we can use algorithmic level approach models like LightGMB,RUSBoost. \n",
    "    - Since we have timestamp, we can do Time based splitting of data. \n",
    "    - After splitting, we could try some advanced features which are discussed in abstract."
   ]
  },
  {
   "cell_type": "code",
   "execution_count": 56,
   "metadata": {},
   "outputs": [],
   "source": [
    "#saving all the created features with data.\n",
    "data.to_csv(\"data_with_basic_features.csv\")"
   ]
  },
  {
   "cell_type": "code",
   "execution_count": null,
   "metadata": {},
   "outputs": [],
   "source": [
    "\n"
   ]
  },
  {
   "cell_type": "code",
   "execution_count": null,
   "metadata": {},
   "outputs": [],
   "source": []
  }
 ],
 "metadata": {
  "kernelspec": {
   "display_name": "Python 3",
   "language": "python",
   "name": "python3"
  },
  "language_info": {
   "codemirror_mode": {
    "name": "ipython",
    "version": 3
   },
   "file_extension": ".py",
   "mimetype": "text/x-python",
   "name": "python",
   "nbconvert_exporter": "python",
   "pygments_lexer": "ipython3",
   "version": "3.8.3"
  }
 },
 "nbformat": 4,
 "nbformat_minor": 4
}
