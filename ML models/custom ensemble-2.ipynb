{
 "cells": [
  {
   "cell_type": "code",
   "execution_count": 1,
   "metadata": {
    "id": "CC_QacPgfzq-"
   },
   "outputs": [],
   "source": [
    "#import libraries....\n",
    "\n",
    "import pandas as pd\n",
    "import numpy as np\n",
    "import matplotlib.pyplot as plt\n",
    "import seaborn as sns \n",
    "import plotly.express as px\n",
    "import folium\n",
    "\n",
    "from sklearn.model_selection import train_test_split\n",
    "from sklearn.metrics import log_loss,confusion_matrix,f1_score\n",
    "from sklearn.neighbors import KNeighborsClassifier\n",
    "from sklearn.linear_model import SGDClassifier,LogisticRegression\n",
    "from sklearn.model_selection import RandomizedSearchCV\n",
    "from sklearn.tree import DecisionTreeClassifier\n",
    "from sklearn.calibration import CalibratedClassifierCV\n",
    "from sklearn.naive_bayes import MultinomialNB,GaussianNB\n",
    "import lightgbm as lgb\n",
    "from sklearn.model_selection import StratifiedKFold\n",
    "import xgboost as xgb\n",
    "from mlxtend.classifier import StackingClassifier\n",
    "from sklearn.preprocessing import Normalizer,MinMaxScaler,StandardScaler\n",
    "\n",
    "import xgboost as xgb\n",
    "from sklearn.ensemble import RandomForestClassifier\n",
    "from sklearn.model_selection import RandomizedSearchCV\n",
    "from sklearn.preprocessing import LabelEncoder\n",
    "from imblearn.over_sampling import RandomOverSampler\n",
    "from sklearn.svm import SVC\n",
    "\n",
    "import datetime\n",
    "\n",
    "import warnings\n",
    "warnings.filterwarnings(\"ignore\")"
   ]
  },
  {
   "cell_type": "markdown",
   "metadata": {},
   "source": [
    "### Choosing metric\n",
    "* From EDA part, It is sure that there is high class imbalance in the dataset. Also review_score 1,2,3 are very important, since misclassification of them would cause customer loss to the seller. So False positive should be the concern here. \n",
    "* Here precision and recall of each class is important. Precision of class 4,5 is more important and recall of 1,2,3 class is very important. So we can use f1 score,which is a combination of precision and recall, Since each is important to us we can consider Macro f1 score.. \n",
    "* Based on this observation and business problem, I choose Macro F1 score as metric. Also I want to check multi-class confusion matrix, so that we can observe the misclassification easily.\n",
    "\n",
    "<b>Metric choosen,\n",
    "    * Macro F1 score\n",
    "    * Multi-class Confusion matrix"
   ]
  },
  {
   "cell_type": "markdown",
   "metadata": {},
   "source": [
    "### Multi class classification among 1,2,3,4"
   ]
  },
  {
   "cell_type": "code",
   "execution_count": 2,
   "metadata": {
    "id": "si7SMWDDfzrD"
   },
   "outputs": [],
   "source": [
    "#load the data with all created features\n",
    "data = pd.read_csv(\"data_with_advanced_features.csv\")\n",
    "data.drop(\"Unnamed: 0\", inplace=True, axis=1)"
   ]
  },
  {
   "cell_type": "code",
   "execution_count": 3,
   "metadata": {},
   "outputs": [],
   "source": [
    "#label encoding of seller_id\n",
    "label = LabelEncoder()\n",
    "seller = label.fit_transform(data.seller_id)\n",
    "data[\"seller_id\"] = seller\n",
    "\n",
    "\n",
    "#label encoding of product id\n",
    "label = LabelEncoder()\n",
    "product = label.fit_transform(data.product_id)\n",
    "data[\"product_id\"] = product\n"
   ]
  },
  {
   "cell_type": "code",
   "execution_count": 4,
   "metadata": {
    "id": "3g65mIk6fzrG"
   },
   "outputs": [],
   "source": [
    "#let us drop some of the columns which are not needed\n",
    "data.drop([\"order_id\",\"customer_id\",\"order_status\",\"order_approved_at\",\"order_delivered_carrier_date\",\n",
    "           \"order_estimated_delivery_date\",\"order_delivered_customer_date\",\"customer_unique_id\",\"customer_city\",\n",
    "          \"seller_city\",\"shipping_limit_date\",\"seller_state\",\"customer_state\",\n",
    "           \"order_purchase_timestamp\"],inplace=True,axis=1)"
   ]
  },
  {
   "cell_type": "code",
   "execution_count": 5,
   "metadata": {
    "colab": {
     "base_uri": "https://localhost:8080/"
    },
    "id": "s1D4uE8SfzrH",
    "outputId": "b0719389-ab84-4465-e159-1b1b81623d65"
   },
   "outputs": [
    {
     "data": {
      "text/plain": [
       "(113105, 57)"
      ]
     },
     "execution_count": 5,
     "metadata": {},
     "output_type": "execute_result"
    }
   ],
   "source": [
    "#shape of the data after dropping unnecessary columns\n",
    "data.shape"
   ]
  },
  {
   "cell_type": "markdown",
   "metadata": {
    "id": "3Ey54N4ofzrK"
   },
   "source": [
    "## 1.1 Stratified Splitting"
   ]
  },
  {
   "cell_type": "code",
   "execution_count": 6,
   "metadata": {},
   "outputs": [],
   "source": [
    "data = data[data[\"review_score\"]!=5]\n",
    "Y = data[\"review_score\"]\n",
    "X = data"
   ]
  },
  {
   "cell_type": "code",
   "execution_count": null,
   "metadata": {},
   "outputs": [],
   "source": []
  },
  {
   "cell_type": "code",
   "execution_count": 7,
   "metadata": {
    "id": "LXNBf2W3fzrO"
   },
   "outputs": [],
   "source": [
    "#train test split with test size 25% and 75% of data as train\n",
    "x_train,x_test,y_train,y_test = train_test_split(X,Y,test_size=0.2,stratify=Y,random_state=10)"
   ]
  },
  {
   "cell_type": "code",
   "execution_count": 8,
   "metadata": {
    "colab": {
     "base_uri": "https://localhost:8080/"
    },
    "id": "7Vebk6M8fzrP",
    "outputId": "da23f627-ddf1-47b8-86c7-0eb3b9802164"
   },
   "outputs": [
    {
     "name": "stdout",
     "output_type": "stream",
     "text": [
      "Dimensions of the splitted data :\n",
      "Train:  (38774, 57) (38774,)\n",
      "Test:  (9694, 57) (9694,)\n"
     ]
    }
   ],
   "source": [
    "print(\"Dimensions of the splitted data :\")\n",
    "print(\"Train: \",x_train.shape,y_train.shape)\n",
    "print(\"Test: \",x_test.shape,y_test.shape)"
   ]
  },
  {
   "cell_type": "code",
   "execution_count": 9,
   "metadata": {
    "colab": {
     "base_uri": "https://localhost:8080/"
    },
    "id": "TjIkO90SfzrQ",
    "outputId": "3903e6cd-bbd2-450e-a2db-122e1926a759"
   },
   "outputs": [
    {
     "name": "stdout",
     "output_type": "stream",
     "text": [
      "% Distribution of class labels in the total data :\n",
      "4    44.82\n",
      "1    27.32\n",
      "3    19.75\n",
      "2     8.11\n",
      "Name: review_score, dtype: float64\n",
      "**************************************************\n",
      "% Distribution of class labels in the train data :\n",
      "4    44.82\n",
      "1    27.32\n",
      "3    19.75\n",
      "2     8.11\n",
      "Name: review_score, dtype: float64\n",
      "**************************************************\n",
      "% Distribution of class labels in the test data :\n",
      "4    44.82\n",
      "1    27.32\n",
      "3    19.75\n",
      "2     8.11\n",
      "Name: review_score, dtype: float64\n",
      "**************************************************\n"
     ]
    }
   ],
   "source": [
    "#check the distribution of each class in train,test as well as original data\n",
    "print(\"% Distribution of class labels in the total data :\")\n",
    "print(round(data[\"review_score\"].value_counts(normalize=True)*100,2))\n",
    "print(\"*\"*50)\n",
    "\n",
    "print(\"% Distribution of class labels in the train data :\")\n",
    "print(round(x_train[\"review_score\"].value_counts(normalize=True)*100,2))\n",
    "print(\"*\"*50)\n",
    "\n",
    "print(\"% Distribution of class labels in the test data :\")\n",
    "print(round(x_test[\"review_score\"].value_counts(normalize=True)*100,2))\n",
    "print(\"*\"*50)\n"
   ]
  },
  {
   "cell_type": "markdown",
   "metadata": {
    "id": "jVbzFZfffzrQ"
   },
   "source": [
    "* Distribution of each class label is same in train.test and original data.\n"
   ]
  },
  {
   "cell_type": "markdown",
   "metadata": {
    "id": "rT-QkJISfzrR"
   },
   "source": [
    "<b> let us use simple CountVectorizer for categorical data."
   ]
  },
  {
   "cell_type": "markdown",
   "metadata": {},
   "source": [
    "## 1.2 Featurization:"
   ]
  },
  {
   "cell_type": "markdown",
   "metadata": {
    "id": "1WPL6SeRfzrS"
   },
   "source": [
    "### 1.2.1 Vectorization of categorical variables:"
   ]
  },
  {
   "cell_type": "code",
   "execution_count": 10,
   "metadata": {
    "id": "F4AryUwRfzrS"
   },
   "outputs": [],
   "source": [
    "from sklearn.feature_extraction.text import CountVectorizer"
   ]
  },
  {
   "cell_type": "markdown",
   "metadata": {},
   "source": [
    "<b>1. payment_type"
   ]
  },
  {
   "cell_type": "code",
   "execution_count": 11,
   "metadata": {
    "colab": {
     "base_uri": "https://localhost:8080/"
    },
    "id": "-n2VXRO1fzrS",
    "outputId": "95c9faed-9a00-491b-d3bf-dbda498ff9b1"
   },
   "outputs": [
    {
     "name": "stdout",
     "output_type": "stream",
     "text": [
      "(38774, 4)\n",
      "(9694, 4)\n"
     ]
    }
   ],
   "source": [
    "#payment_type \n",
    "vec = CountVectorizer()\n",
    "\n",
    "vec.fit(x_train[\"payment_type\"].values)\n",
    "\n",
    "x_tr_pay_type = vec.transform(x_train.payment_type.values)\n",
    "x_te_pay_type = vec.transform(x_test.payment_type.values)\n",
    "\n",
    "print(x_tr_pay_type.shape)\n",
    "print(x_te_pay_type.shape)\n"
   ]
  },
  {
   "cell_type": "markdown",
   "metadata": {},
   "source": [
    "<b>2. order_item_id"
   ]
  },
  {
   "cell_type": "code",
   "execution_count": 12,
   "metadata": {},
   "outputs": [],
   "source": [
    "x_train.order_item_id = x_train.order_item_id.astype(str)\n",
    "x_test.order_item_id = x_test.order_item_id.astype(str)"
   ]
  },
  {
   "cell_type": "code",
   "execution_count": 13,
   "metadata": {},
   "outputs": [
    {
     "name": "stdout",
     "output_type": "stream",
     "text": [
      "(38774, 21)\n",
      "(9694, 21)\n"
     ]
    }
   ],
   "source": [
    "#order_item_id \n",
    "vec = CountVectorizer(vocabulary=range(1,22))\n",
    "\n",
    "vec.fit(x_train[\"order_item_id\"])\n",
    "\n",
    "x_tr_id = vec.transform(x_train.order_item_id)\n",
    "x_te_id = vec.transform(x_test.order_item_id)\n",
    "\n",
    "print(x_tr_id.shape)\n",
    "\n",
    "print(x_te_id.shape)\n"
   ]
  },
  {
   "cell_type": "markdown",
   "metadata": {},
   "source": [
    "<b>3. product_category_name"
   ]
  },
  {
   "cell_type": "code",
   "execution_count": 14,
   "metadata": {
    "colab": {
     "base_uri": "https://localhost:8080/"
    },
    "id": "ZK-UWc19fzrW",
    "outputId": "9e1943fa-c793-41a0-eb2d-1cc44ef0059c"
   },
   "outputs": [
    {
     "name": "stdout",
     "output_type": "stream",
     "text": [
      "(38774, 72)\n",
      "(9694, 72)\n"
     ]
    }
   ],
   "source": [
    "#product_category_name\n",
    "vec = CountVectorizer()\n",
    "\n",
    "vec.fit(x_train[\"product_category_name\"].values)\n",
    "\n",
    "x_tr_cat = vec.transform(x_train.product_category_name.values)\n",
    "#x_cv_cat = vec.transform(x_cv.product_category_name.values).toarray()\n",
    "x_te_cat = vec.transform(x_test.product_category_name.values)\n",
    "\n",
    "print(x_tr_cat.shape)\n",
    "#print(x_cv_cat.shape)\n",
    "print(x_te_cat.shape)\n"
   ]
  },
  {
   "cell_type": "code",
   "execution_count": null,
   "metadata": {},
   "outputs": [],
   "source": []
  },
  {
   "cell_type": "markdown",
   "metadata": {},
   "source": [
    "### 1.2.2 Binary features"
   ]
  },
  {
   "cell_type": "code",
   "execution_count": 15,
   "metadata": {
    "id": "9lycIWy5fzrX"
   },
   "outputs": [],
   "source": [
    "x_tr_same_state = x_train.same_state.values.reshape(-1,1)\n",
    "x_te_same_state = x_test.same_state.values.reshape(-1,1)\n",
    "\n",
    "x_tr_same_city = x_train.same_city.values.reshape(-1,1)\n",
    "x_te_same_city = x_test.same_city.values.reshape(-1,1)\n",
    "\n",
    "x_tr_late_shipping = x_train.late_shipping.values.reshape(-1,1)\n",
    "x_te_late_shipping = x_test.late_shipping.values.reshape(-1,1)\n",
    "\n",
    "x_tr_high_freight = x_train.high_freight.values.reshape(-1,1)\n",
    "x_te_high_freight = x_test.high_freight.values.reshape(-1,1)"
   ]
  },
  {
   "cell_type": "markdown",
   "metadata": {
    "id": "ElZoHYsrfzrY"
   },
   "source": [
    "### 1.2.3 Numrical features"
   ]
  },
  {
   "cell_type": "code",
   "execution_count": 16,
   "metadata": {
    "id": "IXTdOTbRfzrY"
   },
   "outputs": [],
   "source": [
    "\n",
    "def scaling(train_data,test_data):\n",
    "    \"\"\"This function will standardize the numerical data\"\"\"\n",
    "    norm = StandardScaler()\n",
    "\n",
    "    norm.fit(train_data.values)\n",
    "\n",
    "    x_tr_num = norm.transform(train_data.values)\n",
    "    x_te_num = norm.transform(test_data.values)\n",
    "\n",
    "\n",
    "    return x_tr_num,x_te_num"
   ]
  },
  {
   "cell_type": "code",
   "execution_count": 17,
   "metadata": {},
   "outputs": [
    {
     "data": {
      "text/plain": [
       "Index(['payment_sequential', 'payment_type', 'payment_installments',\n",
       "       'payment_value', 'review_score', 'zip_code_prefix_customer',\n",
       "       'lat_customer', 'lng_customer', 'product_id', 'product_name_lenght',\n",
       "       'product_description_lenght', 'product_photos_qty', 'product_weight_g',\n",
       "       'product_length_cm', 'product_height_cm', 'product_width_cm',\n",
       "       'order_item_id', 'seller_id', 'price', 'freight_value',\n",
       "       'zip_code_prefix_seller', 'lat_seller', 'lng_seller',\n",
       "       'product_category_name', 'estimated_time', 'actual_time',\n",
       "       'diff_actual_estimated', 'diff_purchased_approved',\n",
       "       'diff_purchased_courrier', 'distance', 'speed', 'same_state',\n",
       "       'same_city', 'late_shipping', 'high_freight', 'seller_share',\n",
       "       'bs_share', 'cust_share', 'bu_share', 'similarity',\n",
       "       'seller_category_share', 'cat_seller_share', 'cust_category_share',\n",
       "       'cat_cust_share', 'similarity_using_cat', 'size', 'delivery_day',\n",
       "       'delivery_date', 'delivery_month', 'delivery_hour', 'purchased_day',\n",
       "       'purchased_date', 'purchased_month', 'purchased_hour',\n",
       "       'num_of_customers_for_seller', 'num_of_sellers_for_cust',\n",
       "       'total_order_for_seller'],\n",
       "      dtype='object')"
      ]
     },
     "execution_count": 17,
     "metadata": {},
     "output_type": "execute_result"
    }
   ],
   "source": [
    "data.columns"
   ]
  },
  {
   "cell_type": "code",
   "execution_count": 18,
   "metadata": {
    "id": "lN5gHFR1fzrZ"
   },
   "outputs": [],
   "source": [
    "#data to be standardized\n",
    "tr = x_train[[\"payment_sequential\",\"payment_installments\",\"payment_value\",\"seller_id\",\"product_id\",\"seller_share\",\"bu_share\",\n",
    "              \"bs_share\",\"cust_share\",\n",
    "          \"lat_customer\",\"lng_customer\",\"lat_seller\",\"lng_seller\",\"product_name_lenght\",\"product_description_lenght\",\n",
    "           \"product_photos_qty\",\"product_weight_g\",\"size\",\"price\",\"delivery_day\",\"delivery_date\",\"delivery_month\",\n",
    "              \"delivery_hour\",\"purchased_day\",\"purchased_date\",\"purchased_month\",\"purchased_hour\",\"num_of_customers_for_seller\",\n",
    "              \"num_of_sellers_for_cust\",\"total_order_for_seller\",\n",
    "           \"freight_value\",\"estimated_time\",\"actual_time\",\"diff_actual_estimated\",\"diff_purchased_approved\",\n",
    "           \"diff_purchased_courrier\",\"distance\",\"speed\",\"similarity\",\"similarity_using_cat\"]]\n",
    "\n",
    "te = x_test[[\"payment_sequential\",\"payment_installments\",\"payment_value\",\"seller_id\",\"product_id\",\"seller_share\",\"bu_share\",\n",
    "              \"bs_share\",\"cust_share\",\n",
    "          \"lat_customer\",\"lng_customer\",\"lat_seller\",\"lng_seller\",\"product_name_lenght\",\"product_description_lenght\",\n",
    "           \"product_photos_qty\",\"product_weight_g\",\"size\",\"price\",\"delivery_day\",\"delivery_date\",\"delivery_month\",\n",
    "              \"delivery_hour\",\"purchased_day\",\"purchased_date\",\"purchased_month\",\"purchased_hour\",\"num_of_customers_for_seller\",\n",
    "              \"num_of_sellers_for_cust\",\"total_order_for_seller\",\n",
    "           \"freight_value\",\"estimated_time\",\"actual_time\",\"diff_actual_estimated\",\"diff_purchased_approved\",\n",
    "           \"diff_purchased_courrier\",\"distance\",\"speed\",\"similarity\",\"similarity_using_cat\"]]\n"
   ]
  },
  {
   "cell_type": "code",
   "execution_count": 19,
   "metadata": {
    "id": "SO0r3yqsfzrZ"
   },
   "outputs": [],
   "source": [
    "#standardizing\n",
    "x_tr_num,x_te_num = scaling(tr,te)"
   ]
  },
  {
   "cell_type": "code",
   "execution_count": 20,
   "metadata": {
    "id": "Xg3KjDKAfzrZ"
   },
   "outputs": [],
   "source": [
    "from scipy.sparse import hstack\n",
    "#horizontal stacking of all the features\n",
    "train = hstack((x_tr_pay_type,x_tr_id,x_tr_cat,x_tr_num,x_tr_same_state,\n",
    "                   x_tr_same_city,x_tr_late_shipping,x_tr_high_freight)).toarray()\n",
    "\n",
    "test = hstack((x_te_pay_type,x_te_id,x_te_cat,x_te_num,x_te_same_state,\n",
    "                 x_te_same_city,x_te_late_shipping,x_te_high_freight)).toarray()"
   ]
  },
  {
   "cell_type": "code",
   "execution_count": 21,
   "metadata": {
    "colab": {
     "base_uri": "https://localhost:8080/"
    },
    "id": "duTTF_M1fzrZ",
    "outputId": "f7ccf4ee-86da-413a-8e9b-01cdf2f4c2cb"
   },
   "outputs": [
    {
     "name": "stdout",
     "output_type": "stream",
     "text": [
      "Shape of train data :  (38774, 141)\n",
      "Shape of test data :  (9694, 141)\n"
     ]
    }
   ],
   "source": [
    "#shape of final train and test data\n",
    "print(\"Shape of train data : \",train.shape)\n",
    "print(\"Shape of test data : \",test.shape)"
   ]
  },
  {
   "cell_type": "code",
   "execution_count": 22,
   "metadata": {},
   "outputs": [],
   "source": [
    "#reset the index of target variable\n",
    "y_trains = y_train.reset_index()\n",
    "y_train = y_trains[\"review_score\"]\n",
    "\n",
    "y_tests = y_test.reset_index()\n",
    "y_test = y_tests[\"review_score\"]"
   ]
  },
  {
   "cell_type": "code",
   "execution_count": null,
   "metadata": {},
   "outputs": [],
   "source": []
  },
  {
   "cell_type": "markdown",
   "metadata": {
    "id": "tS54_aMhfzra"
   },
   "source": [
    "<b> Plotting Confusion matrix"
   ]
  },
  {
   "cell_type": "code",
   "execution_count": 23,
   "metadata": {
    "id": "3U6Xl3bnfzra"
   },
   "outputs": [],
   "source": [
    "# This function plots the confusion matrices given y_i, y_i_hat.\n",
    "def plot_confusion_matrix(test_y, predict_y):\n",
    "    \"\"\"This function will plot confusion matrix, precision matrix and recall matrix\"\"\"\n",
    "    C = confusion_matrix(test_y, predict_y)\n",
    "    A =(((C.T)/(C.sum(axis=1))).T)\n",
    "    B =(C/C.sum(axis=0))\n",
    "    \n",
    "    labels = [1,2,3,4]\n",
    "    # representing A in heatmap format\n",
    "    print(\"-\"*20, \"Confusion matrix\", \"-\"*20)\n",
    "    plt.figure(figsize=(16,7))\n",
    "    sns.heatmap(C, annot=True, cmap=\"YlGnBu\", fmt=\".3f\", xticklabels=labels, yticklabels=labels)\n",
    "    plt.xlabel('Predicted Class')\n",
    "    plt.ylabel('Original Class')\n",
    "    plt.show()\n",
    "\n",
    "    print(\"-\"*20, \"Precision matrix (Columm Sum=1)\", \"-\"*20)\n",
    "    plt.figure(figsize=(16,7))\n",
    "    sns.heatmap(B, annot=True, cmap=\"YlGnBu\", fmt=\".3f\", xticklabels=labels, yticklabels=labels)\n",
    "    plt.xlabel('Predicted Class')\n",
    "    plt.ylabel('Original Class')\n",
    "    plt.show()\n",
    "    \n",
    "    # representing B in heatmap format\n",
    "    print(\"-\"*20, \"Recall matrix (Row sum=1)\", \"-\"*20)\n",
    "    plt.figure(figsize=(16,7))\n",
    "    sns.heatmap(A, annot=True, cmap=\"YlGnBu\", fmt=\".3f\", xticklabels=labels, yticklabels=labels)\n",
    "    plt.xlabel('Predicted Class')\n",
    "    plt.ylabel('Original Class')\n",
    "    plt.show()"
   ]
  },
  {
   "cell_type": "markdown",
   "metadata": {},
   "source": [
    "### Custom Ensemble Model"
   ]
  },
  {
   "cell_type": "code",
   "execution_count": 24,
   "metadata": {},
   "outputs": [],
   "source": [
    "def custom_ensemble(x_tr,y_tr,x_te,n_estimators,estimator,meta_clf):\n",
    "    \"\"\"This function creates the custom ensemble model and returns predicted  target variable of test set\"\"\"\n",
    "    \n",
    "    ########### SPlitting train data into 50-50 as d1 and d2 ############\n",
    "    kf = StratifiedKFold(n_splits=2)\n",
    "    \n",
    "    d1 = x_tr[list(kf.split(x_tr,y_tr))[1][0]]\n",
    "    d1_y = y_tr[list(kf.split(x_tr,y_tr))[1][0]]\n",
    "\n",
    "    d2 = x_tr[list(kf.split(x_tr,y_tr))[1][1]]\n",
    "    d2_y = y_tr[list(kf.split(x_tr,y_tr))[1][1]]\n",
    "    #####################################################################\n",
    "    d1_y = np.array(d1_y)\n",
    "    d2_y = np.array(d2_y)\n",
    "    #####################################################################\n",
    "    ### Creating base learners and training them using samples of d1 ####\n",
    "    \n",
    "    models=[]\n",
    "    \n",
    "    for i in tqdm(range(n_estimators)):\n",
    "        ind = np.random.choice(19387,size=(20000),replace=True)\n",
    "        sample = d1[ind]\n",
    "        sample_y = d1_y[ind]  \n",
    "        \n",
    "        estimator.fit(sample,sample_y)\n",
    "        models.append(estimator)\n",
    "        \n",
    "    ########### Predictions from base learners for d2 set ###############\n",
    "    predictions = []\n",
    "    for model in models: \n",
    "        \n",
    "        pred = model.predict(d2)\n",
    "        predictions.append(pred)\n",
    "        \n",
    "    predictions = np.array(predictions).reshape(-1,n_estimators)\n",
    "    \n",
    "    ########## meta classifier on predictions of base learners ##########\n",
    "    \n",
    "    meta_clf.fit(predictions,d2_y)\n",
    "    train_pred = meta_clf.predict(predictions)\n",
    "    \n",
    "    #####################################################################\n",
    "    ######################## TEST SET ###################################\n",
    "    \n",
    "    pred_test = []\n",
    "    for model in models:\n",
    "        pred_test.append(model.predict(test))\n",
    "        \n",
    "    pred_test = np.array(pred_test).reshape(-1,n_estimators)\n",
    "    test_y_predicted = meta_clf.predict(pred_test)\n",
    "    \n",
    "#### Return train predictions on d2, test predictions and actual labels of d2 ####\n",
    "\n",
    "    return train_pred,test_y_predicted,d2_y\n",
    "    "
   ]
  },
  {
   "cell_type": "markdown",
   "metadata": {},
   "source": [
    "### XGBoost"
   ]
  },
  {
   "cell_type": "code",
   "execution_count": 25,
   "metadata": {},
   "outputs": [],
   "source": [
    "from tqdm import tqdm"
   ]
  },
  {
   "cell_type": "code",
   "execution_count": 26,
   "metadata": {
    "scrolled": false
   },
   "outputs": [
    {
     "name": "stderr",
     "output_type": "stream",
     "text": [
      "100%|██████████████████████████████████████████████████████████████████████████████████| 10/10 [03:45<00:00, 22.55s/it]\n",
      "  0%|                                                                                           | 0/15 [00:00<?, ?it/s]"
     ]
    },
    {
     "name": "stdout",
     "output_type": "stream",
     "text": [
      "************************************************************\n",
      "Train Macro F1 score for n_estimator=10 is : 0.224150882259233\n",
      "Test Macro F1 score for n_estimator=10 is : 0.21402354760335549\n",
      "************************************************************\n"
     ]
    },
    {
     "name": "stderr",
     "output_type": "stream",
     "text": [
      "100%|██████████████████████████████████████████████████████████████████████████████████| 15/15 [06:17<00:00, 25.13s/it]\n",
      "  0%|                                                                                           | 0/25 [00:00<?, ?it/s]"
     ]
    },
    {
     "name": "stdout",
     "output_type": "stream",
     "text": [
      "************************************************************\n",
      "Train Macro F1 score for n_estimator=15 is : 0.22392244223495328\n",
      "Test Macro F1 score for n_estimator=15 is : 0.2164202146921711\n",
      "************************************************************\n"
     ]
    },
    {
     "name": "stderr",
     "output_type": "stream",
     "text": [
      "100%|██████████████████████████████████████████████████████████████████████████████████| 25/25 [10:25<00:00, 25.01s/it]\n",
      "  0%|                                                                                           | 0/50 [00:00<?, ?it/s]"
     ]
    },
    {
     "name": "stdout",
     "output_type": "stream",
     "text": [
      "************************************************************\n",
      "Train Macro F1 score for n_estimator=25 is : 0.22600140966296\n",
      "Test Macro F1 score for n_estimator=25 is : 0.20138471771785552\n",
      "************************************************************\n"
     ]
    },
    {
     "name": "stderr",
     "output_type": "stream",
     "text": [
      "100%|██████████████████████████████████████████████████████████████████████████████████| 50/50 [20:38<00:00, 24.77s/it]\n",
      "  0%|                                                                                           | 0/75 [00:00<?, ?it/s]"
     ]
    },
    {
     "name": "stdout",
     "output_type": "stream",
     "text": [
      "************************************************************\n",
      "Train Macro F1 score for n_estimator=50 is : 0.2434099278470572\n",
      "Test Macro F1 score for n_estimator=50 is : 0.22614025045401542\n",
      "************************************************************\n"
     ]
    },
    {
     "name": "stderr",
     "output_type": "stream",
     "text": [
      "100%|██████████████████████████████████████████████████████████████████████████████████| 75/75 [30:58<00:00, 24.78s/it]\n",
      "  0%|                                                                                          | 0/100 [00:00<?, ?it/s]"
     ]
    },
    {
     "name": "stdout",
     "output_type": "stream",
     "text": [
      "************************************************************\n",
      "Train Macro F1 score for n_estimator=75 is : 0.25323918584721616\n",
      "Test Macro F1 score for n_estimator=75 is : 0.22253416709921922\n",
      "************************************************************\n"
     ]
    },
    {
     "name": "stderr",
     "output_type": "stream",
     "text": [
      "100%|████████████████████████████████████████████████████████████████████████████████| 100/100 [41:21<00:00, 24.81s/it]\n",
      "  0%|                                                                                          | 0/120 [00:00<?, ?it/s]"
     ]
    },
    {
     "name": "stdout",
     "output_type": "stream",
     "text": [
      "************************************************************\n",
      "Train Macro F1 score for n_estimator=100 is : 0.25423265160473507\n",
      "Test Macro F1 score for n_estimator=100 is : 0.21458590820933002\n",
      "************************************************************\n"
     ]
    },
    {
     "name": "stderr",
     "output_type": "stream",
     "text": [
      "100%|████████████████████████████████████████████████████████████████████████████████| 120/120 [48:47<00:00, 24.40s/it]\n",
      "  0%|                                                                                          | 0/150 [00:00<?, ?it/s]"
     ]
    },
    {
     "name": "stdout",
     "output_type": "stream",
     "text": [
      "************************************************************\n",
      "Train Macro F1 score for n_estimator=120 is : 0.2615328821806365\n",
      "Test Macro F1 score for n_estimator=120 is : 0.22263530316268562\n",
      "************************************************************\n"
     ]
    },
    {
     "name": "stderr",
     "output_type": "stream",
     "text": [
      "100%|██████████████████████████████████████████████████████████████████████████████| 150/150 [1:00:44<00:00, 24.29s/it]\n",
      "  0%|                                                                                          | 0/175 [00:00<?, ?it/s]"
     ]
    },
    {
     "name": "stdout",
     "output_type": "stream",
     "text": [
      "************************************************************\n",
      "Train Macro F1 score for n_estimator=150 is : 0.2671827766533982\n",
      "Test Macro F1 score for n_estimator=150 is : 0.22294645761774798\n",
      "************************************************************\n"
     ]
    },
    {
     "name": "stderr",
     "output_type": "stream",
     "text": [
      "100%|██████████████████████████████████████████████████████████████████████████████| 175/175 [1:12:59<00:00, 25.03s/it]\n",
      "  0%|                                                                                          | 0/200 [00:00<?, ?it/s]"
     ]
    },
    {
     "name": "stdout",
     "output_type": "stream",
     "text": [
      "************************************************************\n",
      "Train Macro F1 score for n_estimator=175 is : 0.26910757998417345\n",
      "Test Macro F1 score for n_estimator=175 is : 0.21497758696955044\n",
      "************************************************************\n"
     ]
    },
    {
     "name": "stderr",
     "output_type": "stream",
     "text": [
      "100%|██████████████████████████████████████████████████████████████████████████████| 200/200 [1:23:17<00:00, 24.99s/it]\n"
     ]
    },
    {
     "name": "stdout",
     "output_type": "stream",
     "text": [
      "************************************************************\n",
      "Train Macro F1 score for n_estimator=200 is : 0.2710447671822724\n",
      "Test Macro F1 score for n_estimator=200 is : 0.22493819803903675\n",
      "************************************************************\n"
     ]
    },
    {
     "data": {
      "image/png": "[encoded data removed]",
      "text/plain": [
       "<Figure size 432x288 with 1 Axes>"
      ]
     },
     "metadata": {
      "needs_background": "light"
     },
     "output_type": "display_data"
    },
    {
     "name": "stderr",
     "output_type": "stream",
     "text": [
      "100%|██████████████████████████████████████████████████████████████████████████████████| 50/50 [20:46<00:00, 24.93s/it]\n"
     ]
    },
    {
     "name": "stdout",
     "output_type": "stream",
     "text": [
      "************************************************************\n",
      "Train Macro F1 score for n_estimator=50 is : 0.24604171363035154\n",
      "Test Macro F1 score for n_estimator=50 is : 0.23023241796944321\n",
      "************************************************************\n",
      "-------------------- Confusion matrix --------------------\n"
     ]
    },
    {
     "data": {
      "image/png": "[encoded data removed]",
      "text/plain": [
       "<Figure size 1152x504 with 2 Axes>"
      ]
     },
     "metadata": {
      "needs_background": "light"
     },
     "output_type": "display_data"
    },
    {
     "name": "stdout",
     "output_type": "stream",
     "text": [
      "-------------------- Precision matrix (Columm Sum=1) --------------------\n"
     ]
    },
    {
     "data": {
      "image/png": "[encoded data removed]",
      "text/plain": [
       "<Figure size 1152x504 with 2 Axes>"
      ]
     },
     "metadata": {
      "needs_background": "light"
     },
     "output_type": "display_data"
    },
    {
     "name": "stdout",
     "output_type": "stream",
     "text": [
      "-------------------- Recall matrix (Row sum=1) --------------------\n"
     ]
    },
    {
     "data": {
      "image/png": "[encoded data removed]",
      "text/plain": [
       "<Figure size 1152x504 with 2 Axes>"
      ]
     },
     "metadata": {
      "needs_background": "light"
     },
     "output_type": "display_data"
    }
   ],
   "source": [
    "n = [10,15,25,50,75,100,120,150,175,200]\n",
    "test_f1 =[]\n",
    "train_f1 = []\n",
    "\n",
    "for i in n:\n",
    "    \n",
    "    train_pred,test_pred,d2_y = custom_ensemble(train,y_train,test,i,xgb.XGBClassifier(class_weight=\"balanced\", verbosity = 0),\n",
    "                                       LogisticRegression(class_weight=\"balanced\"))\n",
    "    \n",
    "    train_score = f1_score(d2_y,train_pred,average=\"macro\",labels=[1,2,3,4])\n",
    "    test_score = f1_score(y_test,test_pred,average=\"macro\",labels=[1,2,3,4])\n",
    "    \n",
    "    train_f1.append(train_score)\n",
    "    test_f1.append(test_score)\n",
    "    \n",
    "    print(\"*\"*60)\n",
    "    print(\"Train Macro F1 score for n_estimator={} is : {}\".format(i,train_score))\n",
    "    print(\"Test Macro F1 score for n_estimator={} is : {}\".format(i,test_score))\n",
    "    print(\"*\"*60)\n",
    "    \n",
    "plt.plot(n,test_f1,label=\"test\")\n",
    "plt.plot(n,train_f1,label=\"train\")\n",
    "plt.legend()\n",
    "plt.xlabel(\"Number of base learners(n)\")\n",
    "plt.ylabel(\"Macro F1 score\")\n",
    "plt.title(\"no. of Base learners v/s Macro F1 score\")\n",
    "plt.show()\n",
    "\n",
    "best_n = n[np.argmax(test_f1)]\n",
    "\n",
    "\n",
    "train_pred,test_pred,d2_y = custom_ensemble(train,y_train,test,best_n,xgb.XGBClassifier(class_weight=\"balanced\", verbosity = 0),\n",
    "                                       LogisticRegression(class_weight=\"balanced\"))\n",
    "    \n",
    "train_score = f1_score(d2_y,train_pred,average=\"macro\",labels=[1,2,3,4])\n",
    "test_score = f1_score(y_test,test_pred,average=\"macro\",labels=[1,2,3,4])\n",
    "    \n",
    "print(\"*\"*60)\n",
    "print(\"Train Macro F1 score for n_estimator={} is : {}\".format(best_n,train_score))\n",
    "print(\"Test Macro F1 score for n_estimator={} is : {}\".format(best_n,test_score))\n",
    "print(\"*\"*60)\n",
    "\n",
    "plot_confusion_matrix(y_test,test_pred)"
   ]
  },
  {
   "cell_type": "markdown",
   "metadata": {},
   "source": [
    "### Random Forest"
   ]
  },
  {
   "cell_type": "code",
   "execution_count": 27,
   "metadata": {
    "scrolled": false
   },
   "outputs": [
    {
     "name": "stderr",
     "output_type": "stream",
     "text": [
      "100%|██████████████████████████████████████████████████████████████████████████████████| 10/10 [01:40<00:00, 10.01s/it]\n",
      "  0%|                                                                                           | 0/15 [00:00<?, ?it/s]"
     ]
    },
    {
     "name": "stdout",
     "output_type": "stream",
     "text": [
      "************************************************************\n",
      "Train Macro F1 score for n_estimator=10 is : 0.22405613381089057\n",
      "Test Macro F1 score for n_estimator=10 is : 0.21920306884632607\n",
      "************************************************************\n"
     ]
    },
    {
     "name": "stderr",
     "output_type": "stream",
     "text": [
      "100%|██████████████████████████████████████████████████████████████████████████████████| 15/15 [02:29<00:00,  9.96s/it]\n",
      "  0%|                                                                                           | 0/25 [00:00<?, ?it/s]"
     ]
    },
    {
     "name": "stdout",
     "output_type": "stream",
     "text": [
      "************************************************************\n",
      "Train Macro F1 score for n_estimator=15 is : 0.23304134799202597\n",
      "Test Macro F1 score for n_estimator=15 is : 0.21627905646598805\n",
      "************************************************************\n"
     ]
    },
    {
     "name": "stderr",
     "output_type": "stream",
     "text": [
      "100%|██████████████████████████████████████████████████████████████████████████████████| 25/25 [04:05<00:00,  9.80s/it]\n",
      "  0%|                                                                                           | 0/50 [00:00<?, ?it/s]"
     ]
    },
    {
     "name": "stdout",
     "output_type": "stream",
     "text": [
      "************************************************************\n",
      "Train Macro F1 score for n_estimator=25 is : 0.22837898160357428\n",
      "Test Macro F1 score for n_estimator=25 is : 0.21716976368148258\n",
      "************************************************************\n"
     ]
    },
    {
     "name": "stderr",
     "output_type": "stream",
     "text": [
      "100%|██████████████████████████████████████████████████████████████████████████████████| 50/50 [08:17<00:00,  9.96s/it]\n",
      "  0%|                                                                                           | 0/75 [00:00<?, ?it/s]"
     ]
    },
    {
     "name": "stdout",
     "output_type": "stream",
     "text": [
      "************************************************************\n",
      "Train Macro F1 score for n_estimator=50 is : 0.2418932048352555\n",
      "Test Macro F1 score for n_estimator=50 is : 0.22587235251077167\n",
      "************************************************************\n"
     ]
    },
    {
     "name": "stderr",
     "output_type": "stream",
     "text": [
      "100%|██████████████████████████████████████████████████████████████████████████████████| 75/75 [12:23<00:00,  9.91s/it]\n",
      "  0%|                                                                                          | 0/100 [00:00<?, ?it/s]"
     ]
    },
    {
     "name": "stdout",
     "output_type": "stream",
     "text": [
      "************************************************************\n",
      "Train Macro F1 score for n_estimator=75 is : 0.2541101995383969\n",
      "Test Macro F1 score for n_estimator=75 is : 0.2247474165547334\n",
      "************************************************************\n"
     ]
    },
    {
     "name": "stderr",
     "output_type": "stream",
     "text": [
      "100%|████████████████████████████████████████████████████████████████████████████████| 100/100 [16:28<00:00,  9.89s/it]\n",
      "  0%|                                                                                          | 0/120 [00:00<?, ?it/s]"
     ]
    },
    {
     "name": "stdout",
     "output_type": "stream",
     "text": [
      "************************************************************\n",
      "Train Macro F1 score for n_estimator=100 is : 0.2473386003766883\n",
      "Test Macro F1 score for n_estimator=100 is : 0.21535929389616748\n",
      "************************************************************\n"
     ]
    },
    {
     "name": "stderr",
     "output_type": "stream",
     "text": [
      "100%|████████████████████████████████████████████████████████████████████████████████| 120/120 [19:36<00:00,  9.80s/it]\n",
      "  0%|                                                                                          | 0/150 [00:00<?, ?it/s]"
     ]
    },
    {
     "name": "stdout",
     "output_type": "stream",
     "text": [
      "************************************************************\n",
      "Train Macro F1 score for n_estimator=120 is : 0.2565776631753257\n",
      "Test Macro F1 score for n_estimator=120 is : 0.2197360892588105\n",
      "************************************************************\n"
     ]
    },
    {
     "name": "stderr",
     "output_type": "stream",
     "text": [
      "100%|████████████████████████████████████████████████████████████████████████████████| 150/150 [24:38<00:00,  9.86s/it]\n",
      "  0%|                                                                                          | 0/175 [00:00<?, ?it/s]"
     ]
    },
    {
     "name": "stdout",
     "output_type": "stream",
     "text": [
      "************************************************************\n",
      "Train Macro F1 score for n_estimator=150 is : 0.2592542562040726\n",
      "Test Macro F1 score for n_estimator=150 is : 0.2248717103016893\n",
      "************************************************************\n"
     ]
    },
    {
     "name": "stderr",
     "output_type": "stream",
     "text": [
      "100%|████████████████████████████████████████████████████████████████████████████████| 175/175 [28:54<00:00,  9.91s/it]\n",
      "  0%|                                                                                          | 0/200 [00:00<?, ?it/s]"
     ]
    },
    {
     "name": "stdout",
     "output_type": "stream",
     "text": [
      "************************************************************\n",
      "Train Macro F1 score for n_estimator=175 is : 0.2728584213381682\n",
      "Test Macro F1 score for n_estimator=175 is : 0.22458829979610465\n",
      "************************************************************\n"
     ]
    },
    {
     "name": "stderr",
     "output_type": "stream",
     "text": [
      "100%|████████████████████████████████████████████████████████████████████████████████| 200/200 [32:54<00:00,  9.87s/it]\n"
     ]
    },
    {
     "name": "stdout",
     "output_type": "stream",
     "text": [
      "************************************************************\n",
      "Train Macro F1 score for n_estimator=200 is : 0.26785200259517666\n",
      "Test Macro F1 score for n_estimator=200 is : 0.22673741495403862\n",
      "************************************************************\n"
     ]
    },
    {
     "data": {
      "image/png": "[encoded data removed]",
      "text/plain": [
       "<Figure size 432x288 with 1 Axes>"
      ]
     },
     "metadata": {
      "needs_background": "light"
     },
     "output_type": "display_data"
    },
    {
     "name": "stderr",
     "output_type": "stream",
     "text": [
      "100%|████████████████████████████████████████████████████████████████████████████████| 200/200 [32:56<00:00,  9.88s/it]\n"
     ]
    },
    {
     "name": "stdout",
     "output_type": "stream",
     "text": [
      "************************************************************\n",
      "Train Macro F1 score for n_estimator=200 is : 0.27199880277608407\n",
      "Test Macro F1 score for n_estimator=200 is : 0.2287252929706321\n",
      "************************************************************\n",
      "-------------------- Confusion matrix --------------------\n"
     ]
    },
    {
     "data": {
      "image/png": "[encoded data removed]",
      "text/plain": [
       "<Figure size 1152x504 with 2 Axes>"
      ]
     },
     "metadata": {
      "needs_background": "light"
     },
     "output_type": "display_data"
    },
    {
     "name": "stdout",
     "output_type": "stream",
     "text": [
      "-------------------- Precision matrix (Columm Sum=1) --------------------\n"
     ]
    },
    {
     "data": {
      "image/png": "[encoded data removed]",
      "text/plain": [
       "<Figure size 1152x504 with 2 Axes>"
      ]
     },
     "metadata": {
      "needs_background": "light"
     },
     "output_type": "display_data"
    },
    {
     "name": "stdout",
     "output_type": "stream",
     "text": [
      "-------------------- Recall matrix (Row sum=1) --------------------\n"
     ]
    },
    {
     "data": {
      "image/png": "[encoded data removed]",
      "text/plain": [
       "<Figure size 1152x504 with 2 Axes>"
      ]
     },
     "metadata": {
      "needs_background": "light"
     },
     "output_type": "display_data"
    }
   ],
   "source": [
    "n = [10,15,25,50,75,100,120,150,175,200]\n",
    "test_f1 =[]\n",
    "train_f1 = []\n",
    "\n",
    "for i in n:\n",
    "    \n",
    "    train_pred,test_pred,d2_y = custom_ensemble(train,y_train,test,i,RandomForestClassifier(class_weight=\"balanced\"),\n",
    "                                       LogisticRegression(class_weight=\"balanced\"))\n",
    "    \n",
    "    train_score = f1_score(d2_y,train_pred,average=\"macro\",labels=[1,2,3,4])\n",
    "    test_score = f1_score(y_test,test_pred,average=\"macro\",labels=[1,2,3,4])\n",
    "    \n",
    "    train_f1.append(train_score)\n",
    "    test_f1.append(test_score)\n",
    "    \n",
    "    print(\"*\"*60)\n",
    "    print(\"Train Macro F1 score for n_estimator={} is : {}\".format(i,train_score))\n",
    "    print(\"Test Macro F1 score for n_estimator={} is : {}\".format(i,test_score))\n",
    "    print(\"*\"*60)\n",
    "    \n",
    "plt.plot(n,test_f1,label=\"test\")\n",
    "plt.plot(n,train_f1,label=\"train\")\n",
    "plt.legend()\n",
    "plt.xlabel(\"Number of base learners(n)\")\n",
    "plt.ylabel(\"Macro F1 score\")\n",
    "plt.title(\"no. of Base learners v/s Macro F1 score\")\n",
    "plt.show()\n",
    "\n",
    "best_n = n[np.argmax(test_f1)]\n",
    "\n",
    "\n",
    "train_pred,test_pred,d2_y = custom_ensemble(train,y_train,test,best_n,RandomForestClassifier(class_weight=\"balanced\"),\n",
    "                                       LogisticRegression(class_weight=\"balanced\"))\n",
    "    \n",
    "train_score = f1_score(d2_y,train_pred,average=\"macro\",labels=[1,2,3,4])\n",
    "test_score = f1_score(y_test,test_pred,average=\"macro\",labels=[1,2,3,4])\n",
    "    \n",
    "print(\"*\"*60)\n",
    "print(\"Train Macro F1 score for n_estimator={} is : {}\".format(best_n,train_score))\n",
    "print(\"Test Macro F1 score for n_estimator={} is : {}\".format(best_n,test_score))\n",
    "print(\"*\"*60)\n",
    "\n",
    "plot_confusion_matrix(y_test,test_pred)"
   ]
  },
  {
   "cell_type": "code",
   "execution_count": null,
   "metadata": {},
   "outputs": [],
   "source": []
  }
 ],
 "metadata": {
  "accelerator": "GPU",
  "colab": {
   "collapsed_sections": [],
   "name": "Basic models_with_advancedfeatures.ipynb",
   "provenance": []
  },
  "kernelspec": {
   "display_name": "Python 3",
   "language": "python",
   "name": "python3"
  },
  "language_info": {
   "codemirror_mode": {
    "name": "ipython",
    "version": 3
   },
   "file_extension": ".py",
   "mimetype": "text/x-python",
   "name": "python",
   "nbconvert_exporter": "python",
   "pygments_lexer": "ipython3",
   "version": "3.8.3"
  }
 },
 "nbformat": 4,
 "nbformat_minor": 1
}
